{
  "nbformat": 4,
  "nbformat_minor": 0,
  "metadata": {
    "colab": {
      "name": "2_Telefonia_Cat_DataCleaning.ipynb",
      "version": "0.3.2",
      "provenance": [],
      "collapsed_sections": [],
      "include_colab_link": true
    },
    "kernelspec": {
      "name": "python3",
      "display_name": "Python 3"
    }
  },
  "cells": [
    {
      "cell_type": "markdown",
      "metadata": {
        "id": "view-in-github",
        "colab_type": "text"
      },
      "source": [
        "<a href=\"https://colab.research.google.com/github/Giffy/Mobility_AIBCN/blob/master/2_Telefonia_Cat_DataCleaning.ipynb\" target=\"_parent\"><img src=\"https://colab.research.google.com/assets/colab-badge.svg\" alt=\"Open In Colab\"/></a>"
      ]
    },
    {
      "metadata": {
        "id": "b2f7AR-fYNZh",
        "colab_type": "text"
      },
      "cell_type": "markdown",
      "source": [
        "##  Install libraries (if required)"
      ]
    },
    {
      "metadata": {
        "id": "aSGmJj1OZ5vb",
        "colab_type": "code",
        "outputId": "dc82be43-82ae-4a07-c7d8-fd83db61794f",
        "colab": {
          "base_uri": "https://localhost:8080/",
          "height": 34
        }
      },
      "cell_type": "code",
      "source": [
        "# Installs PyMongo\n",
        "! python -m pip install pymongo"
      ],
      "execution_count": 0,
      "outputs": [
        {
          "output_type": "stream",
          "text": [
            "Requirement already satisfied: pymongo in /usr/local/lib/python3.6/dist-packages (3.7.2)\n"
          ],
          "name": "stdout"
        }
      ]
    },
    {
      "metadata": {
        "id": "FOKBdYKYsyrG",
        "colab_type": "text"
      },
      "cell_type": "markdown",
      "source": [
        "##  Connect to Google Drive"
      ]
    },
    {
      "metadata": {
        "id": "2VBwS6oVs39B",
        "colab_type": "code",
        "outputId": "5cbb652c-415f-4321-f3d3-ea336d371319",
        "colab": {
          "base_uri": "https://localhost:8080/",
          "height": 52
        }
      },
      "cell_type": "code",
      "source": [
        "# Check is Link to Drive is OK\n",
        "google = !if [ -d 'GDrive/' ]; then echo \"1\" ; else echo \"0\"; fi\n",
        "if (google[0] is '0' ):\n",
        "  from google.colab import drive\n",
        "  drive.mount('/content/GDrive/')\n",
        "!if [ -d 'GDrive/' ]; then echo \"Connection to Google drive successful\" ; else echo \"Error to connect to Google drive\"; fi"
      ],
      "execution_count": 0,
      "outputs": [
        {
          "output_type": "stream",
          "text": [
            "Mounted at /content/GDrive/\n",
            "Connection to Google drive successful\n"
          ],
          "name": "stdout"
        }
      ]
    },
    {
      "metadata": {
        "id": "HEX_s7O2SHc9",
        "colab_type": "text"
      },
      "cell_type": "markdown",
      "source": [
        "##  Load data"
      ]
    },
    {
      "metadata": {
        "id": "pCV7JaviMq3v",
        "colab_type": "code",
        "outputId": "f9e6707e-20ab-4cdb-943a-f07f6f263dde",
        "colab": {
          "base_uri": "https://localhost:8080/",
          "height": 52
        }
      },
      "cell_type": "code",
      "source": [
        "# If source data is not available in Google Drive, it is downloaded from Open Data platform.\n",
        "\n",
        "check_file = !if [ -f 'GDrive/My Drive/coverageCatalunya.tar.gz' ]; then echo \"1\" ; else echo \"0\"; fi\n",
        "\n",
        "\n",
        "if (check_file[0] is '0' ):\n",
        "  print ('Dataset not available in Google Drive: downloading dataset ... \\n')\n",
        "  # If datafile is not in Google Drive the download it\n",
        "  # Download Open Data from 'Dades obertes catalunya': https://analisi.transparenciacatalunya.cat/browse?q=cobertura%20M%C3%B2bil\n",
        "  # It dowloads a 1.7Gb csv file  \n",
        "  !wget \"https://analisi.transparenciacatalunya.cat/api/views/g9ma-vbt8/rows.csv?accessType=DOWNLOAD\"\n",
        "  !mv rows* coverageCatalunya.csv\n",
        "  !tar -czvf coverageCatalunya.tar.gz coverageCatalunya.csv\n",
        "  # Backup data to Google drive\n",
        "  !mv coverageCatalunya.tar.gz GDrive/My\\ Drive/\n",
        "\n",
        "  \n",
        "if (check_file[0] is '1' ):\n",
        "  print ('Dataset available in Google Drive: inflating dataset ... ')\n",
        "  !tar -xvf GDrive/My\\ Drive/coverageCatalunya.tar.gz coverageCatalunya.csv"
      ],
      "execution_count": 0,
      "outputs": [
        {
          "output_type": "stream",
          "text": [
            "Dataset available in Google Drive: inflating dataset ... \n",
            "coverageCatalunya.csv\n"
          ],
          "name": "stdout"
        }
      ]
    },
    {
      "metadata": {
        "id": "2nDqmOpI4Ptc",
        "colab_type": "code",
        "outputId": "9c00b58b-0188-4ee7-b00d-1374368886e6",
        "colab": {
          "base_uri": "https://localhost:8080/",
          "height": 3299
        }
      },
      "cell_type": "code",
      "source": [
        "# Imports data in MongoDB\n",
        "!mongodb-linux-x86_64-debian71-3.0.15/bin/mongoimport --db catalunya --collection mobile --type csv --file coverageCatalunya.csv --drop --headerline"
      ],
      "execution_count": 0,
      "outputs": [
        {
          "output_type": "stream",
          "text": [
            "2019-01-12T23:45:01.934+0000\tconnected to: localhost\n",
            "2019-01-12T23:45:01.935+0000\tdropping: catalunya.mobile\n",
            "2019-01-12T23:45:04.931+0000\t[........................] catalunya.mobile\t13.0 MB/1.7 GB (0.8%)\n",
            "2019-01-12T23:45:07.931+0000\t[........................] catalunya.mobile\t25.1 MB/1.7 GB (1.5%)\n",
            "2019-01-12T23:45:10.935+0000\t[........................] catalunya.mobile\t35.7 MB/1.7 GB (2.1%)\n",
            "2019-01-12T23:45:13.931+0000\t[........................] catalunya.mobile\t46.3 MB/1.7 GB (2.7%)\n",
            "2019-01-12T23:45:16.931+0000\t[........................] catalunya.mobile\t57.8 MB/1.7 GB (3.4%)\n",
            "2019-01-12T23:45:19.931+0000\t[........................] catalunya.mobile\t69.8 MB/1.7 GB (4.1%)\n",
            "2019-01-12T23:45:22.931+0000\t[#.......................] catalunya.mobile\t80.9 MB/1.7 GB (4.7%)\n",
            "2019-01-12T23:45:25.931+0000\t[#.......................] catalunya.mobile\t89.7 MB/1.7 GB (5.2%)\n",
            "2019-01-12T23:45:28.931+0000\t[#.......................] catalunya.mobile\t101.2 MB/1.7 GB (5.9%)\n",
            "2019-01-12T23:45:31.931+0000\t[#.......................] catalunya.mobile\t111.3 MB/1.7 GB (6.5%)\n",
            "2019-01-12T23:45:34.931+0000\t[#.......................] catalunya.mobile\t123.3 MB/1.7 GB (7.2%)\n",
            "2019-01-12T23:45:37.931+0000\t[#.......................] catalunya.mobile\t133.0 MB/1.7 GB (7.8%)\n",
            "2019-01-12T23:45:40.931+0000\t[##......................] catalunya.mobile\t144.6 MB/1.7 GB (8.5%)\n",
            "2019-01-12T23:45:43.932+0000\t[##......................] catalunya.mobile\t156.1 MB/1.7 GB (9.1%)\n",
            "2019-01-12T23:45:46.932+0000\t[##......................] catalunya.mobile\t164.7 MB/1.7 GB (9.6%)\n",
            "2019-01-12T23:45:49.931+0000\t[##......................] catalunya.mobile\t176.6 MB/1.7 GB (10.3%)\n",
            "2019-01-12T23:45:52.933+0000\t[##......................] catalunya.mobile\t187.7 MB/1.7 GB (11.0%)\n",
            "2019-01-12T23:45:55.931+0000\t[##......................] catalunya.mobile\t199.5 MB/1.7 GB (11.7%)\n",
            "2019-01-12T23:45:58.933+0000\t[##......................] catalunya.mobile\t210.7 MB/1.7 GB (12.3%)\n",
            "2019-01-12T23:46:01.931+0000\t[###.....................] catalunya.mobile\t221.0 MB/1.7 GB (12.9%)\n",
            "2019-01-12T23:46:04.931+0000\t[###.....................] catalunya.mobile\t231.2 MB/1.7 GB (13.5%)\n",
            "2019-01-12T23:46:07.932+0000\t[###.....................] catalunya.mobile\t241.1 MB/1.7 GB (14.1%)\n",
            "2019-01-12T23:46:10.932+0000\t[###.....................] catalunya.mobile\t249.3 MB/1.7 GB (14.6%)\n",
            "2019-01-12T23:46:13.932+0000\t[###.....................] catalunya.mobile\t259.5 MB/1.7 GB (15.2%)\n",
            "2019-01-12T23:46:16.932+0000\t[###.....................] catalunya.mobile\t270.0 MB/1.7 GB (15.8%)\n",
            "2019-01-12T23:46:19.931+0000\t[###.....................] catalunya.mobile\t277.3 MB/1.7 GB (16.2%)\n",
            "2019-01-12T23:46:22.931+0000\t[####....................] catalunya.mobile\t287.1 MB/1.7 GB (16.8%)\n",
            "2019-01-12T23:46:25.932+0000\t[####....................] catalunya.mobile\t297.0 MB/1.7 GB (17.4%)\n",
            "2019-01-12T23:46:28.932+0000\t[####....................] catalunya.mobile\t307.3 MB/1.7 GB (18.0%)\n",
            "2019-01-12T23:46:31.932+0000\t[####....................] catalunya.mobile\t316.6 MB/1.7 GB (18.5%)\n",
            "2019-01-12T23:46:34.932+0000\t[####....................] catalunya.mobile\t327.1 MB/1.7 GB (19.1%)\n",
            "2019-01-12T23:46:37.934+0000\t[####....................] catalunya.mobile\t336.6 MB/1.7 GB (19.7%)\n",
            "2019-01-12T23:46:40.931+0000\t[####....................] catalunya.mobile\t345.9 MB/1.7 GB (20.2%)\n",
            "2019-01-12T23:46:43.931+0000\t[####....................] catalunya.mobile\t355.5 MB/1.7 GB (20.8%)\n",
            "2019-01-12T23:46:46.931+0000\t[#####...................] catalunya.mobile\t365.6 MB/1.7 GB (21.4%)\n",
            "2019-01-12T23:46:49.931+0000\t[#####...................] catalunya.mobile\t375.7 MB/1.7 GB (22.0%)\n",
            "2019-01-12T23:46:52.932+0000\t[#####...................] catalunya.mobile\t384.9 MB/1.7 GB (22.5%)\n",
            "2019-01-12T23:46:55.932+0000\t[#####...................] catalunya.mobile\t395.5 MB/1.7 GB (23.1%)\n",
            "2019-01-12T23:46:58.936+0000\t[#####...................] catalunya.mobile\t404.6 MB/1.7 GB (23.6%)\n",
            "2019-01-12T23:47:01.931+0000\t[#####...................] catalunya.mobile\t414.8 MB/1.7 GB (24.2%)\n",
            "2019-01-12T23:47:04.931+0000\t[#####...................] catalunya.mobile\t424.9 MB/1.7 GB (24.8%)\n",
            "2019-01-12T23:47:07.931+0000\t[######..................] catalunya.mobile\t435.1 MB/1.7 GB (25.4%)\n",
            "2019-01-12T23:47:10.931+0000\t[######..................] catalunya.mobile\t443.9 MB/1.7 GB (25.9%)\n",
            "2019-01-12T23:47:13.932+0000\t[######..................] catalunya.mobile\t452.0 MB/1.7 GB (26.4%)\n",
            "2019-01-12T23:47:16.931+0000\t[######..................] catalunya.mobile\t461.8 MB/1.7 GB (27.0%)\n",
            "2019-01-12T23:47:19.935+0000\t[######..................] catalunya.mobile\t471.2 MB/1.7 GB (27.5%)\n",
            "2019-01-12T23:47:22.932+0000\t[######..................] catalunya.mobile\t481.7 MB/1.7 GB (28.2%)\n",
            "2019-01-12T23:47:25.931+0000\t[######..................] catalunya.mobile\t492.0 MB/1.7 GB (28.8%)\n",
            "2019-01-12T23:47:28.931+0000\t[#######.................] catalunya.mobile\t499.8 MB/1.7 GB (29.2%)\n",
            "2019-01-12T23:47:31.932+0000\t[#######.................] catalunya.mobile\t510.4 MB/1.7 GB (29.8%)\n",
            "2019-01-12T23:47:34.931+0000\t[#######.................] catalunya.mobile\t519.2 MB/1.7 GB (30.3%)\n",
            "2019-01-12T23:47:37.932+0000\t[#######.................] catalunya.mobile\t528.4 MB/1.7 GB (30.9%)\n",
            "2019-01-12T23:47:40.931+0000\t[#######.................] catalunya.mobile\t535.0 MB/1.7 GB (31.3%)\n",
            "2019-01-12T23:47:43.933+0000\t[#######.................] catalunya.mobile\t543.7 MB/1.7 GB (31.8%)\n",
            "2019-01-12T23:47:46.931+0000\t[#######.................] catalunya.mobile\t555.3 MB/1.7 GB (32.5%)\n",
            "2019-01-12T23:47:49.933+0000\t[#######.................] catalunya.mobile\t562.8 MB/1.7 GB (32.9%)\n",
            "2019-01-12T23:47:52.932+0000\t[########................] catalunya.mobile\t573.7 MB/1.7 GB (33.5%)\n",
            "2019-01-12T23:47:55.931+0000\t[########................] catalunya.mobile\t583.8 MB/1.7 GB (34.1%)\n",
            "2019-01-12T23:47:58.932+0000\t[########................] catalunya.mobile\t592.0 MB/1.7 GB (34.6%)\n",
            "2019-01-12T23:48:01.931+0000\t[########................] catalunya.mobile\t601.9 MB/1.7 GB (35.2%)\n",
            "2019-01-12T23:48:04.932+0000\t[########................] catalunya.mobile\t611.8 MB/1.7 GB (35.8%)\n",
            "2019-01-12T23:48:07.932+0000\t[########................] catalunya.mobile\t621.0 MB/1.7 GB (36.3%)\n",
            "2019-01-12T23:48:10.931+0000\t[########................] catalunya.mobile\t629.7 MB/1.7 GB (36.8%)\n",
            "2019-01-12T23:48:13.932+0000\t[########................] catalunya.mobile\t636.5 MB/1.7 GB (37.2%)\n",
            "2019-01-12T23:48:16.932+0000\t[#########...............] catalunya.mobile\t645.9 MB/1.7 GB (37.7%)\n",
            "2019-01-12T23:48:19.932+0000\t[#########...............] catalunya.mobile\t655.6 MB/1.7 GB (38.3%)\n",
            "2019-01-12T23:48:22.933+0000\t[#########...............] catalunya.mobile\t665.2 MB/1.7 GB (38.9%)\n",
            "2019-01-12T23:48:25.931+0000\t[#########...............] catalunya.mobile\t673.1 MB/1.7 GB (39.3%)\n",
            "2019-01-12T23:48:28.931+0000\t[#########...............] catalunya.mobile\t683.3 MB/1.7 GB (39.9%)\n",
            "2019-01-12T23:48:31.931+0000\t[#########...............] catalunya.mobile\t691.2 MB/1.7 GB (40.4%)\n",
            "2019-01-12T23:48:34.931+0000\t[#########...............] catalunya.mobile\t701.4 MB/1.7 GB (41.0%)\n",
            "2019-01-12T23:48:37.932+0000\t[#########...............] catalunya.mobile\t711.0 MB/1.7 GB (41.6%)\n",
            "2019-01-12T23:48:40.931+0000\t[##########..............] catalunya.mobile\t720.1 MB/1.7 GB (42.1%)\n",
            "2019-01-12T23:48:43.931+0000\t[##########..............] catalunya.mobile\t729.3 MB/1.7 GB (42.6%)\n",
            "2019-01-12T23:48:46.932+0000\t[##########..............] catalunya.mobile\t737.7 MB/1.7 GB (43.1%)\n",
            "2019-01-12T23:48:49.931+0000\t[##########..............] catalunya.mobile\t747.0 MB/1.7 GB (43.7%)\n",
            "2019-01-12T23:48:52.932+0000\t[##########..............] catalunya.mobile\t756.5 MB/1.7 GB (44.2%)\n",
            "2019-01-12T23:48:55.933+0000\t[##########..............] catalunya.mobile\t765.7 MB/1.7 GB (44.7%)\n",
            "2019-01-12T23:48:58.931+0000\t[##########..............] catalunya.mobile\t773.5 MB/1.7 GB (45.2%)\n",
            "2019-01-12T23:49:01.932+0000\t[##########..............] catalunya.mobile\t782.7 MB/1.7 GB (45.7%)\n",
            "2019-01-12T23:49:04.932+0000\t[###########.............] catalunya.mobile\t792.2 MB/1.7 GB (46.3%)\n",
            "2019-01-12T23:49:07.932+0000\t[###########.............] catalunya.mobile\t801.3 MB/1.7 GB (46.8%)\n",
            "2019-01-12T23:49:10.931+0000\t[###########.............] catalunya.mobile\t807.9 MB/1.7 GB (47.2%)\n",
            "2019-01-12T23:49:13.931+0000\t[###########.............] catalunya.mobile\t816.9 MB/1.7 GB (47.7%)\n",
            "2019-01-12T23:49:16.931+0000\t[###########.............] catalunya.mobile\t825.3 MB/1.7 GB (48.2%)\n",
            "2019-01-12T23:49:19.931+0000\t[###########.............] catalunya.mobile\t833.5 MB/1.7 GB (48.7%)\n",
            "2019-01-12T23:49:22.932+0000\t[###########.............] catalunya.mobile\t842.4 MB/1.7 GB (49.2%)\n",
            "2019-01-12T23:49:25.931+0000\t[###########.............] catalunya.mobile\t852.1 MB/1.7 GB (49.8%)\n",
            "2019-01-12T23:49:28.932+0000\t[############............] catalunya.mobile\t861.2 MB/1.7 GB (50.3%)\n",
            "2019-01-12T23:49:31.931+0000\t[############............] catalunya.mobile\t870.1 MB/1.7 GB (50.9%)\n",
            "2019-01-12T23:49:34.931+0000\t[############............] catalunya.mobile\t878.6 MB/1.7 GB (51.3%)\n",
            "2019-01-12T23:49:37.931+0000\t[############............] catalunya.mobile\t888.4 MB/1.7 GB (51.9%)\n",
            "2019-01-12T23:49:40.933+0000\t[############............] catalunya.mobile\t897.4 MB/1.7 GB (52.4%)\n",
            "2019-01-12T23:49:43.931+0000\t[############............] catalunya.mobile\t906.6 MB/1.7 GB (53.0%)\n",
            "2019-01-12T23:49:46.932+0000\t[############............] catalunya.mobile\t915.4 MB/1.7 GB (53.5%)\n",
            "2019-01-12T23:49:49.931+0000\t[############............] catalunya.mobile\t924.7 MB/1.7 GB (54.0%)\n",
            "2019-01-12T23:49:52.932+0000\t[#############...........] catalunya.mobile\t933.6 MB/1.7 GB (54.6%)\n",
            "2019-01-12T23:49:55.932+0000\t[#############...........] catalunya.mobile\t942.1 MB/1.7 GB (55.1%)\n",
            "2019-01-12T23:49:58.931+0000\t[#############...........] catalunya.mobile\t951.2 MB/1.7 GB (55.6%)\n",
            "2019-01-12T23:50:01.932+0000\t[#############...........] catalunya.mobile\t960.8 MB/1.7 GB (56.1%)\n",
            "2019-01-12T23:50:04.931+0000\t[#############...........] catalunya.mobile\t969.9 MB/1.7 GB (56.7%)\n",
            "2019-01-12T23:50:07.931+0000\t[#############...........] catalunya.mobile\t979.0 MB/1.7 GB (57.2%)\n",
            "2019-01-12T23:50:10.934+0000\t[#############...........] catalunya.mobile\t987.0 MB/1.7 GB (57.7%)\n",
            "2019-01-12T23:50:13.932+0000\t[#############...........] catalunya.mobile\t996.2 MB/1.7 GB (58.2%)\n",
            "2019-01-12T23:50:16.931+0000\t[##############..........] catalunya.mobile\t1005.4 MB/1.7 GB (58.8%)\n",
            "2019-01-12T23:50:19.932+0000\t[##############..........] catalunya.mobile\t1011.9 MB/1.7 GB (59.1%)\n",
            "2019-01-12T23:50:22.931+0000\t[##############..........] catalunya.mobile\t1021.6 MB/1.7 GB (59.7%)\n",
            "2019-01-12T23:50:25.933+0000\t[##############..........] catalunya.mobile\t1.0 GB/1.7 GB (60.2%)\n",
            "2019-01-12T23:50:28.931+0000\t[##############..........] catalunya.mobile\t1.0 GB/1.7 GB (60.7%)\n",
            "2019-01-12T23:50:31.931+0000\t[##############..........] catalunya.mobile\t1.0 GB/1.7 GB (61.2%)\n",
            "2019-01-12T23:50:34.931+0000\t[##############..........] catalunya.mobile\t1.0 GB/1.7 GB (61.7%)\n",
            "2019-01-12T23:50:37.931+0000\t[##############..........] catalunya.mobile\t1.0 GB/1.7 GB (62.3%)\n",
            "2019-01-12T23:50:40.934+0000\t[###############.........] catalunya.mobile\t1.0 GB/1.7 GB (62.8%)\n",
            "2019-01-12T23:50:43.931+0000\t[###############.........] catalunya.mobile\t1.1 GB/1.7 GB (63.3%)\n",
            "2019-01-12T23:50:46.931+0000\t[###############.........] catalunya.mobile\t1.1 GB/1.7 GB (63.9%)\n",
            "2019-01-12T23:50:49.932+0000\t[###############.........] catalunya.mobile\t1.1 GB/1.7 GB (64.4%)\n",
            "2019-01-12T23:50:52.931+0000\t[###############.........] catalunya.mobile\t1.1 GB/1.7 GB (64.9%)\n",
            "2019-01-12T23:50:55.931+0000\t[###############.........] catalunya.mobile\t1.1 GB/1.7 GB (65.5%)\n",
            "2019-01-12T23:50:58.931+0000\t[###############.........] catalunya.mobile\t1.1 GB/1.7 GB (66.0%)\n",
            "2019-01-12T23:51:01.931+0000\t[###############.........] catalunya.mobile\t1.1 GB/1.7 GB (66.5%)\n",
            "2019-01-12T23:51:04.934+0000\t[################........] catalunya.mobile\t1.1 GB/1.7 GB (67.0%)\n",
            "2019-01-12T23:51:07.937+0000\t[################........] catalunya.mobile\t1.1 GB/1.7 GB (67.6%)\n",
            "2019-01-12T23:51:10.931+0000\t[################........] catalunya.mobile\t1.1 GB/1.7 GB (68.0%)\n",
            "2019-01-12T23:51:13.931+0000\t[################........] catalunya.mobile\t1.1 GB/1.7 GB (68.6%)\n",
            "2019-01-12T23:51:16.934+0000\t[################........] catalunya.mobile\t1.2 GB/1.7 GB (69.1%)\n",
            "2019-01-12T23:51:19.932+0000\t[################........] catalunya.mobile\t1.2 GB/1.7 GB (69.5%)\n",
            "2019-01-12T23:51:22.931+0000\t[################........] catalunya.mobile\t1.2 GB/1.7 GB (70.1%)\n",
            "2019-01-12T23:51:25.931+0000\t[################........] catalunya.mobile\t1.2 GB/1.7 GB (70.5%)\n",
            "2019-01-12T23:51:28.931+0000\t[#################.......] catalunya.mobile\t1.2 GB/1.7 GB (71.1%)\n",
            "2019-01-12T23:51:31.933+0000\t[#################.......] catalunya.mobile\t1.2 GB/1.7 GB (71.5%)\n",
            "2019-01-12T23:51:34.931+0000\t[#################.......] catalunya.mobile\t1.2 GB/1.7 GB (72.1%)\n",
            "2019-01-12T23:51:37.933+0000\t[#################.......] catalunya.mobile\t1.2 GB/1.7 GB (72.5%)\n",
            "2019-01-12T23:51:40.932+0000\t[#################.......] catalunya.mobile\t1.2 GB/1.7 GB (73.0%)\n",
            "2019-01-12T23:51:43.931+0000\t[#################.......] catalunya.mobile\t1.2 GB/1.7 GB (73.6%)\n",
            "2019-01-12T23:51:46.931+0000\t[#################.......] catalunya.mobile\t1.2 GB/1.7 GB (74.1%)\n",
            "2019-01-12T23:51:49.931+0000\t[#################.......] catalunya.mobile\t1.2 GB/1.7 GB (74.6%)\n",
            "2019-01-12T23:51:52.932+0000\t[##################......] catalunya.mobile\t1.3 GB/1.7 GB (75.1%)\n",
            "2019-01-12T23:51:55.932+0000\t[##################......] catalunya.mobile\t1.3 GB/1.7 GB (75.6%)\n",
            "2019-01-12T23:51:58.932+0000\t[##################......] catalunya.mobile\t1.3 GB/1.7 GB (76.2%)\n",
            "2019-01-12T23:52:01.931+0000\t[##################......] catalunya.mobile\t1.3 GB/1.7 GB (76.7%)\n",
            "2019-01-12T23:52:04.931+0000\t[##################......] catalunya.mobile\t1.3 GB/1.7 GB (77.2%)\n",
            "2019-01-12T23:52:07.931+0000\t[##################......] catalunya.mobile\t1.3 GB/1.7 GB (77.8%)\n",
            "2019-01-12T23:52:10.932+0000\t[##################......] catalunya.mobile\t1.3 GB/1.7 GB (78.2%)\n",
            "2019-01-12T23:52:13.931+0000\t[##################......] catalunya.mobile\t1.3 GB/1.7 GB (78.7%)\n",
            "2019-01-12T23:52:16.931+0000\t[###################.....] catalunya.mobile\t1.3 GB/1.7 GB (79.2%)\n",
            "2019-01-12T23:52:19.931+0000\t[###################.....] catalunya.mobile\t1.3 GB/1.7 GB (79.8%)\n",
            "2019-01-12T23:52:22.931+0000\t[###################.....] catalunya.mobile\t1.3 GB/1.7 GB (80.2%)\n",
            "2019-01-12T23:52:25.933+0000\t[###################.....] catalunya.mobile\t1.3 GB/1.7 GB (80.7%)\n",
            "2019-01-12T23:52:28.932+0000\t[###################.....] catalunya.mobile\t1.4 GB/1.7 GB (81.2%)\n",
            "2019-01-12T23:52:31.931+0000\t[###################.....] catalunya.mobile\t1.4 GB/1.7 GB (81.7%)\n",
            "2019-01-12T23:52:34.931+0000\t[###################.....] catalunya.mobile\t1.4 GB/1.7 GB (82.2%)\n",
            "2019-01-12T23:52:37.932+0000\t[###################.....] catalunya.mobile\t1.4 GB/1.7 GB (82.7%)\n",
            "2019-01-12T23:52:40.933+0000\t[###################.....] catalunya.mobile\t1.4 GB/1.7 GB (83.3%)\n",
            "2019-01-12T23:52:43.931+0000\t[####################....] catalunya.mobile\t1.4 GB/1.7 GB (83.8%)\n",
            "2019-01-12T23:52:46.932+0000\t[####################....] catalunya.mobile\t1.4 GB/1.7 GB (84.3%)\n",
            "2019-01-12T23:52:49.931+0000\t[####################....] catalunya.mobile\t1.4 GB/1.7 GB (84.8%)\n",
            "2019-01-12T23:52:52.931+0000\t[####################....] catalunya.mobile\t1.4 GB/1.7 GB (85.3%)\n",
            "2019-01-12T23:52:55.931+0000\t[####################....] catalunya.mobile\t1.4 GB/1.7 GB (85.8%)\n",
            "2019-01-12T23:52:58.931+0000\t[####################....] catalunya.mobile\t1.4 GB/1.7 GB (86.3%)\n",
            "2019-01-12T23:53:01.945+0000\t[####################....] catalunya.mobile\t1.5 GB/1.7 GB (86.9%)\n",
            "2019-01-12T23:53:04.931+0000\t[####################....] catalunya.mobile\t1.5 GB/1.7 GB (87.4%)\n",
            "2019-01-12T23:53:07.931+0000\t[#####################...] catalunya.mobile\t1.5 GB/1.7 GB (87.9%)\n",
            "2019-01-12T23:53:10.931+0000\t[#####################...] catalunya.mobile\t1.5 GB/1.7 GB (88.2%)\n",
            "2019-01-12T23:53:13.932+0000\t[#####################...] catalunya.mobile\t1.5 GB/1.7 GB (88.7%)\n",
            "2019-01-12T23:53:16.931+0000\t[#####################...] catalunya.mobile\t1.5 GB/1.7 GB (89.2%)\n",
            "2019-01-12T23:53:19.931+0000\t[#####################...] catalunya.mobile\t1.5 GB/1.7 GB (89.8%)\n",
            "2019-01-12T23:53:22.931+0000\t[#####################...] catalunya.mobile\t1.5 GB/1.7 GB (90.2%)\n",
            "2019-01-12T23:53:25.931+0000\t[#####################...] catalunya.mobile\t1.5 GB/1.7 GB (90.7%)\n",
            "2019-01-12T23:53:28.932+0000\t[#####################...] catalunya.mobile\t1.5 GB/1.7 GB (91.3%)\n",
            "2019-01-12T23:53:31.931+0000\t[######################..] catalunya.mobile\t1.5 GB/1.7 GB (91.8%)\n",
            "2019-01-12T23:53:34.931+0000\t[######################..] catalunya.mobile\t1.5 GB/1.7 GB (92.2%)\n",
            "2019-01-12T23:53:37.932+0000\t[######################..] catalunya.mobile\t1.5 GB/1.7 GB (92.7%)\n",
            "2019-01-12T23:53:40.932+0000\t[######################..] catalunya.mobile\t1.6 GB/1.7 GB (93.3%)\n",
            "2019-01-12T23:53:43.932+0000\t[######################..] catalunya.mobile\t1.6 GB/1.7 GB (93.7%)\n",
            "2019-01-12T23:53:46.933+0000\t[######################..] catalunya.mobile\t1.6 GB/1.7 GB (94.3%)\n",
            "2019-01-12T23:53:49.931+0000\t[######################..] catalunya.mobile\t1.6 GB/1.7 GB (94.8%)\n",
            "2019-01-12T23:53:52.931+0000\t[######################..] catalunya.mobile\t1.6 GB/1.7 GB (95.2%)\n",
            "2019-01-12T23:53:55.931+0000\t[######################..] catalunya.mobile\t1.6 GB/1.7 GB (95.8%)\n",
            "2019-01-12T23:53:58.933+0000\t[#######################.] catalunya.mobile\t1.6 GB/1.7 GB (96.2%)\n",
            "2019-01-12T23:54:01.931+0000\t[#######################.] catalunya.mobile\t1.6 GB/1.7 GB (96.8%)\n",
            "2019-01-12T23:54:04.932+0000\t[#######################.] catalunya.mobile\t1.6 GB/1.7 GB (97.3%)\n",
            "2019-01-12T23:54:07.931+0000\t[#######################.] catalunya.mobile\t1.6 GB/1.7 GB (97.8%)\n",
            "2019-01-12T23:54:10.931+0000\t[#######################.] catalunya.mobile\t1.6 GB/1.7 GB (98.3%)\n",
            "2019-01-12T23:54:13.931+0000\t[#######################.] catalunya.mobile\t1.6 GB/1.7 GB (98.7%)\n",
            "2019-01-12T23:54:16.931+0000\t[#######################.] catalunya.mobile\t1.7 GB/1.7 GB (99.3%)\n",
            "2019-01-12T23:54:19.931+0000\t[#######################.] catalunya.mobile\t1.7 GB/1.7 GB (99.8%)\n",
            "2019-01-12T23:54:21.377+0000\timported 11744914 documents\n"
          ],
          "name": "stdout"
        }
      ]
    },
    {
      "metadata": {
        "id": "j_2CNJCprPUG",
        "colab_type": "text"
      },
      "cell_type": "markdown",
      "source": [
        "##  Connect to MongoDB database"
      ]
    },
    {
      "metadata": {
        "id": "ZGN08VqMqtIr",
        "colab_type": "code",
        "colab": {}
      },
      "cell_type": "code",
      "source": [
        "import pymongo\n",
        "from pymongo import MongoClient\n",
        "# uri (uniform resource identifier) defines the connection parameters \n",
        "uri = 'localhost:27017'\n",
        "# start client to connect to MongoDB server \n",
        "client = MongoClient( uri )"
      ],
      "execution_count": 0,
      "outputs": []
    },
    {
      "metadata": {
        "id": "HzgWQW6D9UaM",
        "colab_type": "code",
        "colab": {}
      },
      "cell_type": "code",
      "source": [
        "# defines database and the collection to use\n",
        "db = client.catalunya                           # sets the database name \n",
        "collection = db.mobile                          # sets the collection to use"
      ],
      "execution_count": 0,
      "outputs": []
    },
    {
      "metadata": {
        "id": "idVHFLyyaAqw",
        "colab_type": "text"
      },
      "cell_type": "markdown",
      "source": [
        "##  Database Visualization"
      ]
    },
    {
      "metadata": {
        "id": "dnahlXXVqwtN",
        "colab_type": "code",
        "outputId": "f74d6265-8da6-4be5-a224-6d7899a2ab55",
        "colab": {
          "base_uri": "https://localhost:8080/",
          "height": 72
        }
      },
      "cell_type": "code",
      "source": [
        "# prints the attributes of first document ( name of columns)\n",
        "print (list (collection.find().limit(1)[1]))\n",
        "print ('Total documents: ' + str(  collection.count_documents({'_id' : {'$ne': None }}) ))"
      ],
      "execution_count": 0,
      "outputs": [
        {
          "output_type": "stream",
          "text": [
            "['_id', 'timestamp_', 'Date', 'Hora_', 'Lat', 'Long_', 'Senyal', 'Xarxa', 'Operador', 'status', 'Desc_', 'net_type', 'speed', 'satellites', 'precision1', 'provider', 'Activitat', 'downloadSpeed', 'uploadSpeed', 'MUNICIPI', 'NOM_MUNI']\n",
            "Total documents: 11744914\n"
          ],
          "name": "stdout"
        }
      ]
    },
    {
      "metadata": {
        "id": "bvWV03zWae24",
        "colab_type": "code",
        "outputId": "1e5e51c4-d527-4504-c8c9-cee81f6a9cdd",
        "colab": {
          "base_uri": "https://localhost:8080/",
          "height": 245
        }
      },
      "cell_type": "code",
      "source": [
        "# overview of data stored in each attribute\n",
        "attributes = ['Senyal', 'Xarxa', 'Operador', 'status', 'Desc_', 'net_type', 'speed', 'precision1', 'provider', 'Activitat', 'NOM_MUNI','Carrier']\n",
        "\n",
        "for attribute in attributes:\n",
        "  if (attribute != '_id'):\n",
        "    print ( attribute + \" \"+ str( collection.distinct( attribute )))"
      ],
      "execution_count": 0,
      "outputs": [
        {
          "output_type": "stream",
          "text": [
            "Senyal [24, 13, 21, 18, 10, 15, 7, 11, 16, 3, 12, 4, 5, 14, 55, 9, 19, 17, 1, 8, 0, 6, 22, 20, 25, 23, 28, 27, 53, 31, 2, 30, 54, 26, 29, 61, 49, 60, 58, 50, 59, 57, 32, 56, 43, 62, 33, 52, 36, 41, 39, 51, 63, 65, 99, 47, 48, 34, 64, 42, 44, 46, 38, 35, 40, 37, 45, 98, 96, 78, 93, 87, 88, 97, 76, 86]\n",
            "Xarxa ['movistar', 'orange', 'vodafone', 'MetroPCS', 'UNEFON', 'TICAE', 'yoigo', 'Telefonica Moviles Espana', 'Orange F', 'Lowi', '', 'PARLEM', 'vodafone NL', \"Nom├®s trucades d'emerg├¿ncia\", 'T-Mobile', 'France Telcom Espana SA', 'Sense servei.', 'Solo llamadas de emergencia', 'Lebara', 'null', 'VIVO', 'Solo emergencia', 'o2 - de', 'F SFR', 'Sin servicio', 'Voz Premium', 'Orange SP', 'Vodafone', 'vodafone IT', 'I WIND', 'TELCEL', 'Plus', 'F-Bouygues Telecom', 'MOBILAND', 'MASMovil', 'CLARO BR', 'E-Plus', 'Salt', 'France Telecom Espa├▒a SA', 'TIM', 'Telef├│nica M├│viles Espa├▒a', 'BYTEL', 'O2 - UK', 'RO Vodafone RO', 'Buscando servi├ºo', 'GurbTec', 'vodafone UK', 'FIBRACAT', 'AT&T', 'NL KPN', 'Vodafone.de', 'ION MOBILE', 'Telekom.de', 'Mobistar', 'CHN-UNICOM', 'HR VIP', 'vodafone GR', 'NetCom', 'BEL PROXIMUS', 'EE', 'Eroski Movil', 'O2 - CZ', 'T-Mobile CZ', 'Vodafone CZ', 'Solo llamadas de emergencias', 'Bouygues Telecom', 23866, 'I.C.E.', 'Sunrise', 'Nextel', 'I TIM', 90118, 'GNQ01', 'Vodafone Spain', 'vf es', 'VE_MOVILNET', 'Claro', 0, '?????', 'LCR', 'PLAY', 'PLAY (T-Mobile)', 21303, 'TIM 21', 'MOVILNET GSM', 'mCel', 'Prisco Mobile', 'IAM', 'TIGO', 'Smart', 'Lycamobile', 'P TMN', 'Oi', 'oceans', 'Swisscom', 'icatel', 'Happy', 'P OPTIMUS', 'MEO', 'MOVILNET', 'Simple Mobile', 'METEOR', 'ETISALAT', 'Meteor', 'du', 'Vodafone Qatar', 'IND airtel', 'PROXIMUS', 'Sense servei', 'RepublicaM', 'MOR IAM', 'Xfera Moviles SA', 'Sin cobertura', 'Orange ES', 'vodafone HU', 'MTS', 'jazztel', 'simyo 3g', 'Altice', 'EE | Orange', 'gironafibra', 'Proximus', 'Orange F | JAZZTEL', 'mobilR', 'LlamaYA', 'Vodacom', 'VAMOS PERU | movistar', 'CABLEMOVIL', 'ETICOM SC', 'FreedomPop', 'ANDORRA-MOBILAND', 'CUBACEL', 'F BYTEL', 'MTS RUS', 'Telekom HU', 'Republica Movil', 'Orange F | Orange', 'F SFR | Orange', 'Vodafone HU', 'virgin', 'ESPRT', 'MOBILAND | JAZZTEL', 'emagina', 'Lowi,', 'Vivo', 21401, 'GETESA', 'vodafone ES | Profesional', 'sunrise', 'F Bouygues', 'Pelephone', 'Partner', 'PARTNER', 'T-Mobile D', 'Republica Movi', 'TELETON', 'GRAU', 'NOS', 'vodafone IE', 'Digi.Mobil', 'airtel', 'Vodafone IN', 'SUOP', 'Movistar | Particular', 'T-Mobile A | Orange', '3 AT | Orange', 'CLARO', 'WOM', 'TDC', 'Telenor SE', 'SWEDEN', 'T-Mobile NL', 'A1 | Orange', 'VodaCom-MZ', 'Unitymedia', 'Telia N', 'VodafoneMalta', 'inwi', '3 ITA', 'Movistar | Empresa', 'Mtel', 'La Poste Mobile', 'vodafone P', 'TIM@sea', 'O2 CZ', 'Maroc Telecom', 'T-Mobile.pl', 'Play', 'ALGAR TELECOM', 'OMNITEL LT', 'TIM 98 | TIM', 'Telenor', 'TDC Mobil', 'Tele2', 'O2 de', 'Open Mobile', 'IR MCI', 'TIM 48', 'MOBILAND | Orange', 'Si.mobil', 'Profesional', 'entel', 'go mobile', 'yallo', 'Cubacel', 3, 'France Orange', 'Telenor Maritime', 'TURKCELL', 'BITEL', '3 UK', 'N Telenor', 'weex', 'Claro AR', 'NL KPN | Orange', 'MTN', 'Cell C', 'Telenor BG', 'Empresa', 'TIM 45', 'One Call', 'MASMOVIL', 'MOBITEL', 'TIGO COL', 'eticom', 'B mobistar', 'STA-MOBILAND', 'M-AND', 'TIM 41', 'Telenor DK', 'DEFACE', 'DNKTD', 'Particular', 'TIM 11', 'simyo 3G', 'TIM 15', 'VodaCom-SA', 'TH 3G+', 'DTAC', 'AIS 3G', 'CABLE movil', 'bitel', 'VODAFONE IN', 'T-Mobile A', 'Telekom SK', 'ENTEL', 'Emergency calls only', 'Telenor HU', 'TIM BRASIL', 'L TANGO', 'A1']\n",
            "Operador ['ONO', 'Movistar', 'Jazztel', 'vodafone ES', 'MetroPCS', 'Orange', 'movistar', 'UNEFON', 'TICAE', 'YOIGO', 'RACC', 'Telefonica Moviles Espana', 'JAZZTEL', 'pepephone', 'Orange F', 'simyo', 'Lowi', 'Yoigo', '', 'PARLEM', 'vodafone NL', 'Tuenti', \"Nom├®s trucades d'emerg├¿ncia\", 'T-Mobile', 'France Telcom Espana SA', 'Sense servei.', 'Solo llamadas de emergencia', 'Lebara', 'null', 'VIVO', 'Solo emergencia', 'o2 - de', 'F SFR', 'Sin servicio', 'Voz Premium', 'Orange SP', 'Vodafone', 'vodafone IT', 'I WIND', 'TELCEL', 'Plus', 'F-Bouygues Telecom', 'MOBILAND', 'MASMovil', 'Vodafone ES', 'CLARO BR', 'E-Plus', 'Salt', 'France Telecom Espa├▒a SA', 'TIM', 'Telef├│nica M├│viles Espa├▒a', 'BYTEL', 'O2 - UK', 'RO Vodafone RO', 'Buscando servi├ºo', 'GurbTec', 'vodafone UK', 'FIBRACAT', 'AT&T', 'NL KPN', 'Vodafone.de', 'ION MOBILE', 'Telekom.de', 'Mobistar', 'CHN-UNICOM', 'HR VIP', 'vodafone GR', 'NetCom', 'BEL PROXIMUS', 'EE', 'Eroski Movil', 'O2 - CZ', 'T-Mobile CZ', 'Vodafone CZ', 'vodafone', 'Solo llamadas de emergencias', 'Bouygues Telecom', 23866, 'I.C.E.', 'Sunrise', 'Nextel', 'I TIM', 90118, 'GNQ01', 'Vodafone Spain', 'vf es', 'VE_MOVILNET', 'Claro', 0, '?????', 'LCR', 'PLAY', 'PLAY (T-Mobile)', 21303, 'MOVISTAR', 'TIM 21', 'MOVILNET GSM', 'mCel', 'Prisco Mobile', 'IAM', 'TIGO', 'Smart', 'Lycamobile', 'P TMN', 'Oi', 'oceans', 'Swisscom', 'icatel', 'Happy', 'P OPTIMUS', 'MEO', 'MOVILNET', 'Simple Mobile', 'METEOR', 'ETISALAT', 'Meteor', 'du', 'Vodafone Qatar', 'IND airtel', 'PROXIMUS', 'Sense servei', 'RepublicaM', 'MOR IAM', 'Xfera Moviles SA', 'Sin cobertura', 'Orange ES', 'vodafone HU', 'MTS', 'Altice', 'EE | Orange', 'gironafibra', 'Proximus', 'Orange F | JAZZTEL', 'ion mobile', 'MOBILAND | Orange', 'mobilR', 'LlamaYA', 'Vodacom', 'VAMOS PERU | movistar', 'CABLEMOVIL', 'ETICOM SC', 'FreedomPop', 'MASMOVIL', 'ANDORRA-MOBILAND', 'eticom', 'CUBACEL', 'F BYTEL', 'MTS RUS', 'Telekom HU', 'adamo', 'Republica Movil', 'Orange F | Orange', 'F SFR | Orange', 'Vodafone HU', 'virgin', 'ESPRT', 'MOBILAND | JAZZTEL', 'emagina', 'Lowi,', 'Vivo', 21401, 'GETESA', 'vodafone ES | Profesional', 'sunrise', 'F Bouygues', 'Pelephone', 'Partner', 'PARTNER', 'T-Mobile D', 'Republica Movi', 'TELETON', 'GRAU', 'NOS', 'vodafone IE', 'Digi.Mobil', 'airtel', 'Vodafone IN', 'SUOP', 'Movistar | Particular', 'T-Mobile A | Orange', '3 AT | Orange', 'CLARO', 'WOM', 'TDC', 'Telenor SE', 'SWEDEN', 'T-Mobile NL', 'A1 | Orange', 'VodaCom-MZ', 'Unitymedia', 'Telia N', 'VodafoneMalta', 'inwi', '3 ITA', 'Movistar | Empresa', 'Mtel', 'La Poste Mobile', 'vodafone P', 'TIM@sea', 'O2 CZ', 'Maroc Telecom', 'T-Mobile.pl', 'Play', 'ALGAR TELECOM', 'OMNITEL LT', 'TIM 98 | TIM', 'Telenor', 'TDC Mobil', 'Tele2', 'O2 de', 'Open Mobile', 'IR MCI', 'orange', 'TIM 48', 'Si.mobil', 'Profesional', 'entel', 'go mobile', 'yallo', 'Cubacel', 3, 'France Orange', 'Telenor Maritime', 'TURKCELL', 'BITEL', '3 UK', 'N Telenor', 'weex', 'EUSKALTEL', 'Claro AR', 'NL KPN | Orange', 'MTN', 'Cell C', 'Telenor BG', 'Empresa', 'TIM 45', 'One Call', 'MOBITEL', 'TIGO COL', 'B mobistar', 'STA-MOBILAND', 'M-AND', 'TIM 41', 'Telenor DK', 'DEFACE', 'DNKTD', 'Particular', 'TIM 11', 'simyo 3G', 'TIM 15', 'VodaCom-SA', 'TH 3G+', 'DTAC', 'AIS 3G', 'CABLE movil', 'bitel', 'VODAFONE IN', 'T-Mobile A', 'Telekom SK', 'ENTEL', 'Emergency calls only', 'Telenor HU', 'TIM BRASIL', 'L TANGO', 'A1']\n",
            "status [2, 0, 3, 1]\n",
            "Desc_ ['STATE_EMERGENCY_ONLY', 'STATE_IN_SERVICE', 'STATE_POWER_OFF', 'STATE_OUT_OF_SERVICE']\n",
            "net_type ['3G', '2G', '4G', '']\n",
            "speed [1.4, 9.7, 107.9, 28.6, 1, 0.7, 107.6, 67.5, 0, 11.4, 107.4, 71.1, 104.8, 18.6, 79, 0.3, 0.8, 102.7, 23.3, 44.8, 102.3, 102.8, 33.6, 101.9, 2.5, 2.8, 104.2, 9.6, 103.5, 1.5, 96.4, 0.2, 0.4, 86.7, 0.1, 102.5, 1.1, 106.2, 1.7, 100.4, 100.7, 98.2, 105.1, 3.5, 103.8, 98.9, 1.8, 105.4, 92.9, 101.5, 2.9, 9.2, 98.8, 94.5, 101.2, 0.9, 105.9, 2, 3.1, 106.8, 108.2, 107.2, 95.2, 99.6, 105.6, 105.8, 99.7, 104.9, 106.6, 98.1, 95.4, 84.8, 78.4, 0.5, 36.2, 30.1, 23.4, 5.8, 1.6, 1.2, 17.7, 2.4, 4.6, 20.7, 2.1, 7.2, 43, 3.3, 19.6, 23.1, 8.8, 14.6, 9, 13.1, 13.4, 33.5, 22, 79.8, 4.9, 56.7, 96.1, 66.9, 108.8, 72.9, 21.3, 30, 241.2, 90.4, 40.6, 2.2, 6.8, 1.3, 38.3, 8.1, 25.1, 5, 19.7, 14.3, 34, 2.7, 10.5, 5.3, 8.5, 2.6, 11.1, 10.2, 0.6, 4, 5.4, 36.5, 32.8, 15.9, 94.6, 74.5, 62.1, 41.9, 4.7, 33.2, 57.2, 23.7, 30.2, 3.2, 7.7, 5.5, 15.2, 26.1, 1.9, 24.9, 55.6, 35, 76.4, 38.9, 77.9, 27.5, 11.9, 7.6, 23.5, 103.4, 70.8, 113.3, 94.8, 105.2, 80.5, 109.6, 12.7, 77, 82.4, 12.3, 80.3, 86.1, 86.9, 40.4, 6.1, 6.4, 75.9, 156.4, 78.7, 14.8, 19.4, 151.5, 40.3, 69.5, 134.5, 27.9, 10.1, 68.8, 62, 3.6, 157.2, 26, 28.4, 25.4, 3.8, 12.8, 76.3, 75.2, 33.9, 81.7, 91.7, 42.2, 21.7, 82, 87.4, 88, 79.6, 74, 38.8, 32.2, 9.5, 91, 15.1, 8.3, 72.7, 89.7, 13.6, 34.9, 89.8, 51.4, 149.9, 26.4, 31, 23, 97.3, 39.3, 31.3, 56.1, 3, 20, 85.6, 21.5, 25.9, 17.9, 18.7, 94.1, 17.6, 14, 86.5, 82.6, 17.4, 87.6, 69.2, 11, 85.3, 56.6, 5.7, 70.5, 47.9, 47.8, 72.2, 87, 18, 40.5, 78.8, 14.2, 83.4, 58.2, 78.1, 91.2, 85.9, 88.8, 30.4, 27.4, 44.9, 88.5, 91.6, 6.9, 42.7, 85.2, 21, 10.7, 73.6, 122.9, 156.5, 72.5, 60.1, 77.1, 39.5, 63.3, 84.4, 96.6, 43.2, 10.8, 71.4, 64.6, 70.2, 66.6, 10.9, 97.7, 70.6, 131.9, 100, 81.5, 41.4, 6.2, 42.6, 65.8, 44.3, 56, 83.7, 61.3, 107.8, 65.4, 77.5, 92.7, 90, 110.9, 10, 82.9, 111, 70.9, 82.2, 28.2, 112.6, 43.8, 76, 32.7, 111.2, 69.1, 11.6, 79.2, 114.1, 65.3, 133.8, 11.8, 112.2, 48.6, 70.7, 45.6, 60.3, 69, 112.5, 109.7, 44.5, 71.6, 39.8, 116.2, 29.8, 83.1, 21.4, 30.3, 89.2, 118, 115.8, 67.4, 95.8, 117.1, 117.8, 117.4, 68.7, 87.2, 110.8, 218.6, 55.5, 110.2, 108.7, 50.6, 21.1, 2.3, 7.3, 25.3, 113.8, 85.1, 4.8, 20.2, 113.6, 46.2, 84.3, 114.2, 112, 25.8, 16.7, 121, 6, 28.1, 18.4, 4.1, 114, 47.5, 108.4, 8, 119.9, 54.6, 52.7, 10.6, 4.2, 114.6, 90.6, 24.3, 67.6, 110.7, 3.4, 34.3, 119.3, 64.8, 121.3, 9.1, 12.4, 120.8, 33.8, 61.2, 72.1, 67.7, 23.9, 14.9, 124.5, 32.6, 88.4, 30.5, 6.6, 72.6, 42.8, 123.7, 98.4, 82.8, 47.6, 120.7, 22.3, 90.9, 56.5, 29.4, 104, 120.3, 50.3, 9.8, 87.3, 52, 32.1, 120.2, 4.3, 36.7, 88.3, 3.7, 56.8, 111.3, 93.2, 53.4, 62.3, 5.2, 90.1, 73.3, 103.7, 85.7, 96.3, 103.6, 113, 83, 29.6, 111.9, 38, 108.1, 99, 58.7, 73, 32.5, 37.8, 117.5, 115.3, 81.6, 51.7, 27.3, 66, 119.1, 48.1, 44.2, 118.5, 15.3, 98.7, 20.3, 46.9, 24.1, 48.3, 120.6, 70, 7.4, 17, 37.1, 5.9, 60.6, 5.6, 68.1, 124.9, 33.4, 23.6, 22.2, 55.9, 75, 58.6, 108.5, 19.9, 28.9, 47.2, 47.1, 113.1, 21.9, 44, 78.2, 33, 121.8, 61.6, 4.4, 15.7, 55, 83.6, 43.6, 61.7, 69.3, 8.9, 48.4, 9.4, 92.8, 91.8, 51.2, 54.8, 90.3, 59.6, 118.9, 77.8, 5.1, 101.4, 125.6, 100.1, 13.2, 90.5, 65.7, 113.5, 99.2, 89.1, 114.5, 84.7, 171.6, 15.5, 113.7, 122.1, 21.2, 37, 113.9, 127.3, 20.6, 112.9, 118.4, 86, 88.9, 86.2, 37.7, 10.4, 121.7, 92.4, 56.3, 109.3, 93.3, 122.7, 58.1, 85.4, 122.4, 121.6, 43.9, 104.6, 96.9, 51.1, 115.2, 89.4, 54.1, 92.3, 24.7, 20.1, 85.8, 15.8, 100.5, 106.7, 17.2, 32.4, 18.2, 81.2, 18.1, 107.7, 74.4, 19.3, 112.1, 102.9, 6.3, 35.4, 107.5, 111.4, 26.5, 106.3, 15.4, 82.3, 113.2, 94.3, 110.5, 109.2, 19.8, 115.5, 15, 35.1, 26.3, 96.5, 81.3, 35.3, 12.2, 24.6, 102.6, 96.2, 99.4, 26.2, 92.5, 114.4, 3.9, 57.1, 39.6, 45, 14.5, 34.4, 80, 93.6, 67.8, 17.3, 33.1, 101.7, 87.7, 84.5, 110.4, 64.9, 36.6, 13.9, 102.4, 52.5, 15.6, 99.5, 54.5, 44.4, 39.2, 23.8, 7.5, 31.2, 14.1, 8.6, 22.6, 34.5, 25, 12.6, 69.6, 70.4, 35.7, 11.2, 109.4, 111.5, 24.4, 94.2, 29, 43.7, 9.3, 105.7, 89, 14.4, 24, 20.8, 28.5, 61, 13.8, 53.3, 11.3, 53.9, 19.1, 49.3, 125.2, 94, 7, 31.5, 18.3, 87.5, 115.4, 18.9, 88.2, 13, 21.8, 28.7, 4.5, 74.3, 114.3, 36.8, 16.5, 66.4, 63.2, 20.5, 29.7, 108.3, 124.7, 76.2, 117.3, 8.2, 110, 49.4, 34.1, 16.1, 105, 7.8, 107, 31.8, 23.2, 99.8, 12.1, 19.2, 95.7, 32, 79.9, 54, 80.8, 28, 90.7, 14.7, 62.6, 101.8, 7.1, 113.4, 60.4, 68.4, 97.2, 36.3, 16.3, 19, 7.9, 95.1, 22.5, 80.6, 24.2, 16.2, 55.3, 116.5, 105.3, 39.9, 121.9, 62.7, 46.3, 126.1, 120, 38.2, 41.1, 119.5, 84.9, 42.3, 119, 16, 16.9, 103, 31.9, 76.7, 24.5, 38.6, 118.8, 109.9, 120.4, 34.8, 116, 158.9, 28.3, 120.9, 118.7, 167.9, 76.8, 22.7, 20.4, 49.1, 116.4, 100.8, 20.9, 10.3, 47.4, 89.3, 121.1, 8.7, 27, 93.1, 32.9, 125, 26.8, 111.1, 59.8, 97.5, 63.7, 77.7, 114.7, 97.6, 63, 86.3, 29.5, 50.5, 128, 22.8, 48.2, 12.5, 70.3, 54.3, 35.5, 53.1, 41.5, 6.5, 22.1, 75.1, 27.6, 17.8, 33.7, 103.2, 77.3, 65, 72, 75.3, 9.9, 64, 77.6, 54.4, 45.5, 12.9, 75.8, 27.1, 18.8, 19.5, 63.6, 60, 69.4, 40.1, 27.2, 40, 87.1, 13.5, 76.6, 81.4, 95.6, 58.8, 55.1, 62.5, 44.7, 92, 71.5, 21.6, 42.4, 61.4, 49.9, 46.6, 87.8, 68.5, 25.5, 83.3, 11.5, 50.7, 59.2, 101.1, 31.4, 67.9, 25.2, 73.5, 98.6, 119.2, 166.9, 64.5, 100.2, 48.5, 97.8, 37.3, 75.6, 68.9, 55.7, 59.4, 48, 100.6, 64.7, 106, 63.9, 38.7, 106.9, 36, 94.9, 83.9, 37.9, 117, 57.8, 116.3, 6.7, 17.5, 68, 116.9, 122.2, 41.6, 57.9, 60.9, 115.1, 156.8, 30.6, 115, 40.2, 43.1, 52.4, 110.3, 42.1, 31.1, 55.4, 66.5, 36.1, 114.8, 58.3, 46.1, 95, 16.8, 122.6, 99.9, 32.3, 57, 126.8, 26.6, 86.8, 39.4, 58.9, 129.3, 18.5, 64.2, 13.3, 126, 104.7, 101.6, 181.5, 106.5, 81.1, 134, 95.9, 34.2, 134.8, 53.6, 89.9, 128.8, 121.2, 93.4, 39.7, 131.1, 30.8, 63.4, 128.7, 65.2, 45.9, 117.9, 132.5, 77.2, 52.9, 128.1, 66.7, 75.5, 126.2, 97.1, 80.4, 125.8, 78, 123.8, 39, 127.7, 60.2, 59.7, 41.3, 81, 31.7, 77.4, 78.6, 79.7, 93.5, 127, 74.7, 57.7, 80.9, 65.6, 107.3, 90.8, 37.6, 81.9, 145.8, 45.8, 122.5, 16.4, 91.4, 50.1, 93.7, 34.6, 119.6, 91.5, 35.6, 89.5, 52.8, 79.4, 81.8, 96.7, 131.4, 78.9, 51, 62.4, 130.3, 73.9, 36.9, 88.6, 50.8, 95.5, 45.3, 121.5, 69.8, 95.3, 67.2, 38.5, 124.1, 93.9, 131.8, 91.1, 49.8, 30.9, 98, 87.9, 91.9, 99.3, 128.9, 35.2, 125.4, 22.4, 106.1, 132.9, 43.4, 96, 86.4, 116.1, 129.4, 119.4, 123.3, 84, 127.9, 118.6, 35.8, 125.3, 73.2, 108.9, 123, 46.8, 38.1, 117.7, 59.9, 30.7, 31.6, 131.7, 57.3, 59.3, 117.6, 116.7, 72.3, 41.2, 114.9, 132.1, 229.3, 132.7, 102.2, 71.7, 130.7, 71.3, 71.2, 129.5, 112.7, 46.5, 84.2, 29.3, 74.8, 108, 8.4, 66.1, 17.1, 102, 56.2, 13.7, 104.4, 25.7, 83.2, 74.9, 107.1, 46.4, 11.7, 86.6, 67.3, 53.7, 76.1, 89.6, 65.1, 104.5, 90.2, 24.8, 51.3, 46, 94.7, 25.6, 41, 112.8, 63.1, 28.8, 85.5, 67.1, 115.7, 121.4, 97.9, 45.1, 26.9, 61.8, 118.1, 57.6, 123.4, 104.3, 148.3, 51.8, 54.7, 26.7, 50.2, 41.7, 42.9, 43.3, 57.4, 68.6, 34.7, 60.7, 35.9, 116.6, 97.4, 38.4, 218.7, 55.8, 217.6, 52.3, 74.1, 37.2, 60.5, 127.4, 47, 61.5, 16.6, 59, 48.9, 73.4, 124.3, 68.2, 66.3, 123.6, 130, 164.4, 112.4, 78.3, 80.1, 56.9, 125.7, 79.3, 131, 122.8, 128.4, 43.5, 44.6, 123.1, 29.2, 45.2, 109.5, 54.9, 103.3, 59.1, 102.1, 247.7, 83.8, 101, 73.7, 67, 129, 140.1, 51.6, 33.3, 72.8, 37.5, 55.2, 130.1, 132.3, 182.3, 62.2, 40.9, 91.3, 82.5, 112.3, 47.7, 27.7, 29.9, 58.4, 71.8, 69.9, 79.1, 68.3, 52.2, 72.4, 74.2, 92.1, 66.8, 75.7, 51.5, 58.5, 27.8, 37.4, 168.8, 54.2, 45.7, 49.6, 88.1, 105.5, 50.4, 46.7, 40.8, 76.9, 111.7, 129.1, 50.9, 70.1, 53.2, 130.5, 12, 60.8, 137.9, 109, 52.1, 71, 62.8, 73.8, 75.4, 53.5, 49.7, 36.4, 56.4, 82.1, 125.9, 98.5, 203.2, 84.6, 80.7, 97, 73.1, 135.2, 64.1, 49.2, 93, 137.5, 140.6, 94.4, 104.1, 83.5, 124.6, 92.6, 124.8, 78.5, 115.9, 84.1, 125.1, 193.4, 63.5, 51.9, 122.3, 29.1, 48.8, 127.1, 41.8, 42, 50, 82.7, 88.7, 40.7, 65.5, 62.9, 61.9, 93.8, 64.4, 96.8, 42.5, 47.3, 71.9, 79.5, 111.6, 63.8, 118.3, 115.6, 106.4, 118.2, 116.8, 101.3, 183.6, 85, 58, 135.8, 69.7, 45.4, 53, 123.9, 49.5, 127.5, 136.1, 141.1, 136.3, 185.5, 39.1, 57.5, 103.9, 103.1, 52.6, 80.2, 74.6, 99.1, 138.2, 198.1, 53.8, 126.4, 132, 123.2, 123.5, 108.6, 49, 127.8, 92.2, 132.2, 126.6, 130.4, 59.5, 128.5, 129.2, 134.4, 122, 132.6, 124, 130.2, 161.4, 140.4, 22.9, 133.1, 138.4, 110.1, 138.9, 100.3, 140.5, 221.4, 137.6, 61.1, 140.3, 124.2, 119.7, 146.1, 64.3, 65.9, 98.3, 120.1, 48.7, 126.5, 66.2, 119.8, 142.9, 133.5, 131.2, 135.9, 144.7, 126.9, 145.9, 150.2, 146.3, 143.9, 154, 147.8, 154.5, 134.2, 150.6, 156.2, 157.4, 157.7, 164, 167.1, 160.8, 161.5, 147.4, 151.3, 139.3, 152.1, 145.7, 155.9, 155, 141.9, 147.7, 139.9, 44.1, 128.6, 126.7, 129.7, 129.8, 128.2, 130.8, 110.6, 117.2, 192.5, 231.6, 109.1, 120.5, 125.5, 136.7, 130.9, 133, 134.1, 143.4, 140, 134.9, 129.9, 131.5, 156.6, 143.2, 128.3, 175.5, 184, 134.3, 133.6, 183.8, 213.1, 196, 124.4, 242.3, 137.4, 146.2, 144.6, 132.4, 206.8, 136.9, 131.6, 142.4, 139.8, 139.5, 137.2, 142.3, 236, 146.6, 147.2, 141.6, 149.1, 146, 140.7, 147.6, 143.1, 144.4, 138, 234.2, 165.7, 135.7, 76.5, 127.6, 111.8, 131.3, 132.8, 179.2, 141, 136.6, 130.6, 168.6, 133.9, 133.2, 137, 135.5, 135.6, 136.4, 139.6, 139.1, 148.4, 136.5, 143.3, 138.3, 143.5, 142.5, 129.6, 137.3, 133.4, 136, 138.6, 196.8, 137.7, 138.5, 135.1, 126.3, 173.1, 139.2, 134.7, 139.4, 141.8, 144.3, 135, 100.9, 139.7, 152.3, 150.1, 210.5, 193.8, 109.8, 178.7, 196.3, 184.7, 151.9, 140.8, 149.7, 164.2, 200, 156.7, 175.9, 142.1, 140.9, 153.6, 161.6, 163.6, 170.9, 160, 189, 200.6, 144.9, 159.8, 160.6, 158.4, 160.5, 146.4, 153.9, 154.1, 155.7, 149.8, 147.5, 143.6, 148, 163.1, 207.8, 209.6, 247.5, 151.1, 191.8, 169.6, 155.2, 147.9, 142.2, 149.2, 152.8, 136.2, 166.5, 141.5, 162.9, 144.5, 205.2, 150.8, 185.8, 158, 152.2, 153.4, 165.3, 165, 159.7, 159.1, 148.7, 159.3, 145.2, 143.7, 153.3, 158.1, 191.9, 186.6, 175.8, 199.5, 164.7, 141.3, 133.7, 211.1, 154.2, 144.2, 137.1, 204.8, 170.2, 235.5, 194.7, 170.6, 197.4, 181.1, 200.3, 135.4, 150.9, 181, 233.2, 176.2, 199.9, 248.1, 228.8, 160.1, 141.4, 152.4, 171.2, 192.6, 158.7, 253.1, 150.4, 127.2, 243.5, 136.8, 245.2, 138.7, 152.5, 158.2, 141.2, 178.1, 151.4, 143.8, 227.3, 162.2, 167.7, 186.8, 142, 151, 238.7, 133.3, 135.3, 134.6, 176.9, 153.8, 164.6, 160.3, 157.5, 166.6, 161.9, 162.7, 146.9, 151.6, 175.2, 163.2, 157, 165.9, 158.5, 148.8, 248, 138.8, 147.3, 158.8, 181.7, 149, 147, 146.7, 163.8, 181.6, 157.9, 150, 165.8, 155.1, 146.5, 153.2, 161.1, 142.8, 144.1, 167.6, 163.4, 183, 152.7, 142.6, 137.8, 143, 144.8, 171.8, 254.8, 187.1, 238.6, 185.6, 159, 172.7, 240.4, 159.5, 222.7, 183.5, 201.3, 207.1, 251.5, 138.1, 189.2, 165.5, 175.4, 165.6, 191.3, 183.3, 155.8, 140.2, 217.5, 145.1, 141.7, 207.4, 159.4, 158.6, 237.4, 171.4, 150.3, 237.8, 151.8, 151.7, 173.6, 168.2, 145.4, 190.5, 194.2, 197.5, 192.1, 225.8, 198.3, 234.7, 203.3, 211.7, 244.2, 217.7, 191.6, 237.7, 157.6, 178.5, 168.7, 185.1, 176.1, 169, 189.1, 156.3, 180.9, 174.1, 173.9, 237.3, 228.6, 248.5, 208.5, 201.6, 236.5, 212.5, 149.3, 246.2, 211.6, 247.4, 188, 146.8, 251.8, 189.6, 243.9, 207.7, 200.5, 161, 225.2, 221.5, 151.2, 150.7, 155.5, 154.7, 156.9, 178, 154.6, 174.9, 242, 247.9, 232.7, 186.9, 145.5, 238.2, 172.9, 229.7, 178.8, 175, 222.6, 226.1, 241.6, 251.9, 247.2, 216.4, 198.8, 149.4, 155.4, 154.8, 246.8, 153.1, 154.9, 170.8, 190.8, 157.8, 214.4, 220.3, 231.1, 139, 213.5, 236.9, 233, 148.2, 174.5, 170.7, 215.8, 159.6, 247, 195.8, 219.7, 182.2, 216.7, 233.1, 224.8, 225.1, 163.5, 205.6, 225.4, 153.5, 154.4, 152.6, 153, 204.5, 174.2, 179.1, 180.6, 242.8, 227.5, 159.2, 165.1, 219, 209.5, 208.6, 157.1, 162.8, 222.3, 182.7, 185.3, 195.1, 162.6, 249.2, 223.7, 202, 245.9, 198.5, 196.2, 230.6, 176.4, 195.2, 154.3, 229.2, 251.2, 197.2, 201, 214.3, 202.3, 178.2, 221.2, 145.6, 250.8, 224.5, 254.6, 166.2, 223.1, 250.5, 167.8, 206.4, 249.6, 202.9, 242.7, 217.1, 202.1, 252.1, 252.8, 172.2, 215.9, 253.2, 193.6, 244.4, 174.8, 186.7, 201.2, 192.7, 168.3, 180.7, 142.7, 226.6, 189.5, 215.7, 179.3, 220.6, 205.5, 244, 244.8, 254.4, 225.6, 199.2, 196.7, 164.9, 152, 236.2, 220.9, 221.8, 160.7, 175.3, 223.3, 226.9, 228.5, 236.3, 166.3, 179, 206.3, 249.8, 223.6, 174.6, 187.8, 180.8, 181.2, 170.1, 215.1, 147.1, 161.8, 215.6, 173.4, 195.3, 183.9, 200.1, 223.4, 169.5, 148.5, 230, 177.7, 149.6, 217.4, 152.9, 172.6, 205.1, 241.7, 217.3, 224.7, 205.3, 169.4, 160.4, 254.5, 192.4, 194.9, 185.9, 190.4, 166, 208.3, 234.5, 235.1, 254.7, 195.5, 167.5, 211.2, 255, 148.9, 148.1, 214, 190.9, 184.2, 216.9, 239.8, 163, 194.1, 164.1, 203.1, 216.6, 201.9, 196.5, 205.7, 167.3, 174, 236.4, 169.3, 169.2, 218.2, 249.5, 220.7, 248.4, 195.4, 231, 156.1, 232.9, 196.4, 207.2, 243.4, 244.3, 250.2, 165.2, 223, 182.4, 237.5, 209.3, 191.7, 238.9, 165.4, 180.4, 234.9, 169.9, 228.7, 221, 207.5, 207, 221.1, 195.7, 168.4, 193.9, 199.3, 145.3, 176.8, 214.5, 185, 237.2, 198, 233.5, 253.8, 182.8, 145, 252, 231.4, 160.2, 200.9, 246.7, 220.1, 175.1, 252.5, 205, 172.5, 177.4, 182.9, 171.3, 153.7, 190, 210.9, 227.7, 206.7, 231.9, 229.6, 189.8, 212.7, 232.1, 172.8, 155.6, 227.8, 191, 240.9, 213, 183.7, 231.8, 194.6, 247.8, 182.6, 172.4, 144, 202.4, 225.7, 219.3, 161.2, 166.4, 150.5, 229, 188.1, 221.7, 193, 251.4, 204.7, 226.5, 221.9, 235.6, 168, 173, 162.1, 155.3, 207.9, 201.4, 201.7, 222.2, 225.9, 249.3, 182.1, 213.8, 229.1, 229.8, 237.9, 184.1, 158.3, 159.9, 157.3, 181.9, 207.6, 213.9, 197.3, 163.7, 225, 175.6, 177.8, 200.4, 162, 239.4, 242.2, 227.4, 169.1, 238.4, 202.8, 194, 232.6, 201.8, 192.8, 191.4, 192.3, 194.5, 250.6, 195, 195.9, 230.9, 236.8, 211.5, 250, 204.2, 173.3, 238.1, 211.3, 169.8, 250.9, 187.7, 193.2, 219.1, 235.9, 170.5, 251.6, 250.3, 210.7, 228.2, 179.6, 230.2, 248.2, 166.1, 204.6, 174.3, 253.3, 246.3, 218.1, 237, 188.2, 253.5, 252.2, 197.8, 171.5, 248.8, 230.1, 208, 244.9, 253.4, 212.9, 251.1, 179.9, 176.7, 183.2, 186, 168.5, 149.5, 209.9, 184.8, 248.7, 208.9, 197.6, 161.3, 148.6, 177.2, 184.6, 193.3, 236.1, 243, 188.4, 247.1, 243.6, 187.3, 187.2, 194.3, 237.6, 240.5, 186.2, 175.7, 220, 205.4, 179.7, 168.9, 222.8, 218.4, 194.8, 253.6, 191.2, 228.1, 241.3, 253.9, 254.9, 208.1, 183.4, 206.5, 173.7, 204.4, 199.8, 201.5, 219.8, 189.4, 169.7, 197, 212.6, 186.4, 203.7, 181.3, 203.8, 226, 239, 211.8, 171.9, 163.3, 210.3, 224.4, 201.1, 220.5, 246, 223.2, 239.9, 199, 188.3, 172.3, 167, 252.7, 218.3, 180.3, 213.3, 186.3, 205.9, 250.4, 168.1, 199.6, 170.3, 239.6, 245.7, 195.6, 209, 209.8, 198.6, 202.6, 254.3, 173.2, 193.5, 203.6, 177.3, 156, 224.9, 185.7, 192.9, 230.8, 177.1, 238.5, 176, 241.8, 208.8, 199.4, 202.2, 230.5, 233.3, 182, 178.3, 241.5, 245.6, 214.7, 200.7, 218, 226.7, 245.5, 229.9, 219.4, 232.8, 179.5, 243.7, 244.7, 223.8, 206.6, 252.6, 212.1, 166.8, 211.9, 179.8, 224.6, 220.2, 219.5, 161.7, 198.4, 180, 178.4, 234.1, 160.9, 191.5, 251.7, 235.3, 233.8, 167.4, 206, 208.4, 232.2, 186.5, 184.9, 174.7, 162.3, 232.5, 234.8, 188.8, 190.2, 184.3, 189.7, 167.2, 247.3, 212.3, 210.1, 246.5, 176.5, 164.8, 191.1, 240.8, 249.1, 189.3, 204.3, 229.4, 200.2, 185.4, 222.5, 209.4, 217, 172, 228, 210.2, 176.6, 200.8, 188.5, 177, 235.4, 194.4, 242.1, 171, 239.3, 211.4, 189.9, 208.7, 228.3, 234.3, 245.8, 228.4, 213.7, 166.7, 225.3, 178.9, 214.6, 193.1, 250.7, 171.7, 224.2, 170.4, 198.7, 252.9, 233.4, 222.1, 223.9, 176.3, 212, 241.4, 184.5, 234, 216.8, 190.3, 226.3, 218.5, 207.3, 233.6, 241.1, 187, 246.9, 171.1, 210.4, 249, 204.9, 215.4, 213.4, 227.1, 239.7, 179.4, 170, 164.5, 242.5, 208.2, 206.1, 227.6, 187.5, 230.3, 240.7, 190.1, 242.9, 206.9, 231.5, 187.4, 205.8, 252.4, 219.9, 218.8, 193.7, 181.4, 213.2, 245.1, 180.5, 188.7, 243.8, 222.4, 235.7, 235, 246.6, 163.9, 248.9, 245, 182.5, 178.6, 254.2, 203.5, 250.1, 226.2, 212.2, 239.1, 232, 220.4, 230.4, 242.6, 248.3, 226.4, 215.5, 196.9, 253.7, 172.1, 235.8, 196.1, 217.9, 219.2, 239.2, 240.2, 203.9, 225.5, 202.5, 197.9, 214.2, 227.9, 231.7, 164.3, 231.3, 199.1, 216.3, 215.3, 222.9, 243.3, 213.6, 217.8, 192.2, 239.5, 184.4, 197.7, 217.2, 241, 162.5, 203.4, 216.5, 240.3, 251, 241.9, 203, 249.7, 210.8, 227.2, 183.1, 196.6, 204, 211, 232.3, 249.9, 187.6, 224.1, 216, 214.8, 244.5, 227, 173.8, 206.2, 236.7, 218.9, 248.6, 221.3, 216.2, 173.5, 243.2, 220.8, 204.1, 180.1, 247.6, 187.9, 209.1, 229.5, 223.5, 221.6, 177.9, 237.1, 162.4, 177.6, 244.1, 251.3, 190.7, 224.3, 238.8, 188.9, 219.6, 210.6, 254.1, 177.5, 198.9, 234.6, 240.6, 188.6, 242.4, 214.9, 174.4, 215, 214.1, 212.8, 233.7, 240, 212.4, 224, 226.8, 245.3, 192, 181.8, 228.9, 231.2, 236.6, 180.2, 197.1, 216.1, 246.4, 238, 233.9, 244.6, 190.6, 243.1, 238.3, 254, 185.2, 240.1, 186.1, 209.7, 253, 249.4, 209.2, 252.3, 222, 210, 245.4, 215.2, 202.7, 232.4, 199.7, 234.4, 246.1, 198.2, 235.2, 0.1513412826, 2.18539, 40.81771, '', 41.97436, 2.28875, 230.7]\n",
            "precision1 [43, 86, 7, 30, 15, 10, 13, 33, 20, 19, 6, 107, 9, 53, 25, 12, 21, 41, 36, 17, 40, 44, 14, 55, 23, 37, 5, 8, 22, 31, 4, 28, 48, 34, 50, 51, 11, 32, 16, 77, 57, 58, 72, 29, 42, 62, 84, 18, 128, 38, 139, 83, 26, 88, 27, 87, 45, 56, 61, 103, 70, 81, 46, 24, 114, 148, 75, 60, 39, 2, 3, 54, 146, 69, 35, 52, 73, 76, 96, 92, 59, 97, 67, 63, 49, 85, 64, 90, 105, 112, 121, 108, 47, 118, 127, 110, 111, 120, 71, 91, 65, 100, 66, 124, 116, 79, 78, 123, 133, 89, 80, 74, 144, 82, 94, 125, 101, 68, 102, 117, 132, 126, 106, 145, 95, 129, 98, 99, 93, 135, 109, 136, 1, 119, 149, 137, 122, 104, 113, 0, 143, 142, 115, 134, 130, 138, 140, 131, 147, 141, '', 201, 174, 243, 195, 2.49537, 248, 190, 221, 176, 192, 165, 211, 223, 185, 183, 194, 214, 212, 152, 228, 227, 154, 246, 215, 188, 1399, 251, 244, 179, 197, 242, 2802, 303, 292, 333, 3200, 209, 171, 162, 216, 301, 191, 175, 289, 374, 361, 257, 332, 157, 263, 314, 262, 232, 306, 368, 329, 298, 321, 370, 241, 198, 203, 309, 270, 254, 233, 338, 182, 260, 239, 230, 163, 342, 288, 280, 365, 169, 371, 327, 151, 345, 364, 253, 276, 156, 367, 210, 1026, 240, 226, 213, 201503299477926, 101503867043000, 241503912670000, 166, 160, 2299, 600, 250, 400, 2200, 200, 800, 178, 173, 196, 180, 220, 158, 199, 219, 181, 193, 167, 247, 217, 235, 222, 153, 177, 218, 205, 238, 172, 224, 187, 245, 229, 189, 225, 202, 234, 206, 168, 268, 310, 317, 283, 255, 308, 500, 155, 150, 264, 1700, 350, 237, 164, 699, 204, 159, 2139, 5304, 170, 184, 186, 207, 208, 231, 236, 2900, 291, 363, 442, 514, 582, 655, 740, 815, 899, 1103, 1170, 395, 340, 409, 479, 596, 2400, 369, 3400, 445, 304, 551, 679, 724, 718, 287, 562, 646, 770, 737, 830, 3374, 3165, 3099, 2650, 2981, 2577, 3139, 2390, 2929, 2502, 2500, 2700, 2224, 279, 2942, 2065, 2753, 1600, 621, 272, 296, 273, 267, 3799, 2099, 300, 319, 322, 387, 275, 286, 278, 315, 362, 318, 249, 380, 1299]\n",
            "provider ['fused', 'gps', 'local_database', 'GPS', 'NETWORK', '', 4, 22, 'network', 'disabled', 'gps1503861559460', '2017-081503867352116,', '2017-08-28 11:31:10.000000', 7, 19]\n",
            "Activitat ['UNKNOWN', 'IN_VEHICLE', 'TILTING', 'STILL', 'ON_FOOT', 'ON_BICYCLE', '']\n",
            "NOM_MUNI ['Barcelona', 'Vilafranca del Penedès', 'Fondarella', 'Caldes de Montbui', 'Manresa', '', 'Mollerussa', 'Golmés', 'Palau-solità i Plegamans', 'Castellnou de Seana', 'les Masies de Voltregà', 'Bellpuig', 'Masquefa', 'Sant Hipòlit de Voltregà', 'Vilagrassa', 'el Pla del Penedès', 'Collbató', 'Tàrrega', 'Granyanella', 'Llagostera', 'Cervera', \"Ribera d'Ondara\", 'Montmaneu', 'Argençola', 'Jorba', 'Veciana', 'Igualada', 'Òdena', 'Amposta', 'Ponts', 'Balaguer', 'Sant Feliu de Guíxols', 'Riudaura', 'Cornellà de Llobregat', \"Sant Sadurní d'Anoia\", 'Salou', 'Navàs', 'Granollers', 'Cambrils', 'Lleida', 'Cornellà del Terri', 'Reus', 'Sant Feliu de Llobregat', 'Pallejà', 'Castellbisbal', 'Santa Coloma de Gramenet', 'la Roca del Vallès', 'Abrera', 'Cardedeu', 'Sant Joan de les Abadesses', 'Mollet del Vallès', 'Vilanova i la Geltrú', 'Sabadell', 'Terrassa', 'Santa Perpètua de Mogoda', 'Vallromanes', 'Alguaire', 'Almenar', 'Montbrió del Camp', \"l'Hospitalet de Llobregat\", 'Gurb', \"l'Escala\", 'Olot', 'Artesa de Segre', 'Vilanova del Camí', 'Sant Joan les Fonts', 'Castellar del Vallès', 'Algerri', 'Tortosa', 'Montgat', 'Bellvís', 'Tivissa', 'Molins de Rei', 'el Papiol', 'Sant Cugat del Vallès', 'Premià de Mar', 'Montcada i Reixac', \"Lliçà d'Amunt\", 'Santa Susanna', 'Girona', 'Prades', 'Canovelles', 'Sant Vicenç dels Horts', \"l'Ametlla del Vallès\", 'la Garriga', 'Figaró-Montmany', 'Alp', 'Arbeca', 'Tagamanent', 'el Perelló', 'Centelles', 'Seva', 'Balenyà', 'Alpicat', 'el Masnou', 'Santa Coloma de Cervelló', 'Tona', 'Malla', 'Aitona', 'Vic', 'Soses', 'Puigcerdà', 'Sant Esteve Sesrovires', 'Barberà del Vallès', 'Badalona', 'Torres de Segre', 'Alcarràs', 'Copons', 'Manlleu', 'Vila-sacra', 'Orís', 'Piera', 'Sant Quirze de Besora', 'Sora', 'Alfarràs', 'Clariana de Cardener', \"Bell-lloc d'Urgell\", 'Montesquiu', 'les Llosses', \"el Palau d'Anglesola\", 'Sidamon', 'Viladecans', 'Pontils', 'les Franqueses del Vallès', \"Vallbona d'Anoia\", 'els Omellons', 'Miralcamp', 'Ripoll', 'Mataró', 'la Floresta', 'Vila-sana', 'Sant Boi de Llobregat', 'Capellades', 'les Borges Blanques', 'la Torre de Claramunt', 'Sant Andreu de Llavaneres', 'el Prat de Llobregat', 'Horta de Sant Joan', 'la Pobla de Claramunt', 'Sant Joan Despí', 'Olesa de Montserrat', 'Juneda', 'Llinars del Vallès', 'Sentmenat', 'Esparreguera', 'Torregrossa', 'Santa Coloma de Farners', 'el Bruc', 'Vilalba Sasserra', 'Torrelavit', 'Tarragona', 'Sant Pau de Segúries', 'Agramunt', 'Castellolí', 'Sant Mateu de Bages', 'Camprodon', 'Súria', 'Callús', 'Artés', 'Sant Joan de Vilatorrada', 'Castelldefels', 'Sant Adrià de Besòs', 'Torroella de Montgrí', 'Corbins', 'Sant Quintí de Mediona', 'Sant Pere de Riudebitlles', 'Martorell', 'Torrelameu', 'Mediona', 'les Oluges', 'Menàrguens', 'Ripollet', 'Sant Andreu de la Barca', 'Corbera de Llobregat', 'Calella', 'Malgrat de Mar', 'Parets del Vallès', 'Vallfogona de Balaguer', \"Esterri d'Àneu\", 'Montornès del Vallès', 'la Sentiu de Sió', 'Camarasa', 'Esplugues de Llobregat', 'Cubells', \"Vilobí d'Onyar\", 'Foradada', 'Santa Maria de Palautordera', 'Figueres', 'Oliola', 'Dosrius', 'Alcoletge', 'Rubió', 'Sant Quirze del Vallès', 'Santa Eulàlia de Ronçana', 'Gavà', \"Vilanova de l'Aguda\", 'Bassella', \"Santa Llogaia d'Àlguema\", 'Pinell de Solsonès', 'Borrassà', 'la Llagosta', 'Alcover', 'Montmeló', 'Oliana', 'Monistrol de Montserrat', 'Rubí', \"Castelló d'Empúries\", 'Banyoles', 'Valls', 'Llívia', 'Peramola', 'la Canonja', 'Sant Just Desvern', 'Coll de Nargó', 'Vallgorguina', \"Castell-Platja d'Aro\", 'Sant Celoni', 'Porqueres', 'Organyà', 'Vidreres', 'Badia del Vallès', 'el Pla de Santa Maria', 'Castellbell i el Vilar', 'el Catllar', 'Vilassar de Dalt', 'Cerdanyola del Vallès', 'Premià de Dalt', 'Fígols i Alinyà', 'Cabrera de Mar', 'Sant Vicenç de Castellet', 'Teià', \"Ribera d'Urgellet\", 'Gualba', 'Torrefeta i Florejacs', 'Castellgalí', 'Calafell', 'Sant Miquel de Campmajor', 'Riells i Viabrea', 'Palafrugell', \"Santa Cristina d'Aro\", 'Sant Fruitós de Bages', 'Mieres', 'Breda', 'Vilallonga de Ter', 'Montferrer i Castellbò', \"la Seu d'Urgell\", 'Sallent', 'Santa Pau', 'Balsareny', 'Calldetenes', 'Estamariu', 'Alàs i Cerc', 'Puig-reig', 'Castellví de Rosanes', 'les Valls de Valira', 'Gelida', 'Arsèguel', 'el Pont de Bar', 'Subirats', 'Casserres', 'Peralada', 'Gironella', 'Riudoms', 'Arenys de Mar', 'Olvan', 'la Granada', 'la Vall de Bianya', 'Avinyonet del Penedès', 'Berga', 'Lles de Cerdanya', 'Sils', 'Cercs', 'Salt', 'Olèrdola', 'Santa Margarida i els Monjos', 'Cunit', 'Castellví de la Marca', 'Castellet i la Gornal', 'Cubelles', 'Sant Jaume dels Domenys', 'Banyeres del Penedès', 'Arenys de Munt', 'la Nou de Berguedà', 'Santa Oliva', 'Blanes', 'Vilanova del Vallès', 'el Vendrell', 'Guardiola de Berguedà', 'Sitges', 'Roda de Barà', 'Caldes de Malavella', 'Bagà', 'Creixell', 'la Pobla de Montornès', 'Altafulla', 'Vinaixa', 'Setcases', 'Canyelles', 'les Preses', 'Tarrés', 'Urús', 'Vimbodí i Poblet', 'Tremp', 'Constantí', 'Lliçà de Vall', \"la Vall d'en Bas\", 'Bovera', \"l'Espluga de Francolí\", 'Vila-seca', 'Das', 'Sant Antoni de Vilamajor', 'Montblanc', \"Caldes d'Estrac\", 'Fontanals de Cerdanya', 'Sant Vicenç de Montalt', 'Vinyols i els Arcs', 'Sant Pere de Torelló', 'Vilaverd', 'Sant Esteve de Palautordera', 'Mont-roig del Camp', 'la Riba', 'Torelló', \"Vandellòs i l'Hospitalet de l'Infant\", 'Olius', 'Falset', 'Argentona', \"l'Ametlla de Mar\", 'la Selva del Camp', 'Rajadell', \"l'Ampolla\", 'Pacs del Penedès', 'Camarles', 'Sant Martí Sarroca', \"l'Aldea\", 'Llanars', 'Maçanet de la Selva', 'Castellfollit del Boix', 'Sant Feliu de Codines', 'Torrelles de Foix', 'Alcanar', 'Ullastrell', 'la Riera de Gaià', 'Tornabous', 'Sant Carles de la Ràpita', 'la Pobla de Lillet', 'la Pobla de Mafumet', 'Font-rubí', 'el Morell', 'els Hostalets de Pierola', 'Vilallonga del Camp', 'Bellvei', 'el Rourell', 'la Masó', 'Sant Bartomeu del Grau', 'Muntanyola', \"Santa Maria d'Oló\", 'Taradell', 'Vilassar de Mar', 'Alella', 'Calonge', 'Viladamat', 'Vilaplana', 'Avinyó', 'Castellvell del Camp', \"la Bisbal d'Empordà\", 'Cabrils', 'Figuerola del Camp', 'Sant Gregori', 'Aguilar de Segarra', 'Sant Pere Sallavinera', 'Llers', 'Canet de Mar', 'Calonge de Segarra', 'Sant Pol de Mar', 'la Fuliola', 'Castellfollit de Riubregós', 'Pineda de Mar', \"Bellcaire d'Urgell\", 'Torà', 'Biosca', 'Martorelles', 'Sanaüja', 'Sant Pere de Vilamajor', \"Sant Jaume d'Enveja\", 'Deltebre', 'la Baronia de Rialb', 'Roquetes', 'Sant Julià de Vilatorta', 'Ginestar', 'Vilablareix', 'Isona i Conca Dellà', 'Pals', 'Torrent', 'Mont-ras', 'Palamós', 'Fogars de Montclús', 'Anglesola', 'Talarn', 'Fogars de la Selva', 'Salàs de Pallars', 'la Pobla de Segur', 'Conca de Dalt', 'Senterada', 'la Torre de Cabdella', 'Guils de Cerdanya', 'Puiggròs', 'Bolvir', 'Ger', 'Isòvol', 'Bellver de Cerdanya', 'Prullans', \"Móra d'Ebre\", 'Montellà i Martinet', 'Palafolls', 'Polinyà', 'Tordera', 'Sant Pere de Ribes', 'els Alamús', 'Lloret de Mar', 'Roses', 'Marganell', 'Garrigàs', 'Pontós', 'Bàscara', 'Vacarisses', 'Vilademuls', 'Cervià de Ter', 'Viladecavalls', 'Sant Julià de Ramis', 'Sarrià de Ter', 'Vilabertran', 'Ventalló', 'Aiguaviva', 'Bescanó', 'Sant Martí de Centelles', 'Lladorre', 'les Borges del Camp', 'Castellserà', 'Penelles', 'Cervelló', 'Sant Vicenç de Torelló', 'Barbens', 'Torredembarra', \"l'Arboç\", 'Santa Fe del Penedès', 'Verges', \"Puigverd d'Agramunt\", 'Estaràs', 'Fornells de la Selva', 'Guissona', 'Riudellots de la Selva', 'Flix', 'el Poal', 'el Brull', 'Paüls', 'Vilafant', 'Linyola', 'Brunyola', 'Calaf', 'Anglès', 'Folgueroles', 'Cabanelles', \"l'Aleixar\", 'Maspujols', 'Vallirana', 'Campdevànol', 'Vilanova de Bellpuig', 'Navarcles', 'Calders', 'Fonollosa', 'Torrefarrera', 'Rosselló', 'Montseny', 'Albatàrrec', 'Montoliu de Lleida', 'Sant Fost de Campsentelles', 'Abella de la Conca', 'Meranges', 'Matadepera', 'la Granadella', 'la Palma de Cervelló', 'Alforja', 'Solsona', 'Viladrau', 'Arbúcies', 'Campins', 'Gratallops', 'la Vilella Baixa', 'Avinyonet de Puigventós', 'Vilanant', 'Navata', 'la Morera de Montsant', 'Lladó', 'Bigues i Riells', 'Blancafort', 'Massoteres', 'Llobera', 'Santpedor', 'la Jonquera', 'Navès', 'la Vilella Alta', 'Massanes', 'Sant Feliu de Buixalleu', 'Porrera', 'Hostalric', 'Guixers', 'Sant Llorenç de Morunys', 'Tiana', 'Vall-llobrega', 'Torre-serona', 'Benavent de Segrià', 'Castellterçol', 'Vilanova de Segrià', 'la Portella', 'Albesa', 'Vallmoll', 'Riner', 'Castell de Mur', 'Cardona', 'Àger', 'Arnes', 'les Avellanes i Santa Linya', 'Prat de Comte', 'Castelló de Farfanya', 'Benifallet', 'els Garidells', 'Perafort', 'Xerta', 'Rasquera', 'Miravet', 'Móra la Nova', 'Cassà de la Selva', 'Montmajor', 'Amer', 'Garcia', 'els Guiamets', 'Marçà', 'Pradell de la Teixeta', 'Duesaigües', 'Riudecols', 'Santa Coloma de Queralt', 'Botarell', 'Capmany', 'la Cellera de Ter', 'Riu de Cerdanya', 'Ullà', 'Santa Eugènia de Berga', 'Térmens', 'Torrebesses', 'Sarroca de Lleida', 'Alfés', 'Alcanó', 'Llardecans', 'Aldover', 'Santa Bàrbara', 'Masdenverge', 'Freginals', 'Ulldecona', 'Vilanova de la Barca', \"Ivars d'Urgell\", \"la Guingueta d'Àneu\", 'Espot', 'Llavorsí', 'Ivars de Noguera', 'Rialp', \"Sant Llorenç d'Hortons\", 'Sort', 'Soriguera', 'Fígols', 'Almacelles', 'Celrà', 'la Pera', 'Forallac', 'Masllorenç', 'Rodonyà', 'Vila-rodona', 'Alió', 'Sant Cugat Sesgarrigues', 'Godall', 'Fortià', \"Cabrera d'Anoia\", 'Sant Cebrià de Vallalta', 'Vilamalla', 'Sudanell', \"el Far d'Empordà\", 'Sant Quirze Safaja', 'Torroella de Fluvià', 'Sant Pere Pescador', 'la Bisbal del Penedès', 'Sant Jordi Desvalls', 'Colomers', 'Jafre', \"la Tallada d'Empordà\", 'Puigpelat', 'Llambilles', 'Avià', 'Castellfollit de la Roca', 'Juià', 'Bordils', 'Sant Martí Vell', 'Madremanya', 'Gualta', 'Ascó', 'Serra de Daró', 'Santa Maria de Corcó', 'Llorenç del Penedès', 'Vallfogona de Riucorb', 'Santa Cecília de Voltregà', 'Quart', 'Guimerà', 'Verdú', 'Tarroja de Segarra', 'Granyena de les Garrigues', 'Ciutadilla', 'el Cogul', 'Castelldans', 'Montgai', 'Preixens', 'Santa Maria de Besora', 'Viver i Serrateix', 'Fontanilles', 'Albons', 'Siurana', 'Cabanes', 'Pont de Molins', 'Biure', 'Agullana', 'el Milà', 'Moià', 'Sant Ramon', 'la Galera', 'la Sénia', 'Corçà', 'Albinyana', 'el Vilosell', 'Os de Balaguer', 'Artesa de Lleida', 'Puigverd de Lleida', 'Vilanova de Meià', 'Ossó de Sió', 'Roda de Ter', 'Palau de Santa Eulàlia', 'Regencós', 'Almoster', 'Torrelles de Llobregat', 'Ordis', 'Crespià', 'Maià de Montcal', 'Beuda', 'Besalú', 'Sant Ferriol', 'Serinyà', 'Palol de Revardit', 'els Plans de Sió', 'Vilaür', \"l'Armentera\", \"l'Albi\", 'Riudarenes', 'Aiguafreda', 'Baix Pallars', 'Viladasens', 'Begur', 'Saus, Camallera i Llampaies', 'Vilopriu', 'Sant Martí de Llémena', 'la Fatarella', \"Corbera d'Ebre\", 'Gandesa', 'Vilalba dels Arcs', 'Flaçà', 'Sant Joan de Mollet', 'Cànoves i Samalús', 'el Pinell de Brai', 'Riudecanyes', 'Sant Iscle de Vallalta', 'Tavèrnoles', 'Puigdàlber', \"Bellcaire d'Empordà\", 'Ivorra', 'Sant Guim de la Plana', 'Vespella de Gaià', 'Sant Guim de Freixenet', 'Sant Jaume de Llierca', 'Montagut i Oix', 'Argelaguer', 'Sales de Llierca', 'Sant Agustí de Lluçanès', 'Perafita', \"Sant Martí d'Albars\", 'Olost', 'Prats de Lluçanès', 'Santa Maria de Merlès', 'Sagàs', 'Terrades', 'les Cabanyes', 'Vilobí del Penedès', 'Rupià', 'Sant Salvador de Guardiola', 'Talavera', 'les Piles', 'Tossa de Mar', 'Alins', 'Tírvia', 'Ogassa', 'Alt Àneu', 'Naut Aran', 'Vielha e Mijaran', 'Es Bòrdes', 'Gisclareny', 'Sarral', 'Tortellà', 'Rocafort de Queralt', 'Llançà', 'Barberà de la Conca', 'Pira', 'el Port de la Selva', 'Pinós', \"Sant Sadurní d'Osormort\", 'Espinelves', 'Batea', 'Susqueda', 'Saldes', 'Rupit i Pruit', 'Pardines', 'Sant Feliu de Pallerols', 'Pratdip', \"les Planes d'Hostoles\", 'Ribes de Freser', 'Cadaqués', 'els Pallaresos', \"Cruïlles, Monells i Sant Sadurní de l'Heura\", \"l'Espluga Calba\", 'les Masies de Roda', 'Santa Maria de Martorelles', 'Cabó', 'la Pobla de Cérvoles', 'Esterri de Cardós', 'Bot', 'Olesa de Bonesvalls', 'Vilanova de Sau', 'Cornudella de Montsant', 'Castellar del Riu', 'Vall de Cardós', \"l'Espunyola\", 'Palau-sator', 'Castellcir', 'Cabanabona', 'Cabra del Camp', 'Campelles', 'Planoles', 'Toses', 'Arbolí', 'Poboleda', 'la Secuita', 'Sant Andreu Salou', 'Sant Hilari Sacalm', 'el Pont de Suert', 'la Pobla de Massaluca', 'Seròs', 'Bellaguarda', 'Sunyer', \"Vilanova d'Escornalbou\", 'Santa Margarida de Montbui', 'Mas de Barberans', 'Mura', 'Sant Llorenç Savall', 'el Montmell', \"la Palma d'Ebre\", 'Portbou', 'Llimiana', 'Aspa', 'Alpens', 'Carme', 'Santa Maria de Miralles', 'Bellprat', 'Parlavà', 'Ullastret', 'Maldà', 'Sant Martí de Riucorb', 'Nalec', 'el Masroig', 'Vinebre', 'Pujalt', 'Camós', \"la Torre de l'Espanyol\", 'Pedret i Marzà', 'Garriguella', 'Queralbs', 'Vilamaniscle', \"les Valls d'Aguilar\", 'Prats i Sansor', 'Vilada', \"Bellmunt d'Urgell\", 'Vilajuïga', 'Oristà', 'Cabacés', 'Montclar', 'Fontcoberta', 'el Pont de Vilomara i Rocafort', \"Canet d'Adri\", 'Òrrius', 'Alòs de Balaguer', 'Aiguamúrcia', 'Begues', 'Campllong', 'Colldejou', 'la Bisbal de Falset', 'Maials', 'Mont-ral', 'Gallifa', 'Bràfim', 'Riumors', 'Ultramort', 'Sant Julià de Cerdanyola', 'Sobremunt', 'Sant Boi de Lluçanès', 'Vilaller', 'Passanant i Belltall', 'Solivella', 'Boadella i les Escaules', 'Capolat', 'Pau', 'Lluçà', \"Castellar de n'Hug\", 'Gombrèn', \"l'Argentera\", 'els Prats de Rei', 'Darnius', 'Talamanca', 'Monistrol de Calders', 'Bonastre', 'Vallclara', 'Osor', 'Vilamòs', 'Sant Martí Sesgueioles', 'Arres', 'Bossòst', 'Sant Miquel de Fluvià', 'Alfara de Carles', 'la Nou de Gaià', 'Sarroca de Bellera', 'la Vall de Boí', 'Rellinars', 'Palau-saverdera', 'Olivella', 'Sant Mori', 'Margalef', 'Castellnou de Bages', 'Esponellà', 'Lladurs', 'Vallcebre', 'Belianes', 'Molló', 'Gósol', 'Josa i Tuixén', 'Pontons', 'Santa Eulàlia de Riuprimer', 'la Selva de Mar', 'Querol', 'Castellar de la Ribera', \"el Pont d'Armentera\", 'Albanyà', 'Benissanet', 'Caseres', 'Borredà', 'el Soleràs', 'els Torms', 'Ulldemolins', 'Juncosa', 'la Quar', 'Tavertet', 'Collsuspina', 'Granera', 'Les', 'Bausen', 'Canejan', 'Cervià de les Garrigues', 'Gavet de la Conca', 'Sant Julià del Llor i Bonmatí', 'Colera', 'Sant Climent Sescebes', 'Espolla', 'Rabós', 'la Llacuna', 'Foixà', 'Almatret', 'Gaià', 'els Omells de na Gaia', 'Sant Jaume de Frontanyà', 'Renau', 'Nulles', 'Vilabella', 'Maçanet de Cabrenys', 'Vilanova de Prades', 'Capafonts', 'Forès', 'Montoliu de Segarra', 'Capçanes', 'Salomó', 'la Febró', 'Conesa', 'Vilamacolum', \"l'Albiol\", 'Granyena de Segarra', 'Montferri', 'Vallfogona de Ripollès', 'Masarac', \"l'Albagés\", 'la Vansa i Fórnols', 'Gimenells i el Pla de la Font', 'Vallbona de les Monges', 'Tiurana', \"l'Estany\", 'Sant Llorenç de la Muga', 'Torroja del Priorat', 'Cistella', 'Sant Aniol de Finestres', 'Vidrà', 'Odèn', 'Bellmunt del Priorat', 'la Torre de Fontaubella', 'Fulleda', 'Sant Martí de Tous', 'Savallà del Comtat', 'la Coma i la Pedra', 'Llorac', 'la Molsosa', 'Preixana', \"Riba-roja d'Ebre\", 'el Molar', 'Sant Feliu Sasserra', 'Massalcoreig', \"Castell de l'Areny\", 'la Vajol', 'Sant Climent de Llobregat', 'el Lloar', \"la Granja d'Escarp\", 'Mollet de Peralada', 'Cantallops', 'Tivenys', 'Montornès de Segarra', 'Cava', 'Farrera', 'Sant Esteve de la Sarga', 'la Figuera', 'Orpí', 'Garrigoles']\n",
            "Carrier []\n"
          ],
          "name": "stdout"
        }
      ]
    },
    {
      "metadata": {
        "id": "igO9CYG6-nB4",
        "colab_type": "text"
      },
      "cell_type": "markdown",
      "source": [
        "## Data modification\n"
      ]
    },
    {
      "metadata": {
        "id": "H7jqfVfRSgKs",
        "colab_type": "code",
        "outputId": "ae91db65-942a-404a-d143-6e1679b2fd5a",
        "colab": {
          "base_uri": "https://localhost:8080/",
          "height": 382
        }
      },
      "cell_type": "code",
      "source": [
        "# printing a document of database \n",
        "list(collection.find().limit(1))"
      ],
      "execution_count": 0,
      "outputs": [
        {
          "output_type": "execute_result",
          "data": {
            "text/plain": [
              "[{'Activitat': 'UNKNOWN',\n",
              "  'Date': '17/10/2015 01:54:12 AM',\n",
              "  'Desc_': 'STATE_EMERGENCY_ONLY',\n",
              "  'Hora_': '01:54:12',\n",
              "  'Lat': 41.38734,\n",
              "  'Long_': 2.19812,\n",
              "  'MUNICIPI': 80193,\n",
              "  'NOM_MUNI': 'Barcelona',\n",
              "  'Operador': 'ONO',\n",
              "  'Senyal': 24,\n",
              "  'Xarxa': 'movistar',\n",
              "  '_id': ObjectId('5c3a1ff7ec11e0f6cec056bd'),\n",
              "  'downloadSpeed': '',\n",
              "  'net_type': '3G',\n",
              "  'precision1': 43,\n",
              "  'provider': 'fused',\n",
              "  'satellites': 0,\n",
              "  'speed': 1.4,\n",
              "  'status': 2,\n",
              "  'timestamp_': 1445039652105,\n",
              "  'uploadSpeed': ''}]"
            ]
          },
          "metadata": {
            "tags": []
          },
          "execution_count": 9
        }
      ]
    },
    {
      "metadata": {
        "id": "Sib6XApj8gwI",
        "colab_type": "text"
      },
      "cell_type": "markdown",
      "source": [
        "### Define Area of study (Data Cleansing)\n",
        "Defining the area of study, we can clean data to reduce the size of the database and reduce operation times."
      ]
    },
    {
      "metadata": {
        "id": "hB1Prja0N2XL",
        "colab_type": "text"
      },
      "cell_type": "markdown",
      "source": [
        "1- Lat: 41.453045    Long: 2.037423\n",
        "\n",
        "2- Lat: 41.453045    Long: 2.256154\n",
        "<br><br>\n",
        "\n",
        "3- Lat: 41.338663    Long: 2.037423\n",
        "\n",
        "4- Lat: 41.338663    Long: 2.256154"
      ]
    },
    {
      "metadata": {
        "id": "onaPNYKf9gcj",
        "colab_type": "code",
        "colab": {}
      },
      "cell_type": "code",
      "source": [
        "delete = collection.delete_many({'Long_': {\"$gt\" : 2.256154 }}) \n",
        "delete.deleted_count"
      ],
      "execution_count": 0,
      "outputs": []
    },
    {
      "metadata": {
        "id": "P1SMrhmb-e1L",
        "colab_type": "code",
        "colab": {}
      },
      "cell_type": "code",
      "source": [
        "delete = collection.delete_many({'Long_': {\"$lt\" : 2.037423 }}) \n",
        "delete.deleted_count"
      ],
      "execution_count": 0,
      "outputs": []
    },
    {
      "metadata": {
        "id": "fZvoOqdX-zwR",
        "colab_type": "code",
        "colab": {}
      },
      "cell_type": "code",
      "source": [
        "delete = collection.delete_many({'Lat': {\"$gt\" : 41.453045 }}) \n",
        "delete.deleted_count"
      ],
      "execution_count": 0,
      "outputs": []
    },
    {
      "metadata": {
        "id": "O8sG_Eb9-0E1",
        "colab_type": "code",
        "colab": {}
      },
      "cell_type": "code",
      "source": [
        "delete = collection.delete_many({'Lat': {\"$lt\" : 41.338663 }}) \n",
        "delete.deleted_count"
      ],
      "execution_count": 0,
      "outputs": []
    },
    {
      "metadata": {
        "id": "86Q4y_FEtbri",
        "colab_type": "text"
      },
      "cell_type": "markdown",
      "source": [
        "### Deletion of no relevant fields :  downloadSpeed, uploadSpeed, satellites, MUNICIPI, etc..."
      ]
    },
    {
      "metadata": {
        "id": "GXQe-PWA-p4f",
        "colab_type": "code",
        "outputId": "502a1bba-8638-4c31-a236-4ad0a8bea1f7",
        "colab": {
          "base_uri": "https://localhost:8080/",
          "height": 34
        }
      },
      "cell_type": "code",
      "source": [
        "filters = {'_id' : {'$ne': None }}\n",
        "fields = {'$unset': {'downloadSpeed': 1, 'uploadSpeed': 1, 'satellites': 1, 'MUNICIPI': 1, 'speed': 1,\n",
        "                     'status': 1, 'Senyal':1 , 'Desc_':1, 'provider': 1, 'timestamp_': 1, 'net_type': 1,\n",
        "                     'NOM_MUNI': 1, 'Operador': 1, 'Xarxa': 1, 'precision1': 1}}\n",
        " \n",
        "collection.update_many( filters ,fields)"
      ],
      "execution_count": 0,
      "outputs": [
        {
          "output_type": "execute_result",
          "data": {
            "text/plain": [
              "<pymongo.results.UpdateResult at 0x7fe737a06908>"
            ]
          },
          "metadata": {
            "tags": []
          },
          "execution_count": 15
        }
      ]
    },
    {
      "metadata": {
        "id": "YvOdgrajdPE-",
        "colab_type": "code",
        "outputId": "f6ef48e6-cd4a-4d91-cff5-aa9cbf58ee41",
        "colab": {
          "base_uri": "https://localhost:8080/",
          "height": 121
        }
      },
      "cell_type": "code",
      "source": [
        "list( collection.find().limit(1) )"
      ],
      "execution_count": 0,
      "outputs": [
        {
          "output_type": "execute_result",
          "data": {
            "text/plain": [
              "[{'Activitat': 'UNKNOWN',\n",
              "  'Date': '17/10/2015 01:54:12 AM',\n",
              "  'Hora_': '01:54:12',\n",
              "  'Lat': 41.38734,\n",
              "  'Long_': 2.19812,\n",
              "  '_id': ObjectId('5c3a1ff7ec11e0f6cec056bd')}]"
            ]
          },
          "metadata": {
            "tags": []
          },
          "execution_count": 16
        }
      ]
    },
    {
      "metadata": {
        "id": "TtqiTnxlR0VG",
        "colab_type": "text"
      },
      "cell_type": "markdown",
      "source": [
        "### Add Year, Month, Day, Weekday, Hour  fields\n"
      ]
    },
    {
      "metadata": {
        "id": "JsI-PdGjfgYk",
        "colab_type": "code",
        "outputId": "ad671a38-6e1b-48d2-eb9a-db20b8d0f22b",
        "colab": {
          "base_uri": "https://localhost:8080/",
          "height": 34
        }
      },
      "cell_type": "code",
      "source": [
        "from bson.objectid import ObjectId\n",
        "import datetime\n",
        "import sys\n",
        "\n",
        "def round_coord(x, base=0.005):\n",
        "     return round(base*round(x/base), 4)\n",
        "\n",
        "consulta_tmp = (collection.find({},{'_id','Date','Hora_','Lat','Long_'}))\n",
        "count = 0                                       # Set progress counter to 0\n",
        "\n",
        "num_docs = collection.count_documents({})\n",
        "for item in consulta_tmp:\n",
        "    pk = str(item['_id'])\n",
        "    datee = str(item['Date'])\n",
        "    day = int(datee.split('/')[0])\n",
        "    month = int(datee.split('/')[1])\n",
        "    year = int(datee.split('/')[2].split(' ')[0])\n",
        "    horaa = str(item['Hora_'])\n",
        "    hora = int(horaa.split(':')[0])\n",
        "    weekday = datetime.datetime(year, month, day).isoweekday()\n",
        "    lat = float(item['Lat'])\n",
        "    long = float(item['Long_'])\n",
        "    lat = round_coord(lat)\n",
        "    long = round_coord(long)    \n",
        "    filters = { '_id' : ObjectId(pk) }   \n",
        "    fields = {'$set': {'Year': year, 'Month' : month ,'Day' : day , 'Weekday' : weekday , 'Hour' : hora, 'Latitude' : lat , 'Longitude' : long }}\n",
        "    collection.update_one( filters ,fields)\n",
        "    \n",
        "    # Progress counter \n",
        "    count += 1 \n",
        "    if (count%50):    \n",
        "      b = round((count*100 / num_docs),1)\n",
        "      sys.stdout.write('\\r'+ str(b) + \"%\")"
      ],
      "execution_count": 0,
      "outputs": [
        {
          "output_type": "stream",
          "text": [
            "100.0%"
          ],
          "name": "stdout"
        }
      ]
    },
    {
      "metadata": {
        "id": "GYbHS5pDgGo_",
        "colab_type": "code",
        "outputId": "a56fe0a3-6356-4f4d-f65b-b73a4b6aa5f5",
        "colab": {
          "base_uri": "https://localhost:8080/",
          "height": 34
        }
      },
      "cell_type": "code",
      "source": [
        "filters = {'_id' : {'$ne': None }}\n",
        "fields = {'$unset': {'Date' : 1, 'Lat': 1, 'Long_': 1, 'Hora_':1}}\n",
        "\n",
        "collection.update_many( filters ,fields)"
      ],
      "execution_count": 0,
      "outputs": [
        {
          "output_type": "execute_result",
          "data": {
            "text/plain": [
              "<pymongo.results.UpdateResult at 0x7fe73683b588>"
            ]
          },
          "metadata": {
            "tags": []
          },
          "execution_count": 18
        }
      ]
    },
    {
      "metadata": {
        "id": "Bdn-gjQUjR_P",
        "colab_type": "text"
      },
      "cell_type": "markdown",
      "source": [
        "### Backup database"
      ]
    },
    {
      "metadata": {
        "id": "Uq5r2GskjRFo",
        "colab_type": "code",
        "outputId": "8e5461e5-cb41-4cd0-e7a3-3d00f2d91954",
        "colab": {
          "base_uri": "https://localhost:8080/",
          "height": 52
        }
      },
      "cell_type": "code",
      "source": [
        "# Export to CSV\n",
        "!mongodb-linux-x86_64-debian71-3.0.15/bin/mongoexport --db catalunya --collection mobile --type csv --out temp_coverageCat.csv --fields Activitat,Day,Hour,Latitude,Longitude,Month,Weekday,Year,_id"
      ],
      "execution_count": 0,
      "outputs": [
        {
          "output_type": "stream",
          "text": [
            "2019-01-12T18:34:47.913+0000\tconnected to: localhost\n",
            "2019-01-12T18:35:52.437+0000\texported 2800616 records\n"
          ],
          "name": "stdout"
        }
      ]
    },
    {
      "metadata": {
        "id": "ot0z-NIVq7XG",
        "colab_type": "code",
        "outputId": "5c6cef7e-4779-41b0-8d91-1fa5a6aacfd2",
        "colab": {
          "base_uri": "https://localhost:8080/",
          "height": 34
        }
      },
      "cell_type": "code",
      "source": [
        "collection.count_documents({})"
      ],
      "execution_count": 0,
      "outputs": [
        {
          "output_type": "execute_result",
          "data": {
            "text/plain": [
              "2800616"
            ]
          },
          "metadata": {
            "tags": []
          },
          "execution_count": 21
        }
      ]
    },
    {
      "metadata": {
        "id": "XYe5tb7yOP5p",
        "colab_type": "code",
        "outputId": "ddbf4d58-7495-4a17-eff5-531038670b39",
        "colab": {
          "base_uri": "https://localhost:8080/",
          "height": 434
        }
      },
      "cell_type": "code",
      "source": [
        "# Import from CSV\n",
        "\n",
        "!mongodb-linux-x86_64-debian71-3.0.15/bin/mongoimport --db catalunya --collection mobile --type csv --file temp_coverageCat.csv --drop --headerline"
      ],
      "execution_count": 0,
      "outputs": [
        {
          "output_type": "stream",
          "text": [
            "2019-01-13T00:42:52.530+0000\tconnected to: localhost\n",
            "2019-01-13T00:42:52.530+0000\tdropping: catalunya.mobile\n",
            "2019-01-13T00:42:55.529+0000\t[#.......................] catalunya.mobile\t9.9 MB/188.5 MB (5.3%)\n",
            "2019-01-13T00:42:58.528+0000\t[##......................] catalunya.mobile\t19.3 MB/188.5 MB (10.3%)\n",
            "2019-01-13T00:43:01.530+0000\t[###.....................] catalunya.mobile\t28.9 MB/188.5 MB (15.3%)\n",
            "2019-01-13T00:43:04.528+0000\t[####....................] catalunya.mobile\t38.1 MB/188.5 MB (20.2%)\n",
            "2019-01-13T00:43:07.528+0000\t[######..................] catalunya.mobile\t47.5 MB/188.5 MB (25.2%)\n",
            "2019-01-13T00:43:10.528+0000\t[#######.................] catalunya.mobile\t57.1 MB/188.5 MB (30.3%)\n",
            "2019-01-13T00:43:13.528+0000\t[########................] catalunya.mobile\t66.6 MB/188.5 MB (35.3%)\n",
            "2019-01-13T00:43:16.528+0000\t[########................] catalunya.mobile\t70.6 MB/188.5 MB (37.5%)\n",
            "2019-01-13T00:43:19.528+0000\t[#########...............] catalunya.mobile\t77.5 MB/188.5 MB (41.1%)\n",
            "2019-01-13T00:43:22.529+0000\t[###########.............] catalunya.mobile\t87.1 MB/188.5 MB (46.2%)\n",
            "2019-01-13T00:43:25.528+0000\t[############............] catalunya.mobile\t96.8 MB/188.5 MB (51.4%)\n",
            "2019-01-13T00:43:28.528+0000\t[#############...........] catalunya.mobile\t105.8 MB/188.5 MB (56.1%)\n",
            "2019-01-13T00:43:31.528+0000\t[##############..........] catalunya.mobile\t115.0 MB/188.5 MB (61.0%)\n",
            "2019-01-13T00:43:34.528+0000\t[###############.........] catalunya.mobile\t124.4 MB/188.5 MB (66.0%)\n",
            "2019-01-13T00:43:37.528+0000\t[################........] catalunya.mobile\t133.4 MB/188.5 MB (70.8%)\n",
            "2019-01-13T00:43:40.528+0000\t[##################......] catalunya.mobile\t142.5 MB/188.5 MB (75.6%)\n",
            "2019-01-13T00:43:43.528+0000\t[###################.....] catalunya.mobile\t152.2 MB/188.5 MB (80.8%)\n",
            "2019-01-13T00:43:46.528+0000\t[####################....] catalunya.mobile\t161.4 MB/188.5 MB (85.7%)\n",
            "2019-01-13T00:43:49.531+0000\t[#####################...] catalunya.mobile\t170.1 MB/188.5 MB (90.2%)\n",
            "2019-01-13T00:43:52.528+0000\t[######################..] catalunya.mobile\t179.6 MB/188.5 MB (95.3%)\n",
            "2019-01-13T00:43:55.529+0000\t[#######################.] catalunya.mobile\t185.2 MB/188.5 MB (98.3%)\n",
            "2019-01-13T00:43:57.801+0000\timported 2800616 documents\n"
          ],
          "name": "stdout"
        }
      ]
    },
    {
      "metadata": {
        "id": "Pmm1SEBrjoEJ",
        "colab_type": "text"
      },
      "cell_type": "markdown",
      "source": [
        "## Adding reference coordenates"
      ]
    },
    {
      "metadata": {
        "id": "PmjfOxlV8Gqe",
        "colab_type": "code",
        "colab": {}
      },
      "cell_type": "code",
      "source": [
        "pipeline = [{ '$group':{                                   # $group , generates an agrupation of data\n",
        "                  '_id' : { 'Year' : '$Year', 'Month' : '$Month', 'Day' : '$Day'}        # the id for the group is the 'Carrier' name\n",
        "                  ,'Year' : {'$max' : '$Year'}           # $max , keeps the 'Carrier' name as it is\n",
        "                  ,'Month' : {'$max' : '$Month'}           # $max , keeps the 'Carrier' name as it is\n",
        "                  ,'Day' : {'$max' : '$Day'}           # $max , keeps the 'Carrier' name as it is\n",
        "                  ,'Total' : {'$sum' : 1}                  # we generate a new key as 'Total', the value will be the $sum of carriers\n",
        "    \n",
        "                  }\n",
        "            },\n",
        "            { '$project':                                  # $project , creates a table as a result\n",
        "                  { '_id' : 0,                             # this is the list of items to include, '_id' is always visible. To hide it, we need to include '_id' : 0\n",
        "                    'Year' : 1,                         # to show carrier, it is included  'Carrier' : 1\n",
        "                    'Month' : 1,                         # to show carrier, it is included  'Carrier' : 1\n",
        "                    'Day' : 1,                         # to show carrier, it is included  'Carrier' : 1\n",
        "                    'Total' : 1}                           # to show the total, it is included  'Total' : 1\n",
        "            },\n",
        "            { '$sort': {'Total' : -1}                      # and we sort the result by Total ammount in descendent order (-1)\n",
        "            }\n",
        "            ]\n",
        "query = list ( collection.aggregate( pipeline ))          # finally the pipeline is sent to mongoDB with collection.aggregate"
      ],
      "execution_count": 0,
      "outputs": []
    },
    {
      "metadata": {
        "id": "EzblyL_qslgK",
        "colab_type": "code",
        "outputId": "34a75efa-4d0a-43e5-c98c-6f005738031c",
        "colab": {
          "base_uri": "https://localhost:8080/",
          "height": 34
        }
      },
      "cell_type": "code",
      "source": [
        "heatmap_scale = 1\n",
        "\n",
        "# define reference points\n",
        "# 1- Lat: 41.453045 Long: 2.037423\n",
        "# 2- Lat: 41.453045 Long: 2.256154\n",
        "# 3- Lat: 41.338663 Long: 2.037423\n",
        "# 4- Lat: 41.338663 Long: 2.256154\n",
        "\n",
        "activitat_coor = 'IN_VEHICLE'\n",
        "latitude1 = [ 41.46]#, 41.335 ]\n",
        "#longitude1 = [ 2.030, 2.259 ]\n",
        "longitude1 = [2.03, 2.035, 2.04, 2.045, 2.05, 2.055, 2.06, 2.065, 2.07, 2.075, 2.08, 2.085, 2.09, 2.095, 2.1, 2.105, 2.11, 2.115, 2.12, 2.125, 2.13, 2.135, 2.14, 2.145, 2.15, 2.155, 2.16, 2.165, 2.17, 2.175, 2.18, 2.185, 2.19, 2.195, 2.2, 2.205, 2.21, 2.215, 2.22, 2.225, 2.23, 2.235, 2.24, 2.245, 2.25, 2.255, 2.26]\n",
        "hours = [8 , 18]\n",
        "\n",
        "\n",
        "count = 0\n",
        "num_docs = len( query )*heatmap_scale*47\n",
        "\n",
        "for i in range(heatmap_scale):\n",
        "  for lat in latitude1:\n",
        "    for long in longitude1:\n",
        "      for item in query:\n",
        "          year = int(item['Year'])\n",
        "          month = int(item['Month'])\n",
        "          day = int(item['Day'])\n",
        "          weekday = datetime.datetime(year, month, day).isoweekday()\n",
        "          for hour in hours:\n",
        "            fields = {'Activitat': activitat_coor, 'Year': year, 'Month' : month ,'Day' : day , 'Weekday' : weekday , 'Hour' : hora, 'Latitude' : lat , 'Longitude' : long }\n",
        "            insert_result = collection.insert_one ( fields )\n",
        "\n",
        "          # Progress counter \n",
        "          count += 1 \n",
        "          if (count%50):    \n",
        "            b = round((count*100 / num_docs),1)\n",
        "            sys.stdout.write('\\r'+ str(b) + \"%\")\n",
        "  i +=1"
      ],
      "execution_count": 0,
      "outputs": [
        {
          "output_type": "stream",
          "text": [
            "100.0%"
          ],
          "name": "stdout"
        }
      ]
    },
    {
      "metadata": {
        "id": "3ZZtPpUQnVqm",
        "colab_type": "code",
        "outputId": "59849351-241c-4316-9aec-487d07e4bca7",
        "colab": {
          "base_uri": "https://localhost:8080/",
          "height": 34
        }
      },
      "cell_type": "code",
      "source": [
        "heatmap_scale = 1\n",
        "\n",
        "# define reference points\n",
        "# 1- Lat: 41.453045 Long: 2.037423\n",
        "# 2- Lat: 41.453045 Long: 2.256154\n",
        "# 3- Lat: 41.338663 Long: 2.037423\n",
        "# 4- Lat: 41.338663 Long: 2.256154\n",
        "\n",
        "activitat_coor = 'IN_VEHICLE'\n",
        "latitude1 = [ 41.335, 41.34, 41.345, 41.35, 41.355, 41.36, 41.365, 41.37, 41.375, 41.38, 41.385, 41.39, 41.395, 41.4, 41.405, 41.41, 41.415, 41.42, 41.425, 41.43, 41.435, 41.44, 41.445, 41.45, 41.455, 41.46 ]#, 41.335 ]\n",
        "#longitude1 = [ 2.030, 2.259 ]\n",
        "longitude1 = [2.03]#, 2.035, 2.04, 2.045, 2.05, 2.055, 2.06, 2.065, 2.07, 2.075, 2.08, 2.085, 2.09, 2.095, 2.1, 2.105, 2.11, 2.115, 2.12, 2.125, 2.13, 2.135, 2.14, 2.145, 2.15, 2.155, 2.16, 2.165, 2.17, 2.175, 2.18, 2.185, 2.19, 2.195, 2.2, 2.205, 2.21, 2.215, 2.22, 2.225, 2.23, 2.235, 2.24, 2.245, 2.25, 2.255, 2.26]\n",
        "hours = [8 , 18]\n",
        "\n",
        "\n",
        "count = 0\n",
        "num_docs = len( query )*heatmap_scale*26\n",
        "\n",
        "for i in range(heatmap_scale):\n",
        "  for lat in latitude1:\n",
        "    for long in longitude1:\n",
        "      for item in query:\n",
        "          year = int(item['Year'])\n",
        "          month = int(item['Month'])\n",
        "          day = int(item['Day'])\n",
        "          weekday = datetime.datetime(year, month, day).isoweekday()\n",
        "          for hour in hours:\n",
        "            fields = {'Activitat': activitat_coor, 'Year': year, 'Month' : month ,'Day' : day , 'Weekday' : weekday , 'Hour' : hora, 'Latitude' : lat , 'Longitude' : long }\n",
        "            insert_result = collection.insert_one ( fields )\n",
        "\n",
        "          # Progress counter \n",
        "          count += 1 \n",
        "          if (count%50):    \n",
        "            b = round((count*100 / num_docs),1)\n",
        "            sys.stdout.write('\\r'+ str(b) + \"%\")\n",
        "  i +=1"
      ],
      "execution_count": 0,
      "outputs": [
        {
          "output_type": "stream",
          "text": [
            "100.0%"
          ],
          "name": "stdout"
        }
      ]
    },
    {
      "metadata": {
        "id": "Ck5DQS9oCphv",
        "colab_type": "code",
        "outputId": "37cd2f9c-1867-453a-d1c9-657861ec145f",
        "colab": {
          "base_uri": "https://localhost:8080/",
          "height": 34
        }
      },
      "cell_type": "code",
      "source": [
        "collection.count_documents({})"
      ],
      "execution_count": 0,
      "outputs": [
        {
          "output_type": "execute_result",
          "data": {
            "text/plain": [
              "2959756"
            ]
          },
          "metadata": {
            "tags": []
          },
          "execution_count": 87
        }
      ]
    },
    {
      "metadata": {
        "id": "cHqX0W_vb2lR",
        "colab_type": "code",
        "outputId": "b05baaae-b7f6-45dc-cc1c-6a8d47a06aa3",
        "colab": {
          "base_uri": "https://localhost:8080/",
          "height": 52
        }
      },
      "cell_type": "code",
      "source": [
        "print( len(collection.distinct('Latitude')))\n",
        "print( len(collection.distinct('Longitude')))"
      ],
      "execution_count": 0,
      "outputs": [
        {
          "output_type": "stream",
          "text": [
            "26\n",
            "47\n"
          ],
          "name": "stdout"
        }
      ]
    },
    {
      "metadata": {
        "id": "cdP1Os14j5vQ",
        "colab_type": "text"
      },
      "cell_type": "markdown",
      "source": [
        "## Export to CSV"
      ]
    },
    {
      "metadata": {
        "id": "5IqAd4Na1mdX",
        "colab_type": "code",
        "outputId": "4e3c8df7-1736-40d4-c451-0066312a2138",
        "colab": {
          "base_uri": "https://localhost:8080/",
          "height": 52
        }
      },
      "cell_type": "code",
      "source": [
        "# Export to CSV\n",
        "!mongodb-linux-x86_64-debian71-3.0.15/bin/mongoexport --db catalunya --collection mobile --type csv --out coverageCat.csv --fields Activitat,Day,Hour,Latitude,Longitude,Month,Weekday,Year"
      ],
      "execution_count": 0,
      "outputs": [
        {
          "output_type": "stream",
          "text": [
            "2019-01-13T00:45:51.007+0000\tconnected to: localhost\n",
            "2019-01-13T00:46:45.912+0000\texported 2959756 records\n"
          ],
          "name": "stdout"
        }
      ]
    },
    {
      "metadata": {
        "id": "X00suZU02KQO",
        "colab_type": "code",
        "outputId": "52ef2d03-a275-460a-a550-fa4366d5ab84",
        "colab": {
          "base_uri": "https://localhost:8080/",
          "height": 34
        }
      },
      "cell_type": "code",
      "source": [
        "!tar -czvf coverageCatv4.tar.gz coverageCat.csv\n",
        "!mv coverageCatv4.tar.gz GDrive/My\\ Drive/"
      ],
      "execution_count": 0,
      "outputs": [
        {
          "output_type": "stream",
          "text": [
            "coverageCat.csv\n"
          ],
          "name": "stdout"
        }
      ]
    }
  ]
}