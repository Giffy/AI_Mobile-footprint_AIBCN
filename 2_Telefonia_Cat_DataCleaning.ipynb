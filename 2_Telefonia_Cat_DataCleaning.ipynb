{
  "nbformat": 4,
  "nbformat_minor": 0,
  "metadata": {
    "colab": {
      "name": "2_Telefonia_Cat_DataCleaning.ipynb",
      "version": "0.3.2",
      "provenance": [],
      "collapsed_sections": [],
      "include_colab_link": true
    },
    "kernelspec": {
      "name": "python3",
      "display_name": "Python 3"
    }
  },
  "cells": [
    {
      "cell_type": "markdown",
      "metadata": {
        "id": "view-in-github",
        "colab_type": "text"
      },
      "source": [
        "<a href=\"https://colab.research.google.com/github/Giffy/Mobility_AIBCN/blob/master/2_Telefonia_Cat_DataCleaning.ipynb\" target=\"_parent\"><img src=\"https://colab.research.google.com/assets/colab-badge.svg\" alt=\"Open In Colab\"/></a>"
      ]
    },
    {
      "metadata": {
        "id": "b2f7AR-fYNZh",
        "colab_type": "text"
      },
      "cell_type": "markdown",
      "source": [
        "##  Install libraries (if required)"
      ]
    },
    {
      "metadata": {
        "id": "aSGmJj1OZ5vb",
        "colab_type": "code",
        "outputId": "55f443a7-c0aa-48bf-cd03-397bbb389484",
        "colab": {
          "base_uri": "https://localhost:8080/",
          "height": 34
        }
      },
      "cell_type": "code",
      "source": [
        "# Instalar PyMongo\n",
        "! python -m pip install pymongo"
      ],
      "execution_count": 1,
      "outputs": [
        {
          "output_type": "stream",
          "text": [
            "Requirement already satisfied: pymongo in /usr/local/lib/python3.6/dist-packages (3.7.2)\n"
          ],
          "name": "stdout"
        }
      ]
    },
    {
      "metadata": {
        "id": "FOKBdYKYsyrG",
        "colab_type": "text"
      },
      "cell_type": "markdown",
      "source": [
        "##  Connect to Google Drive"
      ]
    },
    {
      "metadata": {
        "id": "2VBwS6oVs39B",
        "colab_type": "code",
        "outputId": "8ff78fb8-071a-4ccf-9803-5f62df113900",
        "colab": {
          "base_uri": "https://localhost:8080/",
          "height": 34
        }
      },
      "cell_type": "code",
      "source": [
        "# Check is Link to Drive is OK\n",
        "google = !if [ -d 'GDrive/' ]; then echo \"1\" ; else echo \"0\"; fi\n",
        "if (google[0] is '0' ):\n",
        "  from google.colab import drive\n",
        "  drive.mount('/content/GDrive/')\n",
        "!if [ -d 'GDrive/' ]; then echo \"Connection to Google drive successful\" ; else echo \"Error to connect to Google drive\"; fi"
      ],
      "execution_count": 2,
      "outputs": [
        {
          "output_type": "stream",
          "text": [
            "Connection to Google drive successful\n"
          ],
          "name": "stdout"
        }
      ]
    },
    {
      "metadata": {
        "id": "HEX_s7O2SHc9",
        "colab_type": "text"
      },
      "cell_type": "markdown",
      "source": [
        "##  Load data"
      ]
    },
    {
      "metadata": {
        "id": "pCV7JaviMq3v",
        "colab_type": "code",
        "outputId": "e2475e61-036c-4fe5-8a0e-4531190571dc",
        "colab": {
          "base_uri": "https://localhost:8080/",
          "height": 52
        }
      },
      "cell_type": "code",
      "source": [
        "check_file = !if [ -f 'GDrive/My Drive/coverageCatalunya.tar.gz' ]; then echo \"1\" ; else echo \"0\"; fi\n",
        "\n",
        "\n",
        "if (check_file[0] is '0' ):\n",
        "  print ('Dataset not available in Google Drive: downloading dataset ... \\n')\n",
        "  # If datafile is not in Google Drive the download it\n",
        "  # Download Open Data from 'Dades obertes catalunya': https://analisi.transparenciacatalunya.cat/browse?q=cobertura%20M%C3%B2bil\n",
        "  # It dowloads a 1.7Gb csv file  \n",
        "  !wget \"https://analisi.transparenciacatalunya.cat/api/views/g9ma-vbt8/rows.csv?accessType=DOWNLOAD\"\n",
        "  !mv rows* coverageCatalunya.csv\n",
        "  !tar -czvf coverageCatalunya.tar.gz coverageCatalunya.csv\n",
        "  # Backup data to Google drive\n",
        "  !mv coverageCatalunya.tar.gz GDrive/My\\ Drive/\n",
        "\n",
        "  \n",
        "if (check_file[0] is '1' ):\n",
        "  print ('Dataset available in Google Drive: inflating dataset ... ')\n",
        "  !tar -xvf GDrive/My\\ Drive/coverageCatalunya.tar.gz coverageCatalunya.csv"
      ],
      "execution_count": 3,
      "outputs": [
        {
          "output_type": "stream",
          "text": [
            "Dataset available in Google Drive: inflating dataset ... \n",
            "coverageCatalunya.csv\n"
          ],
          "name": "stdout"
        }
      ]
    },
    {
      "metadata": {
        "id": "2nDqmOpI4Ptc",
        "colab_type": "code",
        "colab": {}
      },
      "cell_type": "code",
      "source": [
        "!mongodb-linux-x86_64-debian71-3.0.15/bin/mongoimport --db catalunya --collection mobile --type csv --file coverageCatalunya.csv --drop --headerline"
      ],
      "execution_count": 0,
      "outputs": []
    },
    {
      "metadata": {
        "id": "j_2CNJCprPUG",
        "colab_type": "text"
      },
      "cell_type": "markdown",
      "source": [
        "##  Connect to MongoDB database"
      ]
    },
    {
      "metadata": {
        "id": "ZGN08VqMqtIr",
        "colab_type": "code",
        "colab": {}
      },
      "cell_type": "code",
      "source": [
        "import pymongo\n",
        "from pymongo import MongoClient\n",
        "# uri (uniform resource identifier) defines the connection parameters \n",
        "uri = 'localhost:27017'\n",
        "# start client to connect to MongoDB server \n",
        "client = MongoClient( uri )"
      ],
      "execution_count": 0,
      "outputs": []
    },
    {
      "metadata": {
        "id": "HzgWQW6D9UaM",
        "colab_type": "code",
        "colab": {}
      },
      "cell_type": "code",
      "source": [
        "db = client.catalunya                           ##  Seleccionamos la base de datos con nombre \"movil\"\n",
        "db.list_collection_names()                      ##  Listamos las colecciones disponibles\n",
        "collection = db.mobile"
      ],
      "execution_count": 0,
      "outputs": []
    },
    {
      "metadata": {
        "id": "idVHFLyyaAqw",
        "colab_type": "text"
      },
      "cell_type": "markdown",
      "source": [
        "##  Database Visualization"
      ]
    },
    {
      "metadata": {
        "id": "dnahlXXVqwtN",
        "colab_type": "code",
        "outputId": "7669b2c2-b15f-42ce-d088-d6a1ad3f1522",
        "colab": {
          "base_uri": "https://localhost:8080/",
          "height": 72
        }
      },
      "cell_type": "code",
      "source": [
        "print (list (collection.find().limit(1)[1]))\n",
        "print ('Total documents: ' + str(  collection.count_documents({'_id' : {'$ne': None }}) ))"
      ],
      "execution_count": 7,
      "outputs": [
        {
          "output_type": "stream",
          "text": [
            "['_id', 'timestamp_', 'Date', 'Hora_', 'Lat', 'Long_', 'Senyal', 'Xarxa', 'Operador', 'status', 'Desc_', 'net_type', 'speed', 'satellites', 'precision1', 'provider', 'Activitat', 'downloadSpeed', 'uploadSpeed', 'MUNICIPI', 'NOM_MUNI']\n",
            "Total documents: 11744914\n"
          ],
          "name": "stdout"
        }
      ]
    },
    {
      "metadata": {
        "id": "bvWV03zWae24",
        "colab_type": "code",
        "colab": {}
      },
      "cell_type": "code",
      "source": [
        "attributes = ['Hora_', 'Activitat', 'Year', 'Month', 'Day', 'Weekday', 'Hour']\n",
        "attributes = ['Senyal', 'Xarxa', 'Operador', 'status', 'Desc_', 'net_type', 'speed', 'precision1', 'provider', 'Activitat', 'NOM_MUNI','Carrier']\n",
        "\n",
        "for attribute in attributes:\n",
        "  if (attribute != '_id'):\n",
        "    print ( attribute + \" \"+ str( collection.distinct( attribute )))"
      ],
      "execution_count": 0,
      "outputs": []
    },
    {
      "metadata": {
        "id": "igO9CYG6-nB4",
        "colab_type": "text"
      },
      "cell_type": "markdown",
      "source": [
        "## Data modification\n"
      ]
    },
    {
      "metadata": {
        "id": "H7jqfVfRSgKs",
        "colab_type": "code",
        "outputId": "b51dfd3a-91bb-4d90-cc30-2b463bb5ed8f",
        "colab": {
          "base_uri": "https://localhost:8080/",
          "height": 382
        }
      },
      "cell_type": "code",
      "source": [
        "list(collection.find().limit(1))"
      ],
      "execution_count": 9,
      "outputs": [
        {
          "output_type": "execute_result",
          "data": {
            "text/plain": [
              "[{'Activitat': 'UNKNOWN',\n",
              "  'Date': '17/10/2015 01:54:12 AM',\n",
              "  'Desc_': 'STATE_EMERGENCY_ONLY',\n",
              "  'Hora_': '01:54:12',\n",
              "  'Lat': 41.38734,\n",
              "  'Long_': 2.19812,\n",
              "  'MUNICIPI': 80193,\n",
              "  'NOM_MUNI': 'Barcelona',\n",
              "  'Operador': 'ONO',\n",
              "  'Senyal': 24,\n",
              "  'Xarxa': 'movistar',\n",
              "  '_id': ObjectId('5c23613498a81066a4429c77'),\n",
              "  'downloadSpeed': '',\n",
              "  'net_type': '3G',\n",
              "  'precision1': 43,\n",
              "  'provider': 'fused',\n",
              "  'satellites': 0,\n",
              "  'speed': 1.4,\n",
              "  'status': 2,\n",
              "  'timestamp_': 1445039652105,\n",
              "  'uploadSpeed': ''}]"
            ]
          },
          "metadata": {
            "tags": []
          },
          "execution_count": 9
        }
      ]
    },
    {
      "metadata": {
        "id": "Sib6XApj8gwI",
        "colab_type": "text"
      },
      "cell_type": "markdown",
      "source": [
        "### Define Area of study"
      ]
    },
    {
      "metadata": {
        "id": "hB1Prja0N2XL",
        "colab_type": "text"
      },
      "cell_type": "markdown",
      "source": [
        "1- Lat: 41.453045    Long: 2.037423\n",
        "\n",
        "2- Lat: 41.453045    Long: 2.256154\n",
        "<br><br>\n",
        "\n",
        "3- Lat: 41.338663    Long: 2.037423\n",
        "\n",
        "4- Lat: 41.338663    Long: 2.256154"
      ]
    },
    {
      "metadata": {
        "id": "onaPNYKf9gcj",
        "colab_type": "code",
        "outputId": "57512282-f4d8-461e-ec79-c9a550f6b4fe",
        "colab": {
          "base_uri": "https://localhost:8080/",
          "height": 34
        }
      },
      "cell_type": "code",
      "source": [
        "delete = collection.delete_many({'Long_': {\"$gt\" : 2.256154 }}) \n",
        "delete.deleted_count"
      ],
      "execution_count": 10,
      "outputs": [
        {
          "output_type": "execute_result",
          "data": {
            "text/plain": [
              "2782972"
            ]
          },
          "metadata": {
            "tags": []
          },
          "execution_count": 10
        }
      ]
    },
    {
      "metadata": {
        "id": "P1SMrhmb-e1L",
        "colab_type": "code",
        "outputId": "1a625167-65eb-4e85-e9fc-c5e20ab2b028",
        "colab": {
          "base_uri": "https://localhost:8080/",
          "height": 34
        }
      },
      "cell_type": "code",
      "source": [
        "delete = collection.delete_many({'Long_': {\"$lt\" : 2.037423 }}) \n",
        "delete.deleted_count"
      ],
      "execution_count": 11,
      "outputs": [
        {
          "output_type": "execute_result",
          "data": {
            "text/plain": [
              "4619737"
            ]
          },
          "metadata": {
            "tags": []
          },
          "execution_count": 11
        }
      ]
    },
    {
      "metadata": {
        "id": "fZvoOqdX-zwR",
        "colab_type": "code",
        "outputId": "520b3666-4452-4292-c5a4-3f03f9c07c2e",
        "colab": {
          "base_uri": "https://localhost:8080/",
          "height": 34
        }
      },
      "cell_type": "code",
      "source": [
        "delete = collection.delete_many({'Lat': {\"$gt\" : 41.453045 }}) \n",
        "delete.deleted_count"
      ],
      "execution_count": 12,
      "outputs": [
        {
          "output_type": "execute_result",
          "data": {
            "text/plain": [
              "1395474"
            ]
          },
          "metadata": {
            "tags": []
          },
          "execution_count": 12
        }
      ]
    },
    {
      "metadata": {
        "id": "O8sG_Eb9-0E1",
        "colab_type": "code",
        "outputId": "f809333d-8fc9-4023-df15-51774fddd097",
        "colab": {
          "base_uri": "https://localhost:8080/",
          "height": 34
        }
      },
      "cell_type": "code",
      "source": [
        "delete = collection.delete_many({'Lat': {\"$lt\" : 41.338663 }}) \n",
        "delete.deleted_count"
      ],
      "execution_count": 13,
      "outputs": [
        {
          "output_type": "execute_result",
          "data": {
            "text/plain": [
              "146115"
            ]
          },
          "metadata": {
            "tags": []
          },
          "execution_count": 13
        }
      ]
    },
    {
      "metadata": {
        "id": "86Q4y_FEtbri",
        "colab_type": "text"
      },
      "cell_type": "markdown",
      "source": [
        "### Deletion of no relevant fields :  downloadSpeed, uploadSpeed, satellites, MUNICIPI, etc..."
      ]
    },
    {
      "metadata": {
        "id": "GXQe-PWA-p4f",
        "colab_type": "code",
        "outputId": "ddea6e07-d4ad-467d-e1dd-967cace40b92",
        "colab": {
          "base_uri": "https://localhost:8080/",
          "height": 34
        }
      },
      "cell_type": "code",
      "source": [
        "filters = {'_id' : {'$ne': None }}\n",
        "fields = {'$unset': {'downloadSpeed': 1, 'uploadSpeed': 1, 'satellites': 1, 'MUNICIPI': 1, 'speed': 1,\n",
        "                     'status': 1, 'Senyal':1 , 'Desc_':1, 'provider': 1, 'timestamp_': 1, 'net_type': 1,\n",
        "                     'NOM_MUNI': 1, 'Operador': 1, 'Xarxa': 1, 'precision1': 1}}\n",
        " \n",
        "collection.update_many( filters ,fields)"
      ],
      "execution_count": 14,
      "outputs": [
        {
          "output_type": "execute_result",
          "data": {
            "text/plain": [
              "<pymongo.results.UpdateResult at 0x7f2e298873c8>"
            ]
          },
          "metadata": {
            "tags": []
          },
          "execution_count": 14
        }
      ]
    },
    {
      "metadata": {
        "id": "YvOdgrajdPE-",
        "colab_type": "code",
        "outputId": "2d64d9b9-9e3e-47b0-90a4-0ac142e51186",
        "colab": {
          "base_uri": "https://localhost:8080/",
          "height": 121
        }
      },
      "cell_type": "code",
      "source": [
        "list( collection.find().limit(1) )"
      ],
      "execution_count": 15,
      "outputs": [
        {
          "output_type": "execute_result",
          "data": {
            "text/plain": [
              "[{'Activitat': 'UNKNOWN',\n",
              "  'Date': '17/10/2015 01:54:12 AM',\n",
              "  'Hora_': '01:54:12',\n",
              "  'Lat': 41.38734,\n",
              "  'Long_': 2.19812,\n",
              "  '_id': ObjectId('5c23613498a81066a4429c77')}]"
            ]
          },
          "metadata": {
            "tags": []
          },
          "execution_count": 15
        }
      ]
    },
    {
      "metadata": {
        "id": "TtqiTnxlR0VG",
        "colab_type": "text"
      },
      "cell_type": "markdown",
      "source": [
        "### Add Year, Month, Day, Weekday, Hour  fields\n"
      ]
    },
    {
      "metadata": {
        "id": "JsI-PdGjfgYk",
        "colab_type": "code",
        "outputId": "f0c7255d-c31f-4481-ba1a-e70388280d67",
        "colab": {
          "base_uri": "https://localhost:8080/",
          "height": 34
        }
      },
      "cell_type": "code",
      "source": [
        "from bson.objectid import ObjectId\n",
        "import datetime\n",
        "import sys\n",
        "\n",
        "def round_coord(x, base=0.005):\n",
        "     return round(base*round(x/base), 4)\n",
        "\n",
        "consulta_tmp = (collection.find({},{'_id','Date','Hora_','Lat','Long_'}))\n",
        "count = 0\n",
        "num_docs = collection.count_documents({})\n",
        "for item in consulta_tmp:\n",
        "    pk = str(item['_id'])\n",
        "    datee = str(item['Date'])\n",
        "    day = int(datee.split('/')[0])\n",
        "    month = int(datee.split('/')[1])\n",
        "    year = int(datee.split('/')[2].split(' ')[0])\n",
        "    horaa = str(item['Hora_'])\n",
        "    hora = int(horaa.split(':')[0])\n",
        "    weekday = datetime.datetime(year, month, day).isoweekday()\n",
        "    lat = float(item['Lat'])\n",
        "    long = float(item['Long_'])\n",
        "    lat = round_coord(lat)\n",
        "    long = round_coord(long)    \n",
        "    filters = { '_id' : ObjectId(pk) }   \n",
        "    fields = {'$set': {'Year': year, 'Month' : month ,'Day' : day , 'Weekday' : weekday , 'Hour' : hora, 'Latitude' : lat , 'Longitude' : long }}\n",
        "    collection.update_one( filters ,fields)\n",
        "    count += 1 \n",
        "    if (count%50):    \n",
        "      b = round((count*100 / num_docs),1)\n",
        "      sys.stdout.write('\\r'+ str(b) + \"%\")"
      ],
      "execution_count": 16,
      "outputs": [
        {
          "output_type": "stream",
          "text": [
            "100.0%"
          ],
          "name": "stdout"
        }
      ]
    },
    {
      "metadata": {
        "id": "ot0z-NIVq7XG",
        "colab_type": "code",
        "outputId": "b090f631-9069-4108-a54f-e2ff0de66c75",
        "colab": {
          "base_uri": "https://localhost:8080/",
          "height": 243
        }
      },
      "cell_type": "code",
      "source": [
        "list(collection.find().limit(1))"
      ],
      "execution_count": 17,
      "outputs": [
        {
          "output_type": "execute_result",
          "data": {
            "text/plain": [
              "[{'Activitat': 'UNKNOWN',\n",
              "  'Date': '17/10/2015 01:54:12 AM',\n",
              "  'Day': 17,\n",
              "  'Hora_': '01:54:12',\n",
              "  'Hour': 1,\n",
              "  'Lat': 41.38734,\n",
              "  'Latitude': 41.385,\n",
              "  'Long_': 2.19812,\n",
              "  'Longitude': 2.2,\n",
              "  'Month': 10,\n",
              "  'Weekday': 6,\n",
              "  'Year': 2015,\n",
              "  '_id': ObjectId('5c23613498a81066a4429c77')}]"
            ]
          },
          "metadata": {
            "tags": []
          },
          "execution_count": 17
        }
      ]
    },
    {
      "metadata": {
        "id": "GYbHS5pDgGo_",
        "colab_type": "code",
        "outputId": "6b5a23e1-256e-4ae6-f48b-391305f21d47",
        "colab": {
          "base_uri": "https://localhost:8080/",
          "height": 34
        }
      },
      "cell_type": "code",
      "source": [
        "filters = {'_id' : {'$ne': None }}\n",
        "fields = {'$unset': {'Date' : 1, 'Lat': 1, 'Long_': 1, 'Hora_':1}}\n",
        "\n",
        "collection.update_many( filters ,fields)"
      ],
      "execution_count": 18,
      "outputs": [
        {
          "output_type": "execute_result",
          "data": {
            "text/plain": [
              "<pymongo.results.UpdateResult at 0x7f2e281c2808>"
            ]
          },
          "metadata": {
            "tags": []
          },
          "execution_count": 18
        }
      ]
    },
    {
      "metadata": {
        "id": "cdP1Os14j5vQ",
        "colab_type": "text"
      },
      "cell_type": "markdown",
      "source": [
        "## Export to CSV"
      ]
    },
    {
      "metadata": {
        "id": "5IqAd4Na1mdX",
        "colab_type": "code",
        "outputId": "df8e4b8b-a9b3-498b-b282-36e843409083",
        "colab": {
          "base_uri": "https://localhost:8080/",
          "height": 52
        }
      },
      "cell_type": "code",
      "source": [
        "# Export to CSV\n",
        "!mongodb-linux-x86_64-debian71-3.0.15/bin/mongoexport --db catalunya --collection mobile --type csv --out coverageCat.csv --fields Activitat,Day,Hour,Latitude,Longitude,Month,Weekday,Year,_id"
      ],
      "execution_count": 19,
      "outputs": [
        {
          "output_type": "stream",
          "text": [
            "2018-12-26T12:10:47.699+0000\tconnected to: localhost\n",
            "2018-12-26T12:11:46.890+0000\texported 2800616 records\n"
          ],
          "name": "stdout"
        }
      ]
    },
    {
      "metadata": {
        "id": "X00suZU02KQO",
        "colab_type": "code",
        "outputId": "ceac3f56-81f7-42b4-cbe0-c1294cd21176",
        "colab": {
          "base_uri": "https://localhost:8080/",
          "height": 34
        }
      },
      "cell_type": "code",
      "source": [
        "!tar -czvf coverageCat.tar.gz coverageCat.csv\n",
        "!mv coverageCat.tar.gz GDrive/My\\ Drive/"
      ],
      "execution_count": 20,
      "outputs": [
        {
          "output_type": "stream",
          "text": [
            "coverageCat.csv\n"
          ],
          "name": "stdout"
        }
      ]
    },
    {
      "metadata": {
        "id": "IJ0ckXtiy3fI",
        "colab_type": "code",
        "colab": {}
      },
      "cell_type": "code",
      "source": [
        ""
      ],
      "execution_count": 0,
      "outputs": []
    }
  ]
}