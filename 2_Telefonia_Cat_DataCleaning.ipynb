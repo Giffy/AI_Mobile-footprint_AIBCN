{
  "nbformat": 4,
  "nbformat_minor": 0,
  "metadata": {
    "colab": {
      "name": "2_Telefonia_Cat_DataCleaning.ipynb",
      "version": "0.3.2",
      "provenance": [],
      "collapsed_sections": [],
      "include_colab_link": true
    },
    "kernelspec": {
      "name": "python3",
      "display_name": "Python 3"
    }
  },
  "cells": [
    {
      "cell_type": "markdown",
      "metadata": {
        "id": "view-in-github",
        "colab_type": "text"
      },
      "source": [
        "<a href=\"https://colab.research.google.com/github/Giffy/Mobility_AIBCN/blob/master/2_Telefonia_Cat_DataCleaning.ipynb\" target=\"_parent\"><img src=\"https://colab.research.google.com/assets/colab-badge.svg\" alt=\"Open In Colab\"/></a>"
      ]
    },
    {
      "metadata": {
        "id": "b2f7AR-fYNZh",
        "colab_type": "text"
      },
      "cell_type": "markdown",
      "source": [
        "##  Install libraries (if required)"
      ]
    },
    {
      "metadata": {
        "id": "aSGmJj1OZ5vb",
        "colab_type": "code",
        "outputId": "b4699997-06f9-4357-c750-198a3054d0d9",
        "colab": {
          "base_uri": "https://localhost:8080/",
          "height": 104
        }
      },
      "cell_type": "code",
      "source": [
        "# Instalar PyMongo\n",
        "! python -m pip install pymongo"
      ],
      "execution_count": 1,
      "outputs": [
        {
          "output_type": "stream",
          "text": [
            "Collecting pymongo\n",
            "\u001b[?25l  Downloading https://files.pythonhosted.org/packages/b1/45/5440555b901a8416196fbf2499c4678ef74de8080c007104107a8cfdda20/pymongo-3.7.2-cp36-cp36m-manylinux1_x86_64.whl (408kB)\n",
            "\u001b[K    100% |████████████████████████████████| 409kB 11.8MB/s \n",
            "\u001b[?25hInstalling collected packages: pymongo\n",
            "Successfully installed pymongo-3.7.2\n"
          ],
          "name": "stdout"
        }
      ]
    },
    {
      "metadata": {
        "id": "FOKBdYKYsyrG",
        "colab_type": "text"
      },
      "cell_type": "markdown",
      "source": [
        "##  Connect to Google Drive"
      ]
    },
    {
      "metadata": {
        "id": "2VBwS6oVs39B",
        "colab_type": "code",
        "outputId": "0fef7e02-6cca-449f-fea5-866a7323230c",
        "colab": {
          "base_uri": "https://localhost:8080/",
          "height": 141
        }
      },
      "cell_type": "code",
      "source": [
        "# Check is Link to Drive is OK\n",
        "google = !if [ -d 'GDrive/' ]; then echo \"1\" ; else echo \"0\"; fi\n",
        "if (google[0] is '0' ):\n",
        "  from google.colab import drive\n",
        "  drive.mount('/content/GDrive/')\n",
        "!if [ -d 'GDrive/' ]; then echo \"Connection to Google drive successful\" ; else echo \"Error to connect to Google drive\"; fi"
      ],
      "execution_count": 2,
      "outputs": [
        {
          "output_type": "stream",
          "text": [
            "Go to this URL in a browser: https://accounts.google.com/o/oauth2/auth?client_id=947318989803-6bn6qk8qdgf4n4g3pfee6491hc0brc4i.apps.googleusercontent.com&redirect_uri=urn%3Aietf%3Awg%3Aoauth%3A2.0%3Aoob&scope=email%20https%3A%2F%2Fwww.googleapis.com%2Fauth%2Fdocs.test%20https%3A%2F%2Fwww.googleapis.com%2Fauth%2Fdrive%20https%3A%2F%2Fwww.googleapis.com%2Fauth%2Fdrive.photos.readonly%20https%3A%2F%2Fwww.googleapis.com%2Fauth%2Fpeopleapi.readonly&response_type=code\n",
            "\n",
            "Enter your authorization code:\n",
            "··········\n",
            "Mounted at /content/GDrive/\n",
            "Connection to Google drive successful\n"
          ],
          "name": "stdout"
        }
      ]
    },
    {
      "metadata": {
        "id": "HEX_s7O2SHc9",
        "colab_type": "text"
      },
      "cell_type": "markdown",
      "source": [
        "##  Load data"
      ]
    },
    {
      "metadata": {
        "id": "XZUPLfTdto7h",
        "colab_type": "code",
        "colab": {}
      },
      "cell_type": "code",
      "source": [
        "# Download Open Data from 'Dades obertes catalunya': https://analisi.transparenciacatalunya.cat/browse?q=cobertura%20M%C3%B2bil\n",
        "!wget \"https://analisi.transparenciacatalunya.cat/api/views/g9ma-vbt8/rows.csv?accessType=DOWNLOAD\"\n",
        "\n",
        "!mv rows* coverageCatalunya.csv\n",
        "!tar -czvf coverageCatalunya.tar.gz coverageCatalunya.csv"
      ],
      "execution_count": 0,
      "outputs": []
    },
    {
      "metadata": {
        "id": "2nDqmOpI4Ptc",
        "colab_type": "code",
        "colab": {}
      },
      "cell_type": "code",
      "source": [
        "!mongodb-linux-x86_64-debian71-3.0.15/bin/mongoimport --db catalunya --collection mobile --type csv --file coverageCatalunya.csv --drop --headerline"
      ],
      "execution_count": 0,
      "outputs": []
    },
    {
      "metadata": {
        "id": "j_2CNJCprPUG",
        "colab_type": "text"
      },
      "cell_type": "markdown",
      "source": [
        "##  Connect to MongoDB database"
      ]
    },
    {
      "metadata": {
        "id": "ZGN08VqMqtIr",
        "colab_type": "code",
        "colab": {}
      },
      "cell_type": "code",
      "source": [
        "import pymongo\n",
        "from pymongo import MongoClient\n",
        "# uri (uniform resource identifier) defines the connection parameters \n",
        "uri = 'localhost:27017'\n",
        "# start client to connect to MongoDB server \n",
        "client = MongoClient( uri )"
      ],
      "execution_count": 0,
      "outputs": []
    },
    {
      "metadata": {
        "id": "HzgWQW6D9UaM",
        "colab_type": "code",
        "colab": {}
      },
      "cell_type": "code",
      "source": [
        "db = client.catalunya                           ##  Seleccionamos la base de datos con nombre \"movil\"\n",
        "db.list_collection_names()                      ##  Listamos las colecciones disponibles\n",
        "collection = db.mobile"
      ],
      "execution_count": 0,
      "outputs": []
    },
    {
      "metadata": {
        "id": "idVHFLyyaAqw",
        "colab_type": "text"
      },
      "cell_type": "markdown",
      "source": [
        "##  Database Visualization"
      ]
    },
    {
      "metadata": {
        "id": "dnahlXXVqwtN",
        "colab_type": "code",
        "outputId": "8b9fe260-e628-4025-e419-f4b0324fc5f2",
        "colab": {
          "base_uri": "https://localhost:8080/",
          "height": 72
        }
      },
      "cell_type": "code",
      "source": [
        "print (list (collection.find().limit(1)[1]))\n",
        "print ('Total documents: ' + str(  collection.count_documents({'_id' : {'$ne': None }}) ))"
      ],
      "execution_count": 8,
      "outputs": [
        {
          "output_type": "stream",
          "text": [
            "['_id', 'timestamp_', 'Date', 'Hora_', 'Lat', 'Long_', 'Senyal', 'Xarxa', 'Operador', 'status', 'Desc_', 'net_type', 'speed', 'satellites', 'precision1', 'provider', 'Activitat', 'downloadSpeed', 'uploadSpeed', 'MUNICIPI', 'NOM_MUNI']\n",
            "Total documents: 11744914\n"
          ],
          "name": "stdout"
        }
      ]
    },
    {
      "metadata": {
        "id": "bvWV03zWae24",
        "colab_type": "code",
        "outputId": "16d59618-297f-4742-fbd0-7ffb60bfc86b",
        "colab": {
          "base_uri": "https://localhost:8080/",
          "height": 245
        }
      },
      "cell_type": "code",
      "source": [
        "attributes = ['Senyal', 'Xarxa', 'Operador', 'status', 'Desc_', 'net_type', 'speed', 'satellites', 'precision1', 'provider', 'Activitat', 'downloadSpeed', 'uploadSpeed', 'MUNICIPI', 'NOM_MUNI']\n",
        "attributes = ['Senyal', 'Xarxa', 'Operador', 'status', 'Desc_', 'net_type', 'speed', 'precision1', 'provider', 'Activitat', 'NOM_MUNI','Carrier']\n",
        "\n",
        "for attribute in attributes:\n",
        "  if (attribute != '_id'):\n",
        "    print ( attribute + \" \"+ str( collection.distinct( attribute )))"
      ],
      "execution_count": 9,
      "outputs": [
        {
          "output_type": "stream",
          "text": [
            "Senyal [9, 25, 12, 14, 8, 2, 23, 16, 15, 3, 4, 5, 6, 11, 17, 21, 13, 7, 22, 33, 10, 19, 24, 28, 0, 27, 18, 30, 31, 29, 26, 20, 52, 1, 50, 60, 58, 32, 39, 35, 54, 51, 53, 56, 63, 42, 49, 55, 61, 59, 57, 62, 64, 37, 65, 40, 47, 36, 34, 45, 41, 38, 99, 43, 48, 44, 46, 98, 96, 78, 93, 87, 88, 97, 76, 86]\n",
            "Xarxa ['MetroPCS', 'movistar', 'Telefonica Moviles Espana', 'orange', 'vodafone', 'yoigo', 'o2 - de', 'TICAE', 'F SFR', '', 'ENTEL', 'Orange SP', 'Solo llamadas de emergencia', 'VIVO', 'PARLEM', 'TIM', 'MOBILAND', 'France Telcom Espana SA', 'Sense servei.', 'Sin servicio', 'F-Bouygues Telecom', 'Orange F', 'T-Mobile', 'TELCEL', 'Lowi', \"Nom├®s trucades d'emerg├¿ncia\", 'vodafone UK', 'Lebara', 'BEL PROXIMUS', 'France Telecom Espa├▒a SA', 'PLAY', 'ION MOBILE', 'PLAY (T-Mobile)', 'P TMN', 'vodafone NL', 'L TANGO', 'Vodafone', 'vodafone P', 'A1', 'vodafone HU', 'Tele2', 'UNEFON', 'Claro', 'null', 'Solo emergencia', 'Voz Premium', 'vodafone IT', 'I WIND', 'Plus', 'MASMovil', 'CLARO BR', 'E-Plus', 'Salt', 'Telef├│nica M├│viles Espa├▒a', 'BYTEL', 'O2 - UK', 'RO Vodafone RO', 'Buscando servi├ºo', 'GurbTec', 'FIBRACAT', 'AT&T', 'NL KPN', 'Vodafone.de', 'Telekom.de', 'Mobistar', 'CHN-UNICOM', 'HR VIP', 'vodafone GR', 'NetCom', 'EE', 'Eroski Movil', 'O2 - CZ', 'T-Mobile CZ', 'Vodafone CZ', 'Solo llamadas de emergencias', 'Bouygues Telecom', 23866, 'I.C.E.', 'Sunrise', 'Nextel', 'I TIM', 90118, 'GNQ01', 'Vodafone Spain', 'vf es', 'VE_MOVILNET', 0, '?????', 'LCR', 21303, 'TIM 21', 'MOVILNET GSM', 'mCel', 'Prisco Mobile', 'IAM', 'TIGO', 'Smart', 'Lycamobile', 'Oi', 'oceans', 'Swisscom', 'icatel', 'Happy', 'P OPTIMUS', 'MEO', 'MOVILNET', 'Simple Mobile', 'METEOR', 'ETISALAT', 'Meteor', 'du', 'Vodafone Qatar', 'IND airtel', 'PROXIMUS', 'Sense servei', 'RepublicaM', 'MOR IAM', 'Xfera Moviles SA', 'Sin cobertura', 'Orange ES', 'MTS', 'jazztel', 'simyo 3g', 'Altice', 'EE | Orange', 'gironafibra', 'Proximus', 'Orange F | JAZZTEL', 'mobilR', 'LlamaYA', 'Vodacom', 'VAMOS PERU | movistar', 'CABLEMOVIL', 'ETICOM SC', 'FreedomPop', 'ANDORRA-MOBILAND', 'CUBACEL', 'F BYTEL', 'MTS RUS', 'Telekom HU', 'Republica Movil', 'Orange F | Orange', 'F SFR | Orange', 'Vodafone HU', 'virgin', 'ESPRT', 'MOBILAND | JAZZTEL', 'emagina', 'Lowi,', 'Vivo', 21401, 'GETESA', 'vodafone ES | Profesional', 'sunrise', 'F Bouygues', 'Pelephone', 'Partner', 'PARTNER', 'T-Mobile D', 'Republica Movi', 'TELETON', 'GRAU', 'NOS', 'vodafone IE', 'Digi.Mobil', 'airtel', 'Vodafone IN', 'SUOP', 'Movistar | Particular', 'T-Mobile A | Orange', '3 AT | Orange', 'CLARO', 'WOM', 'TDC', 'Telenor SE', 'SWEDEN', 'T-Mobile NL', 'A1 | Orange', 'VodaCom-MZ', 'Unitymedia', 'Telia N', 'VodafoneMalta', 'inwi', '3 ITA', 'Movistar | Empresa', 'Mtel', 'La Poste Mobile', 'TIM@sea', 'O2 CZ', 'Maroc Telecom', 'T-Mobile.pl', 'Play', 'ALGAR TELECOM', 'OMNITEL LT', 'TIM 98 | TIM', 'Telenor', 'TDC Mobil', 'O2 de', 'Open Mobile', 'IR MCI', 'TIM 48', 'MOBILAND | Orange', 'Si.mobil', 'Profesional', 'entel', 'go mobile', 'yallo', 'Cubacel', 3, 'France Orange', 'Telenor Maritime', 'TURKCELL', 'BITEL', '3 UK', 'N Telenor', 'weex', 'Claro AR', 'NL KPN | Orange', 'MTN', 'Cell C', 'Telenor BG', 'Empresa', 'TIM 45', 'One Call', 'MASMOVIL', 'MOBITEL', 'TIGO COL', 'eticom', 'B mobistar', 'STA-MOBILAND', 'M-AND', 'TIM 41', 'Telenor DK', 'DEFACE', 'DNKTD', 'Particular', 'TIM 11', 'simyo 3G', 'TIM 15', 'VodaCom-SA', 'TH 3G+', 'DTAC', 'AIS 3G', 'CABLE movil', 'bitel', 'VODAFONE IN', 'T-Mobile A', 'Telekom SK', 'Emergency calls only', 'Telenor HU', 'TIM BRASIL']\n",
            "Operador ['MetroPCS', 'Movistar', 'Telefonica Moviles Espana', 'movistar', 'Orange', 'vodafone ES', 'YOIGO', 'o2 - de', 'pepephone', 'TICAE', 'F SFR', '', 'ENTEL', 'JAZZTEL', 'Jazztel', 'Tuenti', 'ONO', 'simyo', 'RACC', 'Orange SP', 'Solo llamadas de emergencia', 'Yoigo', 'VIVO', 'PARLEM', 'TIM', 'MOBILAND', 'France Telcom Espana SA', 'Sense servei.', 'Sin servicio', 'F-Bouygues Telecom', 'Orange F', 'T-Mobile', 'TELCEL', 'Lowi', \"Nom├®s trucades d'emerg├¿ncia\", 'vodafone UK', 'Lebara', 'BEL PROXIMUS', 'France Telecom Espa├▒a SA', 'PLAY', 'ION MOBILE', 'PLAY (T-Mobile)', 'P TMN', 'vodafone NL', 'L TANGO', 'Vodafone', 'vodafone P', 'A1', 'vodafone HU', 'Tele2', 'UNEFON', 'Claro', 'null', 'Solo emergencia', 'Voz Premium', 'vodafone IT', 'I WIND', 'Plus', 'MASMovil', 'Vodafone ES', 'CLARO BR', 'E-Plus', 'Salt', 'Telef├│nica M├│viles Espa├▒a', 'BYTEL', 'O2 - UK', 'RO Vodafone RO', 'Buscando servi├ºo', 'GurbTec', 'FIBRACAT', 'AT&T', 'NL KPN', 'Vodafone.de', 'Telekom.de', 'Mobistar', 'CHN-UNICOM', 'HR VIP', 'vodafone GR', 'NetCom', 'EE', 'Eroski Movil', 'O2 - CZ', 'T-Mobile CZ', 'Vodafone CZ', 'vodafone', 'Solo llamadas de emergencias', 'Bouygues Telecom', 23866, 'I.C.E.', 'Sunrise', 'Nextel', 'I TIM', 90118, 'GNQ01', 'Vodafone Spain', 'vf es', 'VE_MOVILNET', 0, '?????', 'LCR', 21303, 'MOVISTAR', 'TIM 21', 'MOVILNET GSM', 'mCel', 'Prisco Mobile', 'IAM', 'TIGO', 'Smart', 'Lycamobile', 'Oi', 'oceans', 'Swisscom', 'icatel', 'Happy', 'P OPTIMUS', 'MEO', 'MOVILNET', 'Simple Mobile', 'METEOR', 'ETISALAT', 'Meteor', 'du', 'Vodafone Qatar', 'IND airtel', 'PROXIMUS', 'Sense servei', 'RepublicaM', 'MOR IAM', 'Xfera Moviles SA', 'Sin cobertura', 'Orange ES', 'MTS', 'Altice', 'EE | Orange', 'gironafibra', 'Proximus', 'Orange F | JAZZTEL', 'ion mobile', 'MOBILAND | Orange', 'mobilR', 'LlamaYA', 'Vodacom', 'VAMOS PERU | movistar', 'CABLEMOVIL', 'ETICOM SC', 'FreedomPop', 'MASMOVIL', 'ANDORRA-MOBILAND', 'eticom', 'CUBACEL', 'F BYTEL', 'MTS RUS', 'Telekom HU', 'adamo', 'Republica Movil', 'Orange F | Orange', 'F SFR | Orange', 'Vodafone HU', 'virgin', 'ESPRT', 'MOBILAND | JAZZTEL', 'emagina', 'Lowi,', 'Vivo', 21401, 'GETESA', 'vodafone ES | Profesional', 'sunrise', 'F Bouygues', 'Pelephone', 'Partner', 'PARTNER', 'T-Mobile D', 'Republica Movi', 'TELETON', 'GRAU', 'NOS', 'vodafone IE', 'Digi.Mobil', 'airtel', 'Vodafone IN', 'SUOP', 'Movistar | Particular', 'T-Mobile A | Orange', '3 AT | Orange', 'CLARO', 'WOM', 'TDC', 'Telenor SE', 'SWEDEN', 'T-Mobile NL', 'A1 | Orange', 'VodaCom-MZ', 'Unitymedia', 'Telia N', 'VodafoneMalta', 'inwi', '3 ITA', 'Movistar | Empresa', 'Mtel', 'La Poste Mobile', 'TIM@sea', 'O2 CZ', 'Maroc Telecom', 'T-Mobile.pl', 'Play', 'ALGAR TELECOM', 'OMNITEL LT', 'TIM 98 | TIM', 'Telenor', 'TDC Mobil', 'O2 de', 'Open Mobile', 'IR MCI', 'orange', 'TIM 48', 'Si.mobil', 'Profesional', 'entel', 'go mobile', 'yallo', 'Cubacel', 3, 'France Orange', 'Telenor Maritime', 'TURKCELL', 'BITEL', '3 UK', 'N Telenor', 'weex', 'EUSKALTEL', 'Claro AR', 'NL KPN | Orange', 'MTN', 'Cell C', 'Telenor BG', 'Empresa', 'TIM 45', 'One Call', 'MOBITEL', 'TIGO COL', 'B mobistar', 'STA-MOBILAND', 'M-AND', 'TIM 41', 'Telenor DK', 'DEFACE', 'DNKTD', 'Particular', 'TIM 11', 'simyo 3G', 'TIM 15', 'VodaCom-SA', 'TH 3G+', 'DTAC', 'AIS 3G', 'CABLE movil', 'bitel', 'VODAFONE IN', 'T-Mobile A', 'Telekom SK', 'Emergency calls only', 'Telenor HU', 'TIM BRASIL']\n",
            "status [2, 0, 3, 1]\n",
            "Desc_ ['STATE_EMERGENCY_ONLY', 'STATE_IN_SERVICE', 'STATE_POWER_OFF', 'STATE_OUT_OF_SERVICE']\n",
            "net_type ['2G', '4G', '3G', '']\n",
            "speed [6.8, 28.2, 2.6, 45.9, 88.7, 118.1, 3.6, 47.2, 5.2, 82.2, 7.7, 0, 51.9, 5, 9.7, 10.7, 104.8, 62.3, 7.6, 88.3, 46.8, 44.8, 1.2, 112.5, 94.6, 0.6, 0.2, 27.3, 3.5, 43.5, 76.2, 101.2, 86.7, 5.1, 15.7, 3.2, 7, 39.1, 78.1, 8.2, 6.1, 2.1, 91.4, 11.3, 41.1, 81.5, 1.6, 31, 0.3, 6.2, 12.5, 5.7, 108.4, 37.3, 3.8, 93.6, 7.8, 16.4, 5.8, 16.5, 68.7, 0.4, 26.9, 83.4, 110.4, 92.4, 4.4, 4.6, 13.3, 6.9, 9.3, 10.3, 0.7, 97.4, 83.9, 25.3, 12.4, 121.3, 37.7, 0.9, 18.8, 53.3, 29.8, 23, 84.7, 4.9, 1.8, 95, 37.8, 111.7, 31.7, 29.1, 7.1, 31.4, 23.3, 81.4, 54, 107.4, 14.7, 52, 1.4, 29.3, 20.7, 92, 35.7, 84.2, 69.4, 0.1, 11.2, 10.2, 4, 59.2, 4.8, 4.7, 33.9, 30.9, 58.3, 84.8, 19.3, 84, 14.3, 5.4, 86.8, 8.1, 42.8, 19.8, 22.3, 5.9, 2.9, 13.4, 96.8, 78.5, 14.9, 71.4, 9.4, 3.3, 21.4, 2.7, 31.1, 92.8, 87.4, 19.9, 3.4, 1.9, 52.5, 91.9, 89.6, 41.5, 14.4, 17.7, 1, 7.4, 13.6, 68.6, 38.2, 82.7, 10.5, 7.3, 12.8, 1.1, 15.5, 18.3, 12.1, 69.3, 24.8, 16.6, 50.7, 8.9, 9.8, 5.5, 2, 8, 19.7, 36.4, 56.2, 2.8, 72.3, 6.4, 17.6, 9.9, 2.3, 16.8, 61.3, 12.6, 2.4, 49, 3.9, 31.8, 62.4, 4.3, 57, 32.6, 22.1, 9.1, 46.6, 68.9, 38.3, 4.5, 8.7, 28.7, 75.2, 24, 43.6, 8.3, 67.5, 51.6, 2.2, 35.1, 50.2, 11.6, 31.9, 24.2, 40.6, 3.1, 20.2, 54.4, 38.6, 28.3, 19.1, 19, 39.4, 6, 59.5, 34.8, 14, 32.9, 59, 61.4, 57.7, 19.2, 0.8, 18.7, 36.3, 52.7, 99.4, 80.8, 13.8, 66.1, 51.4, 123, 182.1, 24.7, 6.6, 66.8, 50.8, 3.7, 123.4, 127, 54.9, 126.4, 18.4, 65.5, 134, 58.1, 7.2, 137.4, 89.9, 7.5, 88.1, 5.3, 129.6, 91, 23.8, 44.4, 11.4, 130.9, 63.6, 59.7, 16.9, 121.5, 83.2, 64.7, 35.4, 0.5, 116.4, 75.7, 15, 15.9, 117.3, 81.2, 3, 73.3, 27.8, 118.9, 119.3, 80.1, 48.8, 116, 82.3, 16.7, 78.6, 14.5, 93.2, 63.9, 47.6, 79.6, 68.8, 82.4, 49.3, 42.6, 65.4, 76.7, 87, 6.7, 47.3, 46.9, 1.5, 79.1, 17.5, 39.7, 24.3, 22.7, 101.7, 2.5, 101.5, 205.5, 8.4, 40.2, 27.4, 71.1, 23.6, 4.1, 25.8, 65.2, 20.1, 99.6, 56.4, 4.2, 63.5, 23.5, 62.8, 42, 78.2, 36.7, 57.9, 1.3, 38.9, 12.2, 20.3, 43.8, 9.5, 1.7, 27.6, 24.4, 41.2, 7.9, 40.7, 158.6, 37.2, 14.6, 98.4, 11.5, 112.8, 118.3, 84.1, 11.8, 75.9, 19.6, 37.1, 31.2, 20.5, 47.8, 106.9, 53, 50.1, 62.9, 63.8, 77.6, 26.4, 77.8, 40.3, 41.6, 63.1, 15.2, 17.4, 81.9, 49.9, 75.3, 51.8, 61.9, 46.2, 28.4, 69.1, 82, 13.5, 76.1, 80.6, 65.6, 52.3, 112.3, 51, 110.7, 78.9, 64.2, 69.6, 82.9, 116.7, 151.3, 112.1, 24.1, 13.1, 17.8, 77.2, 10, 87.2, 66, 52.9, 46.1, 82.6, 85.5, 38.8, 75.8, 82.8, 68.5, 85, 30.8, 29.6, 70.6, 44.1, 69.2, 27.1, 84.4, 42.4, 29.4, 88.2, 31.3, 63.2, 81.8, 15.3, 17.1, 70.4, 28, 88, 72.1, 48.5, 107.9, 6.3, 19.4, 29, 90.9, 70.3, 33.1, 47.7, 10.8, 63.3, 55.6, 45.8, 16.2, 96.3, 32.5, 99.1, 94.7, 98.9, 191.8, 33.7, 96.2, 44, 14.8, 21.5, 55, 23.7, 15.4, 31.6, 28.8, 10.4, 42.1, 44.2, 32.8, 55.4, 10.9, 84.6, 42.7, 80.4, 79.9, 79.8, 22.8, 77, 18.2, 11, 21.7, 28.1, 22.4, 21.6, 11.7, 17.2, 30.3, 25.7, 10.6, 28.9, 21, 8.8, 34.5, 21.3, 64.5, 89.8, 89.5, 68.3, 44.3, 75.4, 25.1, 71.7, 34.9, 30.1, 75.1, 70.9, 66.5, 6.5, 97.9, 57.1, 184.2, 27.9, 29.2, 13.7, 34.1, 20, 14.2, 10.1, 18.9, 27.2, 17.9, 22, 22.9, 21.9, 14.1, 5.6, 20.6, 35.8, 52.1, 51.3, 51.1, 20.8, 42.2, 28.5, 20.9, 26.2, 15.6, 34, 9, 13.2, 39.2, 94.3, 169.7, 36.1, 49.7, 8.6, 36.8, 32.7, 11.1, 23.4, 34.3, 33.3, 16.3, 73.2, 80.9, 26.6, 36.6, 26.7, 38.7, 58.8, 77.4, 106.2, 33.8, 35.5, 102.6, 17, 18.6, 24.5, 23.9, 19.5, 43.1, 34.4, 18.1, 22.5, 38, 53.2, 61.1, 58.2, 54.5, 48.4, 67.6, 53.4, 55.7, 109.6, 86.6, 102.3, 65, 109.7, 52.8, 112.2, 112, 92.9, 65.9, 75.6, 57.2, 91.1, 37, 50, 56, 43.2, 48, 54.2, 77.5, 49.1, 26.1, 70.1, 59.6, 76.8, 45.6, 46.3, 83, 98.5, 72.8, 56.6, 54.7, 63, 54.6, 51.7, 44.7, 60.3, 34.6, 18, 35.6, 56.3, 58.5, 39, 80.5, 30.6, 73.4, 57.5, 85.2, 49.5, 63.7, 64.4, 88.9, 81.3, 66.7, 97.3, 103.6, 95.4, 100.4, 57.3, 61, 77.9, 94.5, 70.7, 113, 71.3, 71.5, 30.7, 18.5, 99.2, 100.9, 62, 48.3, 54.3, 92.2, 35.3, 40.4, 72.4, 109.2, 110.2, 103.5, 34.7, 96.9, 81, 101.6, 70.8, 27, 62.5, 93.5, 40.5, 59.8, 82.1, 97.2, 22.6, 83.5, 11.9, 30.2, 149.1, 47.1, 92.7, 61.2, 60.6, 39.8, 69.8, 106.6, 48.2, 44.9, 102.5, 25.5, 60.8, 107.8, 101.4, 110, 105.2, 46, 87.5, 108.7, 77.3, 73.6, 109, 100.8, 103.4, 77.7, 104.6, 118.7, 60.9, 33.2, 105.8, 117.7, 96, 76.4, 70.5, 87.8, 79.2, 91.7, 74.5, 119, 95.6, 66.6, 94.1, 74.6, 78.7, 93.1, 8.5, 54.1, 15.1, 59.9, 159, 199.6, 32.1, 33.4, 87.6, 198.6, 31.5, 57.4, 27.5, 28.6, 200.5, 12, 48.6, 76, 35.9, 39.3, 72.9, 113.6, 66.9, 85.3, 109.8, 67.8, 65.7, 54.8, 41.9, 45.5, 46.7, 33.5, 34.2, 61.8, 49.2, 21.8, 15.8, 93.9, 24.9, 95.5, 52.4, 12.9, 89.4, 56.8, 13, 93.8, 98.1, 55.8, 35.2, 36.5, 23.1, 9.2, 93.3, 146.8, 9.6, 48.9, 66.4, 13.9, 33, 52.6, 93.4, 53.5, 43.9, 73.9, 95.1, 36.9, 57.6, 72.5, 53.9, 25.4, 60.7, 84.3, 89.1, 24.6, 83.8, 25.6, 42.3, 57.8, 25, 25.9, 77.1, 61.7, 60, 48.1, 39.9, 74.2, 60.1, 40.1, 80, 17.3, 20.4, 44.6, 80.3, 114.7, 12.3, 108.9, 85.4, 115.1, 98.8, 92.1, 114.9, 114, 111.4, 115.5, 60.2, 100.2, 215.2, 115.2, 56.1, 117.2, 104.4, 80.7, 22.2, 37.6, 32.4, 112.9, 101.8, 116.1, 115, 33.6, 16, 110.6, 93, 116.2, 111.2, 16.1, 60.4, 112.4, 111.8, 94.9, 53.7, 97.8, 67.4, 50.4, 115.8, 62.2, 78.4, 106.5, 101.1, 111.1, 108.8, 86.5, 82.5, 100.3, 119.6, 83.3, 107.1, 55.3, 115.4, 71.8, 69, 119.7, 41.8, 44.5, 42.5, 21.2, 47.9, 62.6, 49.6, 73.8, 89.2, 58.7, 45.4, 47.4, 121.8, 90.3, 59.4, 43.3, 125.6, 112.7, 128.7, 127.5, 103, 120.3, 41.7, 102.1, 118.8, 139.1, 50.5, 79, 136.1, 76.3, 118, 55.1, 70, 86.1, 72.6, 158, 78, 113.2, 114.6, 115.6, 86.4, 114.1, 30, 132.6, 119.4, 85.9, 120.9, 29.9, 56.9, 86.9, 125.2, 91.6, 87.3, 81.1, 127.8, 67.3, 110.3, 26.3, 43, 127.3, 29.5, 66.2, 165.5, 81.6, 68.4, 120.4, 52.2, 51.5, 41.4, 68, 79.4, 108.2, 113.7, 87.9, 81.7, 115.3, 113.8, 175.1, 113.9, 53.6, 83.6, 110.8, 72.7, 116.3, 78.8, 45.3, 26.8, 35, 114.8, 99.7, 38.5, 45.7, 43.4, 53.1, 102.8, 88.4, 114.3, 111.3, 87.1, 107.3, 115.9, 71.6, 115.7, 45.1, 67.7, 109.9, 113.4, 27.7, 47.5, 80.2, 96.1, 73.1, 96.6, 12.7, 99.9, 95.3, 89.7, 96.5, 76.6, 32, 74, 108.1, 85.7, 68.2, 113.3, 235.4, 93.7, 47, 61.6, 94, 130.8, 48.7, 97.5, 104.7, 41, 105.1, 42.9, 39.5, 104.1, 92.5, 40.8, 101, 128.3, 74.8, 100.5, 21.1, 128.6, 120.6, 154.1, 86.3, 124.5, 67, 88.8, 131, 74.3, 39.6, 105.4, 89, 128.2, 131.9, 85.1, 106.8, 53.8, 56.5, 103.7, 36.2, 69.7, 90.5, 30.4, 137.9, 29.7, 26, 121.9, 50.6, 58.4, 64.1, 126.8, 123.1, 45, 109.3, 119.1, 64.8, 104.3, 121.4, 119.2, 38.4, 123.9, 119.9, 101.9, 103.2, 123.7, 124.7, 49.8, 136.9, 131.5, 122.3, 84.9, 123.8, 107.6, 125, 32.2, 30.5, 59.1, 102.7, 23.2, 74.1, 61.5, 99.5, 76.9, 73.5, 104.5, 135.6, 91.3, 99.3, 91.8, 76.5, 100, 95.9, 46.5, 98.2, 109.4, 43.7, 102.4, 67.2, 78.3, 108.5, 144.5, 190.5, 106.4, 106.1, 228.3, 133.5, 88.6, 37.4, 98, 94.2, 90, 26.5, 55.5, 90.4, 101.3, 102.9, 73, 72.2, 40, 94.8, 97.6, 105.7, 103.3, 99.8, 111, 96.7, 79.3, 25.2, 103.1, 102.2, 103.9, 100.6, 97.7, 98.6, 40.9, 108.6, 95.2, 104.2, 92.6, 62.1, 98.3, 68.1, 37.5, 85.6, 100.1, 32.3, 107.2, 64.3, 62.7, 126.5, 129.7, 111.9, 128, 128.8, 124, 127.1, 83.1, 38.1, 138.2, 133.7, 88.5, 135.7, 124.4, 122.5, 95.7, 130.4, 96.4, 64, 71.9, 67.1, 86, 109.1, 102, 138.1, 85.8, 90.7, 50.3, 63.4, 112.6, 123.2, 58.6, 91.2, 120.2, 72, 58, 100.7, 90.2, 41.3, 131.7, 132.7, 71.2, 123.6, 116.9, 135.2, 132.4, 95.8, 169.2, 89.3, 75.5, 117.5, 116.8, 90.6, 103.8, 55.9, 107.5, 69.9, 120.1, 111.6, 120.7, 108.3, 122.1, 127.6, 105.3, 117.8, 83.7, 60.5, 105.5, 122.2, 36, 74.4, 64.9, 118.6, 87.7, 240.9, 141.9, 46.4, 73.7, 65.8, 79.7, 118.2, 98.7, 97, 91.5, 104, 119.8, 124.8, 50.9, 37.9, 110.5, 79.5, 74.7, 97.1, 116.5, 117.4, 70.2, 110.1, 106.7, 105, 107, 71, 107.7, 49.4, 106.3, 118.5, 117, 51.2, 92.3, 111.5, 132.1, 126.6, 132.3, 104.9, 134.1, 114.4, 128.1, 121.1, 105.9, 131.1, 108, 84.5, 121, 135.4, 126, 125.5, 126.3, 114.5, 123.3, 105.6, 67.9, 118.4, 124.6, 128.9, 127.2, 132.9, 136.7, 135, 58.9, 109.5, 113.1, 75, 125.9, 117.9, 121.6, 122, 59.3, 210.4, 215, 117.6, 139.2, 66.3, 127.4, 122.6, 121.7, 137.2, 56.7, 45.2, 130.7, 128.4, 130, 125.1, 125.4, 74.9, 114.2, 90.1, 64.6, 86.2, 90.8, 69.5, 55.2, 183.3, 65.3, 125.8, 128.5, 129.3, 133.9, 133.1, 99, 122.4, 116.6, 113.5, 117.1, 132.8, 94.4, 148.8, 157.1, 110.9, 151.4, 133.6, 142.7, 141.4, 133.3, 133.4, 122.9, 192.8, 198.4, 199.1, 207.9, 187.9, 134.4, 143.2, 193.5, 121.2, 146.9, 136.5, 131.3, 134.5, 140.4, 137.7, 145.3, 135.5, 130.2, 134.6, 132, 120, 106, 65.1, 129.1, 120.5, 177.1, 136.6, 142.5, 126.2, 206.7, 122.7, 119.5, 123.5, 131.6, 139.6, 122.8, 250, 148.4, 150, 132.5, 142.4, 120.8, 129.4, 131.8, 139.4, 124.2, 214.7, 160.8, 134.2, 129.9, 173.8, 166.2, 148.5, 130.6, 153.8, 145.2, 167.3, 124.1, 141, 153.5, 129.2, 165, 152.6, 224.8, 194.6, 154.8, 132.2, 198.1, 189.2, 124.3, 168.2, 232.7, 233, 185.4, 149.2, 167.8, 220, 125.7, 124.9, 166.7, 162.8, 147.7, 140.6, 164.2, 129, 164.1, 248.6, 136.2, 138.3, 178.5, 156.7, 126.7, 133.2, 137.8, 136.4, 234.3, 197.8, 150.7, 133, 129.5, 136.8, 210.3, 162.1, 184.3, 170.8, 181.6, 131.2, 139.9, 159.9, 181.2, 140.8, 151, 126.9, 130.5, 127.9, 154.3, 129.8, 141.6, 131.4, 224.5, 142.9, 138, 134.7, 138.9, 209.7, 184.9, 251.3, 149.6, 157.8, 143.5, 190.6, 134.3, 207.3, 241.9, 152.8, 149.5, 196.7, 164.8, 237.1, 133.8, 146.4, 142, 178.1, 194.7, 177.9, 210.7, 228.1, 125.3, 193.2, 148.6, 138.4, 143.4, 139.5, 136.3, 140.7, 138.5, 134.8, 139.7, 207.1, 134.9, 144.3, 139.3, 234.9, 207.7, 149.7, 249.1, 180, 190.3, 160.3, 191.6, 252.6, 247.6, 140.1, 137.5, 130.1, 140.9, 253.2, 182.8, 180.8, 126.1, 234.5, 170.6, 143.9, 144.4, 138.8, 145, 247, 173.9, 214.3, 150.3, 157.2, 150.8, 153.4, 149.9, 153.7, 146.1, 145.4, 187.6, 144.6, 238.5, 156, 154.7, 148.1, 155.5, 155.7, 150.5, 154.9, 152.5, 161.4, 150.6, 155, 151.5, 153.1, 152.2, 157.9, 157.7, 203.9, 212.7, 218.9, 221.1, 218.4, 183.4, 219.9, 145.7, 236.3, 219.7, 149, 213.8, 228.9, 240.3, 242.1, 234.7, 162.5, 193.8, 195.9, 135.3, 158.2, 214.4, 215.5, 156.3, 182.5, 243.8, 206.9, 204, 140.5, 164.9, 172.8, 238.6, 141.7, 216.3, 214.1, 159.8, 247.1, 214.6, 179.9, 239.8, 209.1, 163.6, 222.8, 239.2, 152.9, 233.6, 145.5, 170.9, 142.1, 158.5, 143.1, 153.3, 142.2, 239.5, 138.7, 195.5, 135.9, 138.6, 147.3, 211.8, 153.6, 168.8, 170, 158.8, 144.7, 167.4, 207.4, 205.1, 151.7, 188.7, 214.8, 202.4, 253.4, 156.1, 160.1, 224.7, 159.4, 152, 146.7, 139, 141.8, 205.3, 192.1, 221.2, 137.6, 155.1, 226.9, 229.7, 220.3, 157.6, 205.2, 188.2, 205.6, 140.3, 204.1, 212.3, 171.3, 135.8, 165.7, 219.5, 147, 141.2, 228, 206.6, 252, 216.1, 168.4, 127.7, 177.7, 197.4, 185.2, 246.9, 239.6, 160.2, 192.5, 245.8, 174, 137, 177, 166.9, 237.9, 190.2, 130.3, 242.9, 198.9, 204.9, 150.9, 142.6, 143.7, 242.5, 231, 253.8, 140, 232.1, 148, 166.4, 189.5, 198.2, 158.9, 151.2, 135.1, 144, 141.5, 140.2, 148.3, 145.8, 150.1, 146, 162.6, 159.2, 156.9, 155.3, 149.4, 158.4, 144.2, 195.7, 161.8, 169.4, 225.4, 218.8, 211.1, 187.8, 186.4, 152.4, 198.3, 230.8, 185.3, 162.9, 183, 160.7, 174.8, 253, 147.4, 175.6, 164.7, 191.3, 232.5, 182, 143.6, 148.7, 161.7, 154.4, 141.3, 239.4, 151.9, 170.1, 246.1, 137.3, 222.4, 206, 162.3, 141.1, 151.1, 146.5, 197.7, 179, 169.6, 254.4, 201.1, 159.6, 217, 193.7, 223.5, 232.2, 203.8, 136, 179.8, 253.7, 251.6, 176.3, 223, 244.8, 176.2, 249.9, 242.3, 158.3, 218.2, 156.6, 230.6, 196.3, 177.5, 217.4, 238.4, 227, 234.2, 238.2, 234.4, 233.2, 247.5, 231.2, 200.2, 160.9, 172.7, 222, 248.1, 250.2, 248, 242.4, 234, 250.8, 251.5, 249.8, 250.1, 250.6, 243.3, 201, 216, 221, 187.4, 169, 157.4, 147.5, 199.3, 192.4, 224.9, 227.2, 226.1, 234.1, 216.4, 244.1, 235.7, 146.3, 169.5, 199.2, 201.7, 214.5, 193.3, 143, 218.3, 199, 159.3, 226.6, 185.6, 192.3, 216.6, 184.1, 172, 188.8, 152.7, 178.8, 147.2, 170.5, 219.8, 161.6, 146.6, 218.5, 180.3, 159.1, 153.2, 145.9, 145.6, 155.4, 208.3, 227.3, 229.5, 251.8, 252.7, 164.3, 191, 171.4, 142.3, 154, 148.2, 240.1, 242.6, 181.1, 166.5, 211.7, 217.6, 247.2, 214.2, 182.2, 139.8, 143.8, 184.4, 173.7, 231.5, 242.8, 156.8, 147.1, 174.3, 180.1, 161.3, 146.2, 205.7, 144.8, 163.4, 235.3, 217.2, 137.1, 142.8, 253.5, 216.9, 169.8, 190.7, 143.3, 174.1, 161.5, 165.1, 151.8, 145.1, 154.5, 156.2, 149.8, 150.4, 152.3, 144.9, 188.5, 244.9, 157, 217.5, 241.1, 155.2, 249.2, 202, 147.9, 190.8, 163.8, 220.8, 219.1, 235.2, 245.3, 158.7, 246.8, 172.5, 181.9, 213.3, 164.4, 219.4, 200.8, 236.2, 193.1, 179.1, 175.5, 167.9, 152.1, 233.3, 182.3, 244.3, 174.9, 162.4, 174.7, 167.2, 241.7, 193, 168.5, 182.4, 235.9, 154.2, 241, 167.1, 228.8, 203, 187, 200.6, 173.3, 144.1, 147.6, 156.4, 163.3, 176.6, 176.1, 179.4, 219, 218.6, 180.5, 252.3, 209.3, 154.6, 202.2, 189.1, 157.3, 251.2, 148.9, 153.9, 159.7, 162, 155.9, 173.2, 232.9, 250.7, 244.6, 228.6, 212.4, 220.6, 181.8, 172.1, 196.5, 191.5, 153, 230.4, 184, 160.4, 190.1, 206.5, 231.8, 156.5, 191.1, 238.3, 171.9, 170.2, 167.5, 192.7, 236.7, 219.2, 204.4, 168.6, 193.9, 179.2, 210.5, 180.6, 224.2, 191.9, 189.3, 213.1, 210.8, 213, 237.7, 229.9, 245.5, 245.1, 217.1, 200, 241.2, 171.6, 181.5, 229.3, 218.7, 247.7, 203.2, 193.4, 183.6, 185.5, 221.4, 150.2, 147.8, 164, 231.6, 183.8, 196, 206.8, 236, 196.8, 173.1, 178.7, 184.7, 175.9, 160, 189, 160.6, 160.5, 163.1, 207.8, 209.6, 185.8, 165.3, 158.1, 186.6, 175.8, 199.5, 204.8, 235.5, 200.3, 181, 199.9, 171.2, 192.6, 253.1, 243.5, 245.2, 162.2, 167.7, 186.8, 238.7, 176.9, 164.6, 157.5, 166.6, 161.9, 162.7, 151.6, 175.2, 163.2, 165.9, 181.7, 165.8, 161.1, 167.6, 171.8, 254.8, 187.1, 240.4, 159.5, 222.7, 183.5, 201.3, 175.4, 165.6, 155.8, 237.4, 237.8, 173.6, 194.2, 197.5, 225.8, 203.3, 244.2, 217.7, 168.7, 185.1, 180.9, 237.3, 248.5, 208.5, 201.6, 236.5, 212.5, 149.3, 246.2, 211.6, 247.4, 188, 189.6, 243.9, 161, 225.2, 221.5, 178, 242, 247.9, 186.9, 172.9, 175, 222.6, 241.6, 251.9, 198.8, 231.1, 213.5, 236.9, 174.5, 170.7, 215.8, 195.8, 216.7, 233.1, 225.1, 163.5, 204.5, 174.2, 227.5, 209.5, 208.6, 222.3, 182.7, 195.1, 223.7, 245.9, 198.5, 196.2, 176.4, 195.2, 229.2, 197.2, 202.3, 178.2, 254.6, 223.1, 250.5, 206.4, 249.6, 202.9, 242.7, 202.1, 252.1, 252.8, 172.2, 215.9, 193.6, 244.4, 186.7, 201.2, 168.3, 180.7, 215.7, 179.3, 244, 225.6, 220.9, 221.8, 175.3, 223.3, 228.5, 166.3, 206.3, 223.6, 174.6, 215.1, 215.6, 173.4, 195.3, 183.9, 200.1, 223.4, 230, 172.6, 217.3, 254.5, 194.9, 185.9, 190.4, 166, 235.1, 254.7, 211.2, 255, 214, 190.9, 163, 194.1, 203.1, 201.9, 236.4, 169.3, 249.5, 220.7, 248.4, 195.4, 196.4, 207.2, 243.4, 165.2, 237.5, 191.7, 238.9, 165.4, 180.4, 169.9, 228.7, 207.5, 207, 176.8, 185, 237.2, 198, 233.5, 231.4, 200.9, 246.7, 220.1, 252.5, 205, 177.4, 182.9, 190, 210.9, 227.7, 231.9, 229.6, 189.8, 155.6, 227.8, 183.7, 247.8, 182.6, 172.4, 225.7, 219.3, 161.2, 229, 188.1, 221.7, 251.4, 204.7, 226.5, 221.9, 235.6, 168, 173, 201.4, 222.2, 225.9, 249.3, 229.1, 229.8, 207.6, 213.9, 197.3, 163.7, 225, 177.8, 200.4, 242.2, 227.4, 169.1, 202.8, 194, 232.6, 201.8, 191.4, 194.5, 195, 230.9, 236.8, 211.5, 204.2, 238.1, 211.3, 250.9, 187.7, 250.3, 228.2, 179.6, 230.2, 248.2, 166.1, 204.6, 253.3, 246.3, 218.1, 237, 252.2, 171.5, 248.8, 230.1, 208, 212.9, 251.1, 176.7, 183.2, 186, 209.9, 184.8, 248.7, 208.9, 197.6, 177.2, 184.6, 236.1, 243, 188.4, 243.6, 187.3, 187.2, 194.3, 237.6, 240.5, 186.2, 175.7, 205.4, 179.7, 168.9, 194.8, 253.6, 191.2, 241.3, 253.9, 254.9, 208.1, 199.8, 201.5, 189.4, 197, 212.6, 203.7, 181.3, 226, 239, 224.4, 220.5, 246, 223.2, 239.9, 188.3, 172.3, 167, 186.3, 205.9, 250.4, 168.1, 170.3, 245.7, 195.6, 209, 209.8, 202.6, 254.3, 203.6, 177.3, 185.7, 192.9, 176, 241.8, 208.8, 199.4, 230.5, 178.3, 241.5, 245.6, 200.7, 218, 226.7, 232.8, 179.5, 243.7, 244.7, 223.8, 212.1, 166.8, 211.9, 224.6, 220.2, 178.4, 251.7, 233.8, 208.4, 186.5, 234.8, 189.7, 247.3, 210.1, 246.5, 176.5, 240.8, 204.3, 229.4, 222.5, 209.4, 210.2, 194.4, 171, 239.3, 211.4, 189.9, 208.7, 228.4, 213.7, 225.3, 178.9, 171.7, 170.4, 198.7, 252.9, 233.4, 222.1, 223.9, 212, 241.4, 184.5, 216.8, 226.3, 171.1, 249, 215.4, 213.4, 227.1, 239.7, 164.5, 208.2, 206.1, 227.6, 187.5, 230.3, 240.7, 205.8, 252.4, 181.4, 213.2, 235, 246.6, 163.9, 248.9, 245, 178.6, 254.2, 203.5, 226.2, 212.2, 239.1, 232, 220.4, 248.3, 226.4, 196.9, 235.8, 196.1, 217.9, 240.2, 225.5, 202.5, 197.9, 227.9, 231.7, 231.3, 215.3, 222.9, 213.6, 217.8, 192.2, 203.4, 216.5, 251, 249.7, 183.1, 196.6, 211, 232.3, 224.1, 244.5, 206.2, 221.3, 216.2, 173.5, 243.2, 221.6, 177.6, 224.3, 238.8, 188.9, 219.6, 210.6, 254.1, 234.6, 240.6, 188.6, 214.9, 174.4, 212.8, 233.7, 240, 224, 226.8, 192, 236.6, 180.2, 197.1, 246.4, 238, 233.9, 243.1, 254, 186.1, 249.4, 209.2, 210, 245.4, 202.7, 232.4, 199.7, 0.1513412826, 2.18539, 40.81771, '', 41.97436, 2.28875, 230.7]\n",
            "precision1 [18, 25, 13, 12, 5, 14, 20, 48, 36, 11, 26, 6, 37, 38, 15, 17, 10, 53, 39, 24, 27, 9, 7, 23, 16, 34, 8, 45, 94, 21, 33, 4, 3, 30, 93, 29, 32, 31, 19, 40, 46, 113, 43, 49, 96, 52, 42, 41, 22, 28, 128, 47, 64, 2, 87, 50, 1, 58, 68, 79, 57, 0, 44, 54, 69, 100, 66, 78, 35, 56, 115, 61, 71, 51, 55, 130, 76, 102, 59, 63, 67, 82, 126, 77, 105, 98, 70, 122, 72, 85, 141, 106, 73, 138, 144, 112, 91, 99, 133, 131, 60, 136, 109, 139, 111, 84, 129, 97, 118, 81, 74, 88, 117, 134, 65, 89, 149, 86, 75, 103, 147, 90, 92, 80, 137, 62, 148, 101, 114, 108, 123, 143, 83, 125, 135, 120, 116, 107, 104, 110, 124, 127, 119, 145, 121, 132, 95, 142, 146, 140, '', 201, 174, 243, 195, 2.49537, 248, 190, 221, 176, 165, 192, 211, 223, 183, 185, 194, 214, 212, 152, 228, 227, 154, 246, 215, 188, 1399, 251, 244, 179, 197, 242, 2802, 303, 292, 333, 3200, 209, 171, 162, 216, 301, 191, 175, 289, 374, 361, 257, 332, 157, 263, 314, 262, 232, 306, 368, 329, 298, 321, 370, 241, 198, 203, 270, 309, 254, 338, 182, 233, 260, 239, 230, 163, 342, 288, 280, 365, 169, 371, 327, 151, 345, 364, 253, 276, 156, 367, 210, 1026, 240, 226, 213, 201503299477926, 101503867043000, 241503912670000, 166, 160, 2299, 600, 250, 400, 2200, 200, 800, 178, 173, 196, 180, 220, 158, 199, 219, 181, 193, 167, 247, 217, 235, 222, 153, 177, 218, 205, 238, 172, 224, 187, 245, 229, 189, 225, 202, 234, 206, 168, 268, 310, 317, 283, 255, 308, 500, 155, 150, 264, 1700, 350, 237, 164, 699, 204, 159, 2139, 5304, 170, 184, 186, 207, 208, 231, 236, 2900, 291, 363, 442, 514, 582, 655, 740, 815, 899, 1103, 1170, 395, 340, 409, 479, 596, 2400, 369, 3400, 445, 304, 551, 679, 718, 724, 287, 562, 646, 737, 770, 830, 3374, 3165, 3099, 2650, 2981, 2577, 3139, 2390, 2929, 2502, 2500, 2700, 2224, 279, 2942, 2065, 2753, 1600, 621, 272, 296, 273, 267, 3799, 2099, 300, 319, 322, 387, 275, 286, 278, 315, 318, 362, 249, 380, 1299]\n",
            "provider ['gps', 'fused', 'local_database', 'GPS', 'NETWORK', '', 4, 22, 'network', 'disabled', 'gps1503861559460', '2017-081503867352116,', '2017-08-28 11:31:10.000000', 7, 19]\n",
            "Activitat ['IN_VEHICLE', 'TILTING', 'ON_FOOT', 'STILL', 'UNKNOWN', 'ON_BICYCLE', '']\n",
            "NOM_MUNI ['', 'Masquefa', 'Sant Quirze del Vallès', 'Sant Pol de Mar', 'Castellbisbal', 'Sant Feliu de Guíxols', 'Barcelona', 'Bescanó', 'Sant Joan de les Abadesses', 'Girona', 'Lleida', 'la Canonja', 'Figueres', 'Santa Perpètua de Mogoda', 'Sant Cebrià de Vallalta', 'Cerdanyola del Vallès', 'Balenyà', 'Agramunt', 'Dosrius', \"Vilobí d'Onyar\", 'el Papiol', 'Badalona', 'Tona', 'Manresa', 'Cambrils', 'Vila-sacra', 'Sant Cugat del Vallès', 'Sant Carles de la Ràpita', 'Rubí', 'Reus', 'Cardedeu', 'Malla', 'Vinyols i els Arcs', 'Sabadell', 'Vic', 'Sant Vicenç dels Horts', 'Montcada i Reixac', 'Riells i Viabrea', 'Gurb', 'Barberà del Vallès', 'Sant Joan Despí', 'Badia del Vallès', 'Malgrat de Mar', 'Cervera', 'Ger', 'Cornellà de Llobregat', 'Banyoles', 'Bolvir', 'Gelida', 'les Franqueses del Vallès', 'Castellví de Rosanes', 'Castelldefels', 'Torredembarra', 'Guils de Cerdanya', 'Amposta', 'Puigcerdà', 'Torrefarrera', 'Tàrrega', 'Vilagrassa', 'Terrassa', 'Rosselló', 'Santa Coloma de Gramenet', 'Bellpuig', 'Castellnou de Seana', 'Sant Boi de Llobregat', 'Vidreres', 'la Garriga', 'Mataró', 'Igualada', 'Vila-sana', 'Ripoll', 'Golmés', \"el Palau d'Anglesola\", 'Fondarella', 'Torregrossa', 'Sidamon', 'Sant Adrià de Besòs', 'Rellinars', \"Bell-lloc d'Urgell\", 'Juneda', 'els Alamús', 'Alfarràs', 'les Borges Blanques', \"l'Hospitalet de Llobregat\", 'Almenar', 'Vilafranca del Penedès', 'la Floresta', 'el Masnou', 'Premià de Mar', 'els Omellons', 'Vilafant', 'Solsona', 'Sant Andreu de la Barca', 'Vilanova i la Geltrú', 'Castellvell del Camp', 'Santa Coloma de Cervelló', 'Vilanova del Camí', 'Vacarisses', 'Ripollet', 'les Oluges', 'Castellbell i el Vilar', 'Alguaire', 'Sant Pere de Vilamajor', 'el Prat de Llobregat', 'Sant Vicenç de Montalt', 'Taradell', 'Horta de Sant Joan', 'Santa Bàrbara', 'Vilaplana', 'Olius', 'Llinars del Vallès', 'Polinyà', 'Anglès', 'Gavà', 'Viladecans', 'Sant Just Desvern', 'Esplugues de Llobregat', 'Capellades', 'Alcarràs', 'Aitona', 'Castellterçol', 'el Vendrell', 'Santa Coloma de Farners', 'Tarragona', 'Bellvís', 'Alpicat', 'Santa Susanna', \"la Bisbal d'Empordà\", 'Montbrió del Camp', 'Vallromanes', 'Torrefeta i Florejacs', 'Sant Feliu de Llobregat', 'Vilallonga de Ter', 'Llanars', 'Pineda de Mar', 'Camprodon', 'Calella', 'Sant Andreu de Llavaneres', 'Sant Pau de Segúries', 'Canet de Mar', 'Arenys de Mar', 'Arenys de Munt', \"Caldes d'Estrac\", 'Cardona', 'el Poal', 'Mollerussa', 'Miralcamp', 'Castellgalí', 'Sant Vicenç de Castellet', 'Orís', 'Manlleu', 'Molins de Rei', 'Viladecavalls', 'Sant Celoni', 'la Roca del Vallès', 'Seva', 'Santa Maria de Palautordera', 'el Brull', 'Subirats', \"Sant Sadurní d'Anoia\", 'Granollers', 'Montornès del Vallès', 'Centelles', 'Montmeló', 'Parets del Vallès', 'Mollet del Vallès', 'la Granada', 'la Llagosta', 'Avinyonet del Penedès', 'Sant Martí de Centelles', 'Pallejà', 'Tagamanent', 'Figaró-Montmany', 'Fornells de la Selva', 'Sentmenat', 'Sant Cugat Sesgarrigues', 'Aiguaviva', 'Riudellots de la Selva', 'les Masies de Voltregà', 'Sils', 'Martorell', 'Masdenverge', 'Castellar del Vallès', \"Lliçà d'Amunt\", 'Castellfollit de la Roca', \"l'Aleixar\", 'el Pla del Penedès', 'Montagut i Oix', 'Caldes de Montbui', 'Maçanet de la Selva', 'Maspujols', 'Riudoms', 'Alcoletge', 'Argelaguer', 'Vilablareix', 'Ivars de Noguera', 'Algerri', 'Maià de Montcal', 'Navarcles', 'Vilassar de Mar', 'Cabanelles', 'Torrelavit', 'Sant Bartomeu del Grau', \"Corbera d'Ebre\", 'Vilanant', 'Porqueres', 'Sant Quintí de Mediona', 'Muntanyola', 'Argentona', \"Santa Maria d'Oló\", 'Mediona', 'Cornellà del Terri', 'Guissona', 'Sant Pere de Ribes', 'Avinyó', 'Gandesa', 'els Plans de Sió', 'Soses', 'Artés', 'Sant Hilari Sacalm', 'Sallent', 'Campdevànol', 'Sant Fruitós de Bages', 'Cabrera de Mar', 'Vilassar de Dalt', \"la Vall d'en Bas\", 'Sitges', 'les Masies de Roda', 'Premià de Dalt', 'Santpedor', \"Puigverd d'Agramunt\", 'Ossó de Sió', 'Alella', 'Montgat', 'les Preses', 'les Llosses', 'Torroella de Montgrí', 'Fortià', 'Olot', 'Montesquiu', \"Castelló d'Empúries\", 'Granyanella', 'Sant Quirze de Besora', 'Roses', 'Castellnou de Bages', \"Ribera d'Ondara\", 'Arbúcies', 'Palafrugell', 'Viver i Serrateix', 'Montmaneu', 'Roquetes', 'Argençola', 'Sant Feliu de Buixalleu', 'Veciana', 'Canovelles', 'Jorba', 'Corbins', 'Òdena', 'Hostalric', 'Castellolí', 'Forallac', 'el Bruc', 'Tordera', 'Bovera', 'Quart', 'els Hostalets de Pierola', 'Campllong', 'Collbató', 'Navata', 'Esparreguera', 'Cassà de la Selva', 'Calonge', 'Abrera', 'Palafolls', 'Llagostera', \"l'Escala\", 'la Torre de Claramunt', \"Esterri d'Àneu\", 'la Granadella', 'Constantí', 'Querol', \"Santa Cristina d'Aro\", 'Crespià', \"el Pont d'Armentera\", \"Castell-Platja d'Aro\", 'Besalú', 'Massanes', 'les Borges del Camp', 'la Selva del Camp', 'Palamós', 'Mont-ras', 'Botarell', 'Riudecols', 'Alcover', 'Torrent', 'Riudarenes', 'Salt', 'Duesaigües', 'Pals', 'Pradell de la Teixeta', 'Vilaverd', 'Cabra del Camp', 'el Pla de Santa Maria', 'Lliçà de Vall', 'Montblanc', 'Falset', 'Torelló', 'Valls', \"l'Espluga de Francolí\", 'Gratallops', 'Porrera', 'Vimbodí i Poblet', \"l'Ametlla del Vallès\", 'Tarrés', 'Sant Pere de Riudebitlles', 'la Vilella Baixa', 'Vinaixa', 'Font-rubí', 'Cabacés', 'Santa Oliva', 'la Bisbal de Falset', 'Montseny', 'Santa Fe del Penedès', 'Olèrdola', 'Sant Vicenç de Torelló', 'Torrebesses', 'Sant Pere de Torelló', 'Canyelles', 'Vall-llobrega', \"Vallbona d'Anoia\", 'Sarroca de Lleida', \"Cabrera d'Anoia\", 'Alcanó', 'Alfés', 'Cubelles', 'Cunit', 'Albatàrrec', 'Vila-seca', 'Vilanova del Vallès', 'Torrelles de Llobregat', 'Pacs del Penedès', 'Sant Joan les Fonts', 'Palol de Revardit', 'Sant Jaume de Llierca', 'Sant Julià de Ramis', 'Sant Ferriol', 'Sarrià de Ter', 'Sant Gregori', 'Beuda', 'Serinyà', 'Caldes de Malavella', 'Peralada', 'Brunyola', 'Prat de Comte', 'Benifallet', 'Xerta', 'Aldover', 'Tortosa', 'Altafulla', 'la Riera de Gaià', 'la Pobla de Montornès', 'el Catllar', 'Creixell', 'Roda de Barà', 'Sant Hipòlit de Voltregà', 'Monistrol de Montserrat', 'Calafell', 'Celrà', 'Fogars de la Selva', 'Vilalba Sasserra', 'Vallgorguina', 'Santa Margarida i els Monjos', 'Castellví de la Marca', 'Castellet i la Gornal', 'Sant Jaume dels Domenys', 'Banyeres del Penedès', 'la Fatarella', \"Móra d'Ebre\", 'la Bisbal del Penedès', 'Piera', 'el Montmell', 'Rodonyà', 'Vila-rodona', 'Móra la Nova', 'Tivissa', 'Palau-solità i Plegamans', 'Barberà de la Conca', \"l'Albi\", 'Castelldans', 'Puigverd de Lleida', 'Artesa de Lleida', 'Sudanell', 'Torres de Segre', 'Paüls', 'Gualta', 'Parlavà', 'la Pera', 'Sant Joan de Mollet', 'Sant Esteve Sesrovires', 'Tavèrnoles', 'Corbera de Llobregat', 'Sant Julià de Vilatorta', \"Sant Jaume d'Enveja\", 'Deltebre', 'Llardecans', 'Balaguer', 'Vilanova de la Barca', 'Aiguafreda', 'Ponts', 'Cànoves i Samalús', 'Sant Antoni de Vilamajor', 'Teià', 'Cabrils', 'Balsareny', 'Arbeca', 'Olesa de Montserrat', 'Sant Joan de Vilatorrada', 'Callús', 'Sant Mateu de Bages', 'Navàs', 'Salou', 'Santa Eulàlia de Ronçana', 'Súria', 'Vallfogona de Balaguer', \"Sant Llorenç d'Hortons\", 'Almoster', 'Térmens', \"l'Aldea\", 'Camarles', \"l'Ampolla\", 'el Perelló', \"l'Ametlla de Mar\", 'Ullastrell', 'Castelló de Farfanya', \"Vandellòs i l'Hospitalet de l'Infant\", 'Os de Balaguer', 'Mont-roig del Camp', 'les Avellanes i Santa Linya', 'Llívia', 'Cornudella de Montsant', 'Llambilles', 'Espinelves', 'Viladrau', 'Tortellà', 'Albinyana', 'la Sénia', 'Ulldecona', 'Godall', 'la Galera', 'Sales de Llierca', 'Rasquera', 'Ginestar', 'Marçà', 'Garcia', 'Mas de Barberans', 'Vinebre', 'Ascó', 'Flix', 'Calldetenes', 'Maials', 'Cervelló', \"Bellcaire d'Urgell\", 'Alforja', 'Linyola', 'Arbolí', \"Santa Llogaia d'Àlguema\", 'Borrassà', 'Garrigàs', 'Palau de Santa Eulàlia', 'Vilaür', 'Bàscara', 'el Pont de Vilomara i Rocafort', 'Seròs', 'Fontanals de Cerdanya', 'Alp', 'Das', 'Urús', 'Riu de Cerdanya', 'Bagà', 'Sant Julià de Cerdanyola', 'Roda de Ter', 'Guardiola de Berguedà', 'Freginals', 'la Nou de Berguedà', 'Cercs', 'Berga', 'Gualba', 'Olvan', 'Calaf', 'Sagàs', 'Santa Maria de Merlès', 'Lluçà', 'Prats de Lluçanès', 'Olost', 'Puig-reig', 'Juià', 'Bordils', 'Vilamalla', 'Gironella', 'Flaçà', 'Rupià', 'Corçà', 'Sora', 'Tiana', 'Bellver de Cerdanya', \"l'Arboç\", 'Prullans', 'Regencós', 'Montoliu de Lleida', 'Montellà i Martinet', 'Lles de Cerdanya', 'el Pont de Bar', 'Sant Esteve de Palautordera', 'Arsèguel', 'Viladamat', 'Estamariu', 'Ventalló', 'Alàs i Cerc', \"la Seu d'Urgell\", 'Saus, Camallera i Llampaies', 'les Valls de Valira', 'la Pobla de Claramunt', 'Vilademuls', 'Castellfollit del Boix', 'Sant Salvador de Guardiola', 'Casserres', 'Breda', 'Pinós', 'Sant Feliu de Codines', 'la Sentiu de Sió', 'Montgai', 'Cubells', 'Preixens', 'Menàrguens', 'Torrelameu', 'la Jonquera', 'Sant Martí Vell', \"Sant Sadurní d'Osormort\", 'Folgueroles', 'Sant Quirze Safaja', 'Clariana de Cardener', 'Puigdàlber', 'Camós', 'Riner', 'Navès', \"Canet d'Adri\", 'Tossa de Mar', 'Batea', 'Garriguella', 'Santa Maria de Corcó', 'Vidrà', 'Vallfogona de Ripollès', 'Rabós', 'Espolla', 'Alcanar', 'Sant Climent de Llobregat', 'Vilabertran', 'Cabanes', 'Blanes', 'Llers', 'Pont de Molins', 'Biure', 'Capmany', 'Agullana', 'Tavertet', 'la Riba', 'Gombrèn', 'la Cellera de Ter', 'Amer', 'la Pobla de Lillet', 'Santa Maria de Besora', 'Oristà', \"Sant Martí d'Albars\", 'Bigues i Riells', 'la Vall de Bianya', 'Sant Guim de la Plana', 'Ivorra', 'Sant Ramon', 'Pujalt', 'Massoteres', 'Avià', 'Vallirana', \"l'Espunyola\", 'Perafita', 'Montferrer i Castellbò', \"Ribera d'Urgellet\", 'Fígols i Alinyà', 'Organyà', 'Tarroja de Segarra', 'Coll de Nargó', 'Peramola', 'Oliana', 'Bassella', 'Pinell de Solsonès', \"Vilanova de l'Aguda\", 'Oliola', 'Calders', 'Moià', 'Cabanabona', 'Calonge de Segarra', 'Sant Pere Sallavinera', 'Aguilar de Segarra', 'Rajadell', 'la Llacuna', 'Santa Maria de Miralles', 'Mura', 'Matadepera', 'Lloret de Mar', 'Pedret i Marzà', 'Vilajuïga', 'Llançà', 'el Port de la Selva', 'Sant Llorenç Savall', 'Avinyonet de Puigventós', 'Toses', 'Miravet', 'Planoles', 'Ribes de Freser', 'Talamanca', 'Campelles', 'Òrrius', \"Cruïlles, Monells i Sant Sadurní de l'Heura\", 'Camarasa', 'Foradada', 'Sant Feliu Sasserra', 'Serra de Daró', 'Artesa de Segre', 'Fontanilles', 'Rupit i Pruit', 'Susqueda', \"les Planes d'Hostoles\", 'Sant Feliu de Pallerols', 'Vilanova de Segrià', 'Prats i Sansor', 'Santa Pau', \"el Far d'Empordà\", 'Torà', 'Castellfollit de Riubregós', 'els Prats de Rei', 'Copons', 'Pontós', 'Ullà', \"Bellcaire d'Empordà\", 'Riumors', 'Prades', 'Talarn', 'Salàs de Pallars', 'la Pobla de Segur', 'Baix Pallars', 'Soriguera', 'Sort', 'la Pobla de Mafumet', 'Puiggròs', 'Tremp', 'Aiguamúrcia', 'Alt Àneu', 'Llorenç del Penedès', \"la Tallada d'Empordà\", 'Ultramort', 'Cervià de Ter', 'Vilopriu', 'Sant Guim de Freixenet', 'Marganell', 'Albons', 'Almacelles', 'Sant Fost de Campsentelles', 'Fonollosa', 'el Pinell de Brai', 'Vielha e Mijaran', 'la Palma de Cervelló', 'Martorelles', 'Fogars de Montclús', 'Olesa de Bonesvalls', 'Castell de Mur', 'Vilanova de Meià', 'Sant Pere Pescador', 'Begues', 'Sant Iscle de Vallalta', 'la Secuita', 'Vallmoll', 'Fontcoberta', 'Vilanova de Bellpuig', \"la Guingueta d'Àneu\", 'Anglesola', 'Viladasens', 'Bellvei', \"Castellar de n'Hug\", 'Sant Andreu Salou', 'Sant Climent Sescebes', 'Masarac', 'Albesa', 'Granyena de les Garrigues', 'el Cogul', 'la Portella', 'Benavent de Segrià', 'Torre-serona', 'Vilamacolum', \"l'Albagés\", 'Talavera', 'Santa Coloma de Queralt', 'les Piles', 'Sarral', 'Santa Eugènia de Berga', 'Pira', 'Figuerola del Camp', 'Ogassa', 'els Garidells', 'Perafort', 'els Pallaresos', 'Barbens', 'Tornabous', 'la Fuliola', 'Penelles', 'Castellserà', \"Bellmunt d'Urgell\", 'Riudecanyes', 'Torroella de Fluvià', 'Vallcebre', 'Saldes', 'Gósol', 'Josa i Tuixén', 'les Cabanyes', 'Rubió', 'Isòvol', 'Ulldemolins', 'Vespella de Gaià', 'Gisclareny', 'Siurana', 'Verges', 'Pontils', 'Begur', 'Palau-sator', 'Biosca', 'Montmajor', 'Isona i Conca Dellà', 'Molló', 'Osor', 'Sant Aniol de Finestres', 'Sant Martí de Llémena', 'Sant Jordi Desvalls', 'Colomers', 'Jafre', 'Cadaqués', 'el Morell', 'Vallclara', 'Montclar', 'Vilanova de Prades', 'Alió', 'Puigpelat', 'Bràfim', 'la Morera de Montsant', 'Vilalba dels Arcs', 'Espot', 'Vilallonga del Camp', 'Llavorsí', 'Rialp', 'Madremanya', \"Ivars d'Urgell\", 'Llimiana', 'Estaràs', 'Bot', 'Gavet de la Conca', 'Vilada', 'Guixers', 'Sant Llorenç de Morunys', 'Àger', 'Bellprat', 'Verdú', 'Ciutadilla', 'Solivella', 'Tírvia', 'Alins', 'Santa Margarida de Montbui', 'Sant Martí de Tous', 'Sanaüja', 'Rocafort de Queralt', 'Queralbs', 'els Guiamets', 'Llobera', 'Cabó', 'Castellar del Riu', 'Fígols', 'la Febró', 'Borredà', \"l'Espluga Calba\", 'Sant Jaume de Frontanyà', 'el Masroig', 'Ordis', 'Boadella i les Escaules', 'Blancafort', 'Vallbona de les Monges', \"l'Estany\", \"l'Armentera\", 'Sant Boi de Lluçanès', 'Sobremunt', 'Campins', 'Collsuspina', 'Sant Martí Sarroca', 'Torrelles de Foix', 'Pontons', 'Capolat', 'Riudaura', \"la Palma d'Ebre\", \"l'Albiol\", 'Sant Julià del Llor i Bonmatí', 'Vilobí del Penedès', 'Sant Miquel de Campmajor', 'Santa Cecília de Voltregà', \"Vilanova d'Escornalbou\", 'Arnes', 'Mieres', 'Setcases', 'el Rourell', 'la Masó', 'la Baronia de Rialb', 'Conca de Dalt', 'Senterada', 'la Torre de Cabdella', 'Lladorre', 'Abella de la Conca', 'Meranges', 'Lladó', 'la Vilella Alta', 'Masllorenç', 'Vallfogona de Riucorb', 'Guimerà', 'el Milà', 'el Vilosell', 'Sant Agustí de Lluçanès', 'Terrades', 'Naut Aran', 'Es Bòrdes', 'Pardines', 'Pratdip', 'Santa Maria de Martorelles', 'la Pobla de Cérvoles', 'Esterri de Cardós', 'Vilanova de Sau', 'Vall de Cardós', 'Castellcir', 'Poboleda', 'el Pont de Suert', 'la Pobla de Massaluca', 'Bellaguarda', 'Sunyer', 'Portbou', 'Aspa', 'Alpens', 'Carme', 'Ullastret', 'Maldà', 'Sant Martí de Riucorb', 'Nalec', \"la Torre de l'Espanyol\", 'Vilamaniscle', \"les Valls d'Aguilar\", 'Alòs de Balaguer', 'Colldejou', 'Mont-ral', 'Gallifa', 'Vilaller', 'Passanant i Belltall', 'Pau', \"l'Argentera\", 'Darnius', 'Monistrol de Calders', 'Bonastre', 'Vilamòs', 'Sant Martí Sesgueioles', 'Arres', 'Bossòst', 'Sant Miquel de Fluvià', 'Alfara de Carles', 'la Nou de Gaià', 'Sarroca de Bellera', 'la Vall de Boí', 'Palau-saverdera', 'Olivella', 'Sant Mori', 'Margalef', 'Esponellà', 'Lladurs', 'Belianes', 'Santa Eulàlia de Riuprimer', 'la Selva de Mar', 'Castellar de la Ribera', 'Albanyà', 'Benissanet', 'Caseres', 'el Soleràs', 'els Torms', 'Juncosa', 'la Quar', 'Granera', 'Les', 'Bausen', 'Canejan', 'Cervià de les Garrigues', 'Colera', 'Foixà', 'Almatret', 'Gaià', 'els Omells de na Gaia', 'Renau', 'Nulles', 'Vilabella', 'Maçanet de Cabrenys', 'Capafonts', 'Forès', 'Montoliu de Segarra', 'Capçanes', 'Salomó', 'Conesa', 'Granyena de Segarra', 'Montferri', 'la Vansa i Fórnols', 'Gimenells i el Pla de la Font', 'Tiurana', 'Sant Llorenç de la Muga', 'Torroja del Priorat', 'Cistella', 'Odèn', 'Bellmunt del Priorat', 'la Torre de Fontaubella', 'Fulleda', 'Savallà del Comtat', 'la Coma i la Pedra', 'Llorac', 'la Molsosa', 'Preixana', \"Riba-roja d'Ebre\", 'el Molar', 'Massalcoreig', \"Castell de l'Areny\", 'la Vajol', 'el Lloar', \"la Granja d'Escarp\", 'Mollet de Peralada', 'Cantallops', 'Tivenys', 'Montornès de Segarra', 'Cava', 'Farrera', 'Sant Esteve de la Sarga', 'la Figuera', 'Orpí', 'Garrigoles']\n",
            "Carrier []\n"
          ],
          "name": "stdout"
        }
      ]
    },
    {
      "metadata": {
        "id": "igO9CYG6-nB4",
        "colab_type": "text"
      },
      "cell_type": "markdown",
      "source": [
        "## Data modification\n"
      ]
    },
    {
      "metadata": {
        "id": "H7jqfVfRSgKs",
        "colab_type": "code",
        "outputId": "4d9f17f3-1074-4d3d-f446-f7eb0c5b60f1",
        "colab": {
          "base_uri": "https://localhost:8080/",
          "height": 382
        }
      },
      "cell_type": "code",
      "source": [
        "list(collection.find().limit(1))"
      ],
      "execution_count": 34,
      "outputs": [
        {
          "output_type": "execute_result",
          "data": {
            "text/plain": [
              "[{'Activitat': 'IN_VEHICLE',\n",
              "  'Date': '25/11/2015 08:20:18 PM',\n",
              "  'Desc_': 'STATE_EMERGENCY_ONLY',\n",
              "  'Hora_': '20:20:18',\n",
              "  'Lat': 26.09727,\n",
              "  'Long_': -81.73866,\n",
              "  'MUNICIPI': '',\n",
              "  'NOM_MUNI': '',\n",
              "  'Operador': 'MetroPCS',\n",
              "  'Senyal': 9,\n",
              "  'Xarxa': 'MetroPCS',\n",
              "  '_id': ObjectId('5c0bf2f3fade320f82a69967'),\n",
              "  'downloadSpeed': '',\n",
              "  'net_type': '2G',\n",
              "  'precision1': 18,\n",
              "  'provider': 'gps',\n",
              "  'satellites': 0,\n",
              "  'speed': 6.8,\n",
              "  'status': 2,\n",
              "  'timestamp_': 1448479218665,\n",
              "  'uploadSpeed': ''}]"
            ]
          },
          "metadata": {
            "tags": []
          },
          "execution_count": 34
        }
      ]
    },
    {
      "metadata": {
        "id": "Sib6XApj8gwI",
        "colab_type": "text"
      },
      "cell_type": "markdown",
      "source": [
        "### Define Area of study"
      ]
    },
    {
      "metadata": {
        "id": "hB1Prja0N2XL",
        "colab_type": "text"
      },
      "cell_type": "markdown",
      "source": [
        "1- Lat: 41.453045    Long: 2.037423\n",
        "\n",
        "2- Lat: 41.453045    Long: 2.256154\n",
        "<br><br>\n",
        "\n",
        "3- Lat: 41.338663    Long: 2.037423\n",
        "\n",
        "4- Lat: 41.338663    Long: 2.256154"
      ]
    },
    {
      "metadata": {
        "id": "onaPNYKf9gcj",
        "colab_type": "code",
        "outputId": "07955a80-d0a3-4bbd-fd83-b53cc1a22429",
        "colab": {
          "base_uri": "https://localhost:8080/",
          "height": 34
        }
      },
      "cell_type": "code",
      "source": [
        "delete = collection.delete_many({'Long_': {\"$gt\" : 2.256154 }}) \n",
        "delete.deleted_count"
      ],
      "execution_count": 35,
      "outputs": [
        {
          "output_type": "execute_result",
          "data": {
            "text/plain": [
              "2782972"
            ]
          },
          "metadata": {
            "tags": []
          },
          "execution_count": 35
        }
      ]
    },
    {
      "metadata": {
        "id": "P1SMrhmb-e1L",
        "colab_type": "code",
        "outputId": "49992c04-0035-4a2c-96d5-364242514a3c",
        "colab": {
          "base_uri": "https://localhost:8080/",
          "height": 34
        }
      },
      "cell_type": "code",
      "source": [
        "delete = collection.delete_many({'Long_': {\"$lt\" : 2.037423 }}) \n",
        "delete.deleted_count"
      ],
      "execution_count": 36,
      "outputs": [
        {
          "output_type": "execute_result",
          "data": {
            "text/plain": [
              "4619737"
            ]
          },
          "metadata": {
            "tags": []
          },
          "execution_count": 36
        }
      ]
    },
    {
      "metadata": {
        "id": "fZvoOqdX-zwR",
        "colab_type": "code",
        "outputId": "cd14eb8a-f73d-454a-b90a-ab3b9082612c",
        "colab": {
          "base_uri": "https://localhost:8080/",
          "height": 34
        }
      },
      "cell_type": "code",
      "source": [
        "delete = collection.delete_many({'Lat': {\"$gt\" : 41.453045 }}) \n",
        "delete.deleted_count"
      ],
      "execution_count": 37,
      "outputs": [
        {
          "output_type": "execute_result",
          "data": {
            "text/plain": [
              "1395474"
            ]
          },
          "metadata": {
            "tags": []
          },
          "execution_count": 37
        }
      ]
    },
    {
      "metadata": {
        "id": "O8sG_Eb9-0E1",
        "colab_type": "code",
        "outputId": "4d163523-6561-4efc-ba92-a7af50b1cee7",
        "colab": {
          "base_uri": "https://localhost:8080/",
          "height": 34
        }
      },
      "cell_type": "code",
      "source": [
        "delete = collection.delete_many({'Lat': {\"$lt\" : 41.338663 }}) \n",
        "delete.deleted_count"
      ],
      "execution_count": 38,
      "outputs": [
        {
          "output_type": "execute_result",
          "data": {
            "text/plain": [
              "146115"
            ]
          },
          "metadata": {
            "tags": []
          },
          "execution_count": 38
        }
      ]
    },
    {
      "metadata": {
        "id": "86Q4y_FEtbri",
        "colab_type": "text"
      },
      "cell_type": "markdown",
      "source": [
        "### Deletion of no relevant fields :  downloadSpeed, uploadSpeed, satellites, MUNICIPI, etc..."
      ]
    },
    {
      "metadata": {
        "id": "GXQe-PWA-p4f",
        "colab_type": "code",
        "outputId": "df7285a7-51f6-4b0c-a1ff-0f56064eb00a",
        "colab": {
          "base_uri": "https://localhost:8080/",
          "height": 34
        }
      },
      "cell_type": "code",
      "source": [
        "filters = {'_id' : {'$ne': None }}\n",
        "fields = {'$unset': {'downloadSpeed': 1, 'uploadSpeed': 1, 'satellites': 1, 'MUNICIPI': 1, 'speed': 1,\n",
        "                     'status': 1, 'Senyal':1 , 'Desc_':1, 'provider': 1, 'timestamp_': 1, 'net_type': 1,\n",
        "                     'NOM_MUNI': 1, 'Operador': 1, 'Xarxa': 1, 'precision1': 1}}\n",
        " \n",
        "collection.update_many( filters ,fields)"
      ],
      "execution_count": 39,
      "outputs": [
        {
          "output_type": "execute_result",
          "data": {
            "text/plain": [
              "<pymongo.results.UpdateResult at 0x7f54928f4348>"
            ]
          },
          "metadata": {
            "tags": []
          },
          "execution_count": 39
        }
      ]
    },
    {
      "metadata": {
        "id": "YvOdgrajdPE-",
        "colab_type": "code",
        "colab": {
          "base_uri": "https://localhost:8080/",
          "height": 243
        },
        "outputId": "1b5a04c5-fbe0-4956-dcb9-28951d70e77b"
      },
      "cell_type": "code",
      "source": [
        "list( collection.find().limit(1) )"
      ],
      "execution_count": 63,
      "outputs": [
        {
          "output_type": "execute_result",
          "data": {
            "text/plain": [
              "[{'Activitat': 'ON_FOOT',\n",
              "  'Date': '25/11/2015 08:20:35 PM',\n",
              "  'Day': 25,\n",
              "  'Hora_': '20:20:35',\n",
              "  'Hour': 20,\n",
              "  'Lat': 41.39286,\n",
              "  'Latitude': 41.393,\n",
              "  'Long_': 2.18633,\n",
              "  'Longitude': 2.1865,\n",
              "  'Month': 11,\n",
              "  'Weekday': 3,\n",
              "  'Year': 2015,\n",
              "  '_id': ObjectId('5c0bf2f3fade320f82a6996b')}]"
            ]
          },
          "metadata": {
            "tags": []
          },
          "execution_count": 63
        }
      ]
    },
    {
      "metadata": {
        "id": "TtqiTnxlR0VG",
        "colab_type": "text"
      },
      "cell_type": "markdown",
      "source": [
        "### Add Year, Month, Day, Weekday, Hour  fields\n"
      ]
    },
    {
      "metadata": {
        "id": "JsI-PdGjfgYk",
        "colab_type": "code",
        "colab": {
          "base_uri": "https://localhost:8080/",
          "height": 34
        },
        "outputId": "f5e74aa2-638e-48fd-8f1b-27bac15a769a"
      },
      "cell_type": "code",
      "source": [
        "from bson.objectid import ObjectId\n",
        "import datetime\n",
        "import sys\n",
        "\n",
        "def round_coord(x, base=0.0005):\n",
        "     return round(base*round(x/base), 4)\n",
        "\n",
        "consulta_tmp = (collection.find({},{'_id','Date','Hora_','Lat','Long_'}))\n",
        "count = 0\n",
        "num_docs = collection.count_documents({})\n",
        "for item in consulta_tmp:\n",
        "    pk = str(item['_id'])\n",
        "    datee = str(item['Date'])\n",
        "    day = int(datee.split('/')[0])\n",
        "    month = int(datee.split('/')[1])\n",
        "    year = int(datee.split('/')[2].split(' ')[0])\n",
        "    horaa = str(item['Hora_'])\n",
        "    hora = int(horaa.split(':')[0])\n",
        "    weekday = datetime.datetime(year, month, day).isoweekday()\n",
        "    lat = float(item['Lat'])\n",
        "    long = float(item['Long_'])\n",
        "    lat = round_coord(lat)\n",
        "    long = round_coord(long)    \n",
        "    filters = { '_id' : ObjectId(pk) }   \n",
        "    fields = {'$set': {'Year': year, 'Month' : month ,'Day' : day , 'Weekday' : weekday , 'Hour' : hora, 'Latitude' : lat , 'Longitude' : long }}\n",
        "    collection.update_one( filters ,fields)\n",
        "    count += 1 \n",
        "    if (count%50):    \n",
        "      b = round((count*100 / num_docs),1)\n",
        "      sys.stdout.write('\\r'+ str(b) + \"%\")"
      ],
      "execution_count": 64,
      "outputs": [
        {
          "output_type": "stream",
          "text": [
            "100.0%"
          ],
          "name": "stdout"
        }
      ]
    },
    {
      "metadata": {
        "id": "ot0z-NIVq7XG",
        "colab_type": "code",
        "colab": {
          "base_uri": "https://localhost:8080/",
          "height": 191
        },
        "outputId": "453cd112-8520-4960-dab3-2a7d45d74486"
      },
      "cell_type": "code",
      "source": [
        "list(collection.find().limit(1))"
      ],
      "execution_count": 67,
      "outputs": [
        {
          "output_type": "execute_result",
          "data": {
            "text/plain": [
              "[{'Activitat': 'ON_FOOT',\n",
              "  'Day': 25,\n",
              "  'Hora_': '20:20:35',\n",
              "  'Hour': 20,\n",
              "  'Latitude': 41.393,\n",
              "  'Longitude': 2.1865,\n",
              "  'Month': 11,\n",
              "  'Weekday': 3,\n",
              "  'Year': 2015,\n",
              "  '_id': ObjectId('5c0bf2f3fade320f82a6996b')}]"
            ]
          },
          "metadata": {
            "tags": []
          },
          "execution_count": 67
        }
      ]
    },
    {
      "metadata": {
        "id": "GYbHS5pDgGo_",
        "colab_type": "code",
        "colab": {
          "base_uri": "https://localhost:8080/",
          "height": 34
        },
        "outputId": "e4c0adad-60fc-4356-8107-cf5b1e4ad44e"
      },
      "cell_type": "code",
      "source": [
        "filters = {'_id' : {'$ne': None }}\n",
        "fields = {'$unset': {'Date' : 1, 'Lat': 1, 'Long_': 1}}\n",
        "\n",
        "collection.update_many( filters ,fields)"
      ],
      "execution_count": 66,
      "outputs": [
        {
          "output_type": "execute_result",
          "data": {
            "text/plain": [
              "<pymongo.results.UpdateResult at 0x7f5491eebd08>"
            ]
          },
          "metadata": {
            "tags": []
          },
          "execution_count": 66
        }
      ]
    },
    {
      "metadata": {
        "id": "cdP1Os14j5vQ",
        "colab_type": "text"
      },
      "cell_type": "markdown",
      "source": [
        "## Export to CSV"
      ]
    },
    {
      "metadata": {
        "id": "5IqAd4Na1mdX",
        "colab_type": "code",
        "colab": {
          "base_uri": "https://localhost:8080/",
          "height": 52
        },
        "outputId": "14edb2c2-0a6c-4a13-db69-4f87540fb784"
      },
      "cell_type": "code",
      "source": [
        "# Export to CSV\n",
        "!mongodb-linux-x86_64-debian71-3.0.15/bin/mongoexport --db catalunya --collection mobile --type csv --out coverageCat.csv --fields Activitat,Day,Hora_,Hour,Latitude,Longitude,Month,Weekday,Year,_id"
      ],
      "execution_count": 70,
      "outputs": [
        {
          "output_type": "stream",
          "text": [
            "2018-12-08T18:10:38.179+0000\tconnected to: localhost\n",
            "2018-12-08T18:11:43.095+0000\texported 2800616 records\n"
          ],
          "name": "stdout"
        }
      ]
    },
    {
      "metadata": {
        "id": "X00suZU02KQO",
        "colab_type": "code",
        "colab": {
          "base_uri": "https://localhost:8080/",
          "height": 34
        },
        "outputId": "594689bb-0380-41ac-85b6-e5b1e7e03484"
      },
      "cell_type": "code",
      "source": [
        "!tar -czvf coverageCat.tar.gz coverageCat.csv\n",
        "!mv coverageCat.tar.gz GDrive/My\\ Drive/datasets"
      ],
      "execution_count": 71,
      "outputs": [
        {
          "output_type": "stream",
          "text": [
            "coverageCat.csv\n"
          ],
          "name": "stdout"
        }
      ]
    }
  ]
}