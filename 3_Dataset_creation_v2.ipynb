{
  "nbformat": 4,
  "nbformat_minor": 0,
  "metadata": {
    "colab": {
      "name": "3_Dataset_creation_v2.ipynb",
      "version": "0.3.2",
      "provenance": [],
      "collapsed_sections": [],
      "toc_visible": true,
      "include_colab_link": true
    },
    "kernelspec": {
      "name": "python3",
      "display_name": "Python 3"
    }
  },
  "cells": [
    {
      "cell_type": "markdown",
      "metadata": {
        "id": "view-in-github",
        "colab_type": "text"
      },
      "source": [
        "<a href=\"https://colab.research.google.com/github/Giffy/Mobility_AIBCN/blob/master/3_Dataset_creation_v2.ipynb\" target=\"_parent\"><img src=\"https://colab.research.google.com/assets/colab-badge.svg\" alt=\"Open In Colab\"/></a>"
      ]
    },
    {
      "metadata": {
        "id": "b2f7AR-fYNZh",
        "colab_type": "text"
      },
      "cell_type": "markdown",
      "source": [
        "# Dataset creation\n",
        "\n",
        "Creation of mobile phone density images of Barcelona"
      ]
    },
    {
      "metadata": {
        "id": "HEX_s7O2SHc9",
        "colab_type": "text"
      },
      "cell_type": "markdown",
      "source": [
        "##  Download data"
      ]
    },
    {
      "metadata": {
        "id": "XZUPLfTdto7h",
        "colab_type": "code",
        "outputId": "3efd8648-b460-48c0-bae3-05fb39b69d70",
        "colab": {
          "base_uri": "https://localhost:8080/",
          "height": 173
        }
      },
      "cell_type": "code",
      "source": [
        "# Download previously cleaned data from 'Github'\n",
        "!pip install wget\n",
        "import wget\n",
        "url = 'https://raw.githubusercontent.com/Giffy/Mobility_AIBCN/master/dataset/coverageCatv4.tar.gz'\n",
        "try:\n",
        "  filename = wget.download(url)\n",
        "  print ( 'Dataset downloaded successfully.')\n",
        "\n",
        "  # Extract tar file\n",
        "  import tarfile\n",
        "  tf = tarfile.open( filename )\n",
        "  tf.extractall()\n",
        "  \n",
        "except:\n",
        "  print ( 'Error downloading dataset.')\n"
      ],
      "execution_count": 1,
      "outputs": [
        {
          "output_type": "stream",
          "text": [
            "Collecting wget\n",
            "  Downloading https://files.pythonhosted.org/packages/47/6a/62e288da7bcda82b935ff0c6cfe542970f04e29c756b0e147251b2fb251f/wget-3.2.zip\n",
            "Building wheels for collected packages: wget\n",
            "  Running setup.py bdist_wheel for wget ... \u001b[?25l-\b \bdone\n",
            "\u001b[?25h  Stored in directory: /root/.cache/pip/wheels/40/15/30/7d8f7cea2902b4db79e3fea550d7d7b85ecb27ef992b618f3f\n",
            "Successfully built wget\n",
            "Installing collected packages: wget\n",
            "Successfully installed wget-3.2\n",
            "Dataset downloaded successfully.\n"
          ],
          "name": "stdout"
        }
      ]
    },
    {
      "metadata": {
        "id": "j_2CNJCprPUG",
        "colab_type": "text"
      },
      "cell_type": "markdown",
      "source": [
        "##  Load data"
      ]
    },
    {
      "metadata": {
        "id": "ZGN08VqMqtIr",
        "colab_type": "code",
        "outputId": "a151cecd-5164-47d6-d93c-656318cbf7ea",
        "colab": {
          "base_uri": "https://localhost:8080/",
          "height": 206
        }
      },
      "cell_type": "code",
      "source": [
        "import pandas as pd\n",
        "\n",
        "# load data\n",
        "df = pd.read_csv('coverageCat.csv')\n",
        "df.head()"
      ],
      "execution_count": 2,
      "outputs": [
        {
          "output_type": "execute_result",
          "data": {
            "text/html": [
              "<div>\n",
              "<style scoped>\n",
              "    .dataframe tbody tr th:only-of-type {\n",
              "        vertical-align: middle;\n",
              "    }\n",
              "\n",
              "    .dataframe tbody tr th {\n",
              "        vertical-align: top;\n",
              "    }\n",
              "\n",
              "    .dataframe thead th {\n",
              "        text-align: right;\n",
              "    }\n",
              "</style>\n",
              "<table border=\"1\" class=\"dataframe\">\n",
              "  <thead>\n",
              "    <tr style=\"text-align: right;\">\n",
              "      <th></th>\n",
              "      <th>Activitat</th>\n",
              "      <th>Day</th>\n",
              "      <th>Hour</th>\n",
              "      <th>Latitude</th>\n",
              "      <th>Longitude</th>\n",
              "      <th>Month</th>\n",
              "      <th>Weekday</th>\n",
              "      <th>Year</th>\n",
              "      <th>_id</th>\n",
              "    </tr>\n",
              "  </thead>\n",
              "  <tbody>\n",
              "    <tr>\n",
              "      <th>0</th>\n",
              "      <td>UNKNOWN</td>\n",
              "      <td>17</td>\n",
              "      <td>1</td>\n",
              "      <td>41.385</td>\n",
              "      <td>2.20</td>\n",
              "      <td>10</td>\n",
              "      <td>6</td>\n",
              "      <td>2015</td>\n",
              "      <td>ObjectId(5c38d55b9fcbb634c11e1495)</td>\n",
              "    </tr>\n",
              "    <tr>\n",
              "      <th>1</th>\n",
              "      <td>IN_VEHICLE</td>\n",
              "      <td>17</td>\n",
              "      <td>1</td>\n",
              "      <td>41.385</td>\n",
              "      <td>2.14</td>\n",
              "      <td>10</td>\n",
              "      <td>6</td>\n",
              "      <td>2015</td>\n",
              "      <td>ObjectId(5c38d55b9fcbb634c11e14a3)</td>\n",
              "    </tr>\n",
              "    <tr>\n",
              "      <th>2</th>\n",
              "      <td>IN_VEHICLE</td>\n",
              "      <td>17</td>\n",
              "      <td>1</td>\n",
              "      <td>41.385</td>\n",
              "      <td>2.14</td>\n",
              "      <td>10</td>\n",
              "      <td>6</td>\n",
              "      <td>2015</td>\n",
              "      <td>ObjectId(5c38d55b9fcbb634c11e14aa)</td>\n",
              "    </tr>\n",
              "    <tr>\n",
              "      <th>3</th>\n",
              "      <td>IN_VEHICLE</td>\n",
              "      <td>17</td>\n",
              "      <td>2</td>\n",
              "      <td>41.385</td>\n",
              "      <td>2.14</td>\n",
              "      <td>10</td>\n",
              "      <td>6</td>\n",
              "      <td>2015</td>\n",
              "      <td>ObjectId(5c38d55b9fcbb634c11e14ad)</td>\n",
              "    </tr>\n",
              "    <tr>\n",
              "      <th>4</th>\n",
              "      <td>UNKNOWN</td>\n",
              "      <td>17</td>\n",
              "      <td>2</td>\n",
              "      <td>41.390</td>\n",
              "      <td>2.20</td>\n",
              "      <td>10</td>\n",
              "      <td>6</td>\n",
              "      <td>2015</td>\n",
              "      <td>ObjectId(5c38d55b9fcbb634c11e14be)</td>\n",
              "    </tr>\n",
              "  </tbody>\n",
              "</table>\n",
              "</div>"
            ],
            "text/plain": [
              "    Activitat  Day  Hour  Latitude  Longitude  Month  Weekday  Year  \\\n",
              "0     UNKNOWN   17     1    41.385       2.20     10        6  2015   \n",
              "1  IN_VEHICLE   17     1    41.385       2.14     10        6  2015   \n",
              "2  IN_VEHICLE   17     1    41.385       2.14     10        6  2015   \n",
              "3  IN_VEHICLE   17     2    41.385       2.14     10        6  2015   \n",
              "4     UNKNOWN   17     2    41.390       2.20     10        6  2015   \n",
              "\n",
              "                                  _id  \n",
              "0  ObjectId(5c38d55b9fcbb634c11e1495)  \n",
              "1  ObjectId(5c38d55b9fcbb634c11e14a3)  \n",
              "2  ObjectId(5c38d55b9fcbb634c11e14aa)  \n",
              "3  ObjectId(5c38d55b9fcbb634c11e14ad)  \n",
              "4  ObjectId(5c38d55b9fcbb634c11e14be)  "
            ]
          },
          "metadata": {
            "tags": []
          },
          "execution_count": 2
        }
      ]
    },
    {
      "metadata": {
        "id": "sjVS-sRw_WxW",
        "colab_type": "code",
        "outputId": "1582e25e-3f4b-45e2-ff62-9a58b32f7d8a",
        "colab": {
          "base_uri": "https://localhost:8080/",
          "height": 206
        }
      },
      "cell_type": "code",
      "source": [
        "df.tail()"
      ],
      "execution_count": 3,
      "outputs": [
        {
          "output_type": "execute_result",
          "data": {
            "text/html": [
              "<div>\n",
              "<style scoped>\n",
              "    .dataframe tbody tr th:only-of-type {\n",
              "        vertical-align: middle;\n",
              "    }\n",
              "\n",
              "    .dataframe tbody tr th {\n",
              "        vertical-align: top;\n",
              "    }\n",
              "\n",
              "    .dataframe thead th {\n",
              "        text-align: right;\n",
              "    }\n",
              "</style>\n",
              "<table border=\"1\" class=\"dataframe\">\n",
              "  <thead>\n",
              "    <tr style=\"text-align: right;\">\n",
              "      <th></th>\n",
              "      <th>Activitat</th>\n",
              "      <th>Day</th>\n",
              "      <th>Hour</th>\n",
              "      <th>Latitude</th>\n",
              "      <th>Longitude</th>\n",
              "      <th>Month</th>\n",
              "      <th>Weekday</th>\n",
              "      <th>Year</th>\n",
              "      <th>_id</th>\n",
              "    </tr>\n",
              "  </thead>\n",
              "  <tbody>\n",
              "    <tr>\n",
              "      <th>3454611</th>\n",
              "      <td>IN_VEHICLE</td>\n",
              "      <td>4</td>\n",
              "      <td>8</td>\n",
              "      <td>41.338</td>\n",
              "      <td>2.257</td>\n",
              "      <td>7</td>\n",
              "      <td>2</td>\n",
              "      <td>2017</td>\n",
              "      <td>ObjectId(5c38e47b873716009cf9b0ea)</td>\n",
              "    </tr>\n",
              "    <tr>\n",
              "      <th>3454612</th>\n",
              "      <td>IN_VEHICLE</td>\n",
              "      <td>4</td>\n",
              "      <td>8</td>\n",
              "      <td>41.338</td>\n",
              "      <td>2.257</td>\n",
              "      <td>6</td>\n",
              "      <td>7</td>\n",
              "      <td>2017</td>\n",
              "      <td>ObjectId(5c38e47b873716009cf9b0eb)</td>\n",
              "    </tr>\n",
              "    <tr>\n",
              "      <th>3454613</th>\n",
              "      <td>IN_VEHICLE</td>\n",
              "      <td>4</td>\n",
              "      <td>8</td>\n",
              "      <td>41.338</td>\n",
              "      <td>2.257</td>\n",
              "      <td>1</td>\n",
              "      <td>3</td>\n",
              "      <td>2017</td>\n",
              "      <td>ObjectId(5c38e47b873716009cf9b0ec)</td>\n",
              "    </tr>\n",
              "    <tr>\n",
              "      <th>3454614</th>\n",
              "      <td>IN_VEHICLE</td>\n",
              "      <td>4</td>\n",
              "      <td>8</td>\n",
              "      <td>41.338</td>\n",
              "      <td>2.257</td>\n",
              "      <td>5</td>\n",
              "      <td>4</td>\n",
              "      <td>2017</td>\n",
              "      <td>ObjectId(5c38e47b873716009cf9b0ed)</td>\n",
              "    </tr>\n",
              "    <tr>\n",
              "      <th>3454615</th>\n",
              "      <td>IN_VEHICLE</td>\n",
              "      <td>19</td>\n",
              "      <td>8</td>\n",
              "      <td>41.338</td>\n",
              "      <td>2.257</td>\n",
              "      <td>10</td>\n",
              "      <td>3</td>\n",
              "      <td>2016</td>\n",
              "      <td>ObjectId(5c38e47b873716009cf9b0ee)</td>\n",
              "    </tr>\n",
              "  </tbody>\n",
              "</table>\n",
              "</div>"
            ],
            "text/plain": [
              "          Activitat  Day  Hour  Latitude  Longitude  Month  Weekday  Year  \\\n",
              "3454611  IN_VEHICLE    4     8    41.338      2.257      7        2  2017   \n",
              "3454612  IN_VEHICLE    4     8    41.338      2.257      6        7  2017   \n",
              "3454613  IN_VEHICLE    4     8    41.338      2.257      1        3  2017   \n",
              "3454614  IN_VEHICLE    4     8    41.338      2.257      5        4  2017   \n",
              "3454615  IN_VEHICLE   19     8    41.338      2.257     10        3  2016   \n",
              "\n",
              "                                        _id  \n",
              "3454611  ObjectId(5c38e47b873716009cf9b0ea)  \n",
              "3454612  ObjectId(5c38e47b873716009cf9b0eb)  \n",
              "3454613  ObjectId(5c38e47b873716009cf9b0ec)  \n",
              "3454614  ObjectId(5c38e47b873716009cf9b0ed)  \n",
              "3454615  ObjectId(5c38e47b873716009cf9b0ee)  "
            ]
          },
          "metadata": {
            "tags": []
          },
          "execution_count": 3
        }
      ]
    },
    {
      "metadata": {
        "id": "5LPeBrVF7xbF",
        "colab_type": "text"
      },
      "cell_type": "markdown",
      "source": [
        "##  Generate dataset graphics\n",
        "Using seaborn to generate graphics of mobile phone density\n",
        "\n",
        "![Density_sample](https://raw.githubusercontent.com/Giffy/Mobility_AIBCN/master/dataset/plt_sample.png)\n",
        "\n"
      ]
    },
    {
      "metadata": {
        "id": "xa_C7-gRrCpz",
        "colab_type": "code",
        "outputId": "61cbb73c-65e1-49bb-87db-76a2f98bb14a",
        "colab": {
          "base_uri": "https://localhost:8080/",
          "height": 330
        }
      },
      "cell_type": "code",
      "source": [
        "# Sample of plotting graphic with seaborn\n",
        "# plot of Barcelona the 11th September of 2015\n",
        "\n",
        "df0 = df[ (df['Year']== 2015) & (df['Month']== 1) & (df['Day']== 18)]\n",
        "df0 = df0.groupby(['Latitude','Longitude'], as_index= False).count()           \n",
        "result = df0.pivot (index='Latitude' , columns='Longitude', values='Day')\n",
        "\n",
        "import seaborn\n",
        "import seaborn as sns\n",
        "\n",
        "sns_plot = seaborn.heatmap(result, cbar= False )\n",
        "\n",
        "# Remove labels\n",
        "sns_plot.set_ylabel('')    \n",
        "sns_plot.set_xlabel('')\n",
        "\n",
        "sns_plot.set_yticklabels('')\n",
        "sns_plot.set_xticklabels('')\n",
        "\n",
        "# Generate image\n",
        "\n",
        "fig = sns_plot.get_figure()\n",
        "\n",
        "\n",
        "# Save graphic as png\n",
        "#fig.savefig(\"output.png\")\n",
        "\n"
      ],
      "execution_count": 21,
      "outputs": [
        {
          "output_type": "display_data",
          "data": {
            "image/png": "[encoded data removed]",
            "text/plain": [
              "<matplotlib.figure.Figure at 0x7f4386981940>"
            ]
          },
          "metadata": {
            "tags": []
          }
        }
      ]
    },
    {
      "metadata": {
        "id": "CZGrujLP0bsB",
        "colab_type": "code",
        "colab": {}
      },
      "cell_type": "code",
      "source": [
        "# Iteration to create the dataset of graphics\n",
        "years = [2015]#, 2016, 2017]\n",
        "months = [1]#,2,3,4,5,6,7,8,9,10,11,12]\n",
        "days = [1,2,3,4,5,6,7,8,9,10,11,12,13,14,15,16,17,18,19,20,21,22,23,24,25,26,27,28,29,30,31]\n",
        "weekdays = [1,2,3,4,5]\n",
        "manana = [7,8,9,10,11]\n",
        "tarde = [16,17,18,19,20]\n",
        "\n",
        "hours = manana\n",
        "\n",
        "df0 = df[df['Activitat']=='IN_VEHICLE']\n",
        "df0 = df0[(df0['Weekday']!=6) & (df0['Weekday']!=7)]\n",
        "df0 = df0[(df0['Hour'].isin(hours))]\n",
        "\n",
        "for year in years:  \n",
        "  df2 = df0[df0['Year']==year]  \n",
        "  for month in months:\n",
        "    df3 = df2[df2['Month']==month]\n",
        "    for day in days:\n",
        "          df4 = df3[df3['Day']==day]\n",
        "          df5 = df4.groupby(['Latitude','Longitude'], as_index= False).count()           \n",
        "          result = df5.pivot (index='Latitude' , columns='Longitude', values='Day')\n",
        "          try:\n",
        "            sns_plot = seaborn.heatmap(result, cbar = False)#, cmap = 'gray')\n",
        "            # Remove labels\n",
        "            sns_plot.set_ylabel('')    \n",
        "            sns_plot.set_xlabel('')\n",
        "            sns_plot.set_yticklabels('')\n",
        "            sns_plot.set_xticklabels('')\n",
        "            # Generate image\n",
        "            fig = sns_plot.get_figure()\n",
        "            if 10 in hours:\n",
        "              periodo = 'M'\n",
        "            else:\n",
        "              periodo = 'T'\n",
        "            filename = str(year) + '_' + str(month) + '_' + str(day) + '_' + periodo + '.png' \n",
        "            fig.savefig( filename )\n",
        "          except:\n",
        "            pass\n"
      ],
      "execution_count": 0,
      "outputs": []
    },
    {
      "metadata": {
        "id": "OW0PAjBN6p2R",
        "colab_type": "text"
      },
      "cell_type": "markdown",
      "source": [
        "## Copy dataset to Google Drive"
      ]
    },
    {
      "metadata": {
        "id": "lCr1LzjQ62pv",
        "colab_type": "code",
        "colab": {
          "base_uri": "https://localhost:8080/",
          "height": 124
        },
        "outputId": "263965b1-1834-4363-b9eb-22d4c6d031ef"
      },
      "cell_type": "code",
      "source": [
        "from google.colab import drive\n",
        "drive.mount('/gdrive')"
      ],
      "execution_count": 7,
      "outputs": [
        {
          "output_type": "stream",
          "text": [
            "Go to this URL in a browser: https://accounts.google.com/o/oauth2/auth?client_id=947318989803-6bn6qk8qdgf4n4g3pfee6491hc0brc4i.apps.googleusercontent.com&redirect_uri=urn%3Aietf%3Awg%3Aoauth%3A2.0%3Aoob&scope=email%20https%3A%2F%2Fwww.googleapis.com%2Fauth%2Fdocs.test%20https%3A%2F%2Fwww.googleapis.com%2Fauth%2Fdrive%20https%3A%2F%2Fwww.googleapis.com%2Fauth%2Fdrive.photos.readonly%20https%3A%2F%2Fwww.googleapis.com%2Fauth%2Fpeopleapi.readonly&response_type=code\n",
            "\n",
            "Enter your authorization code:\n",
            "··········\n",
            "Mounted at /gdrive\n"
          ],
          "name": "stdout"
        }
      ]
    },
    {
      "metadata": {
        "id": "xYp_zXlk62wm",
        "colab_type": "code",
        "colab": {}
      },
      "cell_type": "code",
      "source": [
        "!cp *.png /gdrive/My\\ Drive"
      ],
      "execution_count": 0,
      "outputs": []
    },
    {
      "metadata": {
        "id": "QM0D6mSU_Hlx",
        "colab_type": "text"
      },
      "cell_type": "markdown",
      "source": [
        "## Plotting data sample with Folium"
      ]
    },
    {
      "metadata": {
        "id": "G20QeWDzx9nh",
        "colab_type": "code",
        "outputId": "66f7fa51-e131-4883-849d-6cc675870f4f",
        "colab": {
          "base_uri": "https://localhost:8080/",
          "height": 662
        }
      },
      "cell_type": "code",
      "source": [
        "!pip install folium geopandas             # Install folium for map visualization\n",
        "\n",
        "import folium                             # Library to create the map\n",
        "from folium import plugins                # plugin to create a heatmap"
      ],
      "execution_count": 10,
      "outputs": [
        {
          "output_type": "stream",
          "text": [
            "Requirement already satisfied: folium in /usr/local/lib/python3.6/dist-packages (0.2.1)\n",
            "Collecting geopandas\n",
            "\u001b[?25l  Downloading https://files.pythonhosted.org/packages/24/11/d77c157c16909bd77557d00798b05a5b6615ed60acb5900fbe6a65d35e93/geopandas-0.4.0-py2.py3-none-any.whl (899kB)\n",
            "\u001b[K    100% |████████████████████████████████| 901kB 6.1MB/s \n",
            "\u001b[?25hRequirement already satisfied: Jinja2 in /usr/local/lib/python3.6/dist-packages (from folium) (2.10)\n",
            "Collecting shapely (from geopandas)\n",
            "\u001b[?25l  Downloading https://files.pythonhosted.org/packages/38/b6/b53f19062afd49bb5abd049aeed36f13bf8d57ef8f3fa07a5203531a0252/Shapely-1.6.4.post2-cp36-cp36m-manylinux1_x86_64.whl (1.5MB)\n",
            "\u001b[K    100% |████████████████████████████████| 1.5MB 8.0MB/s \n",
            "\u001b[?25hCollecting fiona (from geopandas)\n",
            "\u001b[?25l  Downloading https://files.pythonhosted.org/packages/51/d8/2a97aea07eed6675187c42411bfca30816dfdd6831c125c123bac74f0465/Fiona-1.8.4-cp36-cp36m-manylinux1_x86_64.whl (17.9MB)\n",
            "\u001b[K    100% |████████████████████████████████| 17.9MB 1.6MB/s \n",
            "\u001b[?25hCollecting pyproj (from geopandas)\n",
            "\u001b[?25l  Downloading https://files.pythonhosted.org/packages/26/8c/1da0580f334718e04f8bbf74f0515a7fb8185ff96b2560ce080c11aa145b/pyproj-1.9.6.tar.gz (2.8MB)\n",
            "\u001b[K    100% |████████████████████████████████| 2.8MB 12.3MB/s \n",
            "\u001b[?25hRequirement already satisfied: pandas in /usr/local/lib/python3.6/dist-packages (from geopandas) (0.22.0)\n",
            "Requirement already satisfied: MarkupSafe>=0.23 in /usr/local/lib/python3.6/dist-packages (from Jinja2->folium) (1.1.0)\n",
            "Collecting munch (from fiona->geopandas)\n",
            "  Downloading https://files.pythonhosted.org/packages/68/f4/260ec98ea840757a0da09e0ed8135333d59b8dfebe9752a365b04857660a/munch-2.3.2.tar.gz\n",
            "Requirement already satisfied: click<8,>=4.0 in /usr/local/lib/python3.6/dist-packages (from fiona->geopandas) (7.0)\n",
            "Collecting cligj>=0.5 (from fiona->geopandas)\n",
            "  Downloading https://files.pythonhosted.org/packages/e4/be/30a58b4b0733850280d01f8bd132591b4668ed5c7046761098d665ac2174/cligj-0.5.0-py3-none-any.whl\n",
            "Requirement already satisfied: attrs>=17 in /usr/local/lib/python3.6/dist-packages (from fiona->geopandas) (18.2.0)\n",
            "Collecting click-plugins>=1.0 (from fiona->geopandas)\n",
            "  Downloading https://files.pythonhosted.org/packages/95/dd/fef84cf1678418f241ef542c0288bdf215bdd3e35f1fe03dc5223a2e80ba/click_plugins-1.0.4-py2.py3-none-any.whl\n",
            "Requirement already satisfied: six>=1.7 in /usr/local/lib/python3.6/dist-packages (from fiona->geopandas) (1.11.0)\n",
            "Requirement already satisfied: pytz>=2011k in /usr/local/lib/python3.6/dist-packages (from pandas->geopandas) (2018.9)\n",
            "Requirement already satisfied: numpy>=1.9.0 in /usr/local/lib/python3.6/dist-packages (from pandas->geopandas) (1.14.6)\n",
            "Requirement already satisfied: python-dateutil>=2 in /usr/local/lib/python3.6/dist-packages (from pandas->geopandas) (2.5.3)\n",
            "Building wheels for collected packages: pyproj, munch\n",
            "  Running setup.py bdist_wheel for pyproj ... \u001b[?25l-\b \b\\\b \b|\b \b/\b \b-\b \b\\\b \b|\b \b/\b \b-\b \b\\\b \b|\b \b/\b \b-\b \b\\\b \b|\b \b/\b \b-\b \b\\\b \b|\b \b/\b \b-\b \b\\\b \b|\b \b/\b \b-\b \b\\\b \b|\b \b/\b \b-\b \b\\\b \b|\b \b/\b \b-\b \b\\\b \b|\b \b/\b \b-\b \b\\\b \b|\b \b/\b \b-\b \b\\\b \b|\b \b/\b \b-\b \b\\\b \b|\b \b/\b \b-\b \b\\\b \b|\b \b/\b \b-\b \b\\\b \b|\b \b/\b \b-\b \b\\\b \b|\b \b/\b \b-\b \b\\\b \b|\b \b/\b \b-\b \b\\\b \b|\b \b/\b \b-\b \b\\\b \b|\b \b/\b \b-\b \b\\\b \b|\b \b/\b \b-\b \b\\\b \b|\b \b/\b \b-\b \b\\\b \b|\b \b/\b \b-\b \b\\\b \b|\b \b/\b \b-\b \b\\\b \b|\b \b/\b \b-\b \b\\\b \b|\b \b/\b \b-\b \b\\\b \b|\b \b/\b \bdone\n",
            "\u001b[?25h  Stored in directory: /root/.cache/pip/wheels/02/cd/b1/a2d6430f74c7a778a43d62f78bec109ca69c732dc9b929142a\n",
            "  Running setup.py bdist_wheel for munch ... \u001b[?25l-\b \bdone\n",
            "\u001b[?25h  Stored in directory: /root/.cache/pip/wheels/db/bf/bc/06a3e1bfe0ab27d2e720ceb3cff3159398d92644c0cec2c125\n",
            "Successfully built pyproj munch\n",
            "Installing collected packages: shapely, munch, cligj, click-plugins, fiona, pyproj, geopandas\n",
            "Successfully installed click-plugins-1.0.4 cligj-0.5.0 fiona-1.8.4 geopandas-0.4.0 munch-2.3.2 pyproj-1.9.6 shapely-1.6.4.post2\n"
          ],
          "name": "stdout"
        }
      ]
    },
    {
      "metadata": {
        "id": "UWhhKkHdppUc",
        "colab_type": "code",
        "colab": {}
      },
      "cell_type": "code",
      "source": [
        "df0 = df[ (df['Year']== 2015) & (df['Month']== 2) & (df['Day']== 6)]\n",
        "df0 = df0.groupby(['Latitude','Longitude'], as_index= False).count()           \n",
        "\n",
        "latitude = df0.loc [ : , 'Latitude']\n",
        "longitude = df0.loc [ : , 'Longitude']\n",
        "total = df0.loc [ : , 'Day']"
      ],
      "execution_count": 0,
      "outputs": []
    },
    {
      "metadata": {
        "id": "7YsI63mcymp7",
        "colab_type": "code",
        "outputId": "f561d89e-b4e9-4ca2-d3ce-65fd77c90079",
        "colab": {
          "base_uri": "https://localhost:8080/",
          "height": 831
        }
      },
      "cell_type": "code",
      "source": [
        "center_lat = 41.42\n",
        "center_lon = 2.18\n",
        "\n",
        "locationmap = folium.Map(location=[ center_lat , center_lon ], zoom_start=12, width=800, height=600 )\n",
        "locationmap.add_child(plugins.HeatMap(zip(latitude, longitude, total), radius = 12))\n",
        "\n",
        "locationmap"
      ],
      "execution_count": 12,
      "outputs": [
        {
          "output_type": "execute_result",
          "data": {
            "text/html": [
              "<div style=\"width:100%;\"><div style=\"position:relative;width:100%;height:0;padding-bottom:60%;\"><iframe src=\"data:text/html;base64,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\" style=\"position:absolute;width:100%;height:100%;left:0;top:0;\"></iframe></div></div>"
            ],
            "text/plain": [
              "<folium.folium.Map at 0x7f438721e898>"
            ]
          },
          "metadata": {
            "tags": []
          },
          "execution_count": 12
        }
      ]
    }
  ]
}
