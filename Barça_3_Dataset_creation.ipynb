{
  "nbformat": 4,
  "nbformat_minor": 0,
  "metadata": {
    "colab": {
      "name": "Barça 3_Dataset_creation.ipynb",
      "version": "0.3.2",
      "provenance": [],
      "collapsed_sections": [],
      "include_colab_link": true
    },
    "kernelspec": {
      "name": "python3",
      "display_name": "Python 3"
    }
  },
  "cells": [
    {
      "cell_type": "markdown",
      "metadata": {
        "id": "view-in-github",
        "colab_type": "text"
      },
      "source": [
        "<a href=\"https://colab.research.google.com/github/Giffy/Mobility_AIBCN/blob/master/Bar%C3%A7a_3_Dataset_creation.ipynb\" target=\"_parent\"><img src=\"https://colab.research.google.com/assets/colab-badge.svg\" alt=\"Open In Colab\"/></a>"
      ]
    },
    {
      "metadata": {
        "id": "b2f7AR-fYNZh",
        "colab_type": "text"
      },
      "cell_type": "markdown",
      "source": [
        "# Dataset creation\n",
        "\n",
        "Creation of mobile phone density images of Barcelona"
      ]
    },
    {
      "metadata": {
        "id": "GOgLKuTy57Wc",
        "colab_type": "code",
        "colab": {}
      },
      "cell_type": "code",
      "source": [
        "import pandas as pd\n",
        "import seaborn\n",
        "import seaborn as sns"
      ],
      "execution_count": 0,
      "outputs": []
    },
    {
      "metadata": {
        "id": "HEX_s7O2SHc9",
        "colab_type": "text"
      },
      "cell_type": "markdown",
      "source": [
        "##  Download data"
      ]
    },
    {
      "metadata": {
        "id": "jvYLJmEJW-WZ",
        "colab_type": "code",
        "outputId": "2d9262b8-5b6b-48d9-fb3a-ea75a9243040",
        "colab": {
          "base_uri": "https://localhost:8080/",
          "height": 34
        }
      },
      "cell_type": "code",
      "source": [
        "!rm coverageCatHDv5*\n"
      ],
      "execution_count": 0,
      "outputs": [
        {
          "output_type": "stream",
          "text": [
            "rm: cannot remove 'coverageCatHDv5*': No such file or directory\n"
          ],
          "name": "stdout"
        }
      ]
    },
    {
      "metadata": {
        "id": "XZUPLfTdto7h",
        "colab_type": "code",
        "outputId": "76c57bfa-16e0-4789-885e-cd9ab3a77f01",
        "colab": {
          "base_uri": "https://localhost:8080/",
          "height": 34
        }
      },
      "cell_type": "code",
      "source": [
        "# Download previously cleaned data from 'Github'\n",
        "!pip install wget > /dev/null\n",
        "import wget\n",
        "url = 'https://raw.githubusercontent.com/Giffy/Mobility_AIBCN/master/dataset/coverageCatHDv5.tar.gz'\n",
        "try:\n",
        "  filename = wget.download(url)\n",
        "  print ( 'Dataset downloaded successfully.')\n",
        "\n",
        "  # Extract tar file\n",
        "  import tarfile\n",
        "  tf = tarfile.open( filename )\n",
        "  tf.extractall()\n",
        "  \n",
        "except:\n",
        "  print ( 'Error downloading dataset.')\n"
      ],
      "execution_count": 0,
      "outputs": [
        {
          "output_type": "stream",
          "text": [
            "Dataset downloaded successfully.\n"
          ],
          "name": "stdout"
        }
      ]
    },
    {
      "metadata": {
        "id": "j_2CNJCprPUG",
        "colab_type": "text"
      },
      "cell_type": "markdown",
      "source": [
        "##  Load data"
      ]
    },
    {
      "metadata": {
        "id": "bJiQUJsyxyo8",
        "colab_type": "code",
        "outputId": "93596047-2edd-407a-92e3-aa74fd494d21",
        "colab": {
          "base_uri": "https://localhost:8080/",
          "height": 295
        }
      },
      "cell_type": "code",
      "source": [
        "!ls -alis"
      ],
      "execution_count": 0,
      "outputs": [
        {
          "output_type": "stream",
          "text": [
            "ls: cannot access 'GDrive': Transport endpoint is not connected\n",
            "total 2085756\n",
            "2097243       4 drwxr-xr-x 1 root root       4096 Jan 16 17:58  .\n",
            "2507110       4 drwxr-xr-x 1 root root       4096 Jan 16 12:40  ..\n",
            "2228258       4 drwxr-xr-x 4 root root       4096 Jan  8 17:14  .config\n",
            " 808172 1752172 -rw-r--r-- 1 root root 1794217966 Dec 13 18:53  coverageCatalunya.csv\n",
            " 808173  108324 -rw-r--r-- 1 root root  110920548 Jan 15 17:27  coverageCat.csv\n",
            " 809096   13396 -rw-r--r-- 1 root root   13714175 Jan 16 17:58 'coverageCatHDv5.tar (1).gz'\n",
            " 808092   13396 -rw-r--r-- 1 root root   13714175 Jan 16 17:58  coverageCatHDv5.tar.gz\n",
            "      ?       ? d????????? ? ?    ?             ?            ?  GDrive\n",
            " 808134       0 -rw-r--r-- 1 root root          0 Jan 16 11:34  geckodriver.log\n",
            " 808174      36 drwxr-xr-x 2 root root      36864 Jan 16 17:16  Images\n",
            " 808137       4 drwxr-xr-x 3 root root       4096 Jan 16 11:39  mongodb-linux-x86_64-debian71-3.0.15\n",
            "2097244       4 drwxr-xr-x 1 root root       4096 Jan  8 17:15  sample_data\n",
            " 808094  198388 -rw-r--r-- 1 root root  203147702 Jan 16 12:37  temp_coverageCat.csv\n",
            " 808128      24 -rw-r--r-- 1 root root      21704 Jan 16 11:35  test.html\n"
          ],
          "name": "stdout"
        }
      ]
    },
    {
      "metadata": {
        "id": "qB3X7uOEz-Sl",
        "colab_type": "code",
        "colab": {}
      },
      "cell_type": "code",
      "source": [
        "!rm coverageCat.csv"
      ],
      "execution_count": 0,
      "outputs": []
    },
    {
      "metadata": {
        "id": "ZGN08VqMqtIr",
        "colab_type": "code",
        "outputId": "d2c74533-9958-4e11-8416-7f487edfa730",
        "colab": {
          "base_uri": "https://localhost:8080/",
          "height": 143
        }
      },
      "cell_type": "code",
      "source": [
        "# load data\n",
        "df = pd.read_csv('coverageCat.csv')\n",
        "df.head(3)"
      ],
      "execution_count": 0,
      "outputs": [
        {
          "output_type": "execute_result",
          "data": {
            "text/html": [
              "<div>\n",
              "<style scoped>\n",
              "    .dataframe tbody tr th:only-of-type {\n",
              "        vertical-align: middle;\n",
              "    }\n",
              "\n",
              "    .dataframe tbody tr th {\n",
              "        vertical-align: top;\n",
              "    }\n",
              "\n",
              "    .dataframe thead th {\n",
              "        text-align: right;\n",
              "    }\n",
              "</style>\n",
              "<table border=\"1\" class=\"dataframe\">\n",
              "  <thead>\n",
              "    <tr style=\"text-align: right;\">\n",
              "      <th></th>\n",
              "      <th>Activitat</th>\n",
              "      <th>Day</th>\n",
              "      <th>Hour</th>\n",
              "      <th>Latitude</th>\n",
              "      <th>Longitude</th>\n",
              "      <th>Month</th>\n",
              "      <th>Weekday</th>\n",
              "      <th>Year</th>\n",
              "    </tr>\n",
              "  </thead>\n",
              "  <tbody>\n",
              "    <tr>\n",
              "      <th>0</th>\n",
              "      <td>UNKNOWN</td>\n",
              "      <td>17</td>\n",
              "      <td>1</td>\n",
              "      <td>41.3875</td>\n",
              "      <td>2.1980</td>\n",
              "      <td>10</td>\n",
              "      <td>6</td>\n",
              "      <td>2015</td>\n",
              "    </tr>\n",
              "    <tr>\n",
              "      <th>1</th>\n",
              "      <td>IN_VEHICLE</td>\n",
              "      <td>17</td>\n",
              "      <td>1</td>\n",
              "      <td>41.3860</td>\n",
              "      <td>2.1395</td>\n",
              "      <td>10</td>\n",
              "      <td>6</td>\n",
              "      <td>2015</td>\n",
              "    </tr>\n",
              "    <tr>\n",
              "      <th>2</th>\n",
              "      <td>IN_VEHICLE</td>\n",
              "      <td>17</td>\n",
              "      <td>1</td>\n",
              "      <td>41.3860</td>\n",
              "      <td>2.1395</td>\n",
              "      <td>10</td>\n",
              "      <td>6</td>\n",
              "      <td>2015</td>\n",
              "    </tr>\n",
              "  </tbody>\n",
              "</table>\n",
              "</div>"
            ],
            "text/plain": [
              "    Activitat  Day  Hour  Latitude  Longitude  Month  Weekday  Year\n",
              "0     UNKNOWN   17     1   41.3875     2.1980     10        6  2015\n",
              "1  IN_VEHICLE   17     1   41.3860     2.1395     10        6  2015\n",
              "2  IN_VEHICLE   17     1   41.3860     2.1395     10        6  2015"
            ]
          },
          "metadata": {
            "tags": []
          },
          "execution_count": 61
        }
      ]
    },
    {
      "metadata": {
        "id": "sjVS-sRw_WxW",
        "colab_type": "code",
        "outputId": "72099b86-66d1-431d-937a-b81cb4c74aa7",
        "colab": {
          "base_uri": "https://localhost:8080/",
          "height": 143
        }
      },
      "cell_type": "code",
      "source": [
        "df.tail(3)"
      ],
      "execution_count": 0,
      "outputs": [
        {
          "output_type": "execute_result",
          "data": {
            "text/html": [
              "<div>\n",
              "<style scoped>\n",
              "    .dataframe tbody tr th:only-of-type {\n",
              "        vertical-align: middle;\n",
              "    }\n",
              "\n",
              "    .dataframe tbody tr th {\n",
              "        vertical-align: top;\n",
              "    }\n",
              "\n",
              "    .dataframe thead th {\n",
              "        text-align: right;\n",
              "    }\n",
              "</style>\n",
              "<table border=\"1\" class=\"dataframe\">\n",
              "  <thead>\n",
              "    <tr style=\"text-align: right;\">\n",
              "      <th></th>\n",
              "      <th>Activitat</th>\n",
              "      <th>Day</th>\n",
              "      <th>Hour</th>\n",
              "      <th>Latitude</th>\n",
              "      <th>Longitude</th>\n",
              "      <th>Month</th>\n",
              "      <th>Weekday</th>\n",
              "      <th>Year</th>\n",
              "    </tr>\n",
              "  </thead>\n",
              "  <tbody>\n",
              "    <tr>\n",
              "      <th>2959753</th>\n",
              "      <td>IN_VEHICLE</td>\n",
              "      <td>4</td>\n",
              "      <td>1</td>\n",
              "      <td>41.46</td>\n",
              "      <td>2.03</td>\n",
              "      <td>5</td>\n",
              "      <td>4</td>\n",
              "      <td>2017</td>\n",
              "    </tr>\n",
              "    <tr>\n",
              "      <th>2959754</th>\n",
              "      <td>IN_VEHICLE</td>\n",
              "      <td>19</td>\n",
              "      <td>1</td>\n",
              "      <td>41.46</td>\n",
              "      <td>2.03</td>\n",
              "      <td>10</td>\n",
              "      <td>3</td>\n",
              "      <td>2016</td>\n",
              "    </tr>\n",
              "    <tr>\n",
              "      <th>2959755</th>\n",
              "      <td>IN_VEHICLE</td>\n",
              "      <td>19</td>\n",
              "      <td>1</td>\n",
              "      <td>41.46</td>\n",
              "      <td>2.03</td>\n",
              "      <td>10</td>\n",
              "      <td>3</td>\n",
              "      <td>2016</td>\n",
              "    </tr>\n",
              "  </tbody>\n",
              "</table>\n",
              "</div>"
            ],
            "text/plain": [
              "          Activitat  Day  Hour  Latitude  Longitude  Month  Weekday  Year\n",
              "2959753  IN_VEHICLE    4     1     41.46       2.03      5        4  2017\n",
              "2959754  IN_VEHICLE   19     1     41.46       2.03     10        3  2016\n",
              "2959755  IN_VEHICLE   19     1     41.46       2.03     10        3  2016"
            ]
          },
          "metadata": {
            "tags": []
          },
          "execution_count": 62
        }
      ]
    },
    {
      "metadata": {
        "id": "WOZorw4J_YIG",
        "colab_type": "text"
      },
      "cell_type": "markdown",
      "source": [
        "##  Data cleansing"
      ]
    },
    {
      "metadata": {
        "id": "Uu9aK9I4_aLQ",
        "colab_type": "code",
        "colab": {}
      },
      "cell_type": "code",
      "source": [
        "df = df[df['Activitat']=='IN_VEHICLE']                                    # Keeps in dataFrame the data with activity \"IN VEHICLE\"\n",
        "\n",
        "weekdays = [1,2,3,4,5]\n",
        "df = df[(df['Weekday'].isin(weekdays))]                                   # Keeps in dataFrame the data from Monday to Friday"
      ],
      "execution_count": 0,
      "outputs": []
    },
    {
      "metadata": {
        "id": "5LPeBrVF7xbF",
        "colab_type": "text"
      },
      "cell_type": "markdown",
      "source": [
        "##  Generate dataset graphics\n",
        "Using seaborn to generate graphics of mobile phone density\n",
        "\n",
        "![Density_sample](https://raw.githubusercontent.com/Giffy/Mobility_AIBCN/master/dataset/plt_sample.png)\n",
        "\n"
      ]
    },
    {
      "metadata": {
        "id": "xa_C7-gRrCpz",
        "colab_type": "code",
        "outputId": "164cf543-1efb-43ac-d702-ed996121dacd",
        "colab": {
          "base_uri": "https://localhost:8080/",
          "height": 330
        }
      },
      "cell_type": "code",
      "source": [
        "manana = [1,2,3,4,5,6,7,8,9,10,11,12,13,14,15,16,17,18,19,20,21,22,23,24]\n",
        "\n",
        "# Sample of plotting graphic with seaborn\n",
        "\n",
        "df0 = df[ (df['Year']== 2017\n",
        "          ) & (df['Month']== 4) & (df['Day']== 5)]\n",
        "df0 = df0[(df0['Hour'].isin(manana))]  \n",
        "df0 = df0.groupby(['Latitude','Longitude'], as_index= False).count()\n",
        "result = df0.pivot (index='Latitude' , columns='Longitude', values='Day')\n",
        "\n",
        "\n",
        "sns_plot = seaborn.heatmap(result, \n",
        "                           cbar= False,                            # Removes color bar with scale \n",
        "                           xticklabels=False,                      # Removes X-axis labels\n",
        "                           yticklabels=False,                      # Removes Y-axis labels\n",
        "                           cmap=\"PiYG\",                            # 2 contrasting colors\n",
        "                           center=3\n",
        "                          ) \n",
        "\n",
        "sns_plot.set_xlabel('')                                            # Removes X-axis title\n",
        "sns_plot.set_ylabel('')                                            # Removes Y-axis title\n",
        "\n",
        "fig = sns_plot.get_figure()                                        # Generates the heatmap image\n",
        "#fig.savefig(\"output.png\")                                         # Saves the image as png"
      ],
      "execution_count": 0,
      "outputs": [
        {
          "output_type": "display_data",
          "data": {
            "image/png": "[encoded data removed]",
            "text/plain": [
              "<matplotlib.figure.Figure at 0x7f7bc195a3c8>"
            ]
          },
          "metadata": {
            "tags": []
          }
        }
      ]
    },
    {
      "metadata": {
        "id": "MGRKIWNBZ-kS",
        "colab_type": "code",
        "colab": {}
      },
      "cell_type": "code",
      "source": [
        "!mkdir /content/Images\n",
        "path = '/content/Images/'                                                # Path to store the heatmap images generated\n",
        "\n",
        "# List of years, months, days and weekdays\n",
        "years = [2015, 2016, 2017]\n",
        "months = [1,2,3,4,5,6,7,8,9,10,11,12]\n",
        "days = [1,2,3,4,5,6,7,8,9,10,11,12,13,14,15,16,17,18,19,20,21,22,23,24,25,26,27,28,29,30,31]\n",
        "\n",
        "\n",
        "def generate_images ( hours ):\n",
        "  \n",
        "  count = 0\n",
        "  df0 = df[(df['Hour'].isin(hours))]                                      # Creates a dataset within the time range selected\n",
        "  for year in years:                                                      # Iteration to collect the data per each picture\n",
        "    df1 = df0[(df0['Year']== year)]                                       # Selects a year from list\n",
        "    for month in months:\n",
        "      df2 = df1[(df1['Month']== month)]                                   # Selects a month from list\n",
        "      print (\"Progress: \" + str(year) + '_' + str(month))\n",
        "      for day in days:\n",
        "        df3 = df2[(df2['Day']== day)]                                     # Selects a day from list\n",
        "        df_camp = df3[(df3.Latitude > 6) & (df3.Latitude < 11) &(df3.Longitude > 6) & (df3.Longitude < 11) ]\n",
        "        df4 = df3.groupby(['Latitude','Longitude'], as_index= False).count()\n",
        "        result = df4.pivot (index='Latitude' , columns='Longitude', values='Day')\n",
        "\n",
        " 41.3845809,2.1246018\n",
        "41.3845809,2.1246018,\n",
        "41.3845809,2.1246018,\n",
        "41.3783477,2.125735\n",
        "        \n",
        "        \n",
        "        try:                                                              # Try to catch the error when seaborn crashes, when result is empty (weekends, some days for months shorter than 31 days)\n",
        "          sns_plot = seaborn.heatmap(result, \n",
        "                                     cbar= False,                         # Removes color bar with scale \n",
        "                                     xticklabels=False,                   # Removes X-axis labels\n",
        "                                     yticklabels=False,                   # Removes Y-axis labels\n",
        "                                     cmap=\"PiYG\",                         # 2 contrasting colors\n",
        "                                     center=10\n",
        "                                    ) \n",
        "          sns_plot.set_xlabel('')                                         # Removes X-axis title\n",
        "          sns_plot.set_ylabel('')                                         # Removes Y-axis title\n",
        "          sns_plot.plt.xlim (2.030 , 2.26)\n",
        "          sns_plot.plt.ylim (41.335 , 41.46)\n",
        "          \n",
        "          fig = sns_plot.get_figure()                                     # Plots the heatmap image\n",
        "\n",
        "          # Filename creation\n",
        "          period = 'AM' if 8 in hours else 'PM'\n",
        "          filename = str(year) + '_' + str(month) + '_' + str(day) + '_' + period + '.png' \n",
        "\n",
        "          fig.savefig( path + filename )                                  # Saves image as png\n",
        "          fig.clf()                                                       # Cleans figure content\n",
        "          sns_plot = None\n",
        "          count +=1\n",
        "        except:\n",
        "          pass\n",
        "  print ( \"Created \" + str(count) + \" images\")"
      ],
      "execution_count": 0,
      "outputs": []
    },
    {
      "metadata": {
        "id": "rRRmq1G-1CNb",
        "colab_type": "code",
        "outputId": "cc71d2ed-b33c-4c91-9645-39853843ccaa",
        "colab": {
          "base_uri": "https://localhost:8080/",
          "height": 677
        }
      },
      "cell_type": "code",
      "source": [
        "manana = [1,7,8,9,10]\n",
        "generate_images ( manana )"
      ],
      "execution_count": 0,
      "outputs": [
        {
          "output_type": "stream",
          "text": [
            "Progress: 2015_1\n",
            "Progress: 2015_2\n",
            "Progress: 2015_3\n",
            "Progress: 2015_4\n",
            "Progress: 2015_5\n",
            "Progress: 2015_6\n",
            "Progress: 2015_7\n",
            "Progress: 2015_8\n",
            "Progress: 2015_9\n",
            "Progress: 2015_10\n",
            "Progress: 2015_11\n",
            "Progress: 2015_12\n",
            "Progress: 2016_1\n",
            "Progress: 2016_2\n",
            "Progress: 2016_3\n",
            "Progress: 2016_4\n",
            "Progress: 2016_5\n",
            "Progress: 2016_6\n",
            "Progress: 2016_7\n",
            "Progress: 2016_8\n",
            "Progress: 2016_9\n",
            "Progress: 2016_10\n",
            "Progress: 2016_11\n",
            "Progress: 2016_12\n",
            "Progress: 2017_1\n",
            "Progress: 2017_2\n",
            "Progress: 2017_3\n",
            "Progress: 2017_4\n",
            "Progress: 2017_5\n",
            "Progress: 2017_6\n",
            "Progress: 2017_7\n",
            "Progress: 2017_8\n",
            "Progress: 2017_9\n",
            "Progress: 2017_10\n",
            "Progress: 2017_11\n",
            "Progress: 2017_12\n",
            "Created 778 images\n"
          ],
          "name": "stdout"
        },
        {
          "output_type": "display_data",
          "data": {
            "text/plain": [
              "<matplotlib.figure.Figure at 0x7f7bc61f9ba8>"
            ]
          },
          "metadata": {
            "tags": []
          }
        }
      ]
    },
    {
      "metadata": {
        "id": "vAXLRggx9vqA",
        "colab_type": "code",
        "outputId": "1761c0c5-c779-4c92-bba7-fe6d0059d653",
        "colab": {
          "base_uri": "https://localhost:8080/",
          "height": 677
        }
      },
      "cell_type": "code",
      "source": [
        "tarde = [1,2,3,4,5,6,7,8,9,10,11,12,13,14,15,16,17,18,19,20,21,22,23,24]\n",
        "generate_images ( tarde )"
      ],
      "execution_count": 0,
      "outputs": [
        {
          "output_type": "stream",
          "text": [
            "Progress: 2015_1\n",
            "Progress: 2015_2\n",
            "Progress: 2015_3\n",
            "Progress: 2015_4\n",
            "Progress: 2015_5\n",
            "Progress: 2015_6\n",
            "Progress: 2015_7\n",
            "Progress: 2015_8\n",
            "Progress: 2015_9\n",
            "Progress: 2015_10\n",
            "Progress: 2015_11\n",
            "Progress: 2015_12\n",
            "Progress: 2016_1\n",
            "Progress: 2016_2\n",
            "Progress: 2016_3\n",
            "Progress: 2016_4\n",
            "Progress: 2016_5\n",
            "Progress: 2016_6\n",
            "Progress: 2016_7\n",
            "Progress: 2016_8\n",
            "Progress: 2016_9\n",
            "Progress: 2016_10\n",
            "Progress: 2016_11\n",
            "Progress: 2016_12\n",
            "Progress: 2017_1\n",
            "Progress: 2017_2\n",
            "Progress: 2017_3\n",
            "Progress: 2017_4\n",
            "Progress: 2017_5\n",
            "Progress: 2017_6\n",
            "Progress: 2017_7\n",
            "Progress: 2017_8\n",
            "Progress: 2017_9\n",
            "Progress: 2017_10\n",
            "Progress: 2017_11\n",
            "Progress: 2017_12\n",
            "Created 778 images\n"
          ],
          "name": "stdout"
        },
        {
          "output_type": "display_data",
          "data": {
            "text/plain": [
              "<matplotlib.figure.Figure at 0x7f7bc18716a0>"
            ]
          },
          "metadata": {
            "tags": []
          }
        }
      ]
    },
    {
      "metadata": {
        "id": "OW0PAjBN6p2R",
        "colab_type": "text"
      },
      "cell_type": "markdown",
      "source": [
        "## Copy dataset to Google Drive"
      ]
    },
    {
      "metadata": {
        "id": "lCr1LzjQ62pv",
        "colab_type": "code",
        "outputId": "c5d828d3-4ba7-474c-9909-578ec581eeb1",
        "colab": {
          "base_uri": "https://localhost:8080/",
          "height": 34
        }
      },
      "cell_type": "code",
      "source": [
        "from google.colab import drive\n",
        "drive.mount('/gdrive')                                                   # Mounts Google Drive as a folder in google Colab"
      ],
      "execution_count": 0,
      "outputs": [
        {
          "output_type": "stream",
          "text": [
            "Drive already mounted at /gdrive; to attempt to forcibly remount, call drive.mount(\"/gdrive\", force_remount=True).\n"
          ],
          "name": "stdout"
        }
      ]
    },
    {
      "metadata": {
        "id": "hIcy1e0QBDvY",
        "colab_type": "code",
        "colab": {}
      },
      "cell_type": "code",
      "source": [
        "!tar -czvf images.tar.gz Images > /dev/null\n",
        "!mv images.tar.gz /gdrive/My\\ Drive/"
      ],
      "execution_count": 0,
      "outputs": []
    },
    {
      "metadata": {
        "id": "xYp_zXlk62wm",
        "colab_type": "code",
        "outputId": "6c8c9266-acba-4207-d1e1-36c1c0894e77",
        "colab": {
          "base_uri": "https://localhost:8080/",
          "height": 34
        }
      },
      "cell_type": "code",
      "source": [
        "!cp *.png /gdrive/My\\ Drive/Images"
      ],
      "execution_count": 0,
      "outputs": [
        {
          "output_type": "stream",
          "text": [
            "cp: cannot stat '*.png': No such file or directory\n"
          ],
          "name": "stdout"
        }
      ]
    },
    {
      "metadata": {
        "id": "d_az83I4A-2z",
        "colab_type": "code",
        "colab": {}
      },
      "cell_type": "code",
      "source": [
        "!rm Images/*.png"
      ],
      "execution_count": 0,
      "outputs": []
    },
    {
      "metadata": {
        "id": "WXjEJsCi40Kn",
        "colab_type": "code",
        "colab": {}
      },
      "cell_type": "code",
      "source": [
        "!ls Images"
      ],
      "execution_count": 0,
      "outputs": []
    },
    {
      "metadata": {
        "id": "QM0D6mSU_Hlx",
        "colab_type": "text"
      },
      "cell_type": "markdown",
      "source": [
        "## Plotting data sample with Folium"
      ]
    },
    {
      "metadata": {
        "id": "G20QeWDzx9nh",
        "colab_type": "code",
        "colab": {}
      },
      "cell_type": "code",
      "source": [
        "!pip install folium geopandas  > /dev/null   # Install folium for map visualization\n",
        "\n",
        "import folium                             # Library to create the map\n",
        "from folium import plugins                # plugin to create a heatmap"
      ],
      "execution_count": 0,
      "outputs": []
    },
    {
      "metadata": {
        "id": "UWhhKkHdppUc",
        "colab_type": "code",
        "colab": {}
      },
      "cell_type": "code",
      "source": [
        "df0 = df[ (df['Year']== 2017) & (df['Month']== 7) & (df['Day']== 15)]\n",
        "df0 = df0.groupby(['Latitude','Longitude'], as_index= False).count()           \n",
        "\n",
        "latitude = df0.loc [ : , 'Latitude']\n",
        "longitude = df0.loc [ : , 'Longitude']\n",
        "total = df0.loc [ : , 'Day']"
      ],
      "execution_count": 0,
      "outputs": []
    },
    {
      "metadata": {
        "id": "7YsI63mcymp7",
        "colab_type": "code",
        "outputId": "d2834860-e0bb-4838-dc01-a8c381367a68",
        "colab": {
          "base_uri": "https://localhost:8080/",
          "height": 911
        }
      },
      "cell_type": "code",
      "source": [
        "df0 = df[ (df['Year']== 2016) & (df['Month']== 5) & (df['Day']== 14                                                     )]\n",
        "df0 = df0.groupby(['Latitude','Longitude'], as_index= False).count()           \n",
        "\n",
        "latitude = df0.loc [ : , 'Latitude']\n",
        "longitude = df0.loc [ : , 'Longitude']\n",
        "total = df0.loc [ : , 'Day']\n",
        "\n",
        "center_lat = 41.391\n",
        "center_lon = 2.137\n",
        "\n",
        "center_lat = 41.3807231\n",
        "center_lon = 2.1232077\n",
        "\n",
        "locationmap = folium.Map(location=[ center_lat , center_lon ], zoom_start=17\n",
        "                         , width=800, height=600 )\n",
        "locationmap.add_child(plugins.HeatMap(zip(latitude, longitude, total), radius = 49))\n",
        "\n",
        "locationmap"
      ],
      "execution_count": 0,
      "outputs": [
        {
          "output_type": "execute_result",
          "data": {
            "text/html": [
              "<div style=\"width:100%;\"><div style=\"position:relative;width:100%;height:0;padding-bottom:60%;\"><iframe src=\"data:text/html;base64,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\" style=\"position:absolute;width:100%;height:100%;left:0;top:0;\"></iframe></div></div>"
            ],
            "text/plain": [
              "<folium.folium.Map at 0x7f7bc213d2e8>"
            ]
          },
          "metadata": {
            "tags": []
          },
          "execution_count": 152
        }
      ]
    },
    {
      "metadata": {
        "id": "bbmU4Bf9ZyOs",
        "colab_type": "code",
        "colab": {}
      },
      "cell_type": "code",
      "source": [
        "locationmap.save(outfile= \"test.html\")"
      ],
      "execution_count": 0,
      "outputs": []
    },
    {
      "metadata": {
        "id": "NPCLHoUYbLXf",
        "colab_type": "code",
        "colab": {}
      },
      "cell_type": "code",
      "source": [
        "!cat test.html"
      ],
      "execution_count": 0,
      "outputs": []
    },
    {
      "metadata": {
        "id": "sxwOZ3FxbkDk",
        "colab_type": "code",
        "colab": {}
      },
      "cell_type": "code",
      "source": [
        "!pip install selenium > /dev/null\n",
        "import os\n",
        "import time\n",
        "from selenium import webdriver\n",
        "\n",
        "delay=5\n",
        "fn='test.html'\n",
        "tmpurl='file://{path}/{mapfile}'.format(path=os.getcwd(),mapfile=fn)\n",
        "locationmap.save(fn)\n",
        "\n",
        "browser = webdriver.Firefox()\n",
        "browser.get(tmpurl)\n",
        "#Give the map tiles some time to load\n",
        "time.sleep(delay)\n",
        "browser.save_screenshot('map.png')\n",
        "browser.quit()"
      ],
      "execution_count": 0,
      "outputs": []
    },
    {
      "metadata": {
        "id": "ZrSzETfKcAio",
        "colab_type": "code",
        "outputId": "4fd64e43-5697-492d-8188-42b3f328429e",
        "colab": {
          "base_uri": "https://localhost:8080/",
          "height": 69
        }
      },
      "cell_type": "code",
      "source": [
        "!find / selenium  | grep geckodriver"
      ],
      "execution_count": 0,
      "outputs": [
        {
          "output_type": "stream",
          "text": [
            "find: ‘/content/GDrive/My Drive/Cursos/CIFO PYTHON 2017/JOANMASDEMONT/LABORATORI-TOPICS/TEXTPLA’: Input/output error\n",
            "/content/geckodriver.log\n",
            "find: ‘selenium’: No such file or directory\n"
          ],
          "name": "stdout"
        }
      ]
    },
    {
      "metadata": {
        "id": "JbItOfo1ctHK",
        "colab_type": "code",
        "colab": {}
      },
      "cell_type": "code",
      "source": [
        ""
      ],
      "execution_count": 0,
      "outputs": []
    }
  ]
}