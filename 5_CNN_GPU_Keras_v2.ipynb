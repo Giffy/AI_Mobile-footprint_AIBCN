{
  "nbformat": 4,
  "nbformat_minor": 0,
  "metadata": {
    "colab": {
      "name": "5 CNN - GPU - Keras_v2.ipynb",
      "version": "0.3.2",
      "provenance": [],
      "collapsed_sections": [],
      "include_colab_link": true
    },
    "kernelspec": {
      "name": "python3",
      "display_name": "Python 3"
    },
    "accelerator": "GPU"
  },
  "cells": [
    {
      "cell_type": "markdown",
      "metadata": {
        "id": "view-in-github",
        "colab_type": "text"
      },
      "source": [
        "<a href=\"https://colab.research.google.com/github/Giffy/Mobile_footprint_AIBCN/blob/master/5_CNN_GPU_Keras_v2.ipynb\" target=\"_parent\"><img src=\"https://colab.research.google.com/assets/colab-badge.svg\" alt=\"Open In Colab\"/></a>"
      ]
    },
    {
      "metadata": {
        "id": "Q-nWR5gW3Fh3",
        "colab_type": "text"
      },
      "cell_type": "markdown",
      "source": [
        "# Convolutional Neural Network \n",
        "\n",
        "Using vehicle density in city, predict if there is a bad weather condition"
      ]
    },
    {
      "metadata": {
        "id": "tohuq4f1sgh5",
        "colab_type": "text"
      },
      "cell_type": "markdown",
      "source": [
        "## Download dataset and inflate"
      ]
    },
    {
      "metadata": {
        "id": "TfQTfCIbT-4Z",
        "colab_type": "code",
        "outputId": "01dce0f4-b20e-4009-afc6-e719240782de",
        "colab": {
          "base_uri": "https://localhost:8080/",
          "height": 54
        }
      },
      "cell_type": "code",
      "source": [
        "!pip install wget\n",
        "import wget\n",
        "url = 'https://raw.githubusercontent.com/Giffy/Mobile_footprint_AIBCN/master/dataset/weather.tar.gz'\n",
        "try:\n",
        "  filename = wget.download(url)\n",
        "  print ( 'Dataset downloaded successfully.')\n",
        "\n",
        "  # Extract tar file\n",
        "  import tarfile\n",
        "  tf = tarfile.open( filename )\n",
        "  tf.extractall()  \n",
        "    \n",
        "except:\n",
        "  print ( 'Error downloading dataset.')"
      ],
      "execution_count": 1,
      "outputs": [
        {
          "output_type": "stream",
          "text": [
            "Requirement already satisfied: wget in /usr/local/lib/python3.6/dist-packages (3.2)\n",
            "Dataset downloaded successfully.\n"
          ],
          "name": "stdout"
        }
      ]
    },
    {
      "metadata": {
        "id": "GTqGTa2BxjSd",
        "colab_type": "code",
        "outputId": "1c40537c-1b31-4163-bfcc-24e2525c246e",
        "colab": {
          "base_uri": "https://localhost:8080/",
          "height": 35
        }
      },
      "cell_type": "code",
      "source": [
        "url = 'https://raw.githubusercontent.com/Giffy/Mobile_footprint_AIBCN/master/dataset/images_v2.tar.gz'\n",
        "try:\n",
        "  filename = wget.download(url)\n",
        "  print ( 'Dataset downloaded successfully.')\n",
        "\n",
        "  # Extract tar file\n",
        "  import tarfile\n",
        "  tf = tarfile.open( filename )\n",
        "  tf.extractall()  \n",
        "    \n",
        "except:\n",
        "  print ( 'Error downloading dataset.')"
      ],
      "execution_count": 2,
      "outputs": [
        {
          "output_type": "stream",
          "text": [
            "Dataset downloaded successfully.\n"
          ],
          "name": "stdout"
        }
      ]
    },
    {
      "metadata": {
        "id": "m9dC6_wMRhG7",
        "colab_type": "code",
        "colab": {}
      },
      "cell_type": "code",
      "source": [
        "PATH_DATASET_IMAGES = 'Images'\n",
        "DATASET_WEATHER = 'weather.csv'"
      ],
      "execution_count": 0,
      "outputs": []
    },
    {
      "metadata": {
        "id": "wdzS2AKMuify",
        "colab_type": "text"
      },
      "cell_type": "markdown",
      "source": [
        "##  Load libraries"
      ]
    },
    {
      "metadata": {
        "id": "q4kug7eDm0p7",
        "colab_type": "code",
        "colab": {}
      },
      "cell_type": "code",
      "source": [
        "# Load numpy to do array operations\n",
        "import numpy as np\n",
        "# Load matplotlib\n",
        "import matplotlib.pyplot as plt\n",
        "# Load os\n",
        "import os\n",
        "# Load opencv  \n",
        "import cv2       # install opencv if requires :  !pip install opencv-python\n",
        "# Load pandas\n",
        "import pandas as pd"
      ],
      "execution_count": 0,
      "outputs": []
    },
    {
      "metadata": {
        "id": "iUBYOImu3ZDk",
        "colab_type": "text"
      },
      "cell_type": "markdown",
      "source": [
        "## Images overview"
      ]
    },
    {
      "metadata": {
        "id": "5iOpVCGKlax8",
        "colab_type": "code",
        "outputId": "bcc92462-9f44-4ca2-d7bc-5d6f632c0cda",
        "colab": {
          "base_uri": "https://localhost:8080/",
          "height": 387
        }
      },
      "cell_type": "code",
      "source": [
        "for img in os.listdir(PATH_DATASET_IMAGES):             # listdir; list all filenames in path\n",
        "  img_array = cv2.imread(os.path.join(PATH_DATASET_IMAGES, img), cv2.IMREAD_GRAYSCALE)\n",
        "  plt.imshow(img_array, cmap=\"gray\")\n",
        "  plt.show()\n",
        "  break\n",
        "print (\"Filename: \" + img)\n",
        "print (\"Image size : \" + str(img_array.shape))"
      ],
      "execution_count": 5,
      "outputs": [
        {
          "output_type": "display_data",
          "data": {
            "image/png": "[encoded data removed]",
            "text/plain": [
              "<Figure size 576x396 with 1 Axes>"
            ]
          },
          "metadata": {
            "tags": []
          }
        },
        {
          "output_type": "stream",
          "text": [
            "Filename: 2016_3_16_1.png\n",
            "Image size : (296, 438)\n"
          ],
          "name": "stdout"
        }
      ]
    },
    {
      "metadata": {
        "id": "XEJPxpWA88TL",
        "colab_type": "code",
        "colab": {}
      },
      "cell_type": "code",
      "source": [
        "df = pd.DataFrame()\n",
        "df_weather = pd.read_csv('weather.csv')\n",
        "df_weather = df_weather.set_index('data')"
      ],
      "execution_count": 0,
      "outputs": []
    },
    {
      "metadata": {
        "id": "s1YWwP2Q6lU0",
        "colab_type": "code",
        "colab": {}
      },
      "cell_type": "code",
      "source": [
        "fd_even = [0,2,4,6,8,10,12,14,16,18,20,22,24]  # 0 includes outer frame to keep image size constant\n",
        "fd_odd  = [0,1,3,5,7,9,11,13,15,17,19,21,23]   # 0 includes outer frame to keep image size constant\n",
        "am      = [5,6,7,8,9,10,11]                     \n",
        "pm      = [16,17,18,19,20,21]                \n",
        "a2      = [7,8,9]            \n",
        "a3      = [8,9,10] \n",
        "a4      = [9,10,11]\n",
        "a5      = [16,17,18]\n",
        "a6      = [17,18,19]\n",
        "a7      = [18,19,20]\n",
        "\n",
        "\n",
        "timing = []\n",
        "timing.append(fd_even)\n",
        "timing.append(fd_odd)\n",
        "timing.append(am)\n",
        "timing.append(pm)\n",
        "timing.append(a2)\n",
        "timing.append(a3)\n",
        "timing.append(a4)\n",
        "timing.append(a5)\n",
        "timing.append(a6)\n",
        "timing.append(a7)"
      ],
      "execution_count": 0,
      "outputs": []
    },
    {
      "metadata": {
        "id": "jSnmrQP-6k4b",
        "colab_type": "code",
        "colab": {}
      },
      "cell_type": "code",
      "source": [
        "IMG_SIZE = 280\n",
        "\n",
        "for i in range(len(timing)):\n",
        "  for img in os.listdir(PATH_DATASET_IMAGES):             # listdir; list all filenames in path\n",
        "\n",
        "    try:\n",
        "      # Read images\n",
        "      image_name = img.split('_')\n",
        "      if int(image_name[3].split('.')[0]) == i+1 :\n",
        "        year = image_name[0]\n",
        "        month = image_name[1]\n",
        "        month = '0'+str(month) if len(str(month)) == 1 else str(month) \n",
        "        day = image_name[2]\n",
        "        day = '0'+str(day) if len(str(day)) == 1 else str(day) \n",
        "        period = image_name[3].split('.')[0]\n",
        "        img_array = cv2.imread(os.path.join(PATH_DATASET_IMAGES, img), cv2.IMREAD_GRAYSCALE)\n",
        "        img_array= cv2.resize(img_array, (IMG_SIZE, IMG_SIZE))         # Resize to 280x280\n",
        "\n",
        "        # Read weather history\n",
        "        date= int(year+month+day)\n",
        "        df_temp= df_weather[(df_weather['hour'].isin(timing[0]))] \n",
        "        df_rain = df_temp.loc[ date , ['hour', 'period', 'rain']]\n",
        "        label = df_rain.rain.max()\n",
        "\n",
        "        # Adding image and weather history to dataset\n",
        "        data = {\n",
        "          'data' : [ year+month+day ],\n",
        "          'period' : [ period ],\n",
        "          'img' : [ img_array ],\n",
        "          'label' : [ label ]\n",
        "        }\n",
        "        df = df.append(pd.DataFrame(data), ignore_index=True)\n",
        "    except:\n",
        "      pass"
      ],
      "execution_count": 0,
      "outputs": []
    },
    {
      "metadata": {
        "id": "4kYgELzd8xBk",
        "colab_type": "code",
        "outputId": "0ba6ba6a-b656-433e-ca4b-af2c2b882492",
        "colab": {
          "base_uri": "https://localhost:8080/",
          "height": 35
        }
      },
      "cell_type": "code",
      "source": [
        "print( 'Number of images loaded : ' + str( len(df) ) )"
      ],
      "execution_count": 9,
      "outputs": [
        {
          "output_type": "stream",
          "text": [
            "Number of images loaded : 7120\n"
          ],
          "name": "stdout"
        }
      ]
    },
    {
      "metadata": {
        "id": "dUK4rI3977Pt",
        "colab_type": "code",
        "outputId": "75bc8142-e7ac-4a7d-c866-918fe2c21b06",
        "colab": {
          "base_uri": "https://localhost:8080/",
          "height": 365
        }
      },
      "cell_type": "code",
      "source": [
        "# plot dataset classes\n",
        "df.label.plot.hist(bins = 2)\n"
      ],
      "execution_count": 10,
      "outputs": [
        {
          "output_type": "execute_result",
          "data": {
            "text/plain": [
              "<matplotlib.axes._subplots.AxesSubplot at 0x7fb22ca6c588>"
            ]
          },
          "metadata": {
            "tags": []
          },
          "execution_count": 10
        },
        {
          "output_type": "display_data",
          "data": {
            "image/png": "[encoded data removed]",
            "text/plain": [
              "<Figure size 576x396 with 1 Axes>"
            ]
          },
          "metadata": {
            "tags": []
          }
        }
      ]
    },
    {
      "metadata": {
        "id": "0PI6mVFt9RRS",
        "colab_type": "code",
        "outputId": "6fc489b1-6cb4-47be-a27f-6ff2e534dffc",
        "colab": {
          "base_uri": "https://localhost:8080/",
          "height": 54
        }
      },
      "cell_type": "code",
      "source": [
        "len_rain = len( df[ df.label == 1] )\n",
        "len_sun  = len( df[ df.label == 0] )\n",
        "\n",
        "print ('Images with Raining days : ' + str( len_rain ))\n",
        "print ('Images with Sunny days : '   + str( len_sun ))"
      ],
      "execution_count": 11,
      "outputs": [
        {
          "output_type": "stream",
          "text": [
            "Images with Raining days : 1170\n",
            "Images with Sunny days : 5950\n"
          ],
          "name": "stdout"
        }
      ]
    },
    {
      "metadata": {
        "id": "p0Qym87yXNv5",
        "colab_type": "text"
      },
      "cell_type": "markdown",
      "source": [
        "## Create a balanced dataset"
      ]
    },
    {
      "metadata": {
        "id": "PTOiTcXhXqOd",
        "colab_type": "code",
        "outputId": "9de14180-6ebd-4c44-e785-c5357e088c36",
        "colab": {
          "base_uri": "https://localhost:8080/",
          "height": 143
        }
      },
      "cell_type": "code",
      "source": [
        "df.head(3)"
      ],
      "execution_count": 12,
      "outputs": [
        {
          "output_type": "execute_result",
          "data": {
            "text/html": [
              "<div>\n",
              "<style scoped>\n",
              "    .dataframe tbody tr th:only-of-type {\n",
              "        vertical-align: middle;\n",
              "    }\n",
              "\n",
              "    .dataframe tbody tr th {\n",
              "        vertical-align: top;\n",
              "    }\n",
              "\n",
              "    .dataframe thead th {\n",
              "        text-align: right;\n",
              "    }\n",
              "</style>\n",
              "<table border=\"1\" class=\"dataframe\">\n",
              "  <thead>\n",
              "    <tr style=\"text-align: right;\">\n",
              "      <th></th>\n",
              "      <th>data</th>\n",
              "      <th>img</th>\n",
              "      <th>label</th>\n",
              "      <th>period</th>\n",
              "    </tr>\n",
              "  </thead>\n",
              "  <tbody>\n",
              "    <tr>\n",
              "      <th>0</th>\n",
              "      <td>20160316</td>\n",
              "      <td>[[234, 234, 234, 234, 234, 234, 234, 234, 234,...</td>\n",
              "      <td>1</td>\n",
              "      <td>1</td>\n",
              "    </tr>\n",
              "    <tr>\n",
              "      <th>1</th>\n",
              "      <td>20170202</td>\n",
              "      <td>[[234, 234, 234, 234, 234, 234, 234, 234, 234,...</td>\n",
              "      <td>0</td>\n",
              "      <td>1</td>\n",
              "    </tr>\n",
              "    <tr>\n",
              "      <th>2</th>\n",
              "      <td>20161103</td>\n",
              "      <td>[[234, 234, 234, 234, 234, 234, 234, 234, 234,...</td>\n",
              "      <td>0</td>\n",
              "      <td>1</td>\n",
              "    </tr>\n",
              "  </tbody>\n",
              "</table>\n",
              "</div>"
            ],
            "text/plain": [
              "       data                                                img  label period\n",
              "0  20160316  [[234, 234, 234, 234, 234, 234, 234, 234, 234,...      1      1\n",
              "1  20170202  [[234, 234, 234, 234, 234, 234, 234, 234, 234,...      0      1\n",
              "2  20161103  [[234, 234, 234, 234, 234, 234, 234, 234, 234,...      0      1"
            ]
          },
          "metadata": {
            "tags": []
          },
          "execution_count": 12
        }
      ]
    },
    {
      "metadata": {
        "id": "QONnoikvYGjW",
        "colab_type": "code",
        "colab": {}
      },
      "cell_type": "code",
      "source": [
        "# Set classification / Labels as index\n",
        "df.set_index('label', inplace= True)"
      ],
      "execution_count": 0,
      "outputs": []
    },
    {
      "metadata": {
        "id": "EtzxS8k4YnQe",
        "colab_type": "code",
        "colab": {}
      },
      "cell_type": "code",
      "source": [
        "sunny = df.loc[0]\n",
        "rain = df.loc[1]"
      ],
      "execution_count": 0,
      "outputs": []
    },
    {
      "metadata": {
        "id": "L8bvRl4CZYpS",
        "colab_type": "code",
        "outputId": "bdd55559-4d3b-45c6-cdef-fcd646186a27",
        "colab": {
          "base_uri": "https://localhost:8080/",
          "height": 175
        }
      },
      "cell_type": "code",
      "source": [
        "sunny.head(3)"
      ],
      "execution_count": 15,
      "outputs": [
        {
          "output_type": "execute_result",
          "data": {
            "text/html": [
              "<div>\n",
              "<style scoped>\n",
              "    .dataframe tbody tr th:only-of-type {\n",
              "        vertical-align: middle;\n",
              "    }\n",
              "\n",
              "    .dataframe tbody tr th {\n",
              "        vertical-align: top;\n",
              "    }\n",
              "\n",
              "    .dataframe thead th {\n",
              "        text-align: right;\n",
              "    }\n",
              "</style>\n",
              "<table border=\"1\" class=\"dataframe\">\n",
              "  <thead>\n",
              "    <tr style=\"text-align: right;\">\n",
              "      <th></th>\n",
              "      <th>data</th>\n",
              "      <th>img</th>\n",
              "      <th>period</th>\n",
              "    </tr>\n",
              "    <tr>\n",
              "      <th>label</th>\n",
              "      <th></th>\n",
              "      <th></th>\n",
              "      <th></th>\n",
              "    </tr>\n",
              "  </thead>\n",
              "  <tbody>\n",
              "    <tr>\n",
              "      <th>0</th>\n",
              "      <td>20170202</td>\n",
              "      <td>[[234, 234, 234, 234, 234, 234, 234, 234, 234,...</td>\n",
              "      <td>1</td>\n",
              "    </tr>\n",
              "    <tr>\n",
              "      <th>0</th>\n",
              "      <td>20161103</td>\n",
              "      <td>[[234, 234, 234, 234, 234, 234, 234, 234, 234,...</td>\n",
              "      <td>1</td>\n",
              "    </tr>\n",
              "    <tr>\n",
              "      <th>0</th>\n",
              "      <td>20160930</td>\n",
              "      <td>[[234, 234, 234, 234, 234, 234, 234, 234, 234,...</td>\n",
              "      <td>1</td>\n",
              "    </tr>\n",
              "  </tbody>\n",
              "</table>\n",
              "</div>"
            ],
            "text/plain": [
              "           data                                                img period\n",
              "label                                                                    \n",
              "0      20170202  [[234, 234, 234, 234, 234, 234, 234, 234, 234,...      1\n",
              "0      20161103  [[234, 234, 234, 234, 234, 234, 234, 234, 234,...      1\n",
              "0      20160930  [[234, 234, 234, 234, 234, 234, 234, 234, 234,...      1"
            ]
          },
          "metadata": {
            "tags": []
          },
          "execution_count": 15
        }
      ]
    },
    {
      "metadata": {
        "id": "fnKzI9qEZdSC",
        "colab_type": "code",
        "colab": {}
      },
      "cell_type": "code",
      "source": [
        "frac = len_rain/len_sun\n",
        "sunny2 = sunny.sample(frac = frac ).reset_index()       # Shuffle data\n",
        "len_sunny = len( sunny2)"
      ],
      "execution_count": 0,
      "outputs": []
    },
    {
      "metadata": {
        "id": "ut8gojCraqP5",
        "colab_type": "code",
        "outputId": "cf4c05cc-86a6-4780-af3c-06dd3b361548",
        "colab": {
          "base_uri": "https://localhost:8080/",
          "height": 143
        }
      },
      "cell_type": "code",
      "source": [
        "sunny2.head(3)"
      ],
      "execution_count": 17,
      "outputs": [
        {
          "output_type": "execute_result",
          "data": {
            "text/html": [
              "<div>\n",
              "<style scoped>\n",
              "    .dataframe tbody tr th:only-of-type {\n",
              "        vertical-align: middle;\n",
              "    }\n",
              "\n",
              "    .dataframe tbody tr th {\n",
              "        vertical-align: top;\n",
              "    }\n",
              "\n",
              "    .dataframe thead th {\n",
              "        text-align: right;\n",
              "    }\n",
              "</style>\n",
              "<table border=\"1\" class=\"dataframe\">\n",
              "  <thead>\n",
              "    <tr style=\"text-align: right;\">\n",
              "      <th></th>\n",
              "      <th>label</th>\n",
              "      <th>data</th>\n",
              "      <th>img</th>\n",
              "      <th>period</th>\n",
              "    </tr>\n",
              "  </thead>\n",
              "  <tbody>\n",
              "    <tr>\n",
              "      <th>0</th>\n",
              "      <td>0</td>\n",
              "      <td>20160113</td>\n",
              "      <td>[[234, 234, 234, 234, 234, 234, 234, 234, 234,...</td>\n",
              "      <td>4</td>\n",
              "    </tr>\n",
              "    <tr>\n",
              "      <th>1</th>\n",
              "      <td>0</td>\n",
              "      <td>20160719</td>\n",
              "      <td>[[234, 234, 234, 234, 234, 234, 234, 234, 234,...</td>\n",
              "      <td>10</td>\n",
              "    </tr>\n",
              "    <tr>\n",
              "      <th>2</th>\n",
              "      <td>0</td>\n",
              "      <td>20160302</td>\n",
              "      <td>[[234, 234, 234, 234, 234, 234, 234, 234, 234,...</td>\n",
              "      <td>6</td>\n",
              "    </tr>\n",
              "  </tbody>\n",
              "</table>\n",
              "</div>"
            ],
            "text/plain": [
              "   label      data                                                img period\n",
              "0      0  20160113  [[234, 234, 234, 234, 234, 234, 234, 234, 234,...      4\n",
              "1      0  20160719  [[234, 234, 234, 234, 234, 234, 234, 234, 234,...     10\n",
              "2      0  20160302  [[234, 234, 234, 234, 234, 234, 234, 234, 234,...      6"
            ]
          },
          "metadata": {
            "tags": []
          },
          "execution_count": 17
        }
      ]
    },
    {
      "metadata": {
        "id": "CTUHq7_2dram",
        "colab_type": "code",
        "colab": {}
      },
      "cell_type": "code",
      "source": [
        "rain = rain.reset_index()\n",
        "dataset = rain\n",
        "dataset = dataset.append(sunny2)"
      ],
      "execution_count": 0,
      "outputs": []
    },
    {
      "metadata": {
        "id": "0w2qrs4beDBk",
        "colab_type": "code",
        "outputId": "c5b72718-c650-432d-8347-d6ee639a47ef",
        "colab": {
          "base_uri": "https://localhost:8080/",
          "height": 365
        }
      },
      "cell_type": "code",
      "source": [
        "dataset = dataset.sample(frac = 1 ).reset_index(drop= True)       # Shuffle data\n",
        "dataset.label.plot.hist(bins = 2)                                 # Prints dataset distribution"
      ],
      "execution_count": 19,
      "outputs": [
        {
          "output_type": "execute_result",
          "data": {
            "text/plain": [
              "<matplotlib.axes._subplots.AxesSubplot at 0x7fb22c9ed8d0>"
            ]
          },
          "metadata": {
            "tags": []
          },
          "execution_count": 19
        },
        {
          "output_type": "display_data",
          "data": {
            "image/png": "[encoded data removed]",
            "text/plain": [
              "<Figure size 576x396 with 1 Axes>"
            ]
          },
          "metadata": {
            "tags": []
          }
        }
      ]
    },
    {
      "metadata": {
        "id": "ypGs03jQj6Nf",
        "colab_type": "code",
        "outputId": "4f69fdbc-ecc2-4ba3-f034-326ec1b3f5ec",
        "colab": {
          "base_uri": "https://localhost:8080/",
          "height": 54
        }
      },
      "cell_type": "code",
      "source": [
        "# Set classification / Labels as index\n",
        "\n",
        "print ('Raining days : ' + str( len(rain )))\n",
        "print ('Sunny days : '   + str( len(sunny2 )))"
      ],
      "execution_count": 20,
      "outputs": [
        {
          "output_type": "stream",
          "text": [
            "Raining days : 1170\n",
            "Sunny days : 1170\n"
          ],
          "name": "stdout"
        }
      ]
    },
    {
      "metadata": {
        "id": "Obdf_9KrjqL_",
        "colab_type": "text"
      },
      "cell_type": "markdown",
      "source": [
        "## Create training data"
      ]
    },
    {
      "metadata": {
        "id": "DU6OlHFBgjDh",
        "colab_type": "code",
        "colab": {}
      },
      "cell_type": "code",
      "source": [
        "X = []\n",
        "Y = []\n",
        "\n",
        "X.append(dataset.img[:])\n",
        "Y.append(dataset.label[:])\n",
        "  \n",
        "  \n",
        "IMG_LAYERS = 1     # image layers could be 1 for grayscale images or 3 to color RGB images\n",
        "X = np.array(X).reshape(-1, IMG_SIZE, IMG_SIZE, IMG_LAYERS )\n"
      ],
      "execution_count": 0,
      "outputs": []
    },
    {
      "metadata": {
        "id": "H9D1wy4ZcD1l",
        "colab_type": "text"
      },
      "cell_type": "markdown",
      "source": [
        "## Neural Network "
      ]
    },
    {
      "metadata": {
        "id": "6pYSrj5uicw1",
        "colab_type": "code",
        "outputId": "20e1e2c0-faab-48a1-a8cc-1eab2f6d9374",
        "colab": {
          "base_uri": "https://localhost:8080/",
          "height": 35
        }
      },
      "cell_type": "code",
      "source": [
        "# Check if GPU is available\n",
        "import tensorflow as tf\n",
        "device_name = tf.test.gpu_device_name()\n",
        "if device_name != '/device:GPU:0':\n",
        "  raise SystemError('GPU device not found, to activate the GPU go to menu \"Runtime\" and submenu \"Change runtime type\", then change hardware accelerator from None to GPU.')\n",
        "print('Found GPU at: {}'.format(device_name))"
      ],
      "execution_count": 22,
      "outputs": [
        {
          "output_type": "stream",
          "text": [
            "Found GPU at: /device:GPU:0\n"
          ],
          "name": "stdout"
        }
      ]
    },
    {
      "metadata": {
        "id": "deCMGRG7jZxL",
        "colab_type": "code",
        "colab": {}
      },
      "cell_type": "code",
      "source": [
        "import tensorflow as tf\n",
        "from tensorflow.keras.models import Sequential\n",
        "from tensorflow.keras.layers import Dense, Dropout, Activation, Flatten, Conv2D, MaxPooling2D\n",
        "from tensorflow.keras.layers import BatchNormalization\n",
        "\n",
        "# X pixels normalization \n",
        "X = X/255.0\n",
        "\n",
        "model = Sequential()\n",
        "\n",
        "droprate=0.25\n",
        "\n",
        "## Input layer\n",
        "model.add(Conv2D(128, (4,4), input_shape = X.shape[1:]))\n",
        "model.add(BatchNormalization(axis=-1, momentum=0.99, epsilon=0.001, center=True, scale=True, beta_initializer='zeros', gamma_initializer='ones', moving_mean_initializer='zeros', moving_variance_initializer='ones', beta_regularizer=None, gamma_regularizer=None, beta_constraint=None, gamma_constraint=None))\n",
        "model.add(Activation(\"relu\"))   # Activatior layer = relu (rectified linear regresion)\n",
        "model.add(MaxPooling2D(pool_size=(3,3)))\n",
        "model.add(Dropout(droprate))\n",
        "\n",
        "## First hidden layer\n",
        "model.add(Conv2D(64, (3,3)))\n",
        "model.add(Activation(\"relu\"))   # Activatior layer = relu (rectified linear regresion)\n",
        "model.add(MaxPooling2D(pool_size=(2,2)))\n",
        "model.add(Dropout(droprate))\n",
        "\n",
        "## Second hidden layer\n",
        "model.add(Conv2D(64, (3,3)))\n",
        "model.add(Activation(\"relu\"))   # Activatior layer = relu (rectified linear regresion)\n",
        "model.add(MaxPooling2D(pool_size=(2,2)))\n",
        "model.add(Dropout(droprate))\n",
        "\n",
        "## Output layer\n",
        "model.add(Flatten())\n",
        "model.add(Dense(64))\n",
        "model.add(Dense(1))\n",
        "\n",
        "#Activation\n",
        "model.add(Activation('sigmoid'))\n",
        "\n",
        "#model.compile(loss='categorical')\n",
        "model.compile(loss='binary_crossentropy', # will deliver 0 or 1\n",
        "             optimizer='adam',\n",
        "             metrics=['accuracy'])"
      ],
      "execution_count": 0,
      "outputs": []
    },
    {
      "metadata": {
        "id": "obv3UNgcKsxu",
        "colab_type": "code",
        "colab": {}
      },
      "cell_type": "code",
      "source": [
        "batch_size = 20\n",
        "epochs = 7\n",
        "validation_split = 0.2\n"
      ],
      "execution_count": 0,
      "outputs": []
    },
    {
      "metadata": {
        "id": "1dBeBlRfO8Ri",
        "colab_type": "code",
        "colab": {}
      },
      "cell_type": "code",
      "source": [
        "# Fit model on training data\n",
        "history = model.fit(X , Y\n",
        "              , batch_size = batch_size\n",
        "              , epochs = epochs\n",
        "              , validation_split = validation_split\n",
        "              , verbose = 1                    \n",
        "             )"
      ],
      "execution_count": 0,
      "outputs": []
    },
    {
      "metadata": {
        "id": "DwNHxiB63TuE",
        "colab_type": "text"
      },
      "cell_type": "markdown",
      "source": [
        "## Saving model"
      ]
    },
    {
      "metadata": {
        "id": "XQDe-SqK2W-o",
        "colab_type": "code",
        "colab": {}
      },
      "cell_type": "code",
      "source": [
        "model.save('model')"
      ],
      "execution_count": 0,
      "outputs": []
    },
    {
      "metadata": {
        "id": "qxhF7X2-pLe5",
        "colab_type": "text"
      },
      "cell_type": "markdown",
      "source": [
        "## Connect to Goggle Drive"
      ]
    },
    {
      "metadata": {
        "id": "02K7OMWZFS9D",
        "colab_type": "code",
        "outputId": "2db2207c-3769-49d4-a682-74b2d7241d27",
        "colab": {
          "base_uri": "https://localhost:8080/",
          "height": 124
        }
      },
      "cell_type": "code",
      "source": [
        "from google.colab import drive\n",
        "drive.mount('/gdrive')"
      ],
      "execution_count": 0,
      "outputs": [
        {
          "output_type": "stream",
          "text": [
            "Go to this URL in a browser: https://accounts.google.com/o/oauth2/auth?client_id=947318989803-6bn6qk8qdgf4n4g3pfee6491hc0brc4i.apps.googleusercontent.com&redirect_uri=urn%3Aietf%3Awg%3Aoauth%3A2.0%3Aoob&scope=email%20https%3A%2F%2Fwww.googleapis.com%2Fauth%2Fdocs.test%20https%3A%2F%2Fwww.googleapis.com%2Fauth%2Fdrive%20https%3A%2F%2Fwww.googleapis.com%2Fauth%2Fdrive.photos.readonly%20https%3A%2F%2Fwww.googleapis.com%2Fauth%2Fpeopleapi.readonly&response_type=code\n",
            "\n",
            "Enter your authorization code:\n",
            "··········\n",
            "Mounted at /gdrive\n"
          ],
          "name": "stdout"
        }
      ]
    },
    {
      "metadata": {
        "id": "qtEzuurfKQIk",
        "colab_type": "code",
        "colab": {}
      },
      "cell_type": "code",
      "source": [
        "!cp model /gdrive/My\\ Drive"
      ],
      "execution_count": 0,
      "outputs": []
    }
  ]
}