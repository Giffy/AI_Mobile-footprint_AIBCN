{
  "nbformat": 4,
  "nbformat_minor": 0,
  "metadata": {
    "colab": {
      "name": "3_Dataset_creation.ipynb",
      "version": "0.3.2",
      "provenance": [],
      "collapsed_sections": [],
      "include_colab_link": true
    },
    "kernelspec": {
      "name": "python3",
      "display_name": "Python 3"
    }
  },
  "cells": [
    {
      "cell_type": "markdown",
      "metadata": {
        "id": "view-in-github",
        "colab_type": "text"
      },
      "source": [
        "<a href=\"https://colab.research.google.com/github/Giffy/Mobility_AIBCN/blob/master/3_Dataset_creation.ipynb\" target=\"_parent\"><img src=\"https://colab.research.google.com/assets/colab-badge.svg\" alt=\"Open In Colab\"/></a>"
      ]
    },
    {
      "metadata": {
        "id": "b2f7AR-fYNZh",
        "colab_type": "text"
      },
      "cell_type": "markdown",
      "source": [
        "# Dataset creation\n",
        "\n",
        "Creation of mobile phone density images of Barcelona"
      ]
    },
    {
      "metadata": {
        "id": "HEX_s7O2SHc9",
        "colab_type": "text"
      },
      "cell_type": "markdown",
      "source": [
        "##  Download data"
      ]
    },
    {
      "metadata": {
        "id": "XZUPLfTdto7h",
        "colab_type": "code",
        "outputId": "8ac5bb8e-742b-41c7-ac52-62c4b6457357",
        "colab": {
          "base_uri": "https://localhost:8080/",
          "height": 173
        }
      },
      "cell_type": "code",
      "source": [
        "# Download previously cleaned data from 'Github'\n",
        "!pip install wget\n",
        "import wget\n",
        "url = 'https://raw.githubusercontent.com/Giffy/Mobility_AIBCN/master/dataset/coverageCat.tar.gz'\n",
        "try:\n",
        "  filename = wget.download(url)\n",
        "  print ( 'Dataset downloaded successfully.')\n",
        "\n",
        "  # Extract tar file\n",
        "  import tarfile\n",
        "  tf = tarfile.open( filename )\n",
        "  tf.extractall()\n",
        "  \n",
        "except:\n",
        "  print ( 'Error downloading dataset.')\n"
      ],
      "execution_count": 1,
      "outputs": [
        {
          "output_type": "stream",
          "text": [
            "Collecting wget\n",
            "  Downloading https://files.pythonhosted.org/packages/47/6a/62e288da7bcda82b935ff0c6cfe542970f04e29c756b0e147251b2fb251f/wget-3.2.zip\n",
            "Building wheels for collected packages: wget\n",
            "  Running setup.py bdist_wheel for wget ... \u001b[?25l-\b \bdone\n",
            "\u001b[?25h  Stored in directory: /root/.cache/pip/wheels/40/15/30/7d8f7cea2902b4db79e3fea550d7d7b85ecb27ef992b618f3f\n",
            "Successfully built wget\n",
            "Installing collected packages: wget\n",
            "Successfully installed wget-3.2\n",
            "Dataset downloaded successfully.\n"
          ],
          "name": "stdout"
        }
      ]
    },
    {
      "metadata": {
        "id": "j_2CNJCprPUG",
        "colab_type": "text"
      },
      "cell_type": "markdown",
      "source": [
        "##  Load data"
      ]
    },
    {
      "metadata": {
        "id": "ZGN08VqMqtIr",
        "colab_type": "code",
        "outputId": "5893dab3-8b53-4c7c-a688-d31cf2d89d6e",
        "colab": {
          "base_uri": "https://localhost:8080/",
          "height": 206
        }
      },
      "cell_type": "code",
      "source": [
        "import pandas as pd\n",
        "\n",
        "# load data\n",
        "df = pd.read_csv('coverageCat.csv')\n",
        "df.head()"
      ],
      "execution_count": 2,
      "outputs": [
        {
          "output_type": "execute_result",
          "data": {
            "text/html": [
              "<div>\n",
              "<style scoped>\n",
              "    .dataframe tbody tr th:only-of-type {\n",
              "        vertical-align: middle;\n",
              "    }\n",
              "\n",
              "    .dataframe tbody tr th {\n",
              "        vertical-align: top;\n",
              "    }\n",
              "\n",
              "    .dataframe thead th {\n",
              "        text-align: right;\n",
              "    }\n",
              "</style>\n",
              "<table border=\"1\" class=\"dataframe\">\n",
              "  <thead>\n",
              "    <tr style=\"text-align: right;\">\n",
              "      <th></th>\n",
              "      <th>Activitat</th>\n",
              "      <th>Day</th>\n",
              "      <th>Hour</th>\n",
              "      <th>Latitude</th>\n",
              "      <th>Longitude</th>\n",
              "      <th>Month</th>\n",
              "      <th>Weekday</th>\n",
              "      <th>Year</th>\n",
              "      <th>_id</th>\n",
              "    </tr>\n",
              "  </thead>\n",
              "  <tbody>\n",
              "    <tr>\n",
              "      <th>0</th>\n",
              "      <td>UNKNOWN</td>\n",
              "      <td>17</td>\n",
              "      <td>1</td>\n",
              "      <td>41.385</td>\n",
              "      <td>2.20</td>\n",
              "      <td>10</td>\n",
              "      <td>6</td>\n",
              "      <td>2015</td>\n",
              "      <td>ObjectId(5c23613498a81066a4429c77)</td>\n",
              "    </tr>\n",
              "    <tr>\n",
              "      <th>1</th>\n",
              "      <td>IN_VEHICLE</td>\n",
              "      <td>17</td>\n",
              "      <td>1</td>\n",
              "      <td>41.385</td>\n",
              "      <td>2.14</td>\n",
              "      <td>10</td>\n",
              "      <td>6</td>\n",
              "      <td>2015</td>\n",
              "      <td>ObjectId(5c23613498a81066a4429c85)</td>\n",
              "    </tr>\n",
              "    <tr>\n",
              "      <th>2</th>\n",
              "      <td>IN_VEHICLE</td>\n",
              "      <td>17</td>\n",
              "      <td>1</td>\n",
              "      <td>41.385</td>\n",
              "      <td>2.14</td>\n",
              "      <td>10</td>\n",
              "      <td>6</td>\n",
              "      <td>2015</td>\n",
              "      <td>ObjectId(5c23613498a81066a4429c8b)</td>\n",
              "    </tr>\n",
              "    <tr>\n",
              "      <th>3</th>\n",
              "      <td>IN_VEHICLE</td>\n",
              "      <td>17</td>\n",
              "      <td>2</td>\n",
              "      <td>41.385</td>\n",
              "      <td>2.14</td>\n",
              "      <td>10</td>\n",
              "      <td>6</td>\n",
              "      <td>2015</td>\n",
              "      <td>ObjectId(5c23613498a81066a4429c90)</td>\n",
              "    </tr>\n",
              "    <tr>\n",
              "      <th>4</th>\n",
              "      <td>UNKNOWN</td>\n",
              "      <td>17</td>\n",
              "      <td>2</td>\n",
              "      <td>41.390</td>\n",
              "      <td>2.20</td>\n",
              "      <td>10</td>\n",
              "      <td>6</td>\n",
              "      <td>2015</td>\n",
              "      <td>ObjectId(5c23613498a81066a4429ca0)</td>\n",
              "    </tr>\n",
              "  </tbody>\n",
              "</table>\n",
              "</div>"
            ],
            "text/plain": [
              "    Activitat  Day  Hour  Latitude  Longitude  Month  Weekday  Year  \\\n",
              "0     UNKNOWN   17     1    41.385       2.20     10        6  2015   \n",
              "1  IN_VEHICLE   17     1    41.385       2.14     10        6  2015   \n",
              "2  IN_VEHICLE   17     1    41.385       2.14     10        6  2015   \n",
              "3  IN_VEHICLE   17     2    41.385       2.14     10        6  2015   \n",
              "4     UNKNOWN   17     2    41.390       2.20     10        6  2015   \n",
              "\n",
              "                                  _id  \n",
              "0  ObjectId(5c23613498a81066a4429c77)  \n",
              "1  ObjectId(5c23613498a81066a4429c85)  \n",
              "2  ObjectId(5c23613498a81066a4429c8b)  \n",
              "3  ObjectId(5c23613498a81066a4429c90)  \n",
              "4  ObjectId(5c23613498a81066a4429ca0)  "
            ]
          },
          "metadata": {
            "tags": []
          },
          "execution_count": 2
        }
      ]
    },
    {
      "metadata": {
        "id": "5LPeBrVF7xbF",
        "colab_type": "text"
      },
      "cell_type": "markdown",
      "source": [
        "##  Generate dataset graphics\n",
        "Using seaborn to generate graphics of mobile phone density\n",
        "\n",
        "![Density_sample](https://raw.githubusercontent.com/Giffy/Mobility_AIBCN/master/dataset/plt_sample.png)\n",
        "\n"
      ]
    },
    {
      "metadata": {
        "id": "xa_C7-gRrCpz",
        "colab_type": "code",
        "colab": {
          "base_uri": "https://localhost:8080/",
          "height": 330
        },
        "outputId": "11d76189-c816-4790-caf5-f74cecf29450"
      },
      "cell_type": "code",
      "source": [
        "# Sample of plotting graphic with seaborn\n",
        "# plot of Barcelona the 11th September of 2015\n",
        "\n",
        "df0 = df[ (df['Year']== 2015) & (df['Month']== 9) & (df['Day']== 11)]\n",
        "df0 = df0.groupby(['Latitude','Longitude'], as_index= False).count()           \n",
        "result = df0.pivot (index='Latitude' , columns='Longitude', values='Day')\n",
        "\n",
        "import seaborn\n",
        "import seaborn as sns\n",
        "\n",
        "sns_plot = seaborn.heatmap(result, cbar= False )\n",
        "\n",
        "# Remove labels\n",
        "sns_plot.set_ylabel('')    \n",
        "sns_plot.set_xlabel('')\n",
        "\n",
        "sns_plot.set_yticklabels('')\n",
        "sns_plot.set_xticklabels('')\n",
        "\n",
        "# Generate image\n",
        "\n",
        "fig = sns_plot.get_figure()\n",
        "\n",
        "\n",
        "# Save graphic as png\n",
        "#fig.savefig(\"output.png\")\n",
        "\n"
      ],
      "execution_count": 15,
      "outputs": [
        {
          "output_type": "display_data",
          "data": {
            "image/png": "[encoded data removed]",
            "text/plain": [
              "<matplotlib.figure.Figure at 0x7f6f7802cef0>"
            ]
          },
          "metadata": {
            "tags": []
          }
        }
      ]
    },
    {
      "metadata": {
        "id": "CZGrujLP0bsB",
        "colab_type": "code",
        "colab": {
          "base_uri": "https://localhost:8080/",
          "height": 330
        },
        "outputId": "b2ed469c-8ef1-41d5-f5af-e5acb75b64b9"
      },
      "cell_type": "code",
      "source": [
        "# Iteration to create the dataset of graphics\n",
        "years = [2015]#, 2016, 2017]\n",
        "months = [1,2]#,3,4,5,6,7,8,9,10,11,12]\n",
        "days = [1,2,3,4,5,6,7,8,9,10]#,11,12,13,14,15,16,17,18,19,20,21,22,23,24,25,26,27,28,29,30,31]\n",
        "weekdays = [1,2,3,4,5]\n",
        "manana = [7,8,9,10,11]\n",
        "tarde = [16,17,18,19,20]\n",
        "\n",
        "hours = manana\n",
        "\n",
        "df0 = df[df['Activitat']=='IN_VEHICLE']\n",
        "df0 = df0[(df0['Weekday']!=6) & (df0['Weekday']!=7)]\n",
        "df0 = df0[(df0['Hour'].isin(hours))]\n",
        "\n",
        "for year in years:  \n",
        "  df2 = df0[df0['Year']==year]  \n",
        "  for month in months:\n",
        "    df3 = df2[df2['Month']==month]\n",
        "    for day in days:\n",
        "          df4 = df3[df3['Day']==day]\n",
        "          df5 = df4.groupby(['Latitude','Longitude'], as_index= False).count()           \n",
        "          result = df5.pivot (index='Latitude' , columns='Longitude', values='Day')\n",
        "          try:\n",
        "            sns_plot = None\n",
        "            fig = None \n",
        "            sns_plot = seaborn.heatmap(result, cbar = False, cmap = 'gray')\n",
        "            # Remove labels\n",
        "            sns_plot.set_ylabel('')    \n",
        "            sns_plot.set_xlabel('')\n",
        "            sns_plot.set_yticklabels('')\n",
        "            sns_plot.set_xticklabels('')\n",
        "            # Generate image\n",
        "            fig = sns_plot.get_figure()\n",
        "            if 10 in hours:\n",
        "              periodo = 'M'\n",
        "            else:\n",
        "              periodo = 'T'\n",
        "            filename = str(year) + '_' + str(month) + '_' + str(day) + '_' + periodo + '.png' \n",
        "            fig.savefig( filename )\n",
        "          except:\n",
        "            pass\n"
      ],
      "execution_count": 27,
      "outputs": [
        {
          "output_type": "display_data",
          "data": {
            "image/png": "[encoded data removed]",
            "text/plain": [
              "<matplotlib.figure.Figure at 0x7f6f7812b3c8>"
            ]
          },
          "metadata": {
            "tags": []
          }
        }
      ]
    },
    {
      "metadata": {
        "id": "QM0D6mSU_Hlx",
        "colab_type": "text"
      },
      "cell_type": "markdown",
      "source": [
        "## Plotting data sample with Folium"
      ]
    },
    {
      "metadata": {
        "id": "G20QeWDzx9nh",
        "colab_type": "code",
        "colab": {}
      },
      "cell_type": "code",
      "source": [
        "!pip install folium geopandas             # Install folium for map visualization\n",
        "\n",
        "import folium                             # Library to create the map\n",
        "from folium import plugins                # plugin to create a heatmap"
      ],
      "execution_count": 0,
      "outputs": []
    },
    {
      "metadata": {
        "id": "UWhhKkHdppUc",
        "colab_type": "code",
        "colab": {}
      },
      "cell_type": "code",
      "source": [
        "df0 = df[ (df['Year']== 2015) & (df['Month']== 9) & (df['Day']== 11)]\n",
        "df0 = df0.groupby(['Latitude','Longitude'], as_index= False).count()           \n",
        "\n",
        "latitude = df0.loc [ : , 'Latitude']\n",
        "longitude = df0.loc [ : , 'Longitude']\n",
        "total = df0.loc [ : , 'Day']"
      ],
      "execution_count": 0,
      "outputs": []
    },
    {
      "metadata": {
        "id": "7YsI63mcymp7",
        "colab_type": "code",
        "colab": {}
      },
      "cell_type": "code",
      "source": [
        "center_lat = 41.42\n",
        "center_lon = 2.18\n",
        "\n",
        "locationmap = folium.Map(location=[ center_lat , center_lon ], zoom_start=12) #, width=800, height=600 )\n",
        "locationmap.add_child(plugins.HeatMap(zip(latitude, longitude, total), radius = 12))\n",
        "\n",
        "locationmap"
      ],
      "execution_count": 0,
      "outputs": []
    }
  ]
}