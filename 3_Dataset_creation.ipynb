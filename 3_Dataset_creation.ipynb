{
  "nbformat": 4,
  "nbformat_minor": 0,
  "metadata": {
    "colab": {
      "name": "3_Dataset_creation.ipynb",
      "version": "0.3.2",
      "provenance": [],
      "collapsed_sections": [],
      "include_colab_link": true
    },
    "kernelspec": {
      "name": "python3",
      "display_name": "Python 3"
    }
  },
  "cells": [
    {
      "cell_type": "markdown",
      "metadata": {
        "id": "view-in-github",
        "colab_type": "text"
      },
      "source": [
        "<a href=\"https://colab.research.google.com/github/Giffy/Mobility_AIBCN/blob/master/3_Dataset_creation.ipynb\" target=\"_parent\"><img src=\"https://colab.research.google.com/assets/colab-badge.svg\" alt=\"Open In Colab\"/></a>"
      ]
    },
    {
      "metadata": {
        "id": "b2f7AR-fYNZh",
        "colab_type": "text"
      },
      "cell_type": "markdown",
      "source": [
        "# Dataset creation\n",
        "\n",
        "Creation of mobile phone density images of Barcelona"
      ]
    },
    {
      "metadata": {
        "id": "FOKBdYKYsyrG",
        "colab_type": "text"
      },
      "cell_type": "markdown",
      "source": [
        "##  Connect to Google Drive"
      ]
    },
    {
      "metadata": {
        "id": "2VBwS6oVs39B",
        "colab_type": "code",
        "colab": {
          "base_uri": "https://localhost:8080/",
          "height": 141
        },
        "outputId": "73bf1d0e-a689-4278-83d4-3bb5afdb22d9"
      },
      "cell_type": "code",
      "source": [
        "# Check is Link to Drive is OK\n",
        "google = !if [ -d 'GDrive/' ]; then echo \"1\" ; else echo \"0\"; fi\n",
        "if (google[0] is '0' ):\n",
        "  from google.colab import drive\n",
        "  drive.mount('/content/GDrive/')\n",
        "!if [ -d 'GDrive/' ]; then echo \"Connection to Google drive successful\" ; else echo \"Error to connect to Google drive\"; fi"
      ],
      "execution_count": 2,
      "outputs": [
        {
          "output_type": "stream",
          "text": [
            "Go to this URL in a browser: https://accounts.google.com/o/oauth2/auth?client_id=947318989803-6bn6qk8qdgf4n4g3pfee6491hc0brc4i.apps.googleusercontent.com&redirect_uri=urn%3Aietf%3Awg%3Aoauth%3A2.0%3Aoob&scope=email%20https%3A%2F%2Fwww.googleapis.com%2Fauth%2Fdocs.test%20https%3A%2F%2Fwww.googleapis.com%2Fauth%2Fdrive%20https%3A%2F%2Fwww.googleapis.com%2Fauth%2Fdrive.photos.readonly%20https%3A%2F%2Fwww.googleapis.com%2Fauth%2Fpeopleapi.readonly&response_type=code\n",
            "\n",
            "Enter your authorization code:\n",
            "··········\n",
            "Mounted at /content/GDrive/\n",
            "Connection to Google drive successful\n"
          ],
          "name": "stdout"
        }
      ]
    },
    {
      "metadata": {
        "id": "HEX_s7O2SHc9",
        "colab_type": "text"
      },
      "cell_type": "markdown",
      "source": [
        "##  Download data"
      ]
    },
    {
      "metadata": {
        "id": "XZUPLfTdto7h",
        "colab_type": "code",
        "outputId": "b7ec95ee-57dc-467e-9a3b-12bdf7b74a49",
        "colab": {
          "base_uri": "https://localhost:8080/",
          "height": 52
        }
      },
      "cell_type": "code",
      "source": [
        "# Download previously cleaned data from 'Github'\n",
        "!pip install wget\n",
        "import wget\n",
        "url = 'https://raw.githubusercontent.com/Giffy/Mobility_AIBCN/master/dataset/coverageCat.tar.gz'\n",
        "try:\n",
        "  filename = wget.download(url)\n",
        "  print ( 'Dataset downloaded successfully.')\n",
        "\n",
        "  # Extract tar file\n",
        "  import tarfile\n",
        "  tf = tarfile.open( filename )\n",
        "  tf.extractall()\n",
        "  \n",
        "except:\n",
        "  print ( 'Error downloading dataset.')\n"
      ],
      "execution_count": 27,
      "outputs": [
        {
          "output_type": "stream",
          "text": [
            "Requirement already satisfied: wget in /usr/local/lib/python3.6/dist-packages (3.2)\n",
            "Dataset downloaded successfully.\n"
          ],
          "name": "stdout"
        }
      ]
    },
    {
      "metadata": {
        "id": "j_2CNJCprPUG",
        "colab_type": "text"
      },
      "cell_type": "markdown",
      "source": [
        "##  Load data"
      ]
    },
    {
      "metadata": {
        "id": "b9Q73u3mvleb",
        "colab_type": "code",
        "colab": {}
      },
      "cell_type": "code",
      "source": [
        "!ls GDrive/My\\ Drive\n",
        "#!cp GDrive/My\\ Drive/coverageCat.tar.gz ./\n",
        "filename = 'coverageCat.tar.gz'\n",
        "!ls ./\n",
        "\n",
        "# Extract tar file\n",
        "import tarfile\n",
        "#tf = tarfile.open( filename )\n",
        "#tf.extractall()"
      ],
      "execution_count": 0,
      "outputs": []
    },
    {
      "metadata": {
        "id": "ZGN08VqMqtIr",
        "colab_type": "code",
        "outputId": "8c303cb1-51c5-4609-8429-3ebc8bf90b2a",
        "colab": {
          "base_uri": "https://localhost:8080/",
          "height": 206
        }
      },
      "cell_type": "code",
      "source": [
        "import pandas as pd\n",
        "\n",
        "# load data\n",
        "df = pd.read_csv('coverageCat.csv')\n",
        "df.head()"
      ],
      "execution_count": 11,
      "outputs": [
        {
          "output_type": "execute_result",
          "data": {
            "text/html": [
              "<div>\n",
              "<style scoped>\n",
              "    .dataframe tbody tr th:only-of-type {\n",
              "        vertical-align: middle;\n",
              "    }\n",
              "\n",
              "    .dataframe tbody tr th {\n",
              "        vertical-align: top;\n",
              "    }\n",
              "\n",
              "    .dataframe thead th {\n",
              "        text-align: right;\n",
              "    }\n",
              "</style>\n",
              "<table border=\"1\" class=\"dataframe\">\n",
              "  <thead>\n",
              "    <tr style=\"text-align: right;\">\n",
              "      <th></th>\n",
              "      <th>Activitat</th>\n",
              "      <th>Day</th>\n",
              "      <th>Hour</th>\n",
              "      <th>Latitude</th>\n",
              "      <th>Longitude</th>\n",
              "      <th>Month</th>\n",
              "      <th>Weekday</th>\n",
              "      <th>Year</th>\n",
              "      <th>_id</th>\n",
              "    </tr>\n",
              "  </thead>\n",
              "  <tbody>\n",
              "    <tr>\n",
              "      <th>0</th>\n",
              "      <td>UNKNOWN</td>\n",
              "      <td>17</td>\n",
              "      <td>1</td>\n",
              "      <td>41.385</td>\n",
              "      <td>2.20</td>\n",
              "      <td>10</td>\n",
              "      <td>6</td>\n",
              "      <td>2015</td>\n",
              "      <td>ObjectId(5c23613498a81066a4429c77)</td>\n",
              "    </tr>\n",
              "    <tr>\n",
              "      <th>1</th>\n",
              "      <td>IN_VEHICLE</td>\n",
              "      <td>17</td>\n",
              "      <td>1</td>\n",
              "      <td>41.385</td>\n",
              "      <td>2.14</td>\n",
              "      <td>10</td>\n",
              "      <td>6</td>\n",
              "      <td>2015</td>\n",
              "      <td>ObjectId(5c23613498a81066a4429c85)</td>\n",
              "    </tr>\n",
              "    <tr>\n",
              "      <th>2</th>\n",
              "      <td>IN_VEHICLE</td>\n",
              "      <td>17</td>\n",
              "      <td>1</td>\n",
              "      <td>41.385</td>\n",
              "      <td>2.14</td>\n",
              "      <td>10</td>\n",
              "      <td>6</td>\n",
              "      <td>2015</td>\n",
              "      <td>ObjectId(5c23613498a81066a4429c8b)</td>\n",
              "    </tr>\n",
              "    <tr>\n",
              "      <th>3</th>\n",
              "      <td>IN_VEHICLE</td>\n",
              "      <td>17</td>\n",
              "      <td>2</td>\n",
              "      <td>41.385</td>\n",
              "      <td>2.14</td>\n",
              "      <td>10</td>\n",
              "      <td>6</td>\n",
              "      <td>2015</td>\n",
              "      <td>ObjectId(5c23613498a81066a4429c90)</td>\n",
              "    </tr>\n",
              "    <tr>\n",
              "      <th>4</th>\n",
              "      <td>UNKNOWN</td>\n",
              "      <td>17</td>\n",
              "      <td>2</td>\n",
              "      <td>41.390</td>\n",
              "      <td>2.20</td>\n",
              "      <td>10</td>\n",
              "      <td>6</td>\n",
              "      <td>2015</td>\n",
              "      <td>ObjectId(5c23613498a81066a4429ca0)</td>\n",
              "    </tr>\n",
              "  </tbody>\n",
              "</table>\n",
              "</div>"
            ],
            "text/plain": [
              "    Activitat  Day  Hour  Latitude  Longitude  Month  Weekday  Year  \\\n",
              "0     UNKNOWN   17     1    41.385       2.20     10        6  2015   \n",
              "1  IN_VEHICLE   17     1    41.385       2.14     10        6  2015   \n",
              "2  IN_VEHICLE   17     1    41.385       2.14     10        6  2015   \n",
              "3  IN_VEHICLE   17     2    41.385       2.14     10        6  2015   \n",
              "4     UNKNOWN   17     2    41.390       2.20     10        6  2015   \n",
              "\n",
              "                                  _id  \n",
              "0  ObjectId(5c23613498a81066a4429c77)  \n",
              "1  ObjectId(5c23613498a81066a4429c85)  \n",
              "2  ObjectId(5c23613498a81066a4429c8b)  \n",
              "3  ObjectId(5c23613498a81066a4429c90)  \n",
              "4  ObjectId(5c23613498a81066a4429ca0)  "
            ]
          },
          "metadata": {
            "tags": []
          },
          "execution_count": 11
        }
      ]
    },
    {
      "metadata": {
        "id": "aTQBdH_9KOgF",
        "colab_type": "code",
        "colab": {
          "base_uri": "https://localhost:8080/",
          "height": 206
        },
        "outputId": "d5982166-1530-404f-8fa6-f13577b88ec7"
      },
      "cell_type": "code",
      "source": [
        "def round_coord(x, base=0.005):\n",
        "     return round(base*round(x/base), 3)\n",
        "\n",
        "df['Latitude'] = df['Latitude'].apply(round_coord)\n",
        "df['Longitude_fix'] = df['Longitude'].apply(round_coord)\n",
        "\n",
        "df.head()"
      ],
      "execution_count": 12,
      "outputs": [
        {
          "output_type": "execute_result",
          "data": {
            "text/html": [
              "<div>\n",
              "<style scoped>\n",
              "    .dataframe tbody tr th:only-of-type {\n",
              "        vertical-align: middle;\n",
              "    }\n",
              "\n",
              "    .dataframe tbody tr th {\n",
              "        vertical-align: top;\n",
              "    }\n",
              "\n",
              "    .dataframe thead th {\n",
              "        text-align: right;\n",
              "    }\n",
              "</style>\n",
              "<table border=\"1\" class=\"dataframe\">\n",
              "  <thead>\n",
              "    <tr style=\"text-align: right;\">\n",
              "      <th></th>\n",
              "      <th>Activitat</th>\n",
              "      <th>Day</th>\n",
              "      <th>Hour</th>\n",
              "      <th>Latitude</th>\n",
              "      <th>Longitude</th>\n",
              "      <th>Month</th>\n",
              "      <th>Weekday</th>\n",
              "      <th>Year</th>\n",
              "      <th>_id</th>\n",
              "      <th>Longitude_fix</th>\n",
              "    </tr>\n",
              "  </thead>\n",
              "  <tbody>\n",
              "    <tr>\n",
              "      <th>0</th>\n",
              "      <td>UNKNOWN</td>\n",
              "      <td>17</td>\n",
              "      <td>1</td>\n",
              "      <td>41.385</td>\n",
              "      <td>2.20</td>\n",
              "      <td>10</td>\n",
              "      <td>6</td>\n",
              "      <td>2015</td>\n",
              "      <td>ObjectId(5c23613498a81066a4429c77)</td>\n",
              "      <td>2.20</td>\n",
              "    </tr>\n",
              "    <tr>\n",
              "      <th>1</th>\n",
              "      <td>IN_VEHICLE</td>\n",
              "      <td>17</td>\n",
              "      <td>1</td>\n",
              "      <td>41.385</td>\n",
              "      <td>2.14</td>\n",
              "      <td>10</td>\n",
              "      <td>6</td>\n",
              "      <td>2015</td>\n",
              "      <td>ObjectId(5c23613498a81066a4429c85)</td>\n",
              "      <td>2.14</td>\n",
              "    </tr>\n",
              "    <tr>\n",
              "      <th>2</th>\n",
              "      <td>IN_VEHICLE</td>\n",
              "      <td>17</td>\n",
              "      <td>1</td>\n",
              "      <td>41.385</td>\n",
              "      <td>2.14</td>\n",
              "      <td>10</td>\n",
              "      <td>6</td>\n",
              "      <td>2015</td>\n",
              "      <td>ObjectId(5c23613498a81066a4429c8b)</td>\n",
              "      <td>2.14</td>\n",
              "    </tr>\n",
              "    <tr>\n",
              "      <th>3</th>\n",
              "      <td>IN_VEHICLE</td>\n",
              "      <td>17</td>\n",
              "      <td>2</td>\n",
              "      <td>41.385</td>\n",
              "      <td>2.14</td>\n",
              "      <td>10</td>\n",
              "      <td>6</td>\n",
              "      <td>2015</td>\n",
              "      <td>ObjectId(5c23613498a81066a4429c90)</td>\n",
              "      <td>2.14</td>\n",
              "    </tr>\n",
              "    <tr>\n",
              "      <th>4</th>\n",
              "      <td>UNKNOWN</td>\n",
              "      <td>17</td>\n",
              "      <td>2</td>\n",
              "      <td>41.390</td>\n",
              "      <td>2.20</td>\n",
              "      <td>10</td>\n",
              "      <td>6</td>\n",
              "      <td>2015</td>\n",
              "      <td>ObjectId(5c23613498a81066a4429ca0)</td>\n",
              "      <td>2.20</td>\n",
              "    </tr>\n",
              "  </tbody>\n",
              "</table>\n",
              "</div>"
            ],
            "text/plain": [
              "    Activitat  Day  Hour  Latitude  Longitude  Month  Weekday  Year  \\\n",
              "0     UNKNOWN   17     1    41.385       2.20     10        6  2015   \n",
              "1  IN_VEHICLE   17     1    41.385       2.14     10        6  2015   \n",
              "2  IN_VEHICLE   17     1    41.385       2.14     10        6  2015   \n",
              "3  IN_VEHICLE   17     2    41.385       2.14     10        6  2015   \n",
              "4     UNKNOWN   17     2    41.390       2.20     10        6  2015   \n",
              "\n",
              "                                  _id  Longitude_fix  \n",
              "0  ObjectId(5c23613498a81066a4429c77)           2.20  \n",
              "1  ObjectId(5c23613498a81066a4429c85)           2.14  \n",
              "2  ObjectId(5c23613498a81066a4429c8b)           2.14  \n",
              "3  ObjectId(5c23613498a81066a4429c90)           2.14  \n",
              "4  ObjectId(5c23613498a81066a4429ca0)           2.20  "
            ]
          },
          "metadata": {
            "tags": []
          },
          "execution_count": 12
        }
      ]
    },
    {
      "metadata": {
        "id": "5LPeBrVF7xbF",
        "colab_type": "text"
      },
      "cell_type": "markdown",
      "source": [
        "##  Generate dataset graphics \n",
        "\n"
      ]
    },
    {
      "metadata": {
        "id": "xa_C7-gRrCpz",
        "colab_type": "code",
        "colab": {}
      },
      "cell_type": "code",
      "source": [
        "# Sample of plotting graphic with seaborn\n",
        "# plot of Barcelona the 11th September of 2015\n",
        "\n",
        "df0 = df[ (df['Year']== 2015) & (df['Month']== 9) & (df['Day']== 11)]\n",
        "df0 = df0.groupby(['Latitude','Longitude'], as_index= False).count()           \n",
        "result = df0.pivot (index='Latitude' , columns='Longitude', values='Day')\n",
        "\n",
        "import seaborn\n",
        "import seaborn as sns\n",
        "sns_plot = seaborn.heatmap(result) #, cmap = 'gray')\n",
        "fig = sns_plot.get_figure()\n",
        "fig.savefig(\"output.png\")"
      ],
      "execution_count": 0,
      "outputs": []
    },
    {
      "metadata": {
        "id": "CZGrujLP0bsB",
        "colab_type": "code",
        "colab": {}
      },
      "cell_type": "code",
      "source": [
        "# Iteration to create the dataset of graphics\n",
        "years = [2015, 2016, 2017]\n",
        "months = [1,2,3,4,5,6,7,8,9,10,11,12]\n",
        "days = [1,2,3,4,5,6,7,8,9,10,11,12,13,14,15,16,17,18,19,20,21,22,23,24,25,26,27,28,29,30,31]\n",
        "weekdays = [1,2,3,4,5]\n",
        "manana = [7,8,9,10,11]\n",
        "tarde = [16,17,18,19,20]\n",
        "\n",
        "hours = manana\n",
        "\n",
        "df0 = df[df['Activitat']=='IN_VEHICLE']\n",
        "df0 = df0[(df0['Weekday']!=6) & (df0['Weekday']!=7)]\n",
        "df0 = df0[(df0['Hour'].isin(hours))]\n",
        "\n",
        "for year in years:  \n",
        "  df2 = df0[df0['Year']==year]  \n",
        "  for month in months:\n",
        "    df3 = df2[df2['Month']==month]\n",
        "    for day in days:\n",
        "          df4 = df3[df3['Day']==day]\n",
        "          df5 = df4.groupby(['Latitude','Longitude'], as_index= False).count()           \n",
        "          result = df5.pivot (index='Latitude' , columns='Longitude', values='Day')\n",
        "          try:\n",
        "            sns_plot = seaborn.heatmap(result, cmap = 'gray')\n",
        "            fig = sns_plot.get_figure()\n",
        "            if 10 in hours:\n",
        "              periodo = 'M'\n",
        "            else:\n",
        "              periodo = 'T'\n",
        "            filename = str(year) + '_' + str(month) + '_' + str(day) + '_' + periodo + '.png' \n",
        "            fig.savefig( filename )\n",
        "          except:\n",
        "            pass\n"
      ],
      "execution_count": 0,
      "outputs": []
    },
    {
      "metadata": {
        "id": "QM0D6mSU_Hlx",
        "colab_type": "text"
      },
      "cell_type": "markdown",
      "source": [
        "## Plotting data sample with Folium"
      ]
    },
    {
      "metadata": {
        "id": "G20QeWDzx9nh",
        "colab_type": "code",
        "colab": {
          "base_uri": "https://localhost:8080/",
          "height": 642
        },
        "outputId": "c63e98c3-0e4f-4f1a-b929-ab19841b1c8c"
      },
      "cell_type": "code",
      "source": [
        "!pip install folium geopandas             # Install folium for map visualization\n",
        "\n",
        "import folium                             # Library to create the map\n",
        "from folium import plugins                # plugin to create a heatmap"
      ],
      "execution_count": 15,
      "outputs": [
        {
          "output_type": "stream",
          "text": [
            "Requirement already satisfied: folium in /usr/local/lib/python3.6/dist-packages (0.2.1)\n",
            "Collecting geopandas\n",
            "\u001b[?25l  Downloading https://files.pythonhosted.org/packages/24/11/d77c157c16909bd77557d00798b05a5b6615ed60acb5900fbe6a65d35e93/geopandas-0.4.0-py2.py3-none-any.whl (899kB)\n",
            "\u001b[K    100% |████████████████████████████████| 901kB 19.6MB/s \n",
            "\u001b[?25hRequirement already satisfied: Jinja2 in /usr/local/lib/python3.6/dist-packages (from folium) (2.10)\n",
            "Requirement already satisfied: pandas in /usr/local/lib/python3.6/dist-packages (from geopandas) (0.22.0)\n",
            "Collecting shapely (from geopandas)\n",
            "\u001b[?25l  Downloading https://files.pythonhosted.org/packages/38/b6/b53f19062afd49bb5abd049aeed36f13bf8d57ef8f3fa07a5203531a0252/Shapely-1.6.4.post2-cp36-cp36m-manylinux1_x86_64.whl (1.5MB)\n",
            "\u001b[K    100% |████████████████████████████████| 1.5MB 11.2MB/s \n",
            "\u001b[?25hCollecting pyproj (from geopandas)\n",
            "\u001b[?25l  Downloading https://files.pythonhosted.org/packages/29/72/5c1888c4948a0c7b736d10e0f0f69966e7c0874a660222ed0a2c2c6daa9f/pyproj-1.9.5.1.tar.gz (4.4MB)\n",
            "\u001b[K    100% |████████████████████████████████| 4.4MB 5.1MB/s \n",
            "\u001b[?25hCollecting fiona (from geopandas)\n",
            "\u001b[?25l  Downloading https://files.pythonhosted.org/packages/51/d8/2a97aea07eed6675187c42411bfca30816dfdd6831c125c123bac74f0465/Fiona-1.8.4-cp36-cp36m-manylinux1_x86_64.whl (17.9MB)\n",
            "\u001b[K    100% |████████████████████████████████| 17.9MB 1.5MB/s \n",
            "\u001b[?25hRequirement already satisfied: MarkupSafe>=0.23 in /usr/local/lib/python3.6/dist-packages (from Jinja2->folium) (1.1.0)\n",
            "Requirement already satisfied: numpy>=1.9.0 in /usr/local/lib/python3.6/dist-packages (from pandas->geopandas) (1.14.6)\n",
            "Requirement already satisfied: python-dateutil>=2 in /usr/local/lib/python3.6/dist-packages (from pandas->geopandas) (2.5.3)\n",
            "Requirement already satisfied: pytz>=2011k in /usr/local/lib/python3.6/dist-packages (from pandas->geopandas) (2018.7)\n",
            "Requirement already satisfied: six>=1.7 in /usr/local/lib/python3.6/dist-packages (from fiona->geopandas) (1.11.0)\n",
            "Collecting munch (from fiona->geopandas)\n",
            "  Downloading https://files.pythonhosted.org/packages/68/f4/260ec98ea840757a0da09e0ed8135333d59b8dfebe9752a365b04857660a/munch-2.3.2.tar.gz\n",
            "Collecting click-plugins>=1.0 (from fiona->geopandas)\n",
            "  Downloading https://files.pythonhosted.org/packages/95/dd/fef84cf1678418f241ef542c0288bdf215bdd3e35f1fe03dc5223a2e80ba/click_plugins-1.0.4-py2.py3-none-any.whl\n",
            "Requirement already satisfied: attrs>=17 in /usr/local/lib/python3.6/dist-packages (from fiona->geopandas) (18.2.0)\n",
            "Requirement already satisfied: click<8,>=4.0 in /usr/local/lib/python3.6/dist-packages (from fiona->geopandas) (7.0)\n",
            "Collecting cligj>=0.5 (from fiona->geopandas)\n",
            "  Downloading https://files.pythonhosted.org/packages/e4/be/30a58b4b0733850280d01f8bd132591b4668ed5c7046761098d665ac2174/cligj-0.5.0-py3-none-any.whl\n",
            "Building wheels for collected packages: pyproj, munch\n",
            "  Running setup.py bdist_wheel for pyproj ... \u001b[?25l-\b \b\\\b \b|\b \b/\b \b-\b \b\\\b \b|\b \b/\b \b-\b \b\\\b \b|\b \b/\b \b-\b \b\\\b \b|\b \b/\b \b-\b \b\\\b \b|\b \b/\b \b-\b \b\\\b \b|\b \b/\b \b-\b \b\\\b \b|\b \b/\b \b-\b \b\\\b \b|\b \b/\b \b-\b \b\\\b \b|\b \b/\b \b-\b \b\\\b \b|\b \b/\b \b-\b \b\\\b \b|\b \b/\b \b-\b \b\\\b \b|\b \b/\b \b-\b \b\\\b \b|\b \b/\b \b-\b \b\\\b \b|\b \b/\b \b-\b \b\\\b \b|\b \b/\b \b-\b \b\\\b \b|\b \b/\b \b-\b \b\\\b \b|\b \b/\b \b-\b \b\\\b \b|\b \b/\b \b-\b \b\\\b \b|\b \b/\b \b-\b \b\\\b \b|\b \b/\b \b-\b \b\\\b \b|\b \b/\b \b-\b \b\\\b \b|\b \b/\b \b-\b \b\\\b \b|\b \b/\b \b-\b \b\\\b \b|\b \b/\b \b-\b \b\\\b \b|\b \b/\b \b-\b \b\\\b \b|\b \b/\b \bdone\n",
            "\u001b[?25h  Stored in directory: /root/.cache/pip/wheels/89/77/ec/a537585d1022dafde0317dd19d33c4a30d4ee61e19f25ebd8e\n",
            "  Running setup.py bdist_wheel for munch ... \u001b[?25l-\b \bdone\n",
            "\u001b[?25h  Stored in directory: /root/.cache/pip/wheels/db/bf/bc/06a3e1bfe0ab27d2e720ceb3cff3159398d92644c0cec2c125\n",
            "Successfully built pyproj munch\n",
            "Installing collected packages: shapely, pyproj, munch, click-plugins, cligj, fiona, geopandas\n",
            "Successfully installed click-plugins-1.0.4 cligj-0.5.0 fiona-1.8.4 geopandas-0.4.0 munch-2.3.2 pyproj-1.9.5.1 shapely-1.6.4.post2\n"
          ],
          "name": "stdout"
        }
      ]
    },
    {
      "metadata": {
        "id": "UWhhKkHdppUc",
        "colab_type": "code",
        "colab": {}
      },
      "cell_type": "code",
      "source": [
        "df0 = df[ (df['Year']== 2015) & (df['Month']== 9) & (df['Day']== 11)]\n",
        "df0 = df0.groupby(['Latitude','Longitude'], as_index= False).count()           \n",
        "\n",
        "latitude = df0.loc [ : , 'Latitude']\n",
        "longitude = df0.loc [ : , 'Longitude']\n",
        "total = df0.loc [ : , 'Day']"
      ],
      "execution_count": 0,
      "outputs": []
    },
    {
      "metadata": {
        "id": "7YsI63mcymp7",
        "colab_type": "code",
        "outputId": "de6bc47c-6d7d-48e3-ae80-3f62643dfa67",
        "colab": {
          "base_uri": "https://localhost:8080/",
          "height": 909
        }
      },
      "cell_type": "code",
      "source": [
        "center_lat = 41.42\n",
        "center_lon = 2.18\n",
        "\n",
        "locationmap = folium.Map(location=[ center_lat , center_lon ], zoom_start=12) #, width=800, height=600 )\n",
        "locationmap.add_child(plugins.HeatMap(zip(latitude, longitude, total), radius = 12))\n",
        "\n",
        "locationmap"
      ],
      "execution_count": 19,
      "outputs": [
        {
          "output_type": "execute_result",
          "data": {
            "text/html": [
              "<div style=\"width:100%;\"><div style=\"position:relative;width:100%;height:0;padding-bottom:60%;\"><iframe src=\"data:text/html;base64,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\" style=\"position:absolute;width:100%;height:100%;left:0;top:0;\"></iframe></div></div>"
            ],
            "text/plain": [
              "<folium.folium.Map at 0x7f13abbbc208>"
            ]
          },
          "metadata": {
            "tags": []
          },
          "execution_count": 19
        }
      ]
    }
  ]
}