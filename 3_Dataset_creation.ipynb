{
  "nbformat": 4,
  "nbformat_minor": 0,
  "metadata": {
    "colab": {
      "name": "3_Dataset_creation.ipynb",
      "version": "0.3.2",
      "provenance": [],
      "collapsed_sections": [],
      "include_colab_link": true
    },
    "kernelspec": {
      "name": "python3",
      "display_name": "Python 3"
    }
  },
  "cells": [
    {
      "cell_type": "markdown",
      "metadata": {
        "id": "view-in-github",
        "colab_type": "text"
      },
      "source": [
        "<a href=\"https://colab.research.google.com/github/Giffy/Mobility_AIBCN/blob/master/3_Dataset_creation.ipynb\" target=\"_parent\"><img src=\"https://colab.research.google.com/assets/colab-badge.svg\" alt=\"Open In Colab\"/></a>"
      ]
    },
    {
      "metadata": {
        "id": "b2f7AR-fYNZh",
        "colab_type": "text"
      },
      "cell_type": "markdown",
      "source": [
        "# Dataset creation\n",
        "\n",
        "Creation of mobile phone density images of Barcelona"
      ]
    },
    {
      "metadata": {
        "id": "GOgLKuTy57Wc",
        "colab_type": "code",
        "colab": {}
      },
      "cell_type": "code",
      "source": [
        "import pandas as pd\n",
        "import seaborn\n",
        "import seaborn as sns"
      ],
      "execution_count": 0,
      "outputs": []
    },
    {
      "metadata": {
        "id": "HEX_s7O2SHc9",
        "colab_type": "text"
      },
      "cell_type": "markdown",
      "source": [
        "##  Download data"
      ]
    },
    {
      "metadata": {
        "id": "XZUPLfTdto7h",
        "colab_type": "code",
        "outputId": "121c4766-b28c-4517-b46b-dff8252651a8",
        "colab": {
          "base_uri": "https://localhost:8080/",
          "height": 34
        }
      },
      "cell_type": "code",
      "source": [
        "# Download previously cleaned data from 'Github'\n",
        "!pip install wget > /dev/null\n",
        "import wget\n",
        "url = 'https://raw.githubusercontent.com/Giffy/Mobility_AIBCN/master/dataset/coverageCatHDv6.tar.gz'\n",
        "try:\n",
        "  filename = wget.download(url)\n",
        "  print ( 'Dataset downloaded successfully.')\n",
        "\n",
        "  # Extract tar file\n",
        "  import tarfile\n",
        "  tf = tarfile.open( filename )\n",
        "  tf.extractall()\n",
        "  \n",
        "except:\n",
        "  print ( 'Error downloading dataset.')\n"
      ],
      "execution_count": 5,
      "outputs": [
        {
          "output_type": "stream",
          "text": [
            "Dataset downloaded successfully.\n"
          ],
          "name": "stdout"
        }
      ]
    },
    {
      "metadata": {
        "id": "j_2CNJCprPUG",
        "colab_type": "text"
      },
      "cell_type": "markdown",
      "source": [
        "##  Load data"
      ]
    },
    {
      "metadata": {
        "id": "ZGN08VqMqtIr",
        "colab_type": "code",
        "outputId": "9335297f-eca9-4250-ceb3-1822c9547f3e",
        "colab": {
          "base_uri": "https://localhost:8080/",
          "height": 143
        }
      },
      "cell_type": "code",
      "source": [
        "# load data\n",
        "df = pd.read_csv('coverageCat.csv')\n",
        "df.head(3)"
      ],
      "execution_count": 6,
      "outputs": [
        {
          "output_type": "execute_result",
          "data": {
            "text/html": [
              "<div>\n",
              "<style scoped>\n",
              "    .dataframe tbody tr th:only-of-type {\n",
              "        vertical-align: middle;\n",
              "    }\n",
              "\n",
              "    .dataframe tbody tr th {\n",
              "        vertical-align: top;\n",
              "    }\n",
              "\n",
              "    .dataframe thead th {\n",
              "        text-align: right;\n",
              "    }\n",
              "</style>\n",
              "<table border=\"1\" class=\"dataframe\">\n",
              "  <thead>\n",
              "    <tr style=\"text-align: right;\">\n",
              "      <th></th>\n",
              "      <th>Activitat</th>\n",
              "      <th>Day</th>\n",
              "      <th>Hour</th>\n",
              "      <th>Latitude</th>\n",
              "      <th>Longitude</th>\n",
              "      <th>Month</th>\n",
              "      <th>Weekday</th>\n",
              "      <th>Year</th>\n",
              "    </tr>\n",
              "  </thead>\n",
              "  <tbody>\n",
              "    <tr>\n",
              "      <th>0</th>\n",
              "      <td>UNKNOWN</td>\n",
              "      <td>17</td>\n",
              "      <td>1</td>\n",
              "      <td>41.3875</td>\n",
              "      <td>2.1980</td>\n",
              "      <td>10</td>\n",
              "      <td>6</td>\n",
              "      <td>2015</td>\n",
              "    </tr>\n",
              "    <tr>\n",
              "      <th>1</th>\n",
              "      <td>IN_VEHICLE</td>\n",
              "      <td>17</td>\n",
              "      <td>1</td>\n",
              "      <td>41.3860</td>\n",
              "      <td>2.1395</td>\n",
              "      <td>10</td>\n",
              "      <td>6</td>\n",
              "      <td>2015</td>\n",
              "    </tr>\n",
              "    <tr>\n",
              "      <th>2</th>\n",
              "      <td>IN_VEHICLE</td>\n",
              "      <td>17</td>\n",
              "      <td>1</td>\n",
              "      <td>41.3860</td>\n",
              "      <td>2.1395</td>\n",
              "      <td>10</td>\n",
              "      <td>6</td>\n",
              "      <td>2015</td>\n",
              "    </tr>\n",
              "  </tbody>\n",
              "</table>\n",
              "</div>"
            ],
            "text/plain": [
              "    Activitat  Day  Hour  Latitude  Longitude  Month  Weekday  Year\n",
              "0     UNKNOWN   17     1   41.3875     2.1980     10        6  2015\n",
              "1  IN_VEHICLE   17     1   41.3860     2.1395     10        6  2015\n",
              "2  IN_VEHICLE   17     1   41.3860     2.1395     10        6  2015"
            ]
          },
          "metadata": {
            "tags": []
          },
          "execution_count": 6
        }
      ]
    },
    {
      "metadata": {
        "id": "sjVS-sRw_WxW",
        "colab_type": "code",
        "outputId": "02360646-3de7-4749-b60d-21540d41c3f1",
        "colab": {
          "base_uri": "https://localhost:8080/",
          "height": 143
        }
      },
      "cell_type": "code",
      "source": [
        "df.tail(3)"
      ],
      "execution_count": 7,
      "outputs": [
        {
          "output_type": "execute_result",
          "data": {
            "text/html": [
              "<div>\n",
              "<style scoped>\n",
              "    .dataframe tbody tr th:only-of-type {\n",
              "        vertical-align: middle;\n",
              "    }\n",
              "\n",
              "    .dataframe tbody tr th {\n",
              "        vertical-align: top;\n",
              "    }\n",
              "\n",
              "    .dataframe thead th {\n",
              "        text-align: right;\n",
              "    }\n",
              "</style>\n",
              "<table border=\"1\" class=\"dataframe\">\n",
              "  <thead>\n",
              "    <tr style=\"text-align: right;\">\n",
              "      <th></th>\n",
              "      <th>Activitat</th>\n",
              "      <th>Day</th>\n",
              "      <th>Hour</th>\n",
              "      <th>Latitude</th>\n",
              "      <th>Longitude</th>\n",
              "      <th>Month</th>\n",
              "      <th>Weekday</th>\n",
              "      <th>Year</th>\n",
              "    </tr>\n",
              "  </thead>\n",
              "  <tbody>\n",
              "    <tr>\n",
              "      <th>2879093</th>\n",
              "      <td>IN_VEHICLE</td>\n",
              "      <td>4</td>\n",
              "      <td>0</td>\n",
              "      <td>41.455</td>\n",
              "      <td>2.03</td>\n",
              "      <td>1</td>\n",
              "      <td>3</td>\n",
              "      <td>2017</td>\n",
              "    </tr>\n",
              "    <tr>\n",
              "      <th>2879094</th>\n",
              "      <td>IN_VEHICLE</td>\n",
              "      <td>4</td>\n",
              "      <td>0</td>\n",
              "      <td>41.455</td>\n",
              "      <td>2.03</td>\n",
              "      <td>5</td>\n",
              "      <td>4</td>\n",
              "      <td>2017</td>\n",
              "    </tr>\n",
              "    <tr>\n",
              "      <th>2879095</th>\n",
              "      <td>IN_VEHICLE</td>\n",
              "      <td>19</td>\n",
              "      <td>0</td>\n",
              "      <td>41.455</td>\n",
              "      <td>2.03</td>\n",
              "      <td>10</td>\n",
              "      <td>3</td>\n",
              "      <td>2016</td>\n",
              "    </tr>\n",
              "  </tbody>\n",
              "</table>\n",
              "</div>"
            ],
            "text/plain": [
              "          Activitat  Day  Hour  Latitude  Longitude  Month  Weekday  Year\n",
              "2879093  IN_VEHICLE    4     0    41.455       2.03      1        3  2017\n",
              "2879094  IN_VEHICLE    4     0    41.455       2.03      5        4  2017\n",
              "2879095  IN_VEHICLE   19     0    41.455       2.03     10        3  2016"
            ]
          },
          "metadata": {
            "tags": []
          },
          "execution_count": 7
        }
      ]
    },
    {
      "metadata": {
        "id": "WOZorw4J_YIG",
        "colab_type": "text"
      },
      "cell_type": "markdown",
      "source": [
        "##  Data cleansing"
      ]
    },
    {
      "metadata": {
        "id": "Uu9aK9I4_aLQ",
        "colab_type": "code",
        "colab": {}
      },
      "cell_type": "code",
      "source": [
        "df = df[df['Activitat']=='IN_VEHICLE']                                    # Keeps in dataFrame the data with activity \"IN VEHICLE\"\n",
        "\n",
        "weekdays = [1,2,3,4,5]\n",
        "df = df[(df['Weekday'].isin(weekdays))]                                   # Keeps in dataFrame the data from Monday to Friday"
      ],
      "execution_count": 0,
      "outputs": []
    },
    {
      "metadata": {
        "id": "5LPeBrVF7xbF",
        "colab_type": "text"
      },
      "cell_type": "markdown",
      "source": [
        "##  Generate dataset graphics\n",
        "Using seaborn to generate graphics of mobile phone density\n",
        "\n",
        "![Density_sample](https://raw.githubusercontent.com/Giffy/Mobility_AIBCN/master/dataset/plt_sample.png)\n",
        "\n"
      ]
    },
    {
      "metadata": {
        "id": "xa_C7-gRrCpz",
        "colab_type": "code",
        "outputId": "015474c9-5421-431c-dfee-5041ded3ec66",
        "colab": {
          "base_uri": "https://localhost:8080/",
          "height": 330
        }
      },
      "cell_type": "code",
      "source": [
        "manana = [0,1,2,3,4,5,6,7,8,9,10,11,12,13,14,15,16,17,18,19,20,21,22,23,24]\n",
        "\n",
        "# Sample of plotting graphic with seaborn\n",
        "\n",
        "df0 = df[ (df['Year']== 2017\n",
        "          ) & (df['Month']== 4) & (df['Day']== 5)]\n",
        "df0 = df0[(df0['Hour'].isin(manana))]  \n",
        "df0 = df0.groupby(['Latitude','Longitude'], as_index= False).count()\n",
        "result = df0.pivot (index='Latitude' , columns='Longitude', values='Day')\n",
        "\n",
        "\n",
        "sns_plot = seaborn.heatmap(result, \n",
        "                           cbar= False,                            # Removes color bar with scale \n",
        "                           xticklabels=False,                      # Removes X-axis labels\n",
        "                           yticklabels=False,                      # Removes Y-axis labels\n",
        "                           cmap=\"PiYG\",                            # 2 contrasting colors\n",
        "                           center=3\n",
        "                          ) \n",
        "\n",
        "sns_plot.set_xlabel('')                                            # Removes X-axis title\n",
        "sns_plot.set_ylabel('')                                            # Removes Y-axis title\n",
        "\n",
        "fig = sns_plot.get_figure()                                        # Generates the heatmap image\n",
        "#fig.savefig(\"output.png\")                                         # Saves the image as png"
      ],
      "execution_count": 9,
      "outputs": [
        {
          "output_type": "display_data",
          "data": {
            "image/png": "[encoded data removed]",
            "text/plain": [
              "<Figure size 576x396 with 1 Axes>"
            ]
          },
          "metadata": {
            "tags": []
          }
        }
      ]
    },
    {
      "metadata": {
        "id": "MGRKIWNBZ-kS",
        "colab_type": "code",
        "colab": {
          "base_uri": "https://localhost:8080/",
          "height": 34
        },
        "outputId": "aa4ea478-2fea-478b-e879-d2fde93c3fa0"
      },
      "cell_type": "code",
      "source": [
        "!mkdir /content/Images\n",
        "path = '/content/Images/'                                                # Path to store the heatmap images generated\n",
        "\n",
        "# List of years, months, days and weekdays\n",
        "years = [2015, 2016, 2017]\n",
        "months = [1,2,3,4,5,6,7,8,9,10,11,12]\n",
        "days = [1,2,3,4,5,6,7,8,9,10,11,12,13,14,15,16,17,18,19,20,21,22,23,24,25,26,27,28,29,30,31]\n",
        "\n",
        "\n",
        "def generate_images ( hours ):\n",
        "  \n",
        "  count = 0\n",
        "  df0 = df[(df['Hour'].isin(hours))]                                      # Creates a dataset within the time range selected\n",
        "  for year in years:                                                      # Iteration to collect the data per each picture\n",
        "    df1 = df0[(df0['Year']== year)]                                       # Selects a year from list\n",
        "    for month in months:\n",
        "      df2 = df1[(df1['Month']== month)]                                   # Selects a month from list\n",
        "      print (\"Progress: \" + str(year) + '_' + str(month))\n",
        "      for day in days:\n",
        "        df3 = df2[(df2['Day']== day)]                                     # Selects a day from list\n",
        "        df_camp = df3[(df3.Latitude > 6) & (df3.Latitude < 11) &(df3.Longitude > 6) & (df3.Longitude < 11) ]\n",
        "        df4 = df3.groupby(['Latitude','Longitude'], as_index= False).count()\n",
        "        result = df4.pivot (index='Latitude' , columns='Longitude', values='Day')        \n",
        "        \n",
        "        try:                                                              # Try to catch the error when seaborn crashes, when result is empty (weekends, some days for months shorter than 31 days)\n",
        "          sns_plot = seaborn.heatmap(result, \n",
        "                                     cbar= False,                         # Removes color bar with scale \n",
        "                                     xticklabels=False,                   # Removes X-axis labels\n",
        "                                     yticklabels=False,                   # Removes Y-axis labels\n",
        "                                     cmap=\"PiYG\",                         # 2 contrasting colors\n",
        "                                     center=10\n",
        "                                    ) \n",
        "          sns_plot.set_xlabel('')                                         # Removes X-axis title\n",
        "          sns_plot.set_ylabel('')                                         # Removes Y-axis title\n",
        "          #sns_plot.plt.xlim (2.030 , 2.26)\n",
        "          #sns_plot.plt.ylim (41.335 , 41.46)\n",
        "          \n",
        "          fig = sns_plot.get_figure()                                     # Plots the heatmap image\n",
        "\n",
        "          # Filename creation\n",
        "          period = 'AM' if 8 in hours else 'PM'\n",
        "          filename = str(year) + '_' + str(month) + '_' + str(day) + '_' + period + '.png' \n",
        "\n",
        "          fig.savefig( path + filename )                                  # Saves image as png\n",
        "          fig.clf()                                                       # Cleans figure content\n",
        "          sns_plot = None\n",
        "          count +=1\n",
        "        except:\n",
        "          pass\n",
        "  print ( \"Created \" + str(count) + \" images\")"
      ],
      "execution_count": 10,
      "outputs": [
        {
          "output_type": "stream",
          "text": [
            "mkdir: cannot create directory ‘/content/Images’: File exists\n"
          ],
          "name": "stdout"
        }
      ]
    },
    {
      "metadata": {
        "id": "vAXLRggx9vqA",
        "colab_type": "code",
        "outputId": "05c0ce41-d710-4c06-811d-1ff7dabaa6f2",
        "colab": {
          "base_uri": "https://localhost:8080/",
          "height": 677
        }
      },
      "cell_type": "code",
      "source": [
        "timing = [0,1,2,3,4,5,6,7,8,9,10,11,12,13,14,15,16,17,18,19,20,21,22,23,24]\n",
        "generate_images ( timing )"
      ],
      "execution_count": 11,
      "outputs": [
        {
          "output_type": "stream",
          "text": [
            "Progress: 2015_1\n",
            "Progress: 2015_2\n",
            "Progress: 2015_3\n",
            "Progress: 2015_4\n",
            "Progress: 2015_5\n",
            "Progress: 2015_6\n",
            "Progress: 2015_7\n",
            "Progress: 2015_8\n",
            "Progress: 2015_9\n",
            "Progress: 2015_10\n",
            "Progress: 2015_11\n",
            "Progress: 2015_12\n",
            "Progress: 2016_1\n",
            "Progress: 2016_2\n",
            "Progress: 2016_3\n",
            "Progress: 2016_4\n",
            "Progress: 2016_5\n",
            "Progress: 2016_6\n",
            "Progress: 2016_7\n",
            "Progress: 2016_8\n",
            "Progress: 2016_9\n",
            "Progress: 2016_10\n",
            "Progress: 2016_11\n",
            "Progress: 2016_12\n",
            "Progress: 2017_1\n",
            "Progress: 2017_2\n",
            "Progress: 2017_3\n",
            "Progress: 2017_4\n",
            "Progress: 2017_5\n",
            "Progress: 2017_6\n",
            "Progress: 2017_7\n",
            "Progress: 2017_8\n",
            "Progress: 2017_9\n",
            "Progress: 2017_10\n",
            "Progress: 2017_11\n",
            "Progress: 2017_12\n",
            "Created 778 images\n"
          ],
          "name": "stdout"
        },
        {
          "output_type": "display_data",
          "data": {
            "text/plain": [
              "<Figure size 576x396 with 0 Axes>"
            ]
          },
          "metadata": {
            "tags": []
          }
        }
      ]
    },
    {
      "metadata": {
        "id": "OW0PAjBN6p2R",
        "colab_type": "text"
      },
      "cell_type": "markdown",
      "source": [
        "## Copy dataset to Google Drive"
      ]
    },
    {
      "metadata": {
        "id": "lCr1LzjQ62pv",
        "colab_type": "code",
        "outputId": "f7fd8c26-59e5-419a-a01f-fd08714fffff",
        "colab": {
          "base_uri": "https://localhost:8080/",
          "height": 124
        }
      },
      "cell_type": "code",
      "source": [
        "from google.colab import drive\n",
        "drive.mount('/gdrive')                                                   # Mounts Google Drive as a folder in google Colab"
      ],
      "execution_count": 12,
      "outputs": [
        {
          "output_type": "stream",
          "text": [
            "Go to this URL in a browser: https://accounts.google.com/o/oauth2/auth?client_id=947318989803-6bn6qk8qdgf4n4g3pfee6491hc0brc4i.apps.googleusercontent.com&redirect_uri=urn%3Aietf%3Awg%3Aoauth%3A2.0%3Aoob&scope=email%20https%3A%2F%2Fwww.googleapis.com%2Fauth%2Fdocs.test%20https%3A%2F%2Fwww.googleapis.com%2Fauth%2Fdrive%20https%3A%2F%2Fwww.googleapis.com%2Fauth%2Fdrive.photos.readonly%20https%3A%2F%2Fwww.googleapis.com%2Fauth%2Fpeopleapi.readonly&response_type=code\n",
            "\n",
            "Enter your authorization code:\n",
            "··········\n",
            "Mounted at /gdrive\n"
          ],
          "name": "stdout"
        }
      ]
    },
    {
      "metadata": {
        "id": "hIcy1e0QBDvY",
        "colab_type": "code",
        "colab": {}
      },
      "cell_type": "code",
      "source": [
        "!tar -czvf images.tar.gz Images > /dev/null\n",
        "!mv images.tar.gz /gdrive/My\\ Drive/"
      ],
      "execution_count": 0,
      "outputs": []
    },
    {
      "metadata": {
        "id": "QM0D6mSU_Hlx",
        "colab_type": "text"
      },
      "cell_type": "markdown",
      "source": [
        "## Plotting data sample with Folium"
      ]
    },
    {
      "metadata": {
        "id": "G20QeWDzx9nh",
        "colab_type": "code",
        "colab": {}
      },
      "cell_type": "code",
      "source": [
        "!pip install folium geopandas  > /dev/null   # Install folium for map visualization\n",
        "\n",
        "import folium                             # Library to create the map\n",
        "from folium import plugins                # plugin to create a heatmap"
      ],
      "execution_count": 0,
      "outputs": []
    },
    {
      "metadata": {
        "id": "UWhhKkHdppUc",
        "colab_type": "code",
        "colab": {}
      },
      "cell_type": "code",
      "source": [
        "df0 = df[ (df['Year']== 2015) & (df['Month']== 2) & (df['Day']== 6)]\n",
        "df0 = df0.groupby(['Latitude','Longitude'], as_index= False).count()           \n",
        "\n",
        "latitude = df0.loc [ : , 'Latitude']\n",
        "longitude = df0.loc [ : , 'Longitude']\n",
        "total = df0.loc [ : , 'Day']"
      ],
      "execution_count": 0,
      "outputs": []
    },
    {
      "metadata": {
        "id": "7YsI63mcymp7",
        "colab_type": "code",
        "outputId": "e397d3c8-3734-400b-f3e2-cadba46aba51",
        "colab": {
          "base_uri": "https://localhost:8080/",
          "height": 909
        }
      },
      "cell_type": "code",
      "source": [
        "center_lat = 41.391\n",
        "center_lon = 2.137\n",
        "\n",
        "locationmap = folium.Map(location=[ center_lat , center_lon ], zoom_start=12, width=800, height=600 )\n",
        "locationmap.add_child(plugins.HeatMap(zip(latitude, longitude, total), radius = 12))\n",
        "\n",
        "locationmap"
      ],
      "execution_count": 21,
      "outputs": [
        {
          "output_type": "execute_result",
          "data": {
            "text/html": [
              "<div style=\"width:100%;\"><div style=\"position:relative;width:100%;height:0;padding-bottom:60%;\"><iframe src=\"data:text/html;base64,CiAgICAgICAgPCFET0NUWVBFIGh0bWw+CiAgICAgICAgPGhlYWQ+CiAgICAgICAgICAgIAogICAgICAgIAogICAgICAgICAgICA8bWV0YSBodHRwLWVxdWl2PSJjb250ZW50LXR5cGUiIGNvbnRlbnQ9InRleHQvaHRtbDsgY2hhcnNldD1VVEYtOCIgLz4KICAgICAgICAKICAgICAgICAgICAgCiAgICAgICAgCiAgICAgICAgICAgIDxzY3JpcHQgc3JjPSJodHRwczovL2NkbmpzLmNsb3VkZmxhcmUuY29tL2FqYXgvbGlicy9sZWFmbGV0LzAuNy4zL2xlYWZsZXQuanMiPjwvc2NyaXB0PgogICAgICAgIAogICAgICAgIAogICAgICAgIAogICAgICAgICAgICAKICAgICAgICAKICAgICAgICAgICAgPHNjcmlwdCBzcmM9Imh0dHBzOi8vYWpheC5nb29nbGVhcGlzLmNvbS9hamF4L2xpYnMvanF1ZXJ5LzEuMTEuMS9qcXVlcnkubWluLmpzIj48L3NjcmlwdD4KICAgICAgICAKICAgICAgICAKICAgICAgICAKICAgICAgICAgICAgCiAgICAgICAgCiAgICAgICAgICAgIDxzY3JpcHQgc3JjPSJodHRwczovL21heGNkbi5ib290c3RyYXBjZG4uY29tL2Jvb3RzdHJhcC8zLjIuMC9qcy9ib290c3RyYXAubWluLmpzIj48L3NjcmlwdD4KICAgICAgICAKICAgICAgICAKICAgICAgICAKICAgICAgICAgICAgCiAgICAgICAgCiAgICAgICAgICAgIDxzY3JpcHQgc3JjPSJodHRwczovL2NkbmpzLmNsb3VkZmxhcmUuY29tL2FqYXgvbGlicy9MZWFmbGV0LmF3ZXNvbWUtbWFya2Vycy8yLjAuMi9sZWFmbGV0LmF3ZXNvbWUtbWFya2Vycy5taW4uanMiPjwvc2NyaXB0PgogICAgICAgIAogICAgICAgIAogICAgICAgIAogICAgICAgICAgICAKICAgICAgICAKICAgICAgICAgICAgPHNjcmlwdCBzcmM9Imh0dHBzOi8vY2RuanMuY2xvdWRmbGFyZS5jb20vYWpheC9saWJzL2xlYWZsZXQubWFya2VyY2x1c3Rlci8wLjQuMC9sZWFmbGV0Lm1hcmtlcmNsdXN0ZXItc3JjLmpzIj48L3NjcmlwdD4KICAgICAgICAKICAgICAgICAKICAgICAgICAKICAgICAgICAgICAgCiAgICAgICAgCiAgICAgICAgICAgIDxzY3JpcHQgc3JjPSJodHRwczovL2NkbmpzLmNsb3VkZmxhcmUuY29tL2FqYXgvbGlicy9sZWFmbGV0Lm1hcmtlcmNsdXN0ZXIvMC40LjAvbGVhZmxldC5tYXJrZXJjbHVzdGVyLmpzIj48L3NjcmlwdD4KICAgICAgICAKICAgICAgICAKICAgICAgICAKICAgICAgICAgICAgCiAgICAgICAgCiAgICAgICAgICAgIDxsaW5rIHJlbD0ic3R5bGVzaGVldCIgaHJlZj0iaHR0cHM6Ly9jZG5qcy5jbG91ZGZsYXJlLmNvbS9hamF4L2xpYnMvbGVhZmxldC8wLjcuMy9sZWFmbGV0LmNzcyIgLz4KICAgICAgICAKICAgICAgICAKICAgICAgICAKICAgICAgICAgICAgCiAgICAgICAgCiAgICAgICAgICAgIDxsaW5rIHJlbD0ic3R5bGVzaGVldCIgaHJlZj0iaHR0cHM6Ly9tYXhjZG4uYm9vdHN0cmFwY2RuLmNvbS9ib290c3RyYXAvMy4yLjAvY3NzL2Jvb3RzdHJhcC5taW4uY3NzIiAvPgogICAgICAgIAogICAgICAgIAogICAgICAgIAogICAgICAgICAgICAKICAgICAgICAKICAgICAgICAgICAgPGxpbmsgcmVsPSJzdHlsZXNoZWV0IiBocmVmPSJodHRwczovL21heGNkbi5ib290c3RyYXBjZG4uY29tL2Jvb3RzdHJhcC8zLjIuMC9jc3MvYm9vdHN0cmFwLXRoZW1lLm1pbi5jc3MiIC8+CiAgICAgICAgCiAgICAgICAgCiAgICAgICAgCiAgICAgICAgICAgIAogICAgICAgIAogICAgICAgICAgICA8bGluayByZWw9InN0eWxlc2hlZXQiIGhyZWY9Imh0dHBzOi8vbWF4Y2RuLmJvb3RzdHJhcGNkbi5jb20vZm9udC1hd2Vzb21lLzQuMS4wL2Nzcy9mb250LWF3ZXNvbWUubWluLmNzcyIgLz4KICAgICAgICAKICAgICAgICAKICAgICAgICAKICAgICAgICAgICAgCiAgICAgICAgCiAgICAgICAgICAgIDxsaW5rIHJlbD0ic3R5bGVzaGVldCIgaHJlZj0iaHR0cHM6Ly9jZG5qcy5jbG91ZGZsYXJlLmNvbS9hamF4L2xpYnMvTGVhZmxldC5hd2Vzb21lLW1hcmtlcnMvMi4wLjIvbGVhZmxldC5hd2Vzb21lLW1hcmtlcnMuY3NzIiAvPgogICAgICAgIAogICAgICAgIAogICAgICAgIAogICAgICAgICAgICAKICAgICAgICAKICAgICAgICAgICAgPGxpbmsgcmVsPSJzdHlsZXNoZWV0IiBocmVmPSJodHRwczovL2NkbmpzLmNsb3VkZmxhcmUuY29tL2FqYXgvbGlicy9sZWFmbGV0Lm1hcmtlcmNsdXN0ZXIvMC40LjAvTWFya2VyQ2x1c3Rlci5EZWZhdWx0LmNzcyIgLz4KICAgICAgICAKICAgICAgICAKICAgICAgICAKICAgICAgICAgICAgCiAgICAgICAgCiAgICAgICAgICAgIDxsaW5rIHJlbD0ic3R5bGVzaGVldCIgaHJlZj0iaHR0cHM6Ly9jZG5qcy5jbG91ZGZsYXJlLmNvbS9hamF4L2xpYnMvbGVhZmxldC5tYXJrZXJjbHVzdGVyLzAuNC4wL01hcmtlckNsdXN0ZXIuY3NzIiAvPgogICAgICAgIAogICAgICAgIAogICAgICAgIAogICAgICAgICAgICAKICAgICAgICAKICAgICAgICAgICAgPGxpbmsgcmVsPSJzdHlsZXNoZWV0IiBocmVmPSJodHRwczovL3Jhdy5naXRodWJ1c2VyY29udGVudC5jb20vcHl0aG9uLXZpc3VhbGl6YXRpb24vZm9saXVtL21hc3Rlci9mb2xpdW0vdGVtcGxhdGVzL2xlYWZsZXQuYXdlc29tZS5yb3RhdGUuY3NzIiAvPgogICAgICAgIAogICAgICAgIAogICAgICAgIAogICAgICAgICAgICAKICAgICAgICAgICAgPHN0eWxlPgoKICAgICAgICAgICAgaHRtbCwgYm9keSB7CiAgICAgICAgICAgICAgICB3aWR0aDogMTAwJTsKICAgICAgICAgICAgICAgIGhlaWdodDogMTAwJTsKICAgICAgICAgICAgICAgIG1hcmdpbjogMDsKICAgICAgICAgICAgICAgIHBhZGRpbmc6IDA7CiAgICAgICAgICAgICAgICB9CgogICAgICAgICAgICAjbWFwIHsKICAgICAgICAgICAgICAgIHBvc2l0aW9uOmFic29sdXRlOwogICAgICAgICAgICAgICAgdG9wOjA7CiAgICAgICAgICAgICAgICBib3R0b206MDsKICAgICAgICAgICAgICAgIHJpZ2h0OjA7CiAgICAgICAgICAgICAgICBsZWZ0OjA7CiAgICAgICAgICAgICAgICB9CiAgICAgICAgICAgIDwvc3R5bGU+CiAgICAgICAgICAgIAogICAgICAgIAogICAgICAgICAgICAKICAgICAgICAgICAgPHN0eWxlPiAjbWFwX2VmM2NkNGYyNmUyMzQ3YTViZjc1NDkyMDdiODBlMjQ2IHsKICAgICAgICAgICAgICAgIHBvc2l0aW9uIDogcmVsYXRpdmU7CiAgICAgICAgICAgICAgICB3aWR0aCA6IDgwMC4wcHg7CiAgICAgICAgICAgICAgICBoZWlnaHQ6IDYwMC4wcHg7CiAgICAgICAgICAgICAgICBsZWZ0OiAwLjAlOwogICAgICAgICAgICAgICAgdG9wOiAwLjAlOwogICAgICAgICAgICAgICAgfQogICAgICAgICAgICA8L3N0eWxlPgogICAgICAgIAogICAgICAgIAogICAgICAgICAgICAKICAgICAgICAKICAgICAgICAgICAgPHNjcmlwdCBzcmM9Imh0dHBzOi8vbGVhZmxldC5naXRodWIuaW8vTGVhZmxldC5oZWF0L2Rpc3QvbGVhZmxldC1oZWF0LmpzIj48L3NjcmlwdD4KICAgICAgICAKICAgICAgICAKICAgICAgICAKICAgICAgICAKICAgICAgICA8L2hlYWQ+CiAgICAgICAgPGJvZHk+CiAgICAgICAgICAgIAogICAgICAgIAogICAgICAgICAgICAKICAgICAgICAgICAgPGRpdiBjbGFzcz0iZm9saXVtLW1hcCIgaWQ9Im1hcF9lZjNjZDRmMjZlMjM0N2E1YmY3NTQ5MjA3YjgwZTI0NiIgPjwvZGl2PgogICAgICAgIAogICAgICAgIAogICAgICAgIAogICAgICAgIDwvYm9keT4KICAgICAgICA8c2NyaXB0PgogICAgICAgICAgICAKICAgICAgICAKICAgICAgICAgICAgCgogICAgICAgICAgICB2YXIgc291dGhXZXN0ID0gTC5sYXRMbmcoLTkwLCAtMTgwKTsKICAgICAgICAgICAgdmFyIG5vcnRoRWFzdCA9IEwubGF0TG5nKDkwLCAxODApOwogICAgICAgICAgICB2YXIgYm91bmRzID0gTC5sYXRMbmdCb3VuZHMoc291dGhXZXN0LCBub3J0aEVhc3QpOwoKICAgICAgICAgICAgdmFyIG1hcF9lZjNjZDRmMjZlMjM0N2E1YmY3NTQ5MjA3YjgwZTI0NiA9IEwubWFwKCdtYXBfZWYzY2Q0ZjI2ZTIzNDdhNWJmNzU0OTIwN2I4MGUyNDYnLCB7CiAgICAgICAgICAgICAgICAgICAgICAgICAgICAgICAgICAgICAgICAgICBjZW50ZXI6WzQxLjM5MSwyLjEzN10sCiAgICAgICAgICAgICAgICAgICAgICAgICAgICAgICAgICAgICAgICAgICB6b29tOiAxMiwKICAgICAgICAgICAgICAgICAgICAgICAgICAgICAgICAgICAgICAgICAgIG1heEJvdW5kczogYm91bmRzLAogICAgICAgICAgICAgICAgICAgICAgICAgICAgICAgICAgICAgICAgICAgbGF5ZXJzOiBbXSwKICAgICAgICAgICAgICAgICAgICAgICAgICAgICAgICAgICAgICAgICAgIGNyczogTC5DUlMuRVBTRzM4NTcKICAgICAgICAgICAgICAgICAgICAgICAgICAgICAgICAgICAgICAgICB9KTsKICAgICAgICAgICAgCiAgICAgICAgCiAgICAgICAgCiAgICAgICAgICAgIAogICAgICAgICAgICB2YXIgdGlsZV9sYXllcl9iNWQzMmNhMzEyZGI0NjdkYTRjOWJjOGY2YmUyZWRjNCA9IEwudGlsZUxheWVyKAogICAgICAgICAgICAgICAgJ2h0dHBzOi8ve3N9LnRpbGUub3BlbnN0cmVldG1hcC5vcmcve3p9L3t4fS97eX0ucG5nJywKICAgICAgICAgICAgICAgIHsKICAgICAgICAgICAgICAgICAgICBtYXhab29tOiAxOCwKICAgICAgICAgICAgICAgICAgICBtaW5ab29tOiAxLAogICAgICAgICAgICAgICAgICAgIGF0dHJpYnV0aW9uOiAnRGF0YSBieSA8YSBocmVmPSJodHRwOi8vb3BlbnN0cmVldG1hcC5vcmciPk9wZW5TdHJlZXRNYXA8L2E+LCB1bmRlciA8YSBocmVmPSJodHRwOi8vd3d3Lm9wZW5zdHJlZXRtYXAub3JnL2NvcHlyaWdodCI+T0RiTDwvYT4uJywKICAgICAgICAgICAgICAgICAgICBkZXRlY3RSZXRpbmE6IGZhbHNlCiAgICAgICAgICAgICAgICAgICAgfQogICAgICAgICAgICAgICAgKS5hZGRUbyhtYXBfZWYzY2Q0ZjI2ZTIzNDdhNWJmNzU0OTIwN2I4MGUyNDYpOwoKICAgICAgICAKICAgICAgICAKICAgICAgICAgICAgCiAgICAgICAgICAgIHZhciBoZWF0X21hcF9hN2ZhMjQyM2ZmNTY0YTc1YjZiNTVlNTJmMDY4MzZiZiA9IEwuaGVhdExheWVyKAogICAgICAgICAgICAgICAgW1s0MS4zMzUsIDIuMDMsIDFdLCBbNDEuMzQsIDIuMDMsIDFdLCBbNDEuMzQsIDIuMTIzNSwgMV0sIFs0MS4zNDA1LCAyLjA5OSwgMV0sIFs0MS4zNDA1LCAyLjEyNDUsIDFdLCBbNDEuMzQyNSwgMi4wOTU1LCAxXSwgWzQxLjM0MjUsIDIuMTA2LCAxXSwgWzQxLjM0MywgMi4xMTA1LCAxXSwgWzQxLjM0MzUsIDIuMTMxOTk5OTk5OTk5OTk5NywgMV0sIFs0MS4zNDM5OTk5OTk5OTk5OTQsIDIuMDg5LCAxXSwgWzQxLjM0Mzk5OTk5OTk5OTk5NCwgMi4wOTA5OTk5OTk5OTk5OTk3LCAxXSwgWzQxLjM0NSwgMi4wMywgMV0sIFs0MS4zNDUsIDIuMTExNSwgMV0sIFs0MS4zNDU1LCAyLjEwNjk5OTk5OTk5OTk5OTgsIDFdLCBbNDEuMzQ2MDAwMDAwMDAwMDA0LCAyLjA4NiwgMV0sIFs0MS4zNDcsIDIuMTA5NSwgMV0sIFs0MS4zNDcsIDIuMTQ3NSwgMV0sIFs0MS4zNDg1LCAyLjA5MiwgMl0sIFs0MS4zNDksIDIuMTEzNSwgMV0sIFs0MS4zNDk1LCAyLjA5MiwgMV0sIFs0MS4zNDk1LCAyLjExNTUsIDFdLCBbNDEuMzQ5NSwgMi4xMzc1LCAxXSwgWzQxLjM1LCAyLjAzLCAxXSwgWzQxLjM1LCAyLjEyMiwgMV0sIFs0MS4zNSwgMi4xMjcsIDFdLCBbNDEuMzUsIDIuMTQ3NSwgMV0sIFs0MS4zNTA1LCAyLjE0NSwgMV0sIFs0MS4zNTA1LCAyLjE1MywgMV0sIFs0MS4zNTEwMDAwMDAwMDAwMDYsIDIuMTE3LCAxXSwgWzQxLjM1MTAwMDAwMDAwMDAwNiwgMi4xNDU1LCAxXSwgWzQxLjM1MTUsIDIuMTE4NSwgMV0sIFs0MS4zNTE1LCAyLjEyNCwgMl0sIFs0MS4zNTE1LCAyLjEyNDUsIDJdLCBbNDEuMzUyLCAyLjEyMzUsIDFdLCBbNDEuMzUyLCAyLjEyNDUsIDJdLCBbNDEuMzUyLCAyLjEzMSwgMV0sIFs0MS4zNTI1LCAyLjA1OSwgMV0sIFs0MS4zNTI1LCAyLjExODAwMDAwMDAwMDAwMDMsIDFdLCBbNDEuMzUyNSwgMi4xMzQ1LCAxXSwgWzQxLjM1MjUsIDIuMTU1NSwgMV0sIFs0MS4zNTI1LCAyLjE1OCwgMV0sIFs0MS4zNTMsIDIuMTIyLCAxXSwgWzQxLjM1MywgMi4xMjI1LCAxXSwgWzQxLjM1MywgMi4xMjMsIDJdLCBbNDEuMzUzNSwgMi4xMjM1LCAyXSwgWzQxLjM1NCwgMi4wOTA5OTk5OTk5OTk5OTk3LCAxXSwgWzQxLjM1NCwgMi4xMjE1LCAxXSwgWzQxLjM1NCwgMi4xMjIsIDFdLCBbNDEuMzU0NSwgMi4xMjI1LCAyXSwgWzQxLjM1NSwgMi4wMywgMV0sIFs0MS4zNTUsIDIuMTIyLCAxXSwgWzQxLjM1NiwgMi4wODk1LCAxXSwgWzQxLjM1NiwgMi4xNjEsIDFdLCBbNDEuMzU2NSwgMi4wOTA5OTk5OTk5OTk5OTk3LCAxXSwgWzQxLjM1NjUsIDIuMTY3LCAxXSwgWzQxLjM1NywgMi4wODksIDFdLCBbNDEuMzU3LCAyLjE2NjUsIDFdLCBbNDEuMzU4NSwgMi4xMjY1LCAxXSwgWzQxLjM1ODUsIDIuMTI4LCAxXSwgWzQxLjM1ODk5OTk5OTk5OTk5NSwgMi4xMjUsIDFdLCBbNDEuMzU4OTk5OTk5OTk5OTk1LCAyLjEyNywgMV0sIFs0MS4zNTk1LCAyLjEyODUsIDJdLCBbNDEuMzYsIDIuMDMsIDFdLCBbNDEuMzYsIDIuMTI4LCAxXSwgWzQxLjM2LCAyLjEyOSwgMV0sIFs0MS4zNjE1LCAyLjEzMDUsIDFdLCBbNDEuMzYzLCAyLjA5MDk5OTk5OTk5OTk5OTcsIDFdLCBbNDEuMzYzLCAyLjEzMywgMV0sIFs0MS4zNjMsIDIuMTMzNSwgMV0sIFs0MS4zNjMsIDIuMTcxLCAyXSwgWzQxLjM2NCwgMi4wODgsIDFdLCBbNDEuMzY0LCAyLjEzMywgMV0sIFs0MS4zNjQ1LCAyLjEzNDUsIDFdLCBbNDEuMzY1LCAyLjAzLCAxXSwgWzQxLjM2NTUsIDIuMTM1LCAxXSwgWzQxLjM2NjAwMDAwMDAwMDAxLCAyLjEzNywgMV0sIFs0MS4zNjcsIDIuMDg3NSwgMV0sIFs0MS4zNjcsIDIuMTM5MDAwMDAwMDAwMDAwMiwgMV0sIFs0MS4zNjc1LCAyLjEzOTAwMDAwMDAwMDAwMDIsIDFdLCBbNDEuMzY3NSwgMi4xMzk1LCAxXSwgWzQxLjM2NzUsIDIuMTQsIDJdLCBbNDEuMzY3NSwgMi4xNzMsIDFdLCBbNDEuMzY4LCAyLjA4NTUsIDFdLCBbNDEuMzY4LCAyLjA5NiwgMV0sIFs0MS4zNjg1LCAyLjA0NTUsIDFdLCBbNDEuMzY4NSwgMi4xMjE1LCAxXSwgWzQxLjM2ODUsIDIuMTc0LCAxXSwgWzQxLjM2OSwgMi4xNDE1LCAxXSwgWzQxLjM3LCAyLjAzLCAxXSwgWzQxLjM3LCAyLjA4MzUsIDFdLCBbNDEuMzcsIDIuMTQyNSwgMV0sIFs0MS4zNzEsIDIuMDg1LCAxXSwgWzQxLjM3MSwgMi4xMzEsIDFdLCBbNDEuMzcxLCAyLjE0MzUsIDFdLCBbNDEuMzcxLCAyLjE0NCwgMV0sIFs0MS4zNzE1LCAyLjE0NDUsIDFdLCBbNDEuMzcyNSwgMi4wNSwgMV0sIFs0MS4zNzMwMDAwMDAwMDAwMDUsIDIuMDQzNSwgMV0sIFs0MS4zNzMwMDAwMDAwMDAwMDUsIDIuMDQ2LCAxXSwgWzQxLjM3MzAwMDAwMDAwMDAwNSwgMi4wNTA1LCAxXSwgWzQxLjM3MzAwMDAwMDAwMDAwNSwgMi4xNDY1LCAxXSwgWzQxLjM3NDUsIDIuMTE4NSwgMV0sIFs0MS4zNzQ1LCAyLjExOSwgMV0sIFs0MS4zNzUsIDIuMDMsIDFdLCBbNDEuMzc1LCAyLjA2MTUsIDFdLCBbNDEuMzc1NSwgMi4xMTc1LCAxXSwgWzQxLjM3NjAwMDAwMDAwMDAwNSwgMi4xMTQ1LCAxXSwgWzQxLjM3NjAwMDAwMDAwMDAwNSwgMi4xMTc1LCAxXSwgWzQxLjM3NjAwMDAwMDAwMDAwNSwgMi4xNDgsIDFdLCBbNDEuMzc2NSwgMi4wNzYsIDFdLCBbNDEuMzc2NSwgMi4wNzksIDFdLCBbNDEuMzc2OTk5OTk5OTk5OTk1LCAyLjE1MTk5OTk5OTk5OTk5OTcsIDFdLCBbNDEuMzc2OTk5OTk5OTk5OTk1LCAyLjE2MzUsIDFdLCBbNDEuMzc3NSwgMi4xMTA5OTk5OTk5OTk5OTk4LCAxXSwgWzQxLjM3NzUsIDIuMTc2LCAxXSwgWzQxLjM3OCwgMi4wODMsIDFdLCBbNDEuMzc4NSwgMi4xNDY1LCAxXSwgWzQxLjM3ODUsIDIuMTU0LCAxXSwgWzQxLjM3ODUsIDIuMTgwNSwgMV0sIFs0MS4zNzksIDIuMTQ1NSwgMV0sIFs0MS4zNzk1LCAyLjA4NSwgMV0sIFs0MS4zOCwgMi4wMywgMV0sIFs0MS4zOCwgMi4xMDgsIDFdLCBbNDEuMzgxLCAyLjA4ODUsIDFdLCBbNDEuMzgxLCAyLjEwMDUsIDFdLCBbNDEuMzgxNSwgMi4xMDc1LCAxXSwgWzQxLjM4MTUsIDIuMTE0LCAxXSwgWzQxLjM4MTUsIDIuMTE0NSwgMV0sIFs0MS4zODE1LCAyLjE0MjUsIDFdLCBbNDEuMzgxNSwgMi4xNTk1LCAxXSwgWzQxLjM4MiwgMi4xNTE1LCAxXSwgWzQxLjM4MjUsIDIuMTA2OTk5OTk5OTk5OTk5OCwgMV0sIFs0MS4zODMsIDIuMTA3NSwgMV0sIFs0MS4zODMsIDIuMTg5NSwgMV0sIFs0MS4zODM5OTk5OTk5OTk5OSwgMi4xNTE5OTk5OTk5OTk5OTk3LCAxXSwgWzQxLjM4NDUsIDIuMTQyNSwgMV0sIFs0MS4zODUsIDIuMDMsIDFdLCBbNDEuMzg1LCAyLjE1NiwgMV0sIFs0MS4zODU1LCAyLjE2MzUsIDFdLCBbNDEuMzg2LCAyLjE2OTUsIDFdLCBbNDEuMzg3NSwgMi4xMjc1LCAxXSwgWzQxLjM4NzUsIDIuMTQzMDAwMDAwMDAwMDAwMiwgMV0sIFs0MS4zODgwMDAwMDAwMDAwMDUsIDIuMTU5NSwgMV0sIFs0MS4zODgwMDAwMDAwMDAwMDUsIDIuMTY2NSwgMV0sIFs0MS4zODg5OTk5OTk5OTk5OTYsIDIuMTY4LCAxXSwgWzQxLjM4ODk5OTk5OTk5OTk5NiwgMi4xOTQ1LCAxXSwgWzQxLjM4OTUsIDIuMTQzNSwgMV0sIFs0MS4zOSwgMi4wMywgMV0sIFs0MS4zOTE5OTk5OTk5OTk5OTYsIDIuMTY0NSwgMV0sIFs0MS4zOTI1LCAyLjE0NDUsIDFdLCBbNDEuMzkyNSwgMi4xNTg1LCAxXSwgWzQxLjM5MywgMi4xNDYsIDFdLCBbNDEuMzkzLCAyLjIwNCwgMV0sIFs0MS4zOTM1LCAyLjE0ODUsIDFdLCBbNDEuMzk0LCAyLjE1LCAxXSwgWzQxLjM5NCwgMi4xNTc1LCAxXSwgWzQxLjM5NCwgMi4xNjU1LCAxXSwgWzQxLjM5NDUsIDIuMTUxOTk5OTk5OTk5OTk5NywgMV0sIFs0MS4zOTUsIDIuMDMsIDFdLCBbNDEuMzk1LCAyLjE1NCwgMV0sIFs0MS4zOTUsIDIuMjA2LCAxXSwgWzQxLjM5NTUsIDIuMTYzMDAwMDAwMDAwMDAwMywgMV0sIFs0MS4zOTYsIDIuMTU1NSwgMV0sIFs0MS4zOTYsIDIuMjAxLCAxXSwgWzQxLjM5NjUsIDIuMTMzLCAxXSwgWzQxLjM5NjUsIDIuMTU1NSwgMV0sIFs0MS4zOTgsIDIuMjAzMDAwMDAwMDAwMDAwMywgMV0sIFs0MS4zOTg1LCAyLjE2MiwgMV0sIFs0MS40LCAyLjAzLCAxXSwgWzQxLjQwMSwgMi4yMDMwMDAwMDAwMDAwMDAzLCAxXSwgWzQxLjQwMTUsIDIuMTI0LCAxXSwgWzQxLjQwMTUsIDIuMjA1LCAxXSwgWzQxLjQwMiwgMi4xNjQsIDFdLCBbNDEuNDAyLCAyLjE3MzUsIDFdLCBbNDEuNDAyNSwgMi4xMzg1LCAxXSwgWzQxLjQwMjUsIDIuMTg2NSwgMV0sIFs0MS40MDM1LCAyLjEyNCwgMV0sIFs0MS40MDM1LCAyLjEzOTAwMDAwMDAwMDAwMDIsIDFdLCBbNDEuNDAzNSwgMi4xNzc1LCAxXSwgWzQxLjQwMzUsIDIuMjE1LCAxXSwgWzQxLjQwNDUsIDIuMTY1NSwgMV0sIFs0MS40MDQ1LCAyLjE5LCAxXSwgWzQxLjQwNSwgMi4wMywgMV0sIFs0MS40MDUsIDIuMTc3LCAxXSwgWzQxLjQwNTUsIDIuMTQ0NSwgMV0sIFs0MS40MDYwMDAwMDAwMDAwMDYsIDIuMTE1NSwgMV0sIFs0MS40MDYwMDAwMDAwMDAwMDYsIDIuMTk4NSwgMV0sIFs0MS40MDYwMDAwMDAwMDAwMDYsIDIuMjA4NSwgMV0sIFs0MS40MDY1LCAyLjIwNzUsIDFdLCBbNDEuNDA2NSwgMi4yMDgsIDJdLCBbNDEuNDA2NSwgMi4yMDksIDFdLCBbNDEuNDA2NSwgMi4yMDk1LCAxXSwgWzQxLjQwNywgMi4yMDI1LCAxXSwgWzQxLjQwNywgMi4yMDg1LCAxXSwgWzQxLjQwOCwgMi4xNTA1LCAxXSwgWzQxLjQwODUsIDIuMTQsIDFdLCBbNDEuNDA4NSwgMi4xNzA1LCAxXSwgWzQxLjQwOSwgMi4xNTMsIDFdLCBbNDEuNDA5NSwgMi4xNTQ1LCAxXSwgWzQxLjQxLCAyLjAzLCAxXSwgWzQxLjQxMzk5OTk5OTk5OTk5NCwgMi4xNzEsIDFdLCBbNDEuNDE1LCAyLjAzLCAxXSwgWzQxLjQxNTUsIDIuMTczLCAxXSwgWzQxLjQxNTUsIDIuMTc5NSwgMV0sIFs0MS40MTc1LCAyLjE4NDUsIDFdLCBbNDEuNDE3NSwgMi4xODUsIDFdLCBbNDEuNDE4LCAyLjE3NiwgMV0sIFs0MS40MTg1LCAyLjIyNTUsIDFdLCBbNDEuNDE5LCAyLjE4MjUsIDFdLCBbNDEuNDIsIDIuMDMsIDFdLCBbNDEuNDI0LCAyLjIxNSwgMV0sIFs0MS40MjUsIDIuMDMsIDFdLCBbNDEuNDI1NSwgMi4yMTgsIDFdLCBbNDEuNDMsIDIuMDMsIDFdLCBbNDEuNDMsIDIuMjAyLCAxXSwgWzQxLjQzMTk5OTk5OTk5OTk5NSwgMi4yMjM1LCAxXSwgWzQxLjQzNSwgMi4wMywgMV0sIFs0MS40NCwgMi4wMywgMV0sIFs0MS40NDIsIDIuMjMwNSwgMV0sIFs0MS40NDMwMDAwMDAwMDAwMDUsIDIuMDc4MDAwMDAwMDAwMDAwMywgMV0sIFs0MS40NDM5OTk5OTk5OTk5OTYsIDIuMDczLCAxXSwgWzQxLjQ0NSwgMi4wMywgMV0sIFs0MS40NDUsIDIuMjQ5LCAxXSwgWzQxLjQ1LCAyLjAzLCAxXSwgWzQxLjQ1NSwgMi4wMywgMV0sIFs0MS40NiwgMi4wMywgMV0sIFs0MS40NiwgMi4wMzUsIDFdLCBbNDEuNDYsIDIuMDQsIDFdLCBbNDEuNDYsIDIuMDQ1LCAxXSwgWzQxLjQ2LCAyLjA1LCAxXSwgWzQxLjQ2LCAyLjA1NSwgMV0sIFs0MS40NiwgMi4wNiwgMV0sIFs0MS40NiwgMi4wNjUsIDFdLCBbNDEuNDYsIDIuMDcsIDFdLCBbNDEuNDYsIDIuMDc1LCAxXSwgWzQxLjQ2LCAyLjA4LCAxXSwgWzQxLjQ2LCAyLjA4NSwgMV0sIFs0MS40NiwgMi4wOSwgMV0sIFs0MS40NiwgMi4wOTUsIDFdLCBbNDEuNDYsIDIuMSwgMV0sIFs0MS40NiwgMi4xMDUsIDFdLCBbNDEuNDYsIDIuMTEsIDFdLCBbNDEuNDYsIDIuMTE1LCAxXSwgWzQxLjQ2LCAyLjEyLCAxXSwgWzQxLjQ2LCAyLjEyNSwgMV0sIFs0MS40NiwgMi4xMywgMV0sIFs0MS40NiwgMi4xMzUsIDFdLCBbNDEuNDYsIDIuMTQsIDFdLCBbNDEuNDYsIDIuMTQ1LCAxXSwgWzQxLjQ2LCAyLjE1LCAxXSwgWzQxLjQ2LCAyLjE1NSwgMV0sIFs0MS40NiwgMi4xNiwgMV0sIFs0MS40NiwgMi4xNjUsIDFdLCBbNDEuNDYsIDIuMTcsIDFdLCBbNDEuNDYsIDIuMTc1LCAxXSwgWzQxLjQ2LCAyLjE4LCAxXSwgWzQxLjQ2LCAyLjE4NSwgMV0sIFs0MS40NiwgMi4xOSwgMV0sIFs0MS40NiwgMi4xOTUsIDFdLCBbNDEuNDYsIDIuMiwgMV0sIFs0MS40NiwgMi4yMDUsIDFdLCBbNDEuNDYsIDIuMjEsIDFdLCBbNDEuNDYsIDIuMjE1LCAxXSwgWzQxLjQ2LCAyLjIyLCAxXSwgWzQxLjQ2LCAyLjIyNSwgMV0sIFs0MS40NiwgMi4yMywgMV0sIFs0MS40NiwgMi4yMzUsIDFdLCBbNDEuNDYsIDIuMjQsIDFdLCBbNDEuNDYsIDIuMjQ1LCAxXSwgWzQxLjQ2LCAyLjI1LCAxXSwgWzQxLjQ2LCAyLjI1NSwgMV0sIFs0MS40NiwgMi4yNiwgMV1dLAogICAgICAgICAgICAgICAgewogICAgICAgICAgICAgICAgICAgIG1pbk9wYWNpdHk6IDAuNSwKICAgICAgICAgICAgICAgICAgICBtYXhab29tOiAxOCwKICAgICAgICAgICAgICAgICAgICBtYXg6IDEuMCwKICAgICAgICAgICAgICAgICAgICByYWRpdXM6IDEyLAogICAgICAgICAgICAgICAgICAgIGJsdXI6IDE1LAogICAgICAgICAgICAgICAgICAgIGdyYWRpZW50OiBudWxsCiAgICAgICAgICAgICAgICAgICAgfSkKICAgICAgICAgICAgICAgIC5hZGRUbyhtYXBfZWYzY2Q0ZjI2ZTIzNDdhNWJmNzU0OTIwN2I4MGUyNDYpOwogICAgICAgIAogICAgICAgIAogICAgICAgIAogICAgICAgIDwvc2NyaXB0PgogICAgICAgIA==\" style=\"position:absolute;width:100%;height:100%;left:0;top:0;\"></iframe></div></div>"
            ],
            "text/plain": [
              "<folium.folium.Map at 0x7f8c04852438>"
            ]
          },
          "metadata": {
            "tags": []
          },
          "execution_count": 21
        }
      ]
    },
    {
      "metadata": {
        "id": "bbmU4Bf9ZyOs",
        "colab_type": "code",
        "colab": {}
      },
      "cell_type": "code",
      "source": [
        "locationmap.save(outfile= \"test.html\")"
      ],
      "execution_count": 0,
      "outputs": []
    },
    {
      "metadata": {
        "id": "NPCLHoUYbLXf",
        "colab_type": "code",
        "colab": {}
      },
      "cell_type": "code",
      "source": [
        "!cat test.html"
      ],
      "execution_count": 0,
      "outputs": []
    },
    {
      "metadata": {
        "id": "sxwOZ3FxbkDk",
        "colab_type": "code",
        "colab": {}
      },
      "cell_type": "code",
      "source": [
        "!pip install selenium > /dev/null\n",
        "import os\n",
        "import time\n",
        "from selenium import webdriver\n",
        "\n",
        "delay=5\n",
        "fn='test.html'\n",
        "tmpurl='file://{path}/{mapfile}'.format(path=os.getcwd(),mapfile=fn)\n",
        "locationmap.save(fn)\n",
        "\n",
        "browser = webdriver.Firefox()\n",
        "browser.get(tmpurl)\n",
        "#Give the map tiles some time to load\n",
        "time.sleep(delay)\n",
        "browser.save_screenshot('map.png')\n",
        "browser.quit()"
      ],
      "execution_count": 0,
      "outputs": []
    },
    {
      "metadata": {
        "id": "ZrSzETfKcAio",
        "colab_type": "code",
        "outputId": "4fd64e43-5697-492d-8188-42b3f328429e",
        "colab": {
          "base_uri": "https://localhost:8080/",
          "height": 69
        }
      },
      "cell_type": "code",
      "source": [
        "!find / selenium  | grep geckodriver"
      ],
      "execution_count": 0,
      "outputs": [
        {
          "output_type": "stream",
          "text": [
            "find: ‘/content/GDrive/My Drive/Cursos/CIFO PYTHON 2017/JOANMASDEMONT/LABORATORI-TOPICS/TEXTPLA’: Input/output error\n",
            "/content/geckodriver.log\n",
            "find: ‘selenium’: No such file or directory\n"
          ],
          "name": "stdout"
        }
      ]
    },
    {
      "metadata": {
        "id": "JbItOfo1ctHK",
        "colab_type": "code",
        "colab": {}
      },
      "cell_type": "code",
      "source": [
        ""
      ],
      "execution_count": 0,
      "outputs": []
    }
  ]
}