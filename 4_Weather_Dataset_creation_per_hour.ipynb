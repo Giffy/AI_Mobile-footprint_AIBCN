{
  "nbformat": 4,
  "nbformat_minor": 0,
  "metadata": {
    "colab": {
      "name": "4_Weather_Dataset_creation_per_hour.ipynb",
      "version": "0.3.2",
      "provenance": [],
      "collapsed_sections": [],
      "include_colab_link": true
    },
    "kernelspec": {
      "name": "python3",
      "display_name": "Python 3"
    }
  },
  "cells": [
    {
      "cell_type": "markdown",
      "metadata": {
        "id": "view-in-github",
        "colab_type": "text"
      },
      "source": [
        "<a href=\"https://colab.research.google.com/github/Giffy/Mobility_AIBCN/blob/master/4_Weather_Dataset_creation_per_hour.ipynb\" target=\"_parent\"><img src=\"https://colab.research.google.com/assets/colab-badge.svg\" alt=\"Open In Colab\"/></a>"
      ]
    },
    {
      "metadata": {
        "id": "pr8S8z4jQ25i",
        "colab_type": "code",
        "colab": {}
      },
      "cell_type": "code",
      "source": [
        "## import json data from URL and load to dataframe\n",
        "#import urllib.request, json \n",
        "import pandas as pd\n",
        "\n",
        "import requests, json\n",
        "#import urllib\n",
        "from bs4 import BeautifulSoup\n"
      ],
      "execution_count": 0,
      "outputs": []
    },
    {
      "metadata": {
        "id": "WeEtQMSwpQNq",
        "colab_type": "code",
        "colab": {}
      },
      "cell_type": "code",
      "source": [
        "years = [2018]#, 2016, 2017, 2018]\n",
        "months = [1, 2, 3, 4, 5, 6, 7, 8, 9, 10, 11, 12]\n",
        "days = [1, 2, 3, 4, 5, 6, 7, 8, 9, 10,\n",
        "        11, 12, 13, 14, 15, 16, 17, 18, 19, 20,\n",
        "        21, 22, 23, 24, 25, 26, 27, 28, 29, 30, 31]\n",
        "\n",
        "weather = {}\n",
        "\n",
        "urlPage = 'https://www.timeanddate.com/scripts/cityajax.php?n=spain/barcelona&mode=historic&hd=20180107&month=01&year=2018'"
      ],
      "execution_count": 0,
      "outputs": []
    },
    {
      "metadata": {
        "id": "VGb1oRGHqh_J",
        "colab_type": "code",
        "colab": {}
      },
      "cell_type": "code",
      "source": [
        "req = requests.get(urlPage)\n",
        "# Soup pren el control del contingut del html capturat per requests\n",
        "soup = BeautifulSoup(req.content,'lxml')"
      ],
      "execution_count": 0,
      "outputs": []
    },
    {
      "metadata": {
        "id": "ZwoOFtmXrDCP",
        "colab_type": "code",
        "colab": {
          "base_uri": "https://localhost:8080/",
          "height": 382
        },
        "outputId": "77cdf289-025c-421c-ad51-5d3f4cb2b5f6"
      },
      "cell_type": "code",
      "source": [
        "for element in soup.find_all('tr' , {'class':'c1'}):\n",
        "    hora = element.text.split('m')\n",
        "    hora = hora[0]+'m'\n",
        "    desc = element.text.split('°F')\n",
        "    desc = desc[1].split('.')\n",
        "    print ( hora + ',' + desc[0])"
      ],
      "execution_count": 4,
      "outputs": [
        {
          "output_type": "stream",
          "text": [
            "12:30 am,Passing clouds\n",
            "1:30 am,Light rain\n",
            "3:00 am,Light rain\n",
            "4:00 am,Light rain\n",
            "5:30 am,Passing clouds\n",
            "6:30 am,Passing clouds\n",
            "7:30 am,Passing clouds\n",
            "8:30 am,Thundershowers\n",
            "10:00 am,Thundershowers\n",
            "11:00 am,Passing clouds\n",
            "12:00 pm,Light rain\n",
            "1:00 pm,Passing clouds\n",
            "3:00 pm,Passing clouds\n",
            "4:00 pm,Passing clouds\n",
            "5:00 pm,Passing clouds\n",
            "6:00 pm,Passing clouds\n",
            "7:00 pm,Passing clouds\n",
            "8:00 pm,Passing clouds\n",
            "9:00 pm,Passing clouds\n",
            "10:00 pm,Passing clouds\n",
            "11:00 pm,Passing clouds\n"
          ],
          "name": "stdout"
        }
      ]
    },
    {
      "metadata": {
        "id": "mBB7zYrlpgEe",
        "colab_type": "code",
        "colab": {}
      },
      "cell_type": "code",
      "source": [
        "for y in years:\n",
        "    year = str(y)\n",
        "    weather[year] = {}\n",
        "\n",
        "    for m in months:\n",
        "        month = '0'+str(m) if len(str(m)) == 1 else str(m)\n",
        "        weather[year][month] = {}\n",
        "\n",
        "        for d in days:\n",
        "            day = '0'+str(d) if len(str(d)) == 1 else str(d)\n",
        "            weather[year][month][day] = {}\n",
        "\n",
        "            params = {  'n': 'spain/barcelona',\n",
        "                        'mode': 'historic',\n",
        "                        'hd': str(y)+month+day,\n",
        "                        'month': month,\n",
        "                        'year': y,\n",
        "                        'json': 1  }\n",
        "            # r = requests.get('https://www.timeanddate.com/scripts/cityajax.php', params=params)\n",
        "            # print(r.url)\n",
        "\n",
        "            urlPage = 'https://www.timeanddate.com/scripts/cityajax.php?n=spain/barcelona&mode=historic&hd=20180101&month=01&year=2018&json=1'\n",
        "            # r = urllib.request.urlopen(urlPage)\n",
        "            # r = urllib.request.urlopen(\n",
        "                # 'https://www.timeanddate.com/scripts/cityajax.php?n=spain/barcelona&mode=historic&hd=' + str(y)+month+day + '&month=' + month\n",
        "                # + '&year=' + year + '&json=1')\n",
        "            # dataFrame = pd.DataFrame.from_dict(r.text, orient='columns')\n",
        "            \n",
        "            with urllib.request.urlopen(urlPage) as url:\n",
        "                data = json.loads(url.read().decode())\n",
        "                print(data)\n",
        "\n",
        "            break\n",
        "\n",
        "            if r.status_code == 200:\n",
        "                for t in r.json():\n",
        "                    if len(t['c'][0]['h']) > 5:\n",
        "                        hour = t['c'][0]['h'][0:3]\n",
        "                    else:\n",
        "                        hour = t['c'][0]['h']\n",
        "                    \n",
        "                    tiempo = t['c'][3]['h']\n",
        "                    weather[year][month][day][hour] = (tiempo.lower.find('rain') != -1 or tiempo.lower.find('thunder') != -1 or tiempo.lower.find('shower') != -1) \n",
        "                        \n",
        "            else:\n",
        "                print('Error on ' + day + '/' + month + '/' + year)\n",
        "\n",
        "with open('rainData.json', 'w') as outFile:\n",
        "    json.dump(weather, outFile)\n"
      ],
      "execution_count": 0,
      "outputs": []
    }
  ]
}