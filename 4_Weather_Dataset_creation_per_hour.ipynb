{
  "nbformat": 4,
  "nbformat_minor": 0,
  "metadata": {
    "colab": {
      "name": "4_Weather_Dataset_creation_per_hour.ipynb",
      "version": "0.3.2",
      "provenance": [],
      "collapsed_sections": [],
      "include_colab_link": true
    },
    "kernelspec": {
      "name": "python3",
      "display_name": "Python 3"
    }
  },
  "cells": [
    {
      "cell_type": "markdown",
      "metadata": {
        "id": "view-in-github",
        "colab_type": "text"
      },
      "source": [
        "<a href=\"https://colab.research.google.com/github/Giffy/Mobility_AIBCN/blob/master/4_Weather_Dataset_creation_per_hour.ipynb\" target=\"_parent\"><img src=\"https://colab.research.google.com/assets/colab-badge.svg\" alt=\"Open In Colab\"/></a>"
      ]
    },
    {
      "metadata": {
        "id": "pr8S8z4jQ25i",
        "colab_type": "code",
        "colab": {}
      },
      "cell_type": "code",
      "source": [
        "## import json data from URL and load to dataframe\n",
        "#import urllib.request, json \n",
        "import pandas as pd\n",
        "\n",
        "import requests, json\n",
        "#import urllib\n",
        "from bs4 import BeautifulSoup\n"
      ],
      "execution_count": 0,
      "outputs": []
    },
    {
      "metadata": {
        "id": "WeEtQMSwpQNq",
        "colab_type": "code",
        "colab": {}
      },
      "cell_type": "code",
      "source": [
        "years = [2018]#, 2017, 2018]\n",
        "months = [1, 2, 3, 4, 5, 6, 7, 8, 9, 10, 11, 12]\n",
        "days = [1, 2, 3, 4, 5, 6, 7, 8, 9, 10,\n",
        "        11, 12, 13, 14, 15, 16, 17, 18, 19, 20,\n",
        "        21, 22, 23, 24, 25, 26, 27, 28, 29, 30, 31]"
      ],
      "execution_count": 0,
      "outputs": []
    },
    {
      "metadata": {
        "id": "PKLxXedhBo9R",
        "colab_type": "code",
        "colab": {
          "base_uri": "https://localhost:8080/",
          "height": 49
        },
        "outputId": "1ee6e850-d9ea-4ec4-cd63-f26bc7c8a684"
      },
      "cell_type": "code",
      "source": [
        "weather_data = {\n",
        "    'data' : [],\n",
        "    'hour' : [],\n",
        "    'period' : [],\n",
        "    'description' : []\n",
        "}\n",
        "\n",
        "df = pd.DataFrame(weather_data)\n",
        "df"
      ],
      "execution_count": 77,
      "outputs": [
        {
          "output_type": "execute_result",
          "data": {
            "text/html": [
              "<div>\n",
              "<style scoped>\n",
              "    .dataframe tbody tr th:only-of-type {\n",
              "        vertical-align: middle;\n",
              "    }\n",
              "\n",
              "    .dataframe tbody tr th {\n",
              "        vertical-align: top;\n",
              "    }\n",
              "\n",
              "    .dataframe thead th {\n",
              "        text-align: right;\n",
              "    }\n",
              "</style>\n",
              "<table border=\"1\" class=\"dataframe\">\n",
              "  <thead>\n",
              "    <tr style=\"text-align: right;\">\n",
              "      <th></th>\n",
              "      <th>data</th>\n",
              "      <th>description</th>\n",
              "      <th>hour</th>\n",
              "      <th>period</th>\n",
              "    </tr>\n",
              "  </thead>\n",
              "  <tbody>\n",
              "  </tbody>\n",
              "</table>\n",
              "</div>"
            ],
            "text/plain": [
              "Empty DataFrame\n",
              "Columns: [data, description, hour, period]\n",
              "Index: []"
            ]
          },
          "metadata": {
            "tags": []
          },
          "execution_count": 77
        }
      ]
    },
    {
      "metadata": {
        "id": "Nvomt8ShcUl7",
        "colab_type": "code",
        "colab": {}
      },
      "cell_type": "code",
      "source": [
        "for y in years:\n",
        "    year = str(y)\n",
        "\n",
        "    for m in months:\n",
        "        month = '0'+str(m) if len(str(m)) == 1 else str(m)\n",
        "        \n",
        "        for d in days:\n",
        "            day = '0'+str(d) if len(str(d)) == 1 else str(d)          \n",
        "\n",
        "            urlPage = 'https://www.timeanddate.com/scripts/cityajax.php?n=spain/barcelona&mode=historic&hd='+year+month+day+'&month='+month+'&year='+year\n",
        "\n",
        "            req = requests.get(urlPage)\n",
        "            # Soup pren el control del contingut del html capturat per requests\n",
        "            soup = BeautifulSoup(req.content,'lxml')\n",
        "            \n",
        "            for element in soup.find_all('tr' , {'class':'c1'}):\n",
        "              hora = element.text.split('m')\n",
        "              hora = hora[0]+'m'\n",
        "              hora1 = hora.split(':')\n",
        "              hora1 = hora1[0]\n",
        "              hora2 = hora.split(' ')\n",
        "              hora2 = hora2[1]              \n",
        "              desc = element.text.split('°F')\n",
        "              desc = desc[1].split('.')\n",
        "              weather_data = {\n",
        "                  'data' : [ year+month+day ],\n",
        "                  'hour' : [ hora1 ],\n",
        "                  'period' : [ hora2 ],\n",
        "                  'description' : [ desc[0] ]\n",
        "              }\n",
        "              df= df.append(pd.DataFrame(weather_data), ignore_index=True)\n",
        "              \n",
        "            "
      ],
      "execution_count": 0,
      "outputs": []
    },
    {
      "metadata": {
        "id": "5Sx_HPSvHJI7",
        "colab_type": "code",
        "colab": {
          "base_uri": "https://localhost:8080/",
          "height": 144
        },
        "outputId": "458dd57a-15a4-4da7-f7eb-8899cabfb5f0"
      },
      "cell_type": "code",
      "source": [
        "df.tail(3)\n"
      ],
      "execution_count": 87,
      "outputs": [
        {
          "output_type": "execute_result",
          "data": {
            "text/html": [
              "<div>\n",
              "<style scoped>\n",
              "    .dataframe tbody tr th:only-of-type {\n",
              "        vertical-align: middle;\n",
              "    }\n",
              "\n",
              "    .dataframe tbody tr th {\n",
              "        vertical-align: top;\n",
              "    }\n",
              "\n",
              "    .dataframe thead th {\n",
              "        text-align: right;\n",
              "    }\n",
              "</style>\n",
              "<table border=\"1\" class=\"dataframe\">\n",
              "  <thead>\n",
              "    <tr style=\"text-align: right;\">\n",
              "      <th></th>\n",
              "      <th>data</th>\n",
              "      <th>description</th>\n",
              "      <th>hour</th>\n",
              "      <th>period</th>\n",
              "    </tr>\n",
              "  </thead>\n",
              "  <tbody>\n",
              "    <tr>\n",
              "      <th>25403</th>\n",
              "      <td>20181231</td>\n",
              "      <td>Clear</td>\n",
              "      <td>9</td>\n",
              "      <td>pm</td>\n",
              "    </tr>\n",
              "    <tr>\n",
              "      <th>25404</th>\n",
              "      <td>20181231</td>\n",
              "      <td>Clear</td>\n",
              "      <td>10</td>\n",
              "      <td>pm</td>\n",
              "    </tr>\n",
              "    <tr>\n",
              "      <th>25405</th>\n",
              "      <td>20181231</td>\n",
              "      <td>Clear</td>\n",
              "      <td>11</td>\n",
              "      <td>pm</td>\n",
              "    </tr>\n",
              "  </tbody>\n",
              "</table>\n",
              "</div>"
            ],
            "text/plain": [
              "           data description hour period\n",
              "25403  20181231       Clear    9     pm\n",
              "25404  20181231       Clear   10     pm\n",
              "25405  20181231       Clear   11     pm"
            ]
          },
          "metadata": {
            "tags": []
          },
          "execution_count": 87
        }
      ]
    },
    {
      "metadata": {
        "id": "1dU_Ep2EVj3p",
        "colab_type": "code",
        "colab": {}
      },
      "cell_type": "code",
      "source": [
        "df.to_csv('weather.csv', index= False)"
      ],
      "execution_count": 0,
      "outputs": []
    },
    {
      "metadata": {
        "id": "p2hLEa2zYybP",
        "colab_type": "code",
        "colab": {
          "base_uri": "https://localhost:8080/",
          "height": 156
        },
        "outputId": "e91f009a-47a5-4537-adc2-16984b975c5f"
      },
      "cell_type": "code",
      "source": [
        "df.description.unique()"
      ],
      "execution_count": 96,
      "outputs": [
        {
          "output_type": "execute_result",
          "data": {
            "text/plain": [
              "array(['Passing clouds', 'Scattered clouds', 'Clear', 'Sunny',\n",
              "       'Light rain', 'Partly sunny', 'Broken clouds', 'Partly cloudy',\n",
              "       'Fog', 'Rain', 'Drizzle', 'Scattered showers', 'Rain showers',\n",
              "       'Sprinkles', 'Dense fog', 'Thunderstorms', 'Thundershowers',\n",
              "       'Overcast', 'Strong thunderstorms', 'Mild', 'Lots of rain', 'Cool',\n",
              "       'Mixture of precip', 'Sleet', 'Light fog', 'Heavy rain',\n",
              "       'Mostly cloudy', 'More clouds than sun', 'Cloudy', 'Snow flurries',\n",
              "       'Light snow', 'Snow', 'Low clouds'], dtype=object)"
            ]
          },
          "metadata": {
            "tags": []
          },
          "execution_count": 96
        }
      ]
    },
    {
      "metadata": {
        "id": "oY8wDkroZXKa",
        "colab_type": "code",
        "colab": {}
      },
      "cell_type": "code",
      "source": [
        ""
      ],
      "execution_count": 0,
      "outputs": []
    }
  ]
}