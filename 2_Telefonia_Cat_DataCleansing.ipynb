{
  "nbformat": 4,
  "nbformat_minor": 0,
  "metadata": {
    "colab": {
      "name": "2_Telefonia_Cat_DataCleansing.ipynb",
      "version": "0.3.2",
      "provenance": [],
      "collapsed_sections": [
        "idVHFLyyaAqw"
      ],
      "include_colab_link": true
    },
    "kernelspec": {
      "name": "python3",
      "display_name": "Python 3"
    }
  },
  "cells": [
    {
      "cell_type": "markdown",
      "metadata": {
        "id": "view-in-github",
        "colab_type": "text"
      },
      "source": [
        "<a href=\"https://colab.research.google.com/github/Giffy/Mobility_AIBCN/blob/master/2_Telefonia_Cat_DataCleansing.ipynb\" target=\"_parent\"><img src=\"https://colab.research.google.com/assets/colab-badge.svg\" alt=\"Open In Colab\"/></a>"
      ]
    },
    {
      "metadata": {
        "id": "LlDpc71kFomI",
        "colab_type": "text"
      },
      "cell_type": "markdown",
      "source": [
        "# Mobile phone data footprint\n",
        "\n",
        "Using Open Data to get the mobile phone data footprint in Barcelona city."
      ]
    },
    {
      "metadata": {
        "id": "b2f7AR-fYNZh",
        "colab_type": "text"
      },
      "cell_type": "markdown",
      "source": [
        "##  Install libraries (if required)"
      ]
    },
    {
      "metadata": {
        "id": "aSGmJj1OZ5vb",
        "colab_type": "code",
        "outputId": "8192cb49-f69c-466a-f923-d4d44c96d413",
        "colab": {
          "base_uri": "https://localhost:8080/",
          "height": 34
        }
      },
      "cell_type": "code",
      "source": [
        "# Installs PyMongo\n",
        "! python -m pip install pymongo"
      ],
      "execution_count": 25,
      "outputs": [
        {
          "output_type": "stream",
          "text": [
            "Requirement already satisfied: pymongo in /usr/local/lib/python3.6/dist-packages (3.7.2)\n"
          ],
          "name": "stdout"
        }
      ]
    },
    {
      "metadata": {
        "id": "FOKBdYKYsyrG",
        "colab_type": "text"
      },
      "cell_type": "markdown",
      "source": [
        "##  Connect to Google Drive"
      ]
    },
    {
      "metadata": {
        "id": "2VBwS6oVs39B",
        "colab_type": "code",
        "outputId": "51bb3ea9-7a10-4814-d168-87c2208d4367",
        "colab": {
          "base_uri": "https://localhost:8080/",
          "height": 52
        }
      },
      "cell_type": "code",
      "source": [
        "# Check is Link to Drive is OK\n",
        "google = !if [ -d 'GDrive/' ]; then echo \"1\" ; else echo \"0\"; fi\n",
        "if (google[0] is '0' ):\n",
        "  from google.colab import drive\n",
        "  drive.mount('/content/GDrive/')\n",
        "!if [ -d 'GDrive/' ]; then echo \"Connection to Google drive successful\" ; else echo \"Error to connect to Google drive\"; fi"
      ],
      "execution_count": 43,
      "outputs": [
        {
          "output_type": "stream",
          "text": [
            "Mounted at /content/GDrive/\n",
            "Connection to Google drive successful\n"
          ],
          "name": "stdout"
        }
      ]
    },
    {
      "metadata": {
        "id": "HEX_s7O2SHc9",
        "colab_type": "text"
      },
      "cell_type": "markdown",
      "source": [
        "##  Load data"
      ]
    },
    {
      "metadata": {
        "id": "pCV7JaviMq3v",
        "colab_type": "code",
        "outputId": "b0fa9dbd-d5af-4d1c-a3a0-be1f28295bd6",
        "colab": {
          "base_uri": "https://localhost:8080/",
          "height": 52
        }
      },
      "cell_type": "code",
      "source": [
        "# If source data is not available in Google Drive, it is downloaded from Open Data platform.\n",
        "\n",
        "check_file = !if [ -f 'GDrive/My Drive/coverageCatalunya.tar.gz' ]; then echo \"1\" ; else echo \"0\"; fi\n",
        "\n",
        "\n",
        "if (check_file[0] is '0' ):\n",
        "  print ('Dataset not available in Google Drive: downloading dataset ... \\n')\n",
        "  # If datafile is not in Google Drive the download it\n",
        "  # Download Open Data from 'Dades obertes catalunya': https://analisi.transparenciacatalunya.cat/browse?q=cobertura%20M%C3%B2bil\n",
        "  # It dowloads a 1.7Gb csv file  \n",
        "  !wget \"https://analisi.transparenciacatalunya.cat/api/views/g9ma-vbt8/rows.csv?accessType=DOWNLOAD\"\n",
        "  !mv rows* coverageCatalunya.csv\n",
        "  !tar -czvf coverageCatalunya.tar.gz coverageCatalunya.csv\n",
        "  # Backup data to Google drive\n",
        "  !mv coverageCatalunya.tar.gz GDrive/My\\ Drive/\n",
        "\n",
        "  \n",
        "if (check_file[0] is '1' ):\n",
        "  print ('Dataset available in Google Drive: inflating dataset ... ')\n",
        "  !tar -xvf GDrive/My\\ Drive/coverageCatalunya.tar.gz coverageCatalunya.csv"
      ],
      "execution_count": 0,
      "outputs": [
        {
          "output_type": "stream",
          "text": [
            "Dataset available in Google Drive: inflating dataset ... \n",
            "coverageCatalunya.csv\n"
          ],
          "name": "stdout"
        }
      ]
    },
    {
      "metadata": {
        "id": "2nDqmOpI4Ptc",
        "colab_type": "code",
        "colab": {}
      },
      "cell_type": "code",
      "source": [
        "# Imports data in MongoDB\n",
        "!mongodb-linux-x86_64-debian71-3.0.15/bin/mongoimport --db catalunya --collection mobile --type csv --file coverageCatalunya.csv --drop --headerline"
      ],
      "execution_count": 0,
      "outputs": []
    },
    {
      "metadata": {
        "id": "j_2CNJCprPUG",
        "colab_type": "text"
      },
      "cell_type": "markdown",
      "source": [
        "##  Connect to MongoDB database"
      ]
    },
    {
      "metadata": {
        "id": "ZGN08VqMqtIr",
        "colab_type": "code",
        "colab": {}
      },
      "cell_type": "code",
      "source": [
        "import pymongo\n",
        "from pymongo import MongoClient\n",
        "# uri (uniform resource identifier) defines the connection parameters \n",
        "uri = 'localhost:27017'\n",
        "# start client to connect to MongoDB server \n",
        "client = MongoClient( uri )"
      ],
      "execution_count": 0,
      "outputs": []
    },
    {
      "metadata": {
        "id": "HzgWQW6D9UaM",
        "colab_type": "code",
        "colab": {}
      },
      "cell_type": "code",
      "source": [
        "# defines database and the collection to use\n",
        "db = client.catalunya                           # sets the database name \n",
        "collection = db.mobile                          # sets the collection to use"
      ],
      "execution_count": 0,
      "outputs": []
    },
    {
      "metadata": {
        "id": "idVHFLyyaAqw",
        "colab_type": "text"
      },
      "cell_type": "markdown",
      "source": [
        "##  Database Visualization"
      ]
    },
    {
      "metadata": {
        "id": "dnahlXXVqwtN",
        "colab_type": "code",
        "outputId": "2e1e2d62-d5a7-411f-8af3-1320e1668401",
        "colab": {
          "base_uri": "https://localhost:8080/",
          "height": 72
        }
      },
      "cell_type": "code",
      "source": [
        "# prints the attributes of first document ( name of columns)\n",
        "print (list (collection.find().limit(1)[1]))\n",
        "print ('Total documents: ' + str(  collection.count_documents({'_id' : {'$ne': None }}) ))"
      ],
      "execution_count": 30,
      "outputs": [
        {
          "output_type": "stream",
          "text": [
            "['_id', 'timestamp_', 'Date', 'Hora_', 'Lat', 'Long_', 'Senyal', 'Xarxa', 'Operador', 'status', 'Desc_', 'net_type', 'speed', 'satellites', 'precision1', 'provider', 'Activitat', 'downloadSpeed', 'uploadSpeed', 'MUNICIPI', 'NOM_MUNI']\n",
            "Total documents: 11744914\n"
          ],
          "name": "stdout"
        }
      ]
    },
    {
      "metadata": {
        "id": "bvWV03zWae24",
        "colab_type": "code",
        "colab": {}
      },
      "cell_type": "code",
      "source": [
        "# overview of data stored in each attribute\n",
        "attributes = ['Senyal', 'Xarxa', 'Operador', 'status', 'Desc_', 'net_type', 'speed', 'precision1', 'provider', 'Activitat', 'NOM_MUNI','Carrier']\n",
        "\n",
        "for attribute in attributes:\n",
        "  if (attribute != '_id'):\n",
        "    print ( attribute + \" \"+ str( collection.distinct( attribute )))"
      ],
      "execution_count": 0,
      "outputs": []
    },
    {
      "metadata": {
        "id": "igO9CYG6-nB4",
        "colab_type": "text"
      },
      "cell_type": "markdown",
      "source": [
        "## Data cleansing\n"
      ]
    },
    {
      "metadata": {
        "id": "H7jqfVfRSgKs",
        "colab_type": "code",
        "outputId": "2596888e-2dfa-4db7-a037-a91ed2db9fe5",
        "colab": {
          "base_uri": "https://localhost:8080/",
          "height": 382
        }
      },
      "cell_type": "code",
      "source": [
        "# printing a document of database \n",
        "list(collection.find().limit(1))"
      ],
      "execution_count": 32,
      "outputs": [
        {
          "output_type": "execute_result",
          "data": {
            "text/plain": [
              "[{'Activitat': 'TILTING',\n",
              "  'Date': '17/10/2015 01:54:12 AM',\n",
              "  'Desc_': 'STATE_EMERGENCY_ONLY',\n",
              "  'Hora_': '01:54:12',\n",
              "  'Lat': 26.6693,\n",
              "  'Long_': -81.8294,\n",
              "  'MUNICIPI': '',\n",
              "  'NOM_MUNI': '',\n",
              "  'Operador': 'MetroPCS',\n",
              "  'Senyal': 15,\n",
              "  'Xarxa': 'MetroPCS',\n",
              "  '_id': ObjectId('5c3f91a7bddf4c8e18270378'),\n",
              "  'downloadSpeed': '',\n",
              "  'net_type': '4G',\n",
              "  'precision1': 10,\n",
              "  'provider': 'gps',\n",
              "  'satellites': 5,\n",
              "  'speed': 0.7,\n",
              "  'status': 2,\n",
              "  'timestamp_': 1445039652407,\n",
              "  'uploadSpeed': ''}]"
            ]
          },
          "metadata": {
            "tags": []
          },
          "execution_count": 32
        }
      ]
    },
    {
      "metadata": {
        "id": "Sib6XApj8gwI",
        "colab_type": "text"
      },
      "cell_type": "markdown",
      "source": [
        "### Define Area of study (Data Cleansing)\n",
        "Defining the area of study, we can clean data to reduce the size of the database and reduce operation times."
      ]
    },
    {
      "metadata": {
        "id": "hB1Prja0N2XL",
        "colab_type": "text"
      },
      "cell_type": "markdown",
      "source": [
        "1- Lat: 41.453045    Long: 2.037423\n",
        "\n",
        "2- Lat: 41.453045    Long: 2.256154\n",
        "<br><br>\n",
        "\n",
        "3- Lat: 41.338663    Long: 2.037423\n",
        "\n",
        "4- Lat: 41.338663    Long: 2.256154"
      ]
    },
    {
      "metadata": {
        "id": "onaPNYKf9gcj",
        "colab_type": "code",
        "outputId": "6835eafe-f66c-4454-830a-321baea569bd",
        "colab": {
          "base_uri": "https://localhost:8080/",
          "height": 34
        }
      },
      "cell_type": "code",
      "source": [
        "delete = collection.delete_many({'Long_': {\"$gt\" : 2.256154 }}) \n",
        "delete.deleted_count"
      ],
      "execution_count": 33,
      "outputs": [
        {
          "output_type": "execute_result",
          "data": {
            "text/plain": [
              "2782972"
            ]
          },
          "metadata": {
            "tags": []
          },
          "execution_count": 33
        }
      ]
    },
    {
      "metadata": {
        "id": "P1SMrhmb-e1L",
        "colab_type": "code",
        "outputId": "de41db8f-adad-4de6-f5c6-7cf0d7f14ab6",
        "colab": {
          "base_uri": "https://localhost:8080/",
          "height": 34
        }
      },
      "cell_type": "code",
      "source": [
        "delete = collection.delete_many({'Long_': {\"$lt\" : 2.037423 }}) \n",
        "delete.deleted_count"
      ],
      "execution_count": 34,
      "outputs": [
        {
          "output_type": "execute_result",
          "data": {
            "text/plain": [
              "4619737"
            ]
          },
          "metadata": {
            "tags": []
          },
          "execution_count": 34
        }
      ]
    },
    {
      "metadata": {
        "id": "fZvoOqdX-zwR",
        "colab_type": "code",
        "outputId": "f8368cb4-94ee-40d3-e6f6-22c35d8d18b1",
        "colab": {
          "base_uri": "https://localhost:8080/",
          "height": 34
        }
      },
      "cell_type": "code",
      "source": [
        "delete = collection.delete_many({'Lat': {\"$gt\" : 41.453045 }}) \n",
        "delete.deleted_count"
      ],
      "execution_count": 35,
      "outputs": [
        {
          "output_type": "execute_result",
          "data": {
            "text/plain": [
              "1395474"
            ]
          },
          "metadata": {
            "tags": []
          },
          "execution_count": 35
        }
      ]
    },
    {
      "metadata": {
        "id": "O8sG_Eb9-0E1",
        "colab_type": "code",
        "outputId": "142a84c6-0033-4db9-ebd2-3f882a0fb311",
        "colab": {
          "base_uri": "https://localhost:8080/",
          "height": 34
        }
      },
      "cell_type": "code",
      "source": [
        "delete = collection.delete_many({'Lat': {\"$lt\" : 41.338663 }}) \n",
        "delete.deleted_count"
      ],
      "execution_count": 36,
      "outputs": [
        {
          "output_type": "execute_result",
          "data": {
            "text/plain": [
              "146115"
            ]
          },
          "metadata": {
            "tags": []
          },
          "execution_count": 36
        }
      ]
    },
    {
      "metadata": {
        "id": "86Q4y_FEtbri",
        "colab_type": "text"
      },
      "cell_type": "markdown",
      "source": [
        "### Deletion of no relevant fields :  downloadSpeed, uploadSpeed, satellites, MUNICIPI, etc..."
      ]
    },
    {
      "metadata": {
        "id": "GXQe-PWA-p4f",
        "colab_type": "code",
        "outputId": "1c0b1fb3-b321-4123-f001-699703903508",
        "colab": {
          "base_uri": "https://localhost:8080/",
          "height": 34
        }
      },
      "cell_type": "code",
      "source": [
        "filters = {'_id' : {'$ne': None }}\n",
        "fields = {'$unset': {'downloadSpeed': 1, 'uploadSpeed': 1, 'satellites': 1, 'MUNICIPI': 1, 'speed': 1,\n",
        "                     'status': 1, 'Senyal':1 , 'Desc_':1, 'provider': 1, 'timestamp_': 1, 'net_type': 1,\n",
        "                     'NOM_MUNI': 1, 'Operador': 1, 'Xarxa': 1, 'precision1': 1}}\n",
        " \n",
        "collection.update_many( filters ,fields)"
      ],
      "execution_count": 37,
      "outputs": [
        {
          "output_type": "execute_result",
          "data": {
            "text/plain": [
              "<pymongo.results.UpdateResult at 0x7ff77ee3e448>"
            ]
          },
          "metadata": {
            "tags": []
          },
          "execution_count": 37
        }
      ]
    },
    {
      "metadata": {
        "id": "YvOdgrajdPE-",
        "colab_type": "code",
        "outputId": "51d7077b-e8b9-468d-c5ed-014e6233224f",
        "colab": {
          "base_uri": "https://localhost:8080/",
          "height": 121
        }
      },
      "cell_type": "code",
      "source": [
        "list( collection.find().limit(1) )"
      ],
      "execution_count": 38,
      "outputs": [
        {
          "output_type": "execute_result",
          "data": {
            "text/plain": [
              "[{'Activitat': 'UNKNOWN',\n",
              "  'Date': '17/10/2015 01:54:12 AM',\n",
              "  'Hora_': '01:54:12',\n",
              "  'Lat': 41.38734,\n",
              "  'Long_': 2.19812,\n",
              "  '_id': ObjectId('5c3f91a7bddf4c8e18270379')}]"
            ]
          },
          "metadata": {
            "tags": []
          },
          "execution_count": 38
        }
      ]
    },
    {
      "metadata": {
        "id": "TtqiTnxlR0VG",
        "colab_type": "text"
      },
      "cell_type": "markdown",
      "source": [
        "### Add Year, Month, Day, Weekday, Hour  fields"
      ]
    },
    {
      "metadata": {
        "id": "JsI-PdGjfgYk",
        "colab_type": "code",
        "outputId": "d429db42-cd06-4885-cf4b-50bd5bbbd81d",
        "colab": {
          "base_uri": "https://localhost:8080/",
          "height": 34
        }
      },
      "cell_type": "code",
      "source": [
        "from bson.objectid import ObjectId\n",
        "import datetime\n",
        "import sys\n",
        "\n",
        "def round_coord(x, base=0.0005):                        # Funtion to round Latitude and Longitude\n",
        "     return round(base*round(x/base), 5)\n",
        "\n",
        "consulta_tmp = (collection.find({},{'_id','Date','Hora_','Lat','Long_'}))\n",
        "\n",
        "count = 0                                               # Set progress counter to 0\n",
        "num_docs = collection.count_documents({})\n",
        "\n",
        "for item in consulta_tmp:\n",
        "    pk = str(item['_id'])                               # Get document Id\n",
        "    datee = str(item['Date'])\n",
        "    day = int(datee.split('/')[0])                      # Extracting day from date\n",
        "    month = int(datee.split('/')[1])                    # Extracting month from date\n",
        "    year = int(datee.split('/')[2].split(' ')[0])       # Extracting year from date\n",
        "    horaa = str(item['Hora_'])\n",
        "    hora = int(horaa.split(':')[0])                     # Extracting hour from date\n",
        "    weekday = datetime.datetime(year, month, day).isoweekday()  # Get Weekday (1:Monday, 2:Thuesday, 3:Wednesday, ...)\n",
        "    lat = float(item['Lat'])\n",
        "    long = float(item['Long_'])\n",
        "    lat = round_coord(lat)                              # Rounding Latitude\n",
        "    long = round_coord(long)                            # Rounding Longitude\n",
        "    filters = { '_id' : ObjectId(pk) }                  # Define Id to update\n",
        "    fields = {'$set': {'Year': year, 'Month' : month ,'Day' : day , 'Weekday' : weekday , 'Hour' : hora, 'Latitude' : lat , 'Longitude' : long }}\n",
        "    collection.update_one( filters ,fields)\n",
        "    \n",
        "    # Progress counter \n",
        "    count += 1 \n",
        "    if (count%50):    \n",
        "      b = round((count*100 / num_docs),1)\n",
        "      sys.stdout.write('\\r'+ str(b) + \"%\")"
      ],
      "execution_count": 39,
      "outputs": [
        {
          "output_type": "stream",
          "text": [
            "100.0%"
          ],
          "name": "stdout"
        }
      ]
    },
    {
      "metadata": {
        "id": "GYbHS5pDgGo_",
        "colab_type": "code",
        "outputId": "573467b5-32f9-41f2-c0e3-d474f233c94d",
        "colab": {
          "base_uri": "https://localhost:8080/",
          "height": 34
        }
      },
      "cell_type": "code",
      "source": [
        "# Deleting unnecessary attributes\n",
        "filters = {'_id' : {'$ne': None }}\n",
        "fields = {'$unset': {'Date' : 1, 'Lat': 1, 'Long_': 1, 'Hora_':1}}\n",
        "\n",
        "collection.update_many( filters ,fields)"
      ],
      "execution_count": 40,
      "outputs": [
        {
          "output_type": "execute_result",
          "data": {
            "text/plain": [
              "<pymongo.results.UpdateResult at 0x7ff7803ddcc8>"
            ]
          },
          "metadata": {
            "tags": []
          },
          "execution_count": 40
        }
      ]
    },
    {
      "metadata": {
        "id": "Bdn-gjQUjR_P",
        "colab_type": "text"
      },
      "cell_type": "markdown",
      "source": [
        "### Backup database"
      ]
    },
    {
      "metadata": {
        "id": "Uq5r2GskjRFo",
        "colab_type": "code",
        "outputId": "985aa3ff-823d-4e19-8315-fe53c6ebe4d6",
        "colab": {
          "base_uri": "https://localhost:8080/",
          "height": 52
        }
      },
      "cell_type": "code",
      "source": [
        "# Export to CSV\n",
        "!mongodb-linux-x86_64-debian71-3.0.15/bin/mongoexport --db catalunya --collection mobile --type csv --out temp_coverageCat.csv --fields Activitat,Day,Hour,Latitude,Longitude,Month,Weekday,Year,_id"
      ],
      "execution_count": 41,
      "outputs": [
        {
          "output_type": "stream",
          "text": [
            "2019-01-16T22:14:29.601+0000\tconnected to: localhost\n",
            "2019-01-16T22:15:26.771+0000\texported 2800616 records\n"
          ],
          "name": "stdout"
        }
      ]
    },
    {
      "metadata": {
        "id": "uw_km-cQvt5O",
        "colab_type": "code",
        "colab": {
          "base_uri": "https://localhost:8080/",
          "height": 34
        },
        "outputId": "2233e204-c300-4fe6-e5ca-d682c2570756"
      },
      "cell_type": "code",
      "source": [
        "# Compress and copy temporary data to Goggle Drive\n",
        "!tar -czvf temp_coverageCat.tar.gz temp_coverageCat.csv\n",
        "!mv temp_coverageCat.tar.gz GDrive/My\\ Drive/"
      ],
      "execution_count": 45,
      "outputs": [
        {
          "output_type": "stream",
          "text": [
            "temp_coverageCat.csv\n"
          ],
          "name": "stdout"
        }
      ]
    },
    {
      "metadata": {
        "id": "ot0z-NIVq7XG",
        "colab_type": "code",
        "outputId": "a6bf26dc-a3d6-494c-dbcd-24483f01a433",
        "colab": {
          "base_uri": "https://localhost:8080/",
          "height": 34
        }
      },
      "cell_type": "code",
      "source": [
        "# Number of cleansed documents\n",
        "collection.count_documents({})"
      ],
      "execution_count": 46,
      "outputs": [
        {
          "output_type": "execute_result",
          "data": {
            "text/plain": [
              "2800616"
            ]
          },
          "metadata": {
            "tags": []
          },
          "execution_count": 46
        }
      ]
    },
    {
      "metadata": {
        "id": "Pmm1SEBrjoEJ",
        "colab_type": "text"
      },
      "cell_type": "markdown",
      "source": [
        "## Adding reference coordenates"
      ]
    },
    {
      "metadata": {
        "id": "qIll8udNPgKV",
        "colab_type": "text"
      },
      "cell_type": "markdown",
      "source": [
        "### Restore database backup"
      ]
    },
    {
      "metadata": {
        "id": "mYpf2VgTd_Ky",
        "colab_type": "code",
        "colab": {
          "base_uri": "https://localhost:8080/",
          "height": 52
        },
        "outputId": "5310a601-df59-427f-a577-6689f0f21245"
      },
      "cell_type": "code",
      "source": [
        "# Check if backup is available in Google Drive\n",
        "check_file = !if [ -f 'GDrive/My\\ Drive/temp_coverageCat.tar.gz' ]; then echo \"1\" ; else echo \"0\"; fi\n",
        "\n",
        "if (check_file[0] is '0' ):\n",
        "  print ('Copying data to Colab')\n",
        "  !cp GDrive/My\\ Drive/temp_coverageCat.tar.gz /content\n",
        "  !tar -xvf GDrive/My\\ Drive/temp_coverageCat.tar.gz temp_coverageCat.csv\n",
        "  !rm temp_coverageCat.tar.gz"
      ],
      "execution_count": 60,
      "outputs": [
        {
          "output_type": "stream",
          "text": [
            "Copying data to Colab\n",
            "temp_coverageCat.csv\n"
          ],
          "name": "stdout"
        }
      ]
    },
    {
      "metadata": {
        "id": "XYe5tb7yOP5p",
        "colab_type": "code",
        "colab": {}
      },
      "cell_type": "code",
      "source": [
        "# Import from CSV\n",
        "!mongodb-linux-x86_64-debian71-3.0.15/bin/mongoimport --db catalunya --collection mobile --type csv --file temp_coverageCat.csv --drop --headerline"
      ],
      "execution_count": 0,
      "outputs": []
    },
    {
      "metadata": {
        "id": "PmjfOxlV8Gqe",
        "colab_type": "code",
        "colab": {}
      },
      "cell_type": "code",
      "source": [
        "# Creating a list of documents with unique date\n",
        "pipeline = [{ '$group':{                                   # $group , generates an agrupation of data\n",
        "                  '_id' : { 'Year' : '$Year', 'Month' : '$Month', 'Day' : '$Day'}        # the id for the group is the 'Carrier' name\n",
        "                  ,'Year' : {'$max' : '$Year'}           # $max , keeps the 'Carrier' name as it is\n",
        "                  ,'Month' : {'$max' : '$Month'}           # $max , keeps the 'Carrier' name as it is\n",
        "                  ,'Day' : {'$max' : '$Day'}           # $max , keeps the 'Carrier' name as it is\n",
        "                  ,'Total' : {'$sum' : 1}                  # we generate a new key as 'Total', the value will be the $sum of carriers\n",
        "    \n",
        "                  }\n",
        "            },\n",
        "            { '$project':                                  # $project , creates a table as a result\n",
        "                  { '_id' : 0,                             # this is the list of items to include, '_id' is always visible. To hide it, we need to include '_id' : 0\n",
        "                    'Year' : 1,                         # to show carrier, it is included  'Carrier' : 1\n",
        "                    'Month' : 1,                         # to show carrier, it is included  'Carrier' : 1\n",
        "                    'Day' : 1,                         # to show carrier, it is included  'Carrier' : 1\n",
        "                    'Total' : 1}                           # to show the total, it is included  'Total' : 1\n",
        "            },\n",
        "            { '$sort': {'Total' : -1}                      # and we sort the result by Total ammount in descendent order (-1)\n",
        "            }\n",
        "            ]\n",
        "query = list ( collection.aggregate( pipeline ))          # finally the pipeline is sent to mongoDB with collection.aggregate"
      ],
      "execution_count": 0,
      "outputs": []
    },
    {
      "metadata": {
        "id": "EzblyL_qslgK",
        "colab_type": "code",
        "outputId": "317246a4-f518-4b7b-ac9d-fa6607422a94",
        "colab": {
          "base_uri": "https://localhost:8080/",
          "height": 34
        }
      },
      "cell_type": "code",
      "source": [
        "# Define reference points for X axis\n",
        "# Lat: 41.46 Long: From 2.03 to 2.26\n",
        "\n",
        "heatmap_scale = 1\n",
        "\n",
        "activitat_coor = 'IN_VEHICLE'\n",
        "latitude1 = [ 41.46 ]\n",
        "longitude1 = [2.03, 2.035, 2.04, 2.045, 2.05, 2.055, 2.06, 2.065, 2.07, 2.075, 2.08, 2.085, 2.09, 2.095, 2.1, 2.105, 2.11, 2.115, 2.12, 2.125, 2.13, 2.135, 2.14, 2.145, 2.15, 2.155, 2.16, 2.165, 2.17, 2.175, 2.18, 2.185, 2.19, 2.195, 2.2, 2.205, 2.21, 2.215, 2.22, 2.225, 2.23, 2.235, 2.24, 2.245, 2.25, 2.255, 2.26]\n",
        "hours = [0]    # Defined hour 0 to store reference points in graphic\n",
        "\n",
        "count = 0\n",
        "num_docs = len( query )*heatmap_scale*47\n",
        "\n",
        "for i in range(heatmap_scale):\n",
        "  for lat in latitude1:\n",
        "    for long in longitude1:\n",
        "      for item in query:\n",
        "          year = int(item['Year'])\n",
        "          month = int(item['Month'])\n",
        "          day = int(item['Day'])\n",
        "          weekday = datetime.datetime(year, month, day).isoweekday()\n",
        "          for hour in hours:\n",
        "            fields = {'Activitat': activitat_coor, 'Year': year, 'Month' : month ,'Day' : day , 'Weekday' : weekday , 'Hour' : hour, 'Latitude' : lat , 'Longitude' : long }\n",
        "            insert_result = collection.insert_one ( fields )\n",
        "\n",
        "          # Progress counter \n",
        "          count += 1 \n",
        "          if (count%50):    \n",
        "            b = round((count*100 / num_docs),1)\n",
        "            sys.stdout.write('\\r'+ str(b) + \"%\")\n",
        "  i +=1"
      ],
      "execution_count": 64,
      "outputs": [
        {
          "output_type": "stream",
          "text": [
            "100.0%"
          ],
          "name": "stdout"
        }
      ]
    },
    {
      "metadata": {
        "id": "3ZZtPpUQnVqm",
        "colab_type": "code",
        "outputId": "ef6f0809-2c65-4270-8d6d-720ff9b5bec4",
        "colab": {
          "base_uri": "https://localhost:8080/",
          "height": 34
        }
      },
      "cell_type": "code",
      "source": [
        "# Define reference points for Y axis\n",
        "# Lat: From 41.335 to 41.455 Long: From 2.03\n",
        "\n",
        "heatmap_scale = 1\n",
        "\n",
        "activitat_coor = 'IN_VEHICLE'\n",
        "latitude1 = [ 41.335, 41.34, 41.345, 41.35, 41.355, 41.36, 41.365, 41.37, 41.375, 41.38, 41.385, 41.39, 41.395, 41.4, 41.405, 41.41, 41.415, 41.42, 41.425, 41.43, 41.435, 41.44, 41.445, 41.45, 41.455 ]\n",
        "longitude1 = [2.03]\n",
        "hours = [0]    # Defined hour 0 to store reference points in graphic\n",
        "\n",
        "\n",
        "count = 0\n",
        "num_docs = len( query )*heatmap_scale*25\n",
        "\n",
        "for i in range(heatmap_scale):\n",
        "  for lat in latitude1:\n",
        "    for long in longitude1:\n",
        "      for item in query:\n",
        "          year = int(item['Year'])\n",
        "          month = int(item['Month'])\n",
        "          day = int(item['Day'])\n",
        "          weekday = datetime.datetime(year, month, day).isoweekday()\n",
        "          for hour in hours:\n",
        "            fields = {'Activitat': activitat_coor, 'Year': year, 'Month' : month ,'Day' : day , 'Weekday' : weekday , 'Hour' : hour, 'Latitude' : lat , 'Longitude' : long }\n",
        "            insert_result = collection.insert_one ( fields )\n",
        "\n",
        "          # Progress counter \n",
        "          count += 1 \n",
        "          if (count%50):    \n",
        "            b = round((count*100 / num_docs),1)\n",
        "            sys.stdout.write('\\r'+ str(b) + \"%\")\n",
        "  i +=1"
      ],
      "execution_count": 78,
      "outputs": [
        {
          "output_type": "stream",
          "text": [
            "100.0%"
          ],
          "name": "stdout"
        }
      ]
    },
    {
      "metadata": {
        "id": "Ck5DQS9oCphv",
        "colab_type": "code",
        "outputId": "89ebb1f4-bebc-4cac-bb77-9a1dfe7f3579",
        "colab": {
          "base_uri": "https://localhost:8080/",
          "height": 34
        }
      },
      "cell_type": "code",
      "source": [
        "collection.count_documents({})"
      ],
      "execution_count": 66,
      "outputs": [
        {
          "output_type": "execute_result",
          "data": {
            "text/plain": [
              "2879096"
            ]
          },
          "metadata": {
            "tags": []
          },
          "execution_count": 66
        }
      ]
    },
    {
      "metadata": {
        "id": "cHqX0W_vb2lR",
        "colab_type": "code",
        "outputId": "93c2cfb8-a9a5-4510-f995-7183ce3b2602",
        "colab": {
          "base_uri": "https://localhost:8080/",
          "height": 52
        }
      },
      "cell_type": "code",
      "source": [
        "print( len(collection.distinct('Latitude')))\n",
        "print( len(collection.distinct('Longitude')))"
      ],
      "execution_count": 67,
      "outputs": [
        {
          "output_type": "stream",
          "text": [
            "233\n",
            "441\n"
          ],
          "name": "stdout"
        }
      ]
    },
    {
      "metadata": {
        "id": "cdP1Os14j5vQ",
        "colab_type": "text"
      },
      "cell_type": "markdown",
      "source": [
        "## Export to CSV"
      ]
    },
    {
      "metadata": {
        "id": "5IqAd4Na1mdX",
        "colab_type": "code",
        "outputId": "03cf41bb-4064-459b-eafd-ed5df7ee91ae",
        "colab": {
          "base_uri": "https://localhost:8080/",
          "height": 52
        }
      },
      "cell_type": "code",
      "source": [
        "# Export to CSV\n",
        "!mongodb-linux-x86_64-debian71-3.0.15/bin/mongoexport --db catalunya --collection mobile --type csv --out coverageCat.csv --fields Activitat,Day,Hour,Latitude,Longitude,Month,Weekday,Year"
      ],
      "execution_count": 73,
      "outputs": [
        {
          "output_type": "stream",
          "text": [
            "2019-01-16T22:48:22.941+0000\tconnected to: localhost\n",
            "2019-01-16T22:49:14.674+0000\texported 2879096 records\n"
          ],
          "name": "stdout"
        }
      ]
    },
    {
      "metadata": {
        "id": "X00suZU02KQO",
        "colab_type": "code",
        "outputId": "e71341a2-8ae3-4f2a-bfa6-bf2a21ec382b",
        "colab": {
          "base_uri": "https://localhost:8080/",
          "height": 34
        }
      },
      "cell_type": "code",
      "source": [
        "!tar -czvf coverageCatHDv6.tar.gz coverageCat.csv\n",
        "!mv coverageCatHDv6.tar.gz GDrive/My\\ Drive/"
      ],
      "execution_count": 76,
      "outputs": [
        {
          "output_type": "stream",
          "text": [
            "coverageCat.csv\n"
          ],
          "name": "stdout"
        }
      ]
    }
  ]
}