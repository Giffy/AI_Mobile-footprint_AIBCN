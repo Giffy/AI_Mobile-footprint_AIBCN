{
  "nbformat": 4,
  "nbformat_minor": 0,
  "metadata": {
    "colab": {
      "name": "4_Dataset_creation_Weather_per_hour.ipynb",
      "version": "0.3.2",
      "provenance": [],
      "collapsed_sections": [],
      "include_colab_link": true
    },
    "kernelspec": {
      "name": "python3",
      "display_name": "Python 3"
    }
  },
  "cells": [
    {
      "cell_type": "markdown",
      "metadata": {
        "id": "view-in-github",
        "colab_type": "text"
      },
      "source": [
        "<a href=\"https://colab.research.google.com/github/Giffy/Mobile_footprint_AIBCN/blob/master/4_Dataset_creation_Weather_per_hour.ipynb\" target=\"_parent\"><img src=\"https://colab.research.google.com/assets/colab-badge.svg\" alt=\"Open In Colab\"/></a>"
      ]
    },
    {
      "metadata": {
        "id": "zdsXeRBdGTxh",
        "colab_type": "text"
      },
      "cell_type": "markdown",
      "source": [
        "# Dataset creation (Weather history per hour)\n",
        "\n",
        "Creation of dataset including the weather per day and hour of Barcelona from 2015 to 2017"
      ]
    },
    {
      "metadata": {
        "id": "pr8S8z4jQ25i",
        "colab_type": "code",
        "colab": {}
      },
      "cell_type": "code",
      "source": [
        "# Load libraries\n",
        "import pandas as pd\n",
        "import requests\n",
        "from bs4 import BeautifulSoup\n",
        "from time import sleep\n",
        "from random import randint\n",
        "import sys"
      ],
      "execution_count": 0,
      "outputs": []
    },
    {
      "metadata": {
        "id": "WeEtQMSwpQNq",
        "colab_type": "code",
        "colab": {}
      },
      "cell_type": "code",
      "source": [
        "# Defining the period to query to www.timeanddate.com\n",
        "years = [2015, 2016, 2017]                                    # Years from 2015 to 2017\n",
        "months = [1, 2, 3, 4, 5, 6, 7, 8, 9, 10, 11, 12]              # Full year\n",
        "days = [1, 2, 3, 4, 5, 6, 7, 8, 9, 10,\n",
        "        11, 12, 13, 14, 15, 16, 17, 18, 19, 20,\n",
        "        21, 22, 23, 24, 25, 26, 27, 28, 29, 30, 31]           # All days of month\n",
        "rain = ['Light rain', 'Rain', 'Drizzle', 'Scattered showers',\n",
        "       'Rain showers', 'Sprinkles', 'Thunderstorms',\n",
        "       'Thundershowers', 'Strong thunderstorms',\n",
        "       'Lots of rain', 'Mixture of precip', 'Sleet',\n",
        "       'Heavy rain', 'Snow flurries', 'Light snow', 'Snow']   # Defining bad weather from description"
      ],
      "execution_count": 0,
      "outputs": []
    },
    {
      "metadata": {
        "id": "PKLxXedhBo9R",
        "colab_type": "code",
        "colab": {}
      },
      "cell_type": "code",
      "source": [
        "# Inicialize dataframe to store the weather data\n",
        "df = pd.DataFrame()"
      ],
      "execution_count": 0,
      "outputs": []
    },
    {
      "metadata": {
        "id": "PD1i5v5bH2-M",
        "colab_type": "text"
      },
      "cell_type": "markdown",
      "source": [
        "## Web scrapping to query weather historic data per day and hour"
      ]
    },
    {
      "metadata": {
        "id": "Nvomt8ShcUl7",
        "colab_type": "code",
        "outputId": "0d33b18d-997f-43bc-876e-79841310f6f0",
        "colab": {
          "base_uri": "https://localhost:8080/",
          "height": 34
        }
      },
      "cell_type": "code",
      "source": [
        "count = 0\n",
        "num_docs = len(years) * len(months)\n",
        "\n",
        "for y in years:\n",
        "    year = str(y)                                             # year to build html url\n",
        "    for m in months:\n",
        "        month = '0'+str(m) if len(str(m)) == 1 else str(m)    # month to build html url \n",
        "        sleep(randint(0,1))                                   # delay to secure reply and avoid overflow\n",
        "        for d in days:\n",
        "            day = '0'+str(d) if len(str(d)) == 1 else str(d)  # day to build html url\n",
        "\n",
        "            urlPage = 'https://www.timeanddate.com/scripts/cityajax.php?n=spain/barcelona&mode=historic&hd='+year+month+day+'&month='+month+'&year='+year\n",
        "\n",
        "            req = requests.get(urlPage)                       # request to get html\n",
        "            soup = BeautifulSoup(req.content,'lxml')          # parsing html request with BeautifulSoup\n",
        "            \n",
        "            \n",
        "            for element in soup.find_all('tr' , {'class':'c1'}):   # extracting lines with relevant data\n",
        "              hora = element.text.split('m')\n",
        "              hora = hora[0]+'m'\n",
        "              hora1 = hora.split(':')\n",
        "              hora1 = int(hora1[0])\n",
        "              hora2 = hora.split(' ')\n",
        "              hora2 = hora2[1]\n",
        "              \n",
        "              if hora2 == 'pm':\n",
        "                hora1 += 12                                   # PM hours in 24 format\n",
        "              if hora1 == 12 :\n",
        "                hora1 = 0                                     # Update 12 AM to 0 AM\n",
        "              if hora1 == 24:\n",
        "                hora1 = 12                                    # Correct 12PM from 24 to 12\n",
        "              desc = element.text.split('°F')\n",
        "              try:\n",
        "                desc = desc[1].split('.')\n",
        "                if desc[0] in rain:\n",
        "                  is_raining = 1\n",
        "                else:\n",
        "                  is_raining = 0\n",
        "              except:\n",
        "                is_raining = 0                \n",
        "              \n",
        "              weather_data = {\n",
        "                  'data' : [ year+month+day ],\n",
        "                  'hour' : [ hora1 ],\n",
        "                  'period' : [ hora2 ],\n",
        "                  'description' : [ desc[0] ],\n",
        "                  'rain' : [ is_raining ]\n",
        "              }\n",
        "              df= df.append(pd.DataFrame(weather_data), ignore_index=True)   # append data to dataframe\n",
        "       \n",
        "        # Progress counter \n",
        "        count += 1 \n",
        "        if (count%50):    \n",
        "          b = round((count*100 / num_docs),1)\n",
        "          sys.stdout.write('\\r'+ str(b) + \"%\")"
      ],
      "execution_count": 26,
      "outputs": [
        {
          "output_type": "stream",
          "text": [
            "100.0%"
          ],
          "name": "stdout"
        }
      ]
    },
    {
      "metadata": {
        "id": "5Sx_HPSvHJI7",
        "colab_type": "code",
        "outputId": "ea6f15dc-9bfb-4007-b2d9-4efe3e33379a",
        "colab": {
          "base_uri": "https://localhost:8080/",
          "height": 206
        }
      },
      "cell_type": "code",
      "source": [
        "df.tail(5)\n"
      ],
      "execution_count": 27,
      "outputs": [
        {
          "output_type": "execute_result",
          "data": {
            "text/html": [
              "<div>\n",
              "<style scoped>\n",
              "    .dataframe tbody tr th:only-of-type {\n",
              "        vertical-align: middle;\n",
              "    }\n",
              "\n",
              "    .dataframe tbody tr th {\n",
              "        vertical-align: top;\n",
              "    }\n",
              "\n",
              "    .dataframe thead th {\n",
              "        text-align: right;\n",
              "    }\n",
              "</style>\n",
              "<table border=\"1\" class=\"dataframe\">\n",
              "  <thead>\n",
              "    <tr style=\"text-align: right;\">\n",
              "      <th></th>\n",
              "      <th>data</th>\n",
              "      <th>description</th>\n",
              "      <th>hour</th>\n",
              "      <th>period</th>\n",
              "      <th>rain</th>\n",
              "    </tr>\n",
              "  </thead>\n",
              "  <tbody>\n",
              "    <tr>\n",
              "      <th>25414</th>\n",
              "      <td>20171231</td>\n",
              "      <td>Passing clouds</td>\n",
              "      <td>19</td>\n",
              "      <td>pm</td>\n",
              "      <td>0</td>\n",
              "    </tr>\n",
              "    <tr>\n",
              "      <th>25415</th>\n",
              "      <td>20171231</td>\n",
              "      <td>Passing clouds</td>\n",
              "      <td>20</td>\n",
              "      <td>pm</td>\n",
              "      <td>0</td>\n",
              "    </tr>\n",
              "    <tr>\n",
              "      <th>25416</th>\n",
              "      <td>20171231</td>\n",
              "      <td>Passing clouds</td>\n",
              "      <td>21</td>\n",
              "      <td>pm</td>\n",
              "      <td>0</td>\n",
              "    </tr>\n",
              "    <tr>\n",
              "      <th>25417</th>\n",
              "      <td>20171231</td>\n",
              "      <td>Passing clouds</td>\n",
              "      <td>22</td>\n",
              "      <td>pm</td>\n",
              "      <td>0</td>\n",
              "    </tr>\n",
              "    <tr>\n",
              "      <th>25418</th>\n",
              "      <td>20171231</td>\n",
              "      <td>Passing clouds</td>\n",
              "      <td>23</td>\n",
              "      <td>pm</td>\n",
              "      <td>0</td>\n",
              "    </tr>\n",
              "  </tbody>\n",
              "</table>\n",
              "</div>"
            ],
            "text/plain": [
              "           data     description  hour period  rain\n",
              "25414  20171231  Passing clouds    19     pm     0\n",
              "25415  20171231  Passing clouds    20     pm     0\n",
              "25416  20171231  Passing clouds    21     pm     0\n",
              "25417  20171231  Passing clouds    22     pm     0\n",
              "25418  20171231  Passing clouds    23     pm     0"
            ]
          },
          "metadata": {
            "tags": []
          },
          "execution_count": 27
        }
      ]
    },
    {
      "metadata": {
        "id": "hM2MHfvsVOc_",
        "colab_type": "text"
      },
      "cell_type": "markdown",
      "source": [
        "## Dataframe overview"
      ]
    },
    {
      "metadata": {
        "id": "dGq5r5GhRjLL",
        "colab_type": "code",
        "outputId": "fe46a4f9-57ae-43b1-c950-d2f3ee323928",
        "colab": {
          "base_uri": "https://localhost:8080/",
          "height": 34
        }
      },
      "cell_type": "code",
      "source": [
        "# check if there are raining days\n",
        "df.rain.unique()"
      ],
      "execution_count": 28,
      "outputs": [
        {
          "output_type": "execute_result",
          "data": {
            "text/plain": [
              "array([0, 1])"
            ]
          },
          "metadata": {
            "tags": []
          },
          "execution_count": 28
        }
      ]
    },
    {
      "metadata": {
        "id": "wmzEQCywTR89",
        "colab_type": "code",
        "colab": {
          "base_uri": "https://localhost:8080/",
          "height": 52
        },
        "outputId": "29133db4-9f6d-4111-fa0e-7e9e7af6614c"
      },
      "cell_type": "code",
      "source": [
        "# check if there are raining days\n",
        "df.hour.unique()"
      ],
      "execution_count": 29,
      "outputs": [
        {
          "output_type": "execute_result",
          "data": {
            "text/plain": [
              "array([ 0,  1,  2,  3,  4,  5,  6,  7,  8,  9, 10, 11, 12, 13, 14, 15, 16,\n",
              "       17, 18, 19, 20, 21, 22, 23])"
            ]
          },
          "metadata": {
            "tags": []
          },
          "execution_count": 29
        }
      ]
    },
    {
      "metadata": {
        "id": "p2hLEa2zYybP",
        "colab_type": "code",
        "outputId": "ae3f0c22-1e89-4dd9-d289-61ac5ec2ac9c",
        "colab": {
          "base_uri": "https://localhost:8080/",
          "height": 156
        }
      },
      "cell_type": "code",
      "source": [
        "df.description.unique()"
      ],
      "execution_count": 0,
      "outputs": [
        {
          "output_type": "execute_result",
          "data": {
            "text/plain": [
              "array(['Passing clouds', 'Scattered clouds', 'Clear', 'Sunny',\n",
              "       'Light rain', 'Partly sunny', 'Broken clouds', 'Partly cloudy',\n",
              "       'Fog', 'Rain', 'Drizzle', 'Scattered showers', 'Rain showers',\n",
              "       'Sprinkles', 'Dense fog', 'Thunderstorms', 'Thundershowers',\n",
              "       'Overcast', 'Strong thunderstorms', 'Mild', 'Lots of rain', 'Cool',\n",
              "       'Mixture of precip', 'Sleet', 'Light fog', 'Heavy rain',\n",
              "       'Mostly cloudy', 'More clouds than sun', 'Cloudy', 'Snow flurries',\n",
              "       'Light snow', 'Snow', 'Low clouds'], dtype=object)"
            ]
          },
          "metadata": {
            "tags": []
          },
          "execution_count": 14
        }
      ]
    },
    {
      "metadata": {
        "id": "5me9eiiJGGbK",
        "colab_type": "text"
      },
      "cell_type": "markdown",
      "source": [
        "## Export to CSV and Copy dataset to Google Drive"
      ]
    },
    {
      "metadata": {
        "id": "1dU_Ep2EVj3p",
        "colab_type": "code",
        "colab": {}
      },
      "cell_type": "code",
      "source": [
        "# Export dataframe to CSV\n",
        "df.to_csv('weather.csv', index= False)"
      ],
      "execution_count": 0,
      "outputs": []
    },
    {
      "metadata": {
        "id": "5Sg066d4Cw7u",
        "colab_type": "code",
        "colab": {}
      },
      "cell_type": "code",
      "source": [
        "# Connect to Google Drive\n",
        "from google.colab import drive\n",
        "drive.mount('/gdrive')"
      ],
      "execution_count": 0,
      "outputs": []
    },
    {
      "metadata": {
        "id": "X0hbHqkNCw-M",
        "colab_type": "code",
        "colab": {}
      },
      "cell_type": "code",
      "source": [
        "# Compress 'weather.csv' and copy to Google Drive\n",
        "!tar -czvf weather2.tar.gz weather.csv > /dev/null\n",
        "!mv weather2.tar.gz /gdrive/My\\ Drive/"
      ],
      "execution_count": 0,
      "outputs": []
    }
  ]
}